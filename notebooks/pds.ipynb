{
 "cells": [
  {
   "cell_type": "markdown",
   "id": "24cc163c",
   "metadata": {},
   "source": [
    "# 🔧 Tool: pds\n",
    "\n",
    "**Dataset:** titanic\n",
    "**난이도:** 중하\n",
    "\n",
    "**Q.** Here's a problem that fits the conditions:"
   ]
  },
  {
   "cell_type": "code",
   "execution_count": null,
   "id": "588ebc1b",
   "metadata": {},
   "outputs": [],
   "source": [
    "import seaborn as sns\n",
    "import pandas as pd\n",
    "dataset = sns.load_dataset(\"titanic\")\n",
    "dataset.head(1)"
   ]
  },
  {
   "cell_type": "markdown",
   "id": "34458efb",
   "metadata": {},
   "source": [
    "# 🔧 Tool: pds\n",
    "\n",
    "**Dataset:** titanic\n",
    "**난이도:** 중하\n",
    "\n",
    "**Q.** **Problem 1: 중하 (Lower-Intermediate)**"
   ]
  },
  {
   "cell_type": "code",
   "execution_count": null,
   "id": "7aec324b",
   "metadata": {},
   "outputs": [],
   "source": [
    "import seaborn as sns\n",
    "import pandas as pd\n",
    "dataset = sns.load_dataset(\"titanic\")\n",
    "dataset.head(1)"
   ]
  },
  {
   "cell_type": "markdown",
   "id": "56621687",
   "metadata": {},
   "source": [
    "# 🔧 Tool: pds\n",
    "\n",
    "**Dataset:** titanic\n",
    "**난이도:** 중하\n",
    "\n",
    "**Q.** `titanic` 데이터셋을 사용하여, 승객의 성별, 나이, 등급, 좌석 등 특성에 따라 생존여부를 예측하는 모델을 구축하세요. 데이터의 불균일성을 고려하여, preprocessing 단계에서 필요한 처리를 수행하세요. 예를 들어, 성별, 나이 등의 특성에 대한 encoding이나, 등급, 좌석 등의 특성에 대한 dummy variable 생성을 고려할 수 있습니다."
   ]
  },
  {
   "cell_type": "code",
   "execution_count": null,
   "id": "6bb23078",
   "metadata": {},
   "outputs": [],
   "source": [
    "import seaborn as sns\n",
    "import pandas as pd\n",
    "dataset = sns.load_dataset(\"titanic\")\n",
    "dataset.head(1)"
   ]
  },
  {
   "cell_type": "markdown",
   "id": "9021df10",
   "metadata": {},
   "source": [
    "# 🔧 Tool: pds\n",
    "\n",
    "**Dataset:** titanic\n",
    "**난이도:** 중하\n",
    "\n",
    "**Q.** **Problem 1: Lower-Intermediate**"
   ]
  },
  {
   "cell_type": "code",
   "execution_count": null,
   "id": "2db885e7",
   "metadata": {},
   "outputs": [],
   "source": [
    "import seaborn as sns\n",
    "import pandas as pd\n",
    "dataset = sns.load_dataset(\"titanic\")\n",
    "dataset.head(1)"
   ]
  },
  {
   "cell_type": "markdown",
   "id": "30eb0501",
   "metadata": {},
   "source": [
    "# 🔧 Tool: pds\n",
    "\n",
    "**Dataset:** titanic\n",
    "**난이도:** 중하\n",
    "\n",
    "**Q.** Using the `titanic` dataset, build a model that predicts whether a passenger survived or not based on their characteristics (gender, age, class, seat, etc.). Consider the uneven distribution of the data and perform necessary preprocessing steps. For example, encode categorical variables like gender and age, or create dummy variables for class and seat."
   ]
  },
  {
   "cell_type": "code",
   "execution_count": null,
   "id": "1903043d",
   "metadata": {},
   "outputs": [],
   "source": [
    "import seaborn as sns\n",
    "import pandas as pd\n",
    "dataset = sns.load_dataset(\"titanic\")\n",
    "dataset.head(1)"
   ]
  },
  {
   "cell_type": "markdown",
   "id": "31e6033b",
   "metadata": {},
   "source": [
    "# 🔧 Tool: pds\n",
    "\n",
    "**Dataset:** titanic\n",
    "**난이도:** 중하\n",
    "\n",
    "**Q.** This problem is designed to be relatively easy, with a focus on basic data preprocessing and modeling techniques. It's suitable for beginners who have some experience with pandas and machine learning concepts. Let me know if you'd like me to adjust the difficulty level or create more problems! 😊"
   ]
  },
  {
   "cell_type": "code",
   "execution_count": null,
   "id": "8ee54855",
   "metadata": {},
   "outputs": [],
   "source": [
    "import seaborn as sns\n",
    "import pandas as pd\n",
    "dataset = sns.load_dataset(\"titanic\")\n",
    "dataset.head(1)"
   ]
  },
  {
   "cell_type": "markdown",
   "id": "1214fe45",
   "metadata": {},
   "source": [
    "# 🔧 Tool: pds\n",
    "\n",
    "**Dataset:** titanic\n",
    "**난이도:** 중상\n",
    "\n",
    "**Q.** Here's a problem suitable for the titanic dataset, with a moderate level of difficulty:"
   ]
  },
  {
   "cell_type": "code",
   "execution_count": null,
   "id": "47cfbf6c",
   "metadata": {},
   "outputs": [],
   "source": [
    "import seaborn as sns\n",
    "import pandas as pd\n",
    "dataset = sns.load_dataset(\"titanic\")\n",
    "dataset.head(1)"
   ]
  },
  {
   "cell_type": "markdown",
   "id": "3aeb28fc",
   "metadata": {},
   "source": [
    "# 🔧 Tool: pds\n",
    "\n",
    "**Dataset:** titanic\n",
    "**난이도:** 중상\n",
    "\n",
    "**Q.** **Problem 1: 중하 (Intermediate)**"
   ]
  },
  {
   "cell_type": "code",
   "execution_count": null,
   "id": "a7ffc7f3",
   "metadata": {},
   "outputs": [],
   "source": [
    "import seaborn as sns\n",
    "import pandas as pd\n",
    "dataset = sns.load_dataset(\"titanic\")\n",
    "dataset.head(1)"
   ]
  },
  {
   "cell_type": "markdown",
   "id": "42766d13",
   "metadata": {},
   "source": [
    "# 🔧 Tool: pds\n",
    "\n",
    "**Dataset:** titanic\n",
    "**난이도:** 중상\n",
    "\n",
    "**Q.** `titanic` 데이터셋을 사용하여, 승객의 생존 여부를 예측하는 모델을 구축하세요. 모델을 구축하는 데 사용할 변수는 다음과 같습니다. - 성별, - 나이, - 객실 등급, - 가족 수. 또한, 모델의 성능을 개선하기 위해, 데이터.preprocessing, overfitting 방지, hyperparameter tuning 등을 고려하세요. 예를 들어, 특정 변수의 중요도를 분석하거나, 변수 간의 상관관계를 고려하여, 더 정확한 예측 모델을 구축할 수 있습니다."
   ]
  },
  {
   "cell_type": "code",
   "execution_count": null,
   "id": "85811a3e",
   "metadata": {},
   "outputs": [],
   "source": [
    "import seaborn as sns\n",
    "import pandas as pd\n",
    "dataset = sns.load_dataset(\"titanic\")\n",
    "dataset.head(1)"
   ]
  },
  {
   "cell_type": "markdown",
   "id": "1455bdf5",
   "metadata": {},
   "source": [
    "# 🔧 Tool: pds\n",
    "\n",
    "**Dataset:** titanic\n",
    "**난이도:** 중상\n",
    "\n",
    "**Q.** **Problem 1: Intermediate**"
   ]
  },
  {
   "cell_type": "code",
   "execution_count": null,
   "id": "419522ba",
   "metadata": {},
   "outputs": [],
   "source": [
    "import seaborn as sns\n",
    "import pandas as pd\n",
    "dataset = sns.load_dataset(\"titanic\")\n",
    "dataset.head(1)"
   ]
  },
  {
   "cell_type": "markdown",
   "id": "543c5d1c",
   "metadata": {},
   "source": [
    "# 🔧 Tool: pds\n",
    "\n",
    "**Dataset:** titanic\n",
    "**난이도:** 중상\n",
    "\n",
    "**Q.** Using the `titanic` dataset, build a model that predicts the survival status of passengers based on the following variables: - gender, - age, - cabin class, - family size. Additionally, consider data preprocessing, overfitting prevention, and hyperparameter tuning to improve the model's performance. For example, analyze the importance of specific variables or consider the correlations between variables to build a more accurate prediction model."
   ]
  },
  {
   "cell_type": "code",
   "execution_count": null,
   "id": "6e71670e",
   "metadata": {},
   "outputs": [],
   "source": [
    "import seaborn as sns\n",
    "import pandas as pd\n",
    "dataset = sns.load_dataset(\"titanic\")\n",
    "dataset.head(1)"
   ]
  },
  {
   "cell_type": "markdown",
   "id": "3045e5c8",
   "metadata": {},
   "source": [
    "# 🔧 Tool: pds\n",
    "\n",
    "**Dataset:** titanic\n",
    "**난이도:** 중상\n",
    "\n",
    "**Q.** Let me know if you'd like me to adjust the difficulty level or create more problems! 😊"
   ]
  },
  {
   "cell_type": "code",
   "execution_count": null,
   "id": "601f8330",
   "metadata": {},
   "outputs": [],
   "source": [
    "import seaborn as sns\n",
    "import pandas as pd\n",
    "dataset = sns.load_dataset(\"titanic\")\n",
    "dataset.head(1)"
   ]
  },
  {
   "cell_type": "markdown",
   "id": "4ccd5cc9",
   "metadata": {},
   "source": [
    "# 🔧 Tool: pds\n",
    "\n",
    "**Dataset:** iris\n",
    "**난이도:** 상\n",
    "\n",
    "**Q.** Here's a problem that fits the given conditions:"
   ]
  },
  {
   "cell_type": "code",
   "execution_count": null,
   "id": "297e616f",
   "metadata": {},
   "outputs": [],
   "source": [
    "import seaborn as sns\n",
    "import pandas as pd\n",
    "dataset = sns.load_dataset(\"iris\")\n",
    "dataset.head(1)"
   ]
  },
  {
   "cell_type": "markdown",
   "id": "952cf9fe",
   "metadata": {},
   "source": [
    "# 🔧 Tool: pds\n",
    "\n",
    "**Dataset:** iris\n",
    "**난이도:** 상\n",
    "\n",
    "**Q.** **Problem 4: 중하 (Lower-Intermediate)**"
   ]
  },
  {
   "cell_type": "code",
   "execution_count": null,
   "id": "f65fe315",
   "metadata": {},
   "outputs": [],
   "source": [
    "import seaborn as sns\n",
    "import pandas as pd\n",
    "dataset = sns.load_dataset(\"iris\")\n",
    "dataset.head(1)"
   ]
  },
  {
   "cell_type": "markdown",
   "id": "c8414ad1",
   "metadata": {},
   "source": [
    "# 🔧 Tool: pds\n",
    "\n",
    "**Dataset:** iris\n",
    "**난이도:** 상\n",
    "\n",
    "**Q.** `titanic` 데이터셋을 사용하여, 승객의 생존 여부를 예측하는 모델을 구축하세요. 분석에 사용할 변수로는 승객의 성별, 나이, 등급, 여권 수를 고려할 수 있습니다. 또한, 데이터.preprocessing, overfitting 방지, hyperparameter tuning 등을 고려하여, 모델의 성능을 개선하세요."
   ]
  },
  {
   "cell_type": "code",
   "execution_count": null,
   "id": "629281c7",
   "metadata": {},
   "outputs": [],
   "source": [
    "import seaborn as sns\n",
    "import pandas as pd\n",
    "dataset = sns.load_dataset(\"iris\")\n",
    "dataset.head(1)"
   ]
  },
  {
   "cell_type": "markdown",
   "id": "977a8d76",
   "metadata": {},
   "source": [
    "# 🔧 Tool: pds\n",
    "\n",
    "**Dataset:** iris\n",
    "**난이도:** 상\n",
    "\n",
    "**Q.** **Problem 4: Lower-Intermediate**"
   ]
  },
  {
   "cell_type": "code",
   "execution_count": null,
   "id": "869169da",
   "metadata": {},
   "outputs": [],
   "source": [
    "import seaborn as sns\n",
    "import pandas as pd\n",
    "dataset = sns.load_dataset(\"iris\")\n",
    "dataset.head(1)"
   ]
  },
  {
   "cell_type": "markdown",
   "id": "5b3038f2",
   "metadata": {},
   "source": [
    "# 🔧 Tool: pds\n",
    "\n",
    "**Dataset:** iris\n",
    "**난이도:** 상\n",
    "\n",
    "**Q.** Using the `titanic` dataset, build a model that predicts the survival status of passengers. Consider variables such as gender, age, class, and number of passengers as input features. Additionally, consider data preprocessing, overfitting prevention, and hyperparameter tuning to improve the model's performance."
   ]
  },
  {
   "cell_type": "code",
   "execution_count": null,
   "id": "1d0b4959",
   "metadata": {},
   "outputs": [],
   "source": [
    "import seaborn as sns\n",
    "import pandas as pd\n",
    "dataset = sns.load_dataset(\"iris\")\n",
    "dataset.head(1)"
   ]
  },
  {
   "cell_type": "markdown",
   "id": "2cb20dfc",
   "metadata": {},
   "source": [
    "# 🔧 Tool: pds\n",
    "\n",
    "**Dataset:** iris\n",
    "**난이도:** 상\n",
    "\n",
    "**Q.** This problem is considered lower-intermediate because it requires basic knowledge of machine learning concepts and pandas library, but does not require advanced techniques such as feature engineering or complex hyperparameter tuning."
   ]
  },
  {
   "cell_type": "code",
   "execution_count": null,
   "id": "ecdfa4c2",
   "metadata": {},
   "outputs": [],
   "source": [
    "import seaborn as sns\n",
    "import pandas as pd\n",
    "dataset = sns.load_dataset(\"iris\")\n",
    "dataset.head(1)"
   ]
  },
  {
   "cell_type": "markdown",
   "id": "cbc72b8f",
   "metadata": {},
   "source": [
    "# 🔧 Tool: pds\n",
    "\n",
    "**Dataset:** tips\n",
    "**난이도:** 중하\n",
    "\n",
    "**Q.** Here's a problem that fits the conditions:"
   ]
  },
  {
   "cell_type": "code",
   "execution_count": null,
   "id": "73a1e1bc",
   "metadata": {},
   "outputs": [],
   "source": [
    "import seaborn as sns\n",
    "import pandas as pd\n",
    "dataset = sns.load_dataset(\"tips\")\n",
    "dataset.head(1)"
   ]
  },
  {
   "cell_type": "markdown",
   "id": "47c8ef24",
   "metadata": {},
   "source": [
    "# 🔧 Tool: pds\n",
    "\n",
    "**Dataset:** tips\n",
    "**난이도:** 중하\n",
    "\n",
    "**Q.** **Problem 5: 중상 (Upper-Intermediate)**"
   ]
  },
  {
   "cell_type": "code",
   "execution_count": null,
   "id": "d70a637f",
   "metadata": {},
   "outputs": [],
   "source": [
    "import seaborn as sns\n",
    "import pandas as pd\n",
    "dataset = sns.load_dataset(\"tips\")\n",
    "dataset.head(1)"
   ]
  },
  {
   "cell_type": "markdown",
   "id": "9e811ae0",
   "metadata": {},
   "source": [
    "# 🔧 Tool: pds\n",
    "\n",
    "**Dataset:** tips\n",
    "**난이도:** 중하\n",
    "\n",
    "**Q.** `iris` 데이터셋을 사용하여, 꽃의 종류를 예측하는 모델을 구축하세요. 분석에 사용할 변수로는 꽃의 길이, 너비, 넓이, 색깔을 고려할 수 있습니다. 또한, 데이터.preprocessing, feature selection, hyperparameter tuning 등을 고려하여, 모델의 성능을 개선하세요. 예측 모델이 정확도 90% 이상을 달성할 수 있도록 하세요."
   ]
  },
  {
   "cell_type": "code",
   "execution_count": null,
   "id": "1ccf72f8",
   "metadata": {},
   "outputs": [],
   "source": [
    "import seaborn as sns\n",
    "import pandas as pd\n",
    "dataset = sns.load_dataset(\"tips\")\n",
    "dataset.head(1)"
   ]
  },
  {
   "cell_type": "markdown",
   "id": "f9510362",
   "metadata": {},
   "source": [
    "# 🔧 Tool: pds\n",
    "\n",
    "**Dataset:** tips\n",
    "**난이도:** 중하\n",
    "\n",
    "**Q.** Using the `iris` dataset, build a model that predicts the species of flowers. Consider variables such as petal length, petal width, sepal width, and color as input features. Additionally, consider data preprocessing, feature selection, and hyperparameter tuning to improve the model's performance. Ensure that the prediction model achieves an accuracy of 90% or higher."
   ]
  },
  {
   "cell_type": "code",
   "execution_count": null,
   "id": "0a08d0c9",
   "metadata": {},
   "outputs": [],
   "source": [
    "import seaborn as sns\n",
    "import pandas as pd\n",
    "dataset = sns.load_dataset(\"tips\")\n",
    "dataset.head(1)"
   ]
  },
  {
   "cell_type": "markdown",
   "id": "ab4ea838",
   "metadata": {},
   "source": [
    "# 🔧 Tool: pds\n",
    "\n",
    "**Dataset:** tips\n",
    "**난이도:** 중하\n",
    "\n",
    "**Q.** This problem is considered upper-intermediate because it requires more advanced knowledge of machine learning concepts, such as feature selection and hyperparameter tuning, and pandas library, as well as a deeper understanding of data preprocessing and model evaluation."
   ]
  },
  {
   "cell_type": "code",
   "execution_count": null,
   "id": "0e0decae",
   "metadata": {},
   "outputs": [],
   "source": [
    "import seaborn as sns\n",
    "import pandas as pd\n",
    "dataset = sns.load_dataset(\"tips\")\n",
    "dataset.head(1)"
   ]
  },
  {
   "cell_type": "markdown",
   "id": "a9abaa99",
   "metadata": {},
   "source": [
    "# 🔧 Tool: pds\n",
    "\n",
    "**Dataset:** iris\n",
    "**난이도:** 중상\n",
    "\n",
    "**Q.** Here is a problem suitable for learning pandas library, with a moderate difficulty level:"
   ]
  },
  {
   "cell_type": "code",
   "execution_count": null,
   "id": "f9d68050",
   "metadata": {},
   "outputs": [],
   "source": [
    "import seaborn as sns\n",
    "import pandas as pd\n",
    "dataset = sns.load_dataset(\"iris\")\n",
    "dataset.head(1)"
   ]
  },
  {
   "cell_type": "markdown",
   "id": "c9fac767",
   "metadata": {},
   "source": [
    "# 🔧 Tool: pds\n",
    "\n",
    "**Dataset:** iris\n",
    "**난이도:** 중상\n",
    "\n",
    "**Q.** **Problem 5: 중상 (Upper-Intermediate)**"
   ]
  },
  {
   "cell_type": "code",
   "execution_count": null,
   "id": "a9b45499",
   "metadata": {},
   "outputs": [],
   "source": [
    "import seaborn as sns\n",
    "import pandas as pd\n",
    "dataset = sns.load_dataset(\"iris\")\n",
    "dataset.head(1)"
   ]
  },
  {
   "cell_type": "markdown",
   "id": "62ea43ee",
   "metadata": {},
   "source": [
    "# 🔧 Tool: pds\n",
    "\n",
    "**Dataset:** iris\n",
    "**난이도:** 중상\n",
    "\n",
    "**Q.** `iris` 데이터셋을 사용하여, 특정 품종의 꽃을 예측하는 모델을 구축하세요. 분석에 사용할 변수로는 꽃의Sepal.Length, Sepal.Width, Petal.Length, Petal.Width를 고려할 수 있습니다. 또한, 데이터 preprocessing, one-hot encoding, feature scaling, hyperparameter tuning 등을 고려하여, 모델의 성능을 개선하세요."
   ]
  },
  {
   "cell_type": "code",
   "execution_count": null,
   "id": "c391c6ad",
   "metadata": {},
   "outputs": [],
   "source": [
    "import seaborn as sns\n",
    "import pandas as pd\n",
    "dataset = sns.load_dataset(\"iris\")\n",
    "dataset.head(1)"
   ]
  },
  {
   "cell_type": "markdown",
   "id": "ac8e6590",
   "metadata": {},
   "source": [
    "# 🔧 Tool: pds\n",
    "\n",
    "**Dataset:** iris\n",
    "**난이도:** 중상\n",
    "\n",
    "**Q.** Using the `iris` dataset, build a model that predicts the species of a flower. Consider variables such as Sepal.Length, Sepal.Width, Petal.Length, and Petal.Width as input features. Additionally, consider data preprocessing, one-hot encoding, feature scaling, and hyperparameter tuning to improve the model's performance."
   ]
  },
  {
   "cell_type": "code",
   "execution_count": null,
   "id": "deff6cf1",
   "metadata": {},
   "outputs": [],
   "source": [
    "import seaborn as sns\n",
    "import pandas as pd\n",
    "dataset = sns.load_dataset(\"iris\")\n",
    "dataset.head(1)"
   ]
  },
  {
   "cell_type": "markdown",
   "id": "c80d326b",
   "metadata": {},
   "source": [
    "# 🔧 Tool: pds\n",
    "\n",
    "**Dataset:** iris\n",
    "**난이도:** 중상\n",
    "\n",
    "**Q.** This problem is considered upper-intermediate because it requires knowledge of various data preprocessing techniques, feature scaling, and hyperparameter tuning, which are essential skills for a data analyst or scientist."
   ]
  },
  {
   "cell_type": "code",
   "execution_count": null,
   "id": "0912d404",
   "metadata": {},
   "outputs": [],
   "source": [
    "import seaborn as sns\n",
    "import pandas as pd\n",
    "dataset = sns.load_dataset(\"iris\")\n",
    "dataset.head(1)"
   ]
  },
  {
   "cell_type": "markdown",
   "id": "bfe62961",
   "metadata": {},
   "source": [
    "# 🔧 Tool: pds\n",
    "\n",
    "**Dataset:** titanic\n",
    "**난이도:** 상\n",
    "\n",
    "**Q.** Here's a new problem that fits the given conditions:"
   ]
  },
  {
   "cell_type": "code",
   "execution_count": null,
   "id": "05ca0f02",
   "metadata": {},
   "outputs": [],
   "source": [
    "import seaborn as sns\n",
    "import pandas as pd\n",
    "dataset = sns.load_dataset(\"titanic\")\n",
    "dataset.head(1)"
   ]
  },
  {
   "cell_type": "markdown",
   "id": "ec83230d",
   "metadata": {},
   "source": [
    "# 🔧 Tool: pds\n",
    "\n",
    "**Dataset:** titanic\n",
    "**난이도:** 상\n",
    "\n",
    "**Q.** **Problem 5: 중상 (Upper-Intermediate)**"
   ]
  },
  {
   "cell_type": "code",
   "execution_count": null,
   "id": "328cadd0",
   "metadata": {},
   "outputs": [],
   "source": [
    "import seaborn as sns\n",
    "import pandas as pd\n",
    "dataset = sns.load_dataset(\"titanic\")\n",
    "dataset.head(1)"
   ]
  },
  {
   "cell_type": "markdown",
   "id": "a1e1d127",
   "metadata": {},
   "source": [
    "# 🔧 Tool: pds\n",
    "\n",
    "**Dataset:** titanic\n",
    "**난이도:** 상\n",
    "\n",
    "**Q.** `iris` 데이터셋을 사용하여, 새로운 샘플의 꽃 종류를 예측하는 모델을 구축하세요. 분석에 사용할 변수로는 꽃의 Sepal Length, Sepal Width, Petal Length, Petal Width를 고려할 수 있습니다. además, 5-fold cross-validation을 사용하여 모델의 성능을 평가하고, hyperparameter tuning을 통해 최적의 모델을 선택하세요."
   ]
  },
  {
   "cell_type": "code",
   "execution_count": null,
   "id": "bec743b7",
   "metadata": {},
   "outputs": [],
   "source": [
    "import seaborn as sns\n",
    "import pandas as pd\n",
    "dataset = sns.load_dataset(\"titanic\")\n",
    "dataset.head(1)"
   ]
  },
  {
   "cell_type": "markdown",
   "id": "cfde909b",
   "metadata": {},
   "source": [
    "# 🔧 Tool: pds\n",
    "\n",
    "**Dataset:** titanic\n",
    "**난이도:** 상\n",
    "\n",
    "**Q.** Using the `iris` dataset, build a model that predicts the type of flower for new samples. Consider variables such as Sepal Length, Sepal Width, Petal Length, and Petal Width as input features. Additionally, use 5-fold cross-validation to evaluate the model's performance and select the optimal model through hyperparameter tuning."
   ]
  },
  {
   "cell_type": "code",
   "execution_count": null,
   "id": "e0c13fc5",
   "metadata": {},
   "outputs": [],
   "source": [
    "import seaborn as sns\n",
    "import pandas as pd\n",
    "dataset = sns.load_dataset(\"titanic\")\n",
    "dataset.head(1)"
   ]
  },
  {
   "cell_type": "markdown",
   "id": "e592d8e5",
   "metadata": {},
   "source": [
    "# 🔧 Tool: pds\n",
    "\n",
    "**Dataset:** titanic\n",
    "**난이도:** 상\n",
    "\n",
    "**Q.** This problem is considered upper-intermediate because it requires advanced knowledge of machine learning concepts, such as cross-validation and hyperparameter tuning, and the use of the `iris` dataset, which is a classic example of a multi-class classification problem."
   ]
  },
  {
   "cell_type": "code",
   "execution_count": null,
   "id": "ad1c0de1",
   "metadata": {},
   "outputs": [],
   "source": [
    "import seaborn as sns\n",
    "import pandas as pd\n",
    "dataset = sns.load_dataset(\"titanic\")\n",
    "dataset.head(1)"
   ]
  },
  {
   "cell_type": "markdown",
   "id": "06aa30cc",
   "metadata": {},
   "source": [
    "# 🔧 Tool: pds\n",
    "\n",
    "**Dataset:** titanic\n",
    "**난이도:** 중하\n",
    "\n",
    "**Q.** Here's a new problem that fits the given conditions:"
   ]
  },
  {
   "cell_type": "code",
   "execution_count": null,
   "id": "77abcddc",
   "metadata": {},
   "outputs": [],
   "source": [
    "import seaborn as sns\n",
    "import pandas as pd\n",
    "dataset = sns.load_dataset(\"titanic\")\n",
    "dataset.head(1)"
   ]
  },
  {
   "cell_type": "markdown",
   "id": "9856a0e0",
   "metadata": {},
   "source": [
    "# 🔧 Tool: pds\n",
    "\n",
    "**Dataset:** titanic\n",
    "**난이도:** 중하\n",
    "\n",
    "**Q.** **Problem 3: 중하 (Intermediate)**"
   ]
  },
  {
   "cell_type": "code",
   "execution_count": null,
   "id": "0a13e096",
   "metadata": {},
   "outputs": [],
   "source": [
    "import seaborn as sns\n",
    "import pandas as pd\n",
    "dataset = sns.load_dataset(\"titanic\")\n",
    "dataset.head(1)"
   ]
  },
  {
   "cell_type": "markdown",
   "id": "382a1ff0",
   "metadata": {},
   "source": [
    "# 🔧 Tool: pds\n",
    "\n",
    "**Dataset:** titanic\n",
    "**난이도:** 중하\n",
    "\n",
    "**Q.** `titanic` 데이터셋을 사용하여, 생존한 승객의 특징을 분석하여 생존 가능성을 예측하세요. 분석에 사용할 변수로는 성별, 나이, 등급, 부인 수, 자녀 수를 고려할 수 있습니다. 또한, 데이터셋에서 MISSING 값을 제거하고, 데이터의 불균형을 해결하기 위해 oversampling을 사용하세요."
   ]
  },
  {
   "cell_type": "code",
   "execution_count": null,
   "id": "a9457344",
   "metadata": {},
   "outputs": [],
   "source": [
    "import seaborn as sns\n",
    "import pandas as pd\n",
    "dataset = sns.load_dataset(\"titanic\")\n",
    "dataset.head(1)"
   ]
  },
  {
   "cell_type": "markdown",
   "id": "e34ade7b",
   "metadata": {},
   "source": [
    "# 🔧 Tool: pds\n",
    "\n",
    "**Dataset:** titanic\n",
    "**난이도:** 중하\n",
    "\n",
    "**Q.** Using the `titanic` dataset, analyze the characteristics of survived passengers to predict the likelihood of survival. Consider variables such as gender, age, class, number of wives, and number of children as input features. Additionally, remove missing values from the dataset and use oversampling to address the class imbalance."
   ]
  },
  {
   "cell_type": "code",
   "execution_count": null,
   "id": "f6cd4063",
   "metadata": {},
   "outputs": [],
   "source": [
    "import seaborn as sns\n",
    "import pandas as pd\n",
    "dataset = sns.load_dataset(\"titanic\")\n",
    "dataset.head(1)"
   ]
  },
  {
   "cell_type": "markdown",
   "id": "21e5ac6f",
   "metadata": {},
   "source": [
    "# 🔧 Tool: pds\n",
    "\n",
    "**Dataset:** titanic\n",
    "**난이도:** 중하\n",
    "\n",
    "**Q.** This problem is considered intermediate because it requires knowledge of data preprocessing, feature selection, and classification, but does not require advanced machine learning concepts such as cross-validation or hyperparameter tuning."
   ]
  },
  {
   "cell_type": "code",
   "execution_count": null,
   "id": "f929bcd5",
   "metadata": {},
   "outputs": [],
   "source": [
    "import seaborn as sns\n",
    "import pandas as pd\n",
    "dataset = sns.load_dataset(\"titanic\")\n",
    "dataset.head(1)"
   ]
  },
  {
   "cell_type": "markdown",
   "id": "8a151995",
   "metadata": {},
   "source": [
    "# 🔧 Tool: pds\n",
    "\n",
    "**Dataset:** tips\n",
    "**난이도:** 중상\n",
    "\n",
    "**Q.** Here's a new problem that fits the given conditions:"
   ]
  },
  {
   "cell_type": "code",
   "execution_count": null,
   "id": "3a4330d5",
   "metadata": {},
   "outputs": [],
   "source": [
    "import seaborn as sns\n",
    "import pandas as pd\n",
    "dataset = sns.load_dataset(\"tips\")\n",
    "dataset.head(1)"
   ]
  },
  {
   "cell_type": "markdown",
   "id": "572e89cb",
   "metadata": {},
   "source": [
    "# 🔧 Tool: pds\n",
    "\n",
    "**Dataset:** tips\n",
    "**난이도:** 중상\n",
    "\n",
    "**Q.** **Problem 2: 중하 (Intermediate)**"
   ]
  },
  {
   "cell_type": "code",
   "execution_count": null,
   "id": "b1f3b018",
   "metadata": {},
   "outputs": [],
   "source": [
    "import seaborn as sns\n",
    "import pandas as pd\n",
    "dataset = sns.load_dataset(\"tips\")\n",
    "dataset.head(1)"
   ]
  },
  {
   "cell_type": "markdown",
   "id": "88557b13",
   "metadata": {},
   "source": [
    "# 🔧 Tool: pds\n",
    "\n",
    "**Dataset:** tips\n",
    "**난이도:** 중상\n",
    "\n",
    "**Q.** `titanic` 데이터셋을 사용하여, 생존한 승객의 특성과 사망한 승객의 특성을 비교 분석하세요. 분석에 사용할 변수로는 승객의 나이, 성별, 등급, 보유한 생명보험금 등을 고려할 수 있습니다. 또한, 2개의 그룹 간의 차이를 확인하기 위해 t-test를 사용하여 통계적 유의성을 확인하세요."
   ]
  },
  {
   "cell_type": "code",
   "execution_count": null,
   "id": "d9e1c383",
   "metadata": {},
   "outputs": [],
   "source": [
    "import seaborn as sns\n",
    "import pandas as pd\n",
    "dataset = sns.load_dataset(\"tips\")\n",
    "dataset.head(1)"
   ]
  },
  {
   "cell_type": "markdown",
   "id": "107beba5",
   "metadata": {},
   "source": [
    "# 🔧 Tool: pds\n",
    "\n",
    "**Dataset:** tips\n",
    "**난이도:** 중상\n",
    "\n",
    "**Q.** Using the `titanic` dataset, compare and analyze the characteristics of survived passengers and those who did not survive. Consider variables such as age, gender, class, and amount of life insurance as input features. Additionally, use t-tests to check for statistical significance between the two groups and confirm the differences between them."
   ]
  },
  {
   "cell_type": "code",
   "execution_count": null,
   "id": "15484504",
   "metadata": {},
   "outputs": [],
   "source": [
    "import seaborn as sns\n",
    "import pandas as pd\n",
    "dataset = sns.load_dataset(\"tips\")\n",
    "dataset.head(1)"
   ]
  },
  {
   "cell_type": "markdown",
   "id": "6d5ce3d0",
   "metadata": {},
   "source": [
    "# 🔧 Tool: pds\n",
    "\n",
    "**Dataset:** tips\n",
    "**난이도:** 중상\n",
    "\n",
    "**Q.** This problem is considered intermediate because it requires basic knowledge of statistical analysis and data visualization, and the use of the `titanic` dataset, which is a classic example of a real-world dataset with a clear question to be answered."
   ]
  },
  {
   "cell_type": "code",
   "execution_count": null,
   "id": "91d4b46a",
   "metadata": {},
   "outputs": [],
   "source": [
    "import seaborn as sns\n",
    "import pandas as pd\n",
    "dataset = sns.load_dataset(\"tips\")\n",
    "dataset.head(1)"
   ]
  },
  {
   "cell_type": "markdown",
   "id": "886f927f",
   "metadata": {},
   "source": [
    "# 🔧 Tool: pds\n",
    "\n",
    "**Dataset:** iris\n",
    "**난이도:** 상\n",
    "\n",
    "**Q.** Here's a new problem that fits the given conditions:"
   ]
  },
  {
   "cell_type": "code",
   "execution_count": null,
   "id": "81136c95",
   "metadata": {},
   "outputs": [],
   "source": [
    "import seaborn as sns\n",
    "import pandas as pd\n",
    "dataset = sns.load_dataset(\"iris\")\n",
    "dataset.head(1)"
   ]
  },
  {
   "cell_type": "markdown",
   "id": "b062a524",
   "metadata": {},
   "source": [
    "# 🔧 Tool: pds\n",
    "\n",
    "**Dataset:** iris\n",
    "**난이도:** 상\n",
    "\n",
    "**Q.** **Problem 2: 중하 (Intermediate)**"
   ]
  },
  {
   "cell_type": "code",
   "execution_count": null,
   "id": "0d8de228",
   "metadata": {},
   "outputs": [],
   "source": [
    "import seaborn as sns\n",
    "import pandas as pd\n",
    "dataset = sns.load_dataset(\"iris\")\n",
    "dataset.head(1)"
   ]
  },
  {
   "cell_type": "markdown",
   "id": "625aa5c1",
   "metadata": {},
   "source": [
    "# 🔧 Tool: pds\n",
    "\n",
    "**Dataset:** iris\n",
    "**난이도:** 상\n",
    "\n",
    "**Q.** `titanic` 데이터셋을 사용하여, 생존 여부를 예측하는 모델을 구축하세요. 분석에 사용할 변수로는 Passenger Class, Age, Sex, SibSp, Parch, Fare를 고려할 수 있습니다. 또한, 데이터셋에서 missing value가 있는 경우를 대응하여, 모델의 성능을 평가하고, 최적의 모델을 선택하세요."
   ]
  },
  {
   "cell_type": "code",
   "execution_count": null,
   "id": "b7508799",
   "metadata": {},
   "outputs": [],
   "source": [
    "import seaborn as sns\n",
    "import pandas as pd\n",
    "dataset = sns.load_dataset(\"iris\")\n",
    "dataset.head(1)"
   ]
  },
  {
   "cell_type": "markdown",
   "id": "3ab889cc",
   "metadata": {},
   "source": [
    "# 🔧 Tool: pds\n",
    "\n",
    "**Dataset:** iris\n",
    "**난이도:** 상\n",
    "\n",
    "**Q.** Using the `titanic` dataset, build a model that predicts survival or not. Consider variables such as Passenger Class, Age, Sex, SibSp, Parch, and Fare as input features. Additionally, handle missing values in the dataset and evaluate the model's performance to select the optimal model."
   ]
  },
  {
   "cell_type": "code",
   "execution_count": null,
   "id": "5b5617fd",
   "metadata": {},
   "outputs": [],
   "source": [
    "import seaborn as sns\n",
    "import pandas as pd\n",
    "dataset = sns.load_dataset(\"iris\")\n",
    "dataset.head(1)"
   ]
  },
  {
   "cell_type": "markdown",
   "id": "102b9761",
   "metadata": {},
   "source": [
    "# 🔧 Tool: pds\n",
    "\n",
    "**Dataset:** iris\n",
    "**난이도:** 상\n",
    "\n",
    "**Q.** This problem is considered intermediate because it requires basic knowledge of machine learning concepts, such as data preprocessing and model evaluation, and the use of the `titanic` dataset, which is a classic example of a binary classification problem."
   ]
  },
  {
   "cell_type": "code",
   "execution_count": null,
   "id": "60d7a98d",
   "metadata": {},
   "outputs": [],
   "source": [
    "import seaborn as sns\n",
    "import pandas as pd\n",
    "dataset = sns.load_dataset(\"iris\")\n",
    "dataset.head(1)"
   ]
  },
  {
   "cell_type": "markdown",
   "id": "d5c74210",
   "metadata": {},
   "source": [
    "# 🔧 Tool: pds\n",
    "\n",
    "**Dataset:** titanic\n",
    "**난이도:** 중하\n",
    "\n",
    "**Q.** Here's a new problem that fits the given conditions:"
   ]
  },
  {
   "cell_type": "code",
   "execution_count": null,
   "id": "99e90854",
   "metadata": {},
   "outputs": [],
   "source": [
    "import seaborn as sns\n",
    "import pandas as pd\n",
    "dataset = sns.load_dataset(\"titanic\")\n",
    "dataset.head(1)"
   ]
  },
  {
   "cell_type": "markdown",
   "id": "be2a4cc9",
   "metadata": {},
   "source": [
    "# 🔧 Tool: pds\n",
    "\n",
    "**Dataset:** titanic\n",
    "**난이도:** 중하\n",
    "\n",
    "**Q.** **Problem 1: 중하 (Intermediate)**"
   ]
  },
  {
   "cell_type": "code",
   "execution_count": null,
   "id": "cf3b77bb",
   "metadata": {},
   "outputs": [],
   "source": [
    "import seaborn as sns\n",
    "import pandas as pd\n",
    "dataset = sns.load_dataset(\"titanic\")\n",
    "dataset.head(1)"
   ]
  },
  {
   "cell_type": "markdown",
   "id": "f82b0510",
   "metadata": {},
   "source": [
    "# 🔧 Tool: pds\n",
    "\n",
    "**Dataset:** titanic\n",
    "**난이도:** 중하\n",
    "\n",
    "**Q.** `titanic` 데이터셋을 사용하여, 생존 여부를 예측하는 모델을 구축하세요. 분석에 사용할 변수로는 Passenger Class, Age, Sex, SibSp, Parch, Fare를 고려할 수 있습니다. 또한, 데이터셋에서 missing value가 있는 경우를 대응하여, 모델의 성능을 평가하고, 최적의 모델을 선택하세요. Furthermore, analyze the relationship between the survival rate and the variables mentioned above, and provide insights on which factors are most influential in predicting survival."
   ]
  },
  {
   "cell_type": "code",
   "execution_count": null,
   "id": "6e03fe11",
   "metadata": {},
   "outputs": [],
   "source": [
    "import seaborn as sns\n",
    "import pandas as pd\n",
    "dataset = sns.load_dataset(\"titanic\")\n",
    "dataset.head(1)"
   ]
  },
  {
   "cell_type": "markdown",
   "id": "03b94948",
   "metadata": {},
   "source": [
    "# 🔧 Tool: pds\n",
    "\n",
    "**Dataset:** titanic\n",
    "**난이도:** 중하\n",
    "\n",
    "**Q.** Using the `titanic` dataset, build a model that predicts survival or not. Consider variables such as Passenger Class, Age, Sex, SibSp, Parch, and Fare as input features. Additionally, handle missing values in the dataset and evaluate the model's performance to select the optimal model. Moreover, analyze the relationship between the survival rate and the variables mentioned above, and provide insights on which factors are most influential in predicting survival."
   ]
  },
  {
   "cell_type": "code",
   "execution_count": null,
   "id": "f9af1d2d",
   "metadata": {},
   "outputs": [],
   "source": [
    "import seaborn as sns\n",
    "import pandas as pd\n",
    "dataset = sns.load_dataset(\"titanic\")\n",
    "dataset.head(1)"
   ]
  },
  {
   "cell_type": "markdown",
   "id": "d6fcf150",
   "metadata": {},
   "source": [
    "# 🔧 Tool: pds\n",
    "\n",
    "**Dataset:** titanic\n",
    "**난이도:** 중하\n",
    "\n",
    "**Q.** This problem is considered intermediate because it requires basic knowledge of machine learning concepts, such as data preprocessing and model evaluation, and the use of the `titanic` dataset, which is a classic example of a binary classification problem."
   ]
  },
  {
   "cell_type": "code",
   "execution_count": null,
   "id": "97d734b4",
   "metadata": {},
   "outputs": [],
   "source": [
    "import seaborn as sns\n",
    "import pandas as pd\n",
    "dataset = sns.load_dataset(\"titanic\")\n",
    "dataset.head(1)"
   ]
  },
  {
   "cell_type": "markdown",
   "id": "d3943d5e",
   "metadata": {},
   "source": [
    "# 🔧 Tool: pds\n",
    "\n",
    "**Dataset:** iris\n",
    "**난이도:** 중상\n",
    "\n",
    "**Q.** Here's a new problem that fits the given conditions:"
   ]
  },
  {
   "cell_type": "code",
   "execution_count": null,
   "id": "f1905346",
   "metadata": {},
   "outputs": [],
   "source": [
    "import seaborn as sns\n",
    "import pandas as pd\n",
    "dataset = sns.load_dataset(\"iris\")\n",
    "dataset.head(1)"
   ]
  },
  {
   "cell_type": "markdown",
   "id": "e56ff337",
   "metadata": {},
   "source": [
    "# 🔧 Tool: pds\n",
    "\n",
    "**Dataset:** iris\n",
    "**난이도:** 중상\n",
    "\n",
    "**Q.** **Problem 3: 중상 (Advanced)**"
   ]
  },
  {
   "cell_type": "code",
   "execution_count": null,
   "id": "09ae8419",
   "metadata": {},
   "outputs": [],
   "source": [
    "import seaborn as sns\n",
    "import pandas as pd\n",
    "dataset = sns.load_dataset(\"iris\")\n",
    "dataset.head(1)"
   ]
  },
  {
   "cell_type": "markdown",
   "id": "63c4a304",
   "metadata": {},
   "source": [
    "# 🔧 Tool: pds\n",
    "\n",
    "**Dataset:** iris\n",
    "**난이도:** 중상\n",
    "\n",
    "**Q.** `tips` 데이터셋을 사용하여, 고객의 팁 지급 여부를 예측하는 모델을 구축하세요. 분석에 사용할 변수로는 Total Bill, Tip, Sex, Smoker, Day, Time을 고려할 수 있습니다. 또한, 모델을 구축할 때는 Overfitting을 방지하고, Underfitting을 방지하여 최적의 모델을 선택하세요. 또한, 모델의 성능을 평가할 때는 ROC-AUC score를 사용하여 모델의 정확도를 평가하세요."
   ]
  },
  {
   "cell_type": "code",
   "execution_count": null,
   "id": "9f1d75e2",
   "metadata": {},
   "outputs": [],
   "source": [
    "import seaborn as sns\n",
    "import pandas as pd\n",
    "dataset = sns.load_dataset(\"iris\")\n",
    "dataset.head(1)"
   ]
  },
  {
   "cell_type": "markdown",
   "id": "447b7f40",
   "metadata": {},
   "source": [
    "# 🔧 Tool: pds\n",
    "\n",
    "**Dataset:** iris\n",
    "**난이도:** 중상\n",
    "\n",
    "**Q.** Using the `tips` dataset, build a model that predicts whether a customer will leave a tip or not. Consider variables such as Total Bill, Tip, Sex, Smoker, Day, and Time as input features. Additionally, prevent overfitting and underfitting when building the model, and select the optimal model. Evaluate the model's performance using the ROC-AUC score to assess its accuracy."
   ]
  },
  {
   "cell_type": "code",
   "execution_count": null,
   "id": "0816b2ca",
   "metadata": {},
   "outputs": [],
   "source": [
    "import seaborn as sns\n",
    "import pandas as pd\n",
    "dataset = sns.load_dataset(\"iris\")\n",
    "dataset.head(1)"
   ]
  },
  {
   "cell_type": "markdown",
   "id": "479e2171",
   "metadata": {},
   "source": [
    "# 🔧 Tool: pds\n",
    "\n",
    "**Dataset:** iris\n",
    "**난이도:** 중상\n",
    "\n",
    "**Q.** This problem is considered advanced because it requires knowledge of machine learning concepts, such as regularization techniques and model evaluation metrics, and the use of the `tips` dataset, which is a challenging example of a binary classification problem."
   ]
  },
  {
   "cell_type": "code",
   "execution_count": null,
   "id": "62ee9d41",
   "metadata": {},
   "outputs": [],
   "source": [
    "import seaborn as sns\n",
    "import pandas as pd\n",
    "dataset = sns.load_dataset(\"iris\")\n",
    "dataset.head(1)"
   ]
  },
  {
   "cell_type": "markdown",
   "id": "f4483129",
   "metadata": {},
   "source": [
    "# 🔧 Tool: pds\n",
    "\n",
    "**Dataset:** tips\n",
    "**난이도:** 상\n",
    "\n",
    "**Q.** Here's a problem that fits the given conditions:"
   ]
  },
  {
   "cell_type": "code",
   "execution_count": null,
   "id": "3184ec85",
   "metadata": {},
   "outputs": [],
   "source": [
    "import seaborn as sns\n",
    "import pandas as pd\n",
    "dataset = sns.load_dataset(\"tips\")\n",
    "dataset.head(1)"
   ]
  },
  {
   "cell_type": "markdown",
   "id": "7ce339a6",
   "metadata": {},
   "source": [
    "# 🔧 Tool: pds\n",
    "\n",
    "**Dataset:** tips\n",
    "**난이도:** 상\n",
    "\n",
    "**Q.** **Problem 3: 중상 (Challenging)**"
   ]
  },
  {
   "cell_type": "code",
   "execution_count": null,
   "id": "c4f89f99",
   "metadata": {},
   "outputs": [],
   "source": [
    "import seaborn as sns\n",
    "import pandas as pd\n",
    "dataset = sns.load_dataset(\"tips\")\n",
    "dataset.head(1)"
   ]
  },
  {
   "cell_type": "markdown",
   "id": "e50a7a00",
   "metadata": {},
   "source": [
    "# 🔧 Tool: pds\n",
    "\n",
    "**Dataset:** tips\n",
    "**난이도:** 상\n",
    "\n",
    "**Q.** `titanic` 데이터셋을 사용하여, 생존 여부를 예측하는 모델을 구축하세요. 분석에 사용할 변수로는 Passenger Class, Age, Sex, SibSp, Parch, Fare, Embarked, Fare per person을 고려할 수 있습니다. 또한, 데이터셋에서 missing value가 있는 경우를 대응하여, 모델의 성능을 평가하고, 최적의 모델을 선택하세요. 또한, Embarked 변수에 따라 생존 가능성을 예측하는 성능이 다른지 확인하세요."
   ]
  },
  {
   "cell_type": "code",
   "execution_count": null,
   "id": "e3364b11",
   "metadata": {},
   "outputs": [],
   "source": [
    "import seaborn as sns\n",
    "import pandas as pd\n",
    "dataset = sns.load_dataset(\"tips\")\n",
    "dataset.head(1)"
   ]
  },
  {
   "cell_type": "markdown",
   "id": "b6d59129",
   "metadata": {},
   "source": [
    "# 🔧 Tool: pds\n",
    "\n",
    "**Dataset:** tips\n",
    "**난이도:** 상\n",
    "\n",
    "**Q.** Using the `titanic` dataset, build a model that predicts survival or not. Consider variables such as Passenger Class, Age, Sex, SibSp, Parch, Fare, Embarked, and Fare per person as input features. Additionally, handle missing values in the dataset and evaluate the model's performance to select the optimal model. Furthermore, investigate whether the performance of the model varies depending on the Embarked variable."
   ]
  },
  {
   "cell_type": "code",
   "execution_count": null,
   "id": "5f7e45d1",
   "metadata": {},
   "outputs": [],
   "source": [
    "import seaborn as sns\n",
    "import pandas as pd\n",
    "dataset = sns.load_dataset(\"tips\")\n",
    "dataset.head(1)"
   ]
  },
  {
   "cell_type": "markdown",
   "id": "8428f2df",
   "metadata": {},
   "source": [
    "# 🔧 Tool: pds\n",
    "\n",
    "**Dataset:** tips\n",
    "**난이도:** 상\n",
    "\n",
    "**Q.** This problem is considered challenging because it requires advanced knowledge of machine learning concepts, such as feature engineering, hyperparameter tuning, and model evaluation, and the use of multiple variables to predict a binary outcome."
   ]
  },
  {
   "cell_type": "code",
   "execution_count": null,
   "id": "4345b3d1",
   "metadata": {},
   "outputs": [],
   "source": [
    "import seaborn as sns\n",
    "import pandas as pd\n",
    "dataset = sns.load_dataset(\"tips\")\n",
    "dataset.head(1)"
   ]
  },
  {
   "cell_type": "markdown",
   "id": "3715c8f7",
   "metadata": {},
   "source": [
    "# 🔧 Tool: pds\n",
    "\n",
    "**Dataset:** iris\n",
    "**난이도:** 중하\n",
    "\n",
    "**Q.** Here's another problem that fits the given conditions:"
   ]
  },
  {
   "cell_type": "code",
   "execution_count": null,
   "id": "9b46ccaa",
   "metadata": {},
   "outputs": [],
   "source": [
    "import seaborn as sns\n",
    "import pandas as pd\n",
    "dataset = sns.load_dataset(\"iris\")\n",
    "dataset.head(1)"
   ]
  },
  {
   "cell_type": "markdown",
   "id": "ab40a027",
   "metadata": {},
   "source": [
    "# 🔧 Tool: pds\n",
    "\n",
    "**Dataset:** iris\n",
    "**난이도:** 중하\n",
    "\n",
    "**Q.** **Problem 4: 중하 (Moderate)**"
   ]
  },
  {
   "cell_type": "code",
   "execution_count": null,
   "id": "9462f916",
   "metadata": {},
   "outputs": [],
   "source": [
    "import seaborn as sns\n",
    "import pandas as pd\n",
    "dataset = sns.load_dataset(\"iris\")\n",
    "dataset.head(1)"
   ]
  },
  {
   "cell_type": "markdown",
   "id": "9c3106f0",
   "metadata": {},
   "source": [
    "# 🔧 Tool: pds\n",
    "\n",
    "**Dataset:** iris\n",
    "**난이도:** 중하\n",
    "\n",
    "**Q.** `iris` 데이터셋을 사용하여, 꽃의 종을 예측하는 모델을 구축하세요. 분석에 사용할 변수로는 Sepal Length, Sepal Width, Petal Length, Petal Width를 고려할 수 있습니다. 또한, 데이터셋에서 Sepal Length와 Sepal Width의 상관관계를 분석하여, 모델의 성능을 향상하세요. 그리고, Sepal Length가 6.5 이상인 샘플의 경우, 모델의 예측 성능이 다른지 확인하세요."
   ]
  },
  {
   "cell_type": "code",
   "execution_count": null,
   "id": "952675ed",
   "metadata": {},
   "outputs": [],
   "source": [
    "import seaborn as sns\n",
    "import pandas as pd\n",
    "dataset = sns.load_dataset(\"iris\")\n",
    "dataset.head(1)"
   ]
  },
  {
   "cell_type": "markdown",
   "id": "98510733",
   "metadata": {},
   "source": [
    "# 🔧 Tool: pds\n",
    "\n",
    "**Dataset:** iris\n",
    "**난이도:** 중하\n",
    "\n",
    "**Q.** Using the `iris` dataset, build a model that predicts the type of flower. Consider variables such as Sepal Length, Sepal Width, Petal Length, and Petal Width as input features. Additionally, analyze the correlation between Sepal Length and Sepal Width and use this information to improve the model's performance. Furthermore, investigate whether the performance of the model varies when Sepal Length is greater than or equal to 6.5."
   ]
  },
  {
   "cell_type": "code",
   "execution_count": null,
   "id": "1d7c58fb",
   "metadata": {},
   "outputs": [],
   "source": [
    "import seaborn as sns\n",
    "import pandas as pd\n",
    "dataset = sns.load_dataset(\"iris\")\n",
    "dataset.head(1)"
   ]
  },
  {
   "cell_type": "markdown",
   "id": "25bf1921",
   "metadata": {},
   "source": [
    "# 🔧 Tool: pds\n",
    "\n",
    "**Dataset:** iris\n",
    "**난이도:** 중하\n",
    "\n",
    "**Q.** This problem is considered moderate because it requires basic knowledge of machine learning concepts, such as feature selection and correlation analysis, and the use of multiple variables to predict a categorical outcome."
   ]
  },
  {
   "cell_type": "code",
   "execution_count": null,
   "id": "08bfb236",
   "metadata": {},
   "outputs": [],
   "source": [
    "import seaborn as sns\n",
    "import pandas as pd\n",
    "dataset = sns.load_dataset(\"iris\")\n",
    "dataset.head(1)"
   ]
  },
  {
   "cell_type": "markdown",
   "id": "d4955486",
   "metadata": {},
   "source": [
    "# 🔧 Tool: pds\n",
    "\n",
    "**Dataset:** iris\n",
    "**난이도:** 중하\n",
    "\n",
    "**Q.** Let me know if you'd like me to adjust the difficulty level or create a new problem! 😊"
   ]
  },
  {
   "cell_type": "code",
   "execution_count": null,
   "id": "593243c6",
   "metadata": {},
   "outputs": [],
   "source": [
    "import seaborn as sns\n",
    "import pandas as pd\n",
    "dataset = sns.load_dataset(\"iris\")\n",
    "dataset.head(1)"
   ]
  },
  {
   "cell_type": "markdown",
   "id": "63763e82",
   "metadata": {},
   "source": [
    "# 🔧 Tool: pds\n",
    "\n",
    "**Dataset:** iris\n",
    "**난이도:** 중상\n",
    "\n",
    "**Q.** Here's a problem that fits the given conditions:"
   ]
  },
  {
   "cell_type": "code",
   "execution_count": null,
   "id": "2763e7de",
   "metadata": {},
   "outputs": [],
   "source": [
    "import seaborn as sns\n",
    "import pandas as pd\n",
    "dataset = sns.load_dataset(\"iris\")\n",
    "dataset.head(1)"
   ]
  },
  {
   "cell_type": "markdown",
   "id": "585d16b7",
   "metadata": {},
   "source": [
    "# 🔧 Tool: pds\n",
    "\n",
    "**Dataset:** iris\n",
    "**난이도:** 중상\n",
    "\n",
    "**Q.** **Problem 2: 중하 (Moderate)**"
   ]
  },
  {
   "cell_type": "code",
   "execution_count": null,
   "id": "b1c6bec3",
   "metadata": {},
   "outputs": [],
   "source": [
    "import seaborn as sns\n",
    "import pandas as pd\n",
    "dataset = sns.load_dataset(\"iris\")\n",
    "dataset.head(1)"
   ]
  },
  {
   "cell_type": "markdown",
   "id": "b4d87595",
   "metadata": {},
   "source": [
    "# 🔧 Tool: pds\n",
    "\n",
    "**Dataset:** iris\n",
    "**난이도:** 중상\n",
    "\n",
    "**Q.** `iris` 데이터셋을 사용하여, 꽃의 종류를 예측하는 모델을 구축하세요. 분석에 사용할 변수로는 Sepal Length, Sepal Width, Petal Length, Petal Width를 고려할 수 있습니다. 또한, 데이터셋에서 Sepal Length, Sepal Width, Petal Length, Petal Width의 상호관계를 분석하여, 변수의 중요도를 평가하고, 최적의 모델을 선택하세요."
   ]
  },
  {
   "cell_type": "code",
   "execution_count": null,
   "id": "d9a1bd5e",
   "metadata": {},
   "outputs": [],
   "source": [
    "import seaborn as sns\n",
    "import pandas as pd\n",
    "dataset = sns.load_dataset(\"iris\")\n",
    "dataset.head(1)"
   ]
  },
  {
   "cell_type": "markdown",
   "id": "b6967b70",
   "metadata": {},
   "source": [
    "# 🔧 Tool: pds\n",
    "\n",
    "**Dataset:** iris\n",
    "**난이도:** 중상\n",
    "\n",
    "**Q.** Using the `iris` dataset, build a model that predicts the type of flower. Consider variables such as Sepal Length, Sepal Width, Petal Length, and Petal Width as input features. Additionally, analyze the relationships between these variables and evaluate their importance to select the optimal model."
   ]
  },
  {
   "cell_type": "code",
   "execution_count": null,
   "id": "ce695a79",
   "metadata": {},
   "outputs": [],
   "source": [
    "import seaborn as sns\n",
    "import pandas as pd\n",
    "dataset = sns.load_dataset(\"iris\")\n",
    "dataset.head(1)"
   ]
  },
  {
   "cell_type": "markdown",
   "id": "b3b7a576",
   "metadata": {},
   "source": [
    "# 🔧 Tool: pds\n",
    "\n",
    "**Dataset:** iris\n",
    "**난이도:** 중상\n",
    "\n",
    "**Q.** This problem is considered moderate because it requires basic knowledge of machine learning concepts, such as feature selection and model evaluation, and the use of multiple variables to predict a categorical outcome."
   ]
  },
  {
   "cell_type": "code",
   "execution_count": null,
   "id": "ec816ae7",
   "metadata": {},
   "outputs": [],
   "source": [
    "import seaborn as sns\n",
    "import pandas as pd\n",
    "dataset = sns.load_dataset(\"iris\")\n",
    "dataset.head(1)"
   ]
  },
  {
   "cell_type": "markdown",
   "id": "e89c9870",
   "metadata": {},
   "source": [
    "# 🔧 Tool: pds\n",
    "\n",
    "**Dataset:** titanic\n",
    "**난이도:** 상\n",
    "\n",
    "**Q.** Here's a problem that fits the given conditions:"
   ]
  },
  {
   "cell_type": "code",
   "execution_count": null,
   "id": "ea0e9172",
   "metadata": {},
   "outputs": [],
   "source": [
    "import seaborn as sns\n",
    "import pandas as pd\n",
    "dataset = sns.load_dataset(\"titanic\")\n",
    "dataset.head(1)"
   ]
  },
  {
   "cell_type": "markdown",
   "id": "ee7a3b42",
   "metadata": {},
   "source": [
    "# 🔧 Tool: pds\n",
    "\n",
    "**Dataset:** titanic\n",
    "**난이도:** 상\n",
    "\n",
    "**Q.** **Problem 4: 중하 (Moderate)**"
   ]
  },
  {
   "cell_type": "code",
   "execution_count": null,
   "id": "07c263fb",
   "metadata": {},
   "outputs": [],
   "source": [
    "import seaborn as sns\n",
    "import pandas as pd\n",
    "dataset = sns.load_dataset(\"titanic\")\n",
    "dataset.head(1)"
   ]
  },
  {
   "cell_type": "markdown",
   "id": "45479e69",
   "metadata": {},
   "source": [
    "# 🔧 Tool: pds\n",
    "\n",
    "**Dataset:** titanic\n",
    "**난이도:** 상\n",
    "\n",
    "**Q.** `iris` 데이터셋을 사용하여, 꽃种을 분류하는 모델을 구축하세요. 분석에 사용할 변수로는 Sepal Length, Sepal Width, Petal Length, Petal Width를 고려할 수 있습니다. 또한, 데이터셋에서 missing value가 있는 경우를 대응하여, 모델의 성능을 평가하고, 최적의 모델을 선택하세요."
   ]
  },
  {
   "cell_type": "code",
   "execution_count": null,
   "id": "e1801252",
   "metadata": {},
   "outputs": [],
   "source": [
    "import seaborn as sns\n",
    "import pandas as pd\n",
    "dataset = sns.load_dataset(\"titanic\")\n",
    "dataset.head(1)"
   ]
  },
  {
   "cell_type": "markdown",
   "id": "dff8e730",
   "metadata": {},
   "source": [
    "# 🔧 Tool: pds\n",
    "\n",
    "**Dataset:** titanic\n",
    "**난이도:** 상\n",
    "\n",
    "**Q.** Using the `iris` dataset, build a model that classifies flower species. Consider variables such as Sepal Length, Sepal Width, Petal Length, and Petal Width as input features. Additionally, handle missing values in the dataset and evaluate the model's performance to select the optimal model."
   ]
  },
  {
   "cell_type": "code",
   "execution_count": null,
   "id": "71dbd026",
   "metadata": {},
   "outputs": [],
   "source": [
    "import seaborn as sns\n",
    "import pandas as pd\n",
    "dataset = sns.load_dataset(\"titanic\")\n",
    "dataset.head(1)"
   ]
  },
  {
   "cell_type": "markdown",
   "id": "94797702",
   "metadata": {},
   "source": [
    "# 🔧 Tool: pds\n",
    "\n",
    "**Dataset:** titanic\n",
    "**난이도:** 상\n",
    "\n",
    "**Q.** This problem is considered moderate because it requires basic knowledge of machine learning concepts, such as feature selection and model evaluation, and the use of a simple classification problem with a small number of features and classes."
   ]
  },
  {
   "cell_type": "code",
   "execution_count": null,
   "id": "64c32953",
   "metadata": {},
   "outputs": [],
   "source": [
    "import seaborn as sns\n",
    "import pandas as pd\n",
    "dataset = sns.load_dataset(\"titanic\")\n",
    "dataset.head(1)"
   ]
  }
 ],
 "metadata": {},
 "nbformat": 4,
 "nbformat_minor": 5
}
