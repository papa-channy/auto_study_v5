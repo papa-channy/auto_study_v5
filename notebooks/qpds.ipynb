{
 "cells": [
  {
   "cell_type": "markdown",
   "id": "2156a40b",
   "metadata": {},
   "source": [
    "# 🔧 Tool: pds\n",
    "\n",
    "**Dataset:** tips\n",
    "**난이도:** 중\n",
    "\n",
    "**Q.** 결측치가 있는 행을 제거하세요."
   ]
  },
  {
   "cell_type": "code",
   "execution_count": 1,
   "id": "955c70ad",
   "metadata": {},
   "outputs": [
    {
     "ename": "ModuleNotFoundError",
     "evalue": "No module named 'seaborn'",
     "output_type": "error",
     "traceback": [
      "\u001b[31m---------------------------------------------------------------------------\u001b[39m",
      "\u001b[31mModuleNotFoundError\u001b[39m                       Traceback (most recent call last)",
      "\u001b[36mCell\u001b[39m\u001b[36m \u001b[39m\u001b[32mIn[1]\u001b[39m\u001b[32m, line 1\u001b[39m\n\u001b[32m----> \u001b[39m\u001b[32m1\u001b[39m \u001b[38;5;28;01mimport\u001b[39;00m\u001b[38;5;250m \u001b[39m\u001b[34;01mseaborn\u001b[39;00m\u001b[38;5;250m \u001b[39m\u001b[38;5;28;01mas\u001b[39;00m\u001b[38;5;250m \u001b[39m\u001b[34;01msns\u001b[39;00m\n\u001b[32m      2\u001b[39m \u001b[38;5;28;01mimport\u001b[39;00m\u001b[38;5;250m \u001b[39m\u001b[34;01mpandas\u001b[39;00m\u001b[38;5;250m \u001b[39m\u001b[38;5;28;01mas\u001b[39;00m\u001b[38;5;250m \u001b[39m\u001b[34;01mpd\u001b[39;00m\n\u001b[32m      3\u001b[39m dataset = sns.load_dataset(\u001b[33m\"\u001b[39m\u001b[33mtips\u001b[39m\u001b[33m\"\u001b[39m)\n",
      "\u001b[31mModuleNotFoundError\u001b[39m: No module named 'seaborn'"
     ]
    }
   ],
   "source": [
    "import seaborn as sns\n",
    "import pandas as pd\n",
    "dataset = sns.load_dataset(\"tips\")\n",
    "dataset.head(1)"
   ]
  },
  {
   "cell_type": "markdown",
   "id": "25fb45f8",
   "metadata": {},
   "source": [
    "# 🔧 Tool: pds\n",
    "\n",
    "**Dataset:** tips\n",
    "**난이도:** 중\n",
    "\n",
    "**Q.** 결측치가 있는 행을 제거하세요."
   ]
  },
  {
   "cell_type": "code",
   "execution_count": null,
   "id": "1e49f014",
   "metadata": {},
   "outputs": [],
   "source": [
    "import seaborn as sns\n",
    "import pandas as pd\n",
    "dataset = sns.load_dataset(\"tips\")\n",
    "dataset.head(1)"
   ]
  },
  {
   "cell_type": "markdown",
   "id": "001b8431",
   "metadata": {},
   "source": [
    "# 🔧 Tool: pds\n",
    "\n",
    "**Dataset:** titanic\n",
    "**난이도:** 상\n",
    "\n",
    "**Q.** 성별별 생존율을 구하세요."
   ]
  },
  {
   "cell_type": "code",
   "execution_count": null,
   "id": "3d633530",
   "metadata": {},
   "outputs": [],
   "source": [
    "import seaborn as sns\n",
    "import pandas as pd\n",
    "dataset = sns.load_dataset(\"titanic\")\n",
    "dataset.head(1)"
   ]
  },
  {
   "cell_type": "markdown",
   "id": "8f144e96",
   "metadata": {},
   "source": [
    "# 🔧 Tool: pds\n",
    "\n",
    "**Dataset:** titanic\n",
    "**난이도:** 최상\n",
    "\n",
    "**Q.** 연령별 생존율을 bar 그래프로 나타내세요."
   ]
  },
  {
   "cell_type": "code",
   "execution_count": null,
   "id": "425a22ff",
   "metadata": {},
   "outputs": [],
   "source": [
    "import seaborn as sns\n",
    "import pandas as pd\n",
    "dataset = sns.load_dataset(\"titanic\")\n",
    "dataset.head(1)"
   ]
  },
  {
   "cell_type": "markdown",
   "id": "940a19c3",
   "metadata": {},
   "source": [
    "# 🔧 Tool: pds\n",
    "\n",
    "**Dataset:** tips\n",
    "**난이도:** 중\n",
    "\n",
    "**Q.** 결측치가 있는 행을 제거하세요."
   ]
  },
  {
   "cell_type": "code",
   "execution_count": null,
   "id": "3abb0ef5",
   "metadata": {},
   "outputs": [],
   "source": [
    "import seaborn as sns\n",
    "import pandas as pd\n",
    "dataset = sns.load_dataset(\"tips\")\n",
    "dataset.head(1)"
   ]
  },
  {
   "cell_type": "markdown",
   "id": "61b6ba51",
   "metadata": {},
   "source": [
    "# 🔧 Tool: pds\n",
    "\n",
    "**Dataset:** titanic\n",
    "**난이도:** 상\n",
    "\n",
    "**Q.** 성별별 생존율을 구하세요."
   ]
  },
  {
   "cell_type": "code",
   "execution_count": null,
   "id": "189785ea",
   "metadata": {},
   "outputs": [],
   "source": [
    "import seaborn as sns\n",
    "import pandas as pd\n",
    "dataset = sns.load_dataset(\"titanic\")\n",
    "dataset.head(1)"
   ]
  },
  {
   "cell_type": "markdown",
   "id": "dd0816f1",
   "metadata": {},
   "source": [
    "# 🔧 Tool: pds\n",
    "\n",
    "**Dataset:** titanic\n",
    "**난이도:** 최상\n",
    "\n",
    "**Q.** 요일별 생존율을 그래프로 나타내세요."
   ]
  },
  {
   "cell_type": "code",
   "execution_count": null,
   "id": "3a3a9c8d",
   "metadata": {},
   "outputs": [],
   "source": [
    "import seaborn as sns\n",
    "import pandas as pd\n",
    "dataset = sns.load_dataset(\"titanic\")\n",
    "dataset.head(1)"
   ]
  },
  {
   "cell_type": "markdown",
   "id": "adec1f5c",
   "metadata": {},
   "source": [
    "# 🔧 Tool: pds\n",
    "\n",
    "**Dataset:** tips\n",
    "**난이도:** 중\n",
    "\n",
    "**Q.** 결측치가 있는 행을 제거하세요."
   ]
  },
  {
   "cell_type": "code",
   "execution_count": null,
   "id": "cc5ddf77",
   "metadata": {},
   "outputs": [],
   "source": [
    "import seaborn as sns\n",
    "import pandas as pd\n",
    "dataset = sns.load_dataset(\"tips\")\n",
    "dataset.head(1)"
   ]
  },
  {
   "cell_type": "markdown",
   "id": "5b0996f2",
   "metadata": {},
   "source": [
    "# 🔧 Tool: pds\n",
    "\n",
    "**Dataset:** titanic\n",
    "**난이도:** 상\n",
    "\n",
    "**Q.** 성별별 생존율을 구하세요."
   ]
  },
  {
   "cell_type": "code",
   "execution_count": null,
   "id": "37c4a2a1",
   "metadata": {},
   "outputs": [],
   "source": [
    "import seaborn as sns\n",
    "import pandas as pd\n",
    "dataset = sns.load_dataset(\"titanic\")\n",
    "dataset.head(1)"
   ]
  },
  {
   "cell_type": "markdown",
   "id": "8205cf24",
   "metadata": {},
   "source": [
    "# 🔧 Tool: pds\n",
    "\n",
    "**Dataset:** titanic\n",
    "**난이도:** 최상\n",
    "\n",
    "**Q.** 이동 수단별 생존율을 막대 그래프로 나타내세요."
   ]
  },
  {
   "cell_type": "code",
   "execution_count": null,
   "id": "46a8b035",
   "metadata": {},
   "outputs": [],
   "source": [
    "import seaborn as sns\n",
    "import pandas as pd\n",
    "dataset = sns.load_dataset(\"titanic\")\n",
    "dataset.head(1)"
   ]
  },
  {
   "cell_type": "markdown",
   "id": "c6eb33b4",
   "metadata": {},
   "source": [
    "# 🔧 Tool: pds\n",
    "\n",
    "**Dataset:** penguins\n",
    "**난이도:** 중\n",
    "\n",
    "**Q.** 덴마크 originals 열에서 최빈값이 있는 색상의 개수를 구하세요."
   ]
  },
  {
   "cell_type": "code",
   "execution_count": null,
   "id": "ab014c48",
   "metadata": {},
   "outputs": [],
   "source": [
    "import seaborn as sns\n",
    "import pandas as pd\n",
    "dataset = sns.load_dataset(\"penguins\")\n",
    "dataset.head(1)"
   ]
  },
  {
   "cell_type": "markdown",
   "id": "cc3a451e",
   "metadata": {},
   "source": [
    "# 🔧 Tool: pds\n",
    "\n",
    "**Dataset:** penguins\n",
    "**난이도:** 상\n",
    "\n",
    "**Q.** 'bill length' 열과 'bill depth' 열 간의 상관관계를 시각화하여 나타내세요. 추가적으로, 각 열의 분산과 공분산을 계산하세요."
   ]
  },
  {
   "cell_type": "code",
   "execution_count": null,
   "id": "06c52758",
   "metadata": {},
   "outputs": [],
   "source": [
    "import seaborn as sns\n",
    "import pandas as pd\n",
    "dataset = sns.load_dataset(\"penguins\")\n",
    "dataset.head(1)"
   ]
  },
  {
   "cell_type": "markdown",
   "id": "4085fc31",
   "metadata": {},
   "source": [
    "# 🔧 Tool: pds\n",
    "\n",
    "**Dataset:** mpg\n",
    "**난이도:** 중\n",
    "\n",
    "**Q.** mpg 데이터셋에서 'drat' 열과 'wt' 열 간의 관계를 계수检定(normal equation)으로 분석하여, 두 열 간의 상관계수를 구하세요. 또한, 'drat' 열에 대한 회귀분석을 수행하여, wt 열에 대한 예측식을 구하세요."
   ]
  },
  {
   "cell_type": "code",
   "execution_count": null,
   "id": "541c2ab8",
   "metadata": {},
   "outputs": [],
   "source": [
    "import seaborn as sns\n",
    "import pandas as pd\n",
    "dataset = sns.load_dataset(\"mpg\")\n",
    "dataset.head(1)"
   ]
  },
  {
   "cell_type": "markdown",
   "id": "fd80b82c",
   "metadata": {},
   "source": [
    "# 🔧 Tool: pds\n",
    "\n",
    "**Dataset:** tips\n",
    "**난이도:** 상\n",
    "\n",
    "**Q.** tips 데이터셋에서 'tip' 열에 대한 다항 회귀분석을 수행하여, 'total_bill' 열, 'sex' 열, 'smoker' 열 간에 대한 상관관계를 분석하세요. 또한,각 열에 대한 회귀 계수와 p-값을 구하세요."
   ]
  },
  {
   "cell_type": "code",
   "execution_count": null,
   "id": "d640f0fe",
   "metadata": {},
   "outputs": [],
   "source": [
    "import seaborn as sns\n",
    "import pandas as pd\n",
    "dataset = sns.load_dataset(\"tips\")\n",
    "dataset.head(1)"
   ]
  },
  {
   "cell_type": "markdown",
   "id": "80396bff",
   "metadata": {},
   "source": [
    "# 🔧 Tool: pandas 라이브러리\n",
    "\n",
    "**Dataset:** iris\n",
    "**난이도:** 중\n",
    "\n",
    "**Q.** [GROQ ERROR] Error code: 401 - {'error': {'message': 'Invalid API Key', 'type': 'invalid_request_error', 'code': 'invalid_api_key'}}"
   ]
  },
  {
   "cell_type": "code",
   "execution_count": null,
   "id": "29974cb6",
   "metadata": {},
   "outputs": [],
   "source": [
    "import seaborn as sns\n",
    "import pandas as pd\n",
    "dataset = sns.load_dataset(\"iris\")\n",
    "dataset.head(1)"
   ]
  },
  {
   "cell_type": "markdown",
   "id": "c0323ee9",
   "metadata": {},
   "source": [
    "# 🔧 Tool: pandas 라이브러리\n",
    "\n",
    "**Dataset:** penguins\n",
    "**난이도:** 중\n",
    "\n",
    "**Q.** [GROQ ERROR] Error code: 401 - {'error': {'message': 'Invalid API Key', 'type': 'invalid_request_error', 'code': 'invalid_api_key'}}"
   ]
  },
  {
   "cell_type": "code",
   "execution_count": null,
   "id": "a5adfd70",
   "metadata": {},
   "outputs": [],
   "source": [
    "import seaborn as sns\n",
    "import pandas as pd\n",
    "dataset = sns.load_dataset(\"penguins\")\n",
    "dataset.head(1)"
   ]
  },
  {
   "cell_type": "markdown",
   "id": "f86b13cc",
   "metadata": {},
   "source": [
    "# 🔧 Tool: pandas 라이브러리\n",
    "\n",
    "**Dataset:** mpg\n",
    "**난이도:** 상\n",
    "\n",
    "**Q.** [GROQ ERROR] Error code: 401 - {'error': {'message': 'Invalid API Key', 'type': 'invalid_request_error', 'code': 'invalid_api_key'}}"
   ]
  },
  {
   "cell_type": "code",
   "execution_count": null,
   "id": "508b363f",
   "metadata": {},
   "outputs": [],
   "source": [
    "import seaborn as sns\n",
    "import pandas as pd\n",
    "dataset = sns.load_dataset(\"mpg\")\n",
    "dataset.head(1)"
   ]
  },
  {
   "cell_type": "markdown",
   "id": "7b880485",
   "metadata": {},
   "source": [
    "# 🔧 Tool: pandas 라이브러리\n",
    "\n",
    "**Dataset:** mpg\n",
    "**난이도:** 상\n",
    "\n",
    "**Q.** [GROQ ERROR] Error code: 401 - {'error': {'message': 'Invalid API Key', 'type': 'invalid_request_error', 'code': 'invalid_api_key'}}"
   ]
  },
  {
   "cell_type": "code",
   "execution_count": null,
   "id": "64d70dde",
   "metadata": {},
   "outputs": [],
   "source": [
    "import seaborn as sns\n",
    "import pandas as pd\n",
    "dataset = sns.load_dataset(\"mpg\")\n",
    "dataset.head(1)"
   ]
  },
  {
   "cell_type": "markdown",
   "id": "c265af91",
   "metadata": {},
   "source": [
    "# 🔧 Tool: pandas 라이브러리\n",
    "\n",
    "**Dataset:** penguins\n",
    "**난이도:** 최상\n",
    "\n",
    "**Q.** [GROQ ERROR] Error code: 401 - {'error': {'message': 'Invalid API Key', 'type': 'invalid_request_error', 'code': 'invalid_api_key'}}"
   ]
  },
  {
   "cell_type": "code",
   "execution_count": null,
   "id": "a56be1a2",
   "metadata": {},
   "outputs": [],
   "source": [
    "import seaborn as sns\n",
    "import pandas as pd\n",
    "dataset = sns.load_dataset(\"penguins\")\n",
    "dataset.head(1)"
   ]
  },
  {
   "cell_type": "markdown",
   "id": "75592193",
   "metadata": {},
   "source": [
    "# 🔧 Tool: pandas 라이브러리\n",
    "\n",
    "**Dataset:** mpg\n",
    "**난이도:** 최상\n",
    "\n",
    "**Q.** [GROQ ERROR] Error code: 401 - {'error': {'message': 'Invalid API Key', 'type': 'invalid_request_error', 'code': 'invalid_api_key'}}"
   ]
  },
  {
   "cell_type": "code",
   "execution_count": null,
   "id": "7c5c3baf",
   "metadata": {},
   "outputs": [],
   "source": [
    "import seaborn as sns\n",
    "import pandas as pd\n",
    "dataset = sns.load_dataset(\"mpg\")\n",
    "dataset.head(1)"
   ]
  },
  {
   "cell_type": "markdown",
   "id": "694a593e",
   "metadata": {},
   "source": [
    "# 🔧 Tool: pandas 라이브러리\n",
    "\n",
    "**Dataset:** iris\n",
    "**난이도:** 중\n",
    "\n",
    "**Q.** [GROQ ERROR] Error code: 401 - {'error': {'message': 'Invalid API Key', 'type': 'invalid_request_error', 'code': 'invalid_api_key'}}"
   ]
  },
  {
   "cell_type": "code",
   "execution_count": null,
   "id": "d951ac77",
   "metadata": {},
   "outputs": [],
   "source": [
    "import seaborn as sns\n",
    "import pandas as pd\n",
    "dataset = sns.load_dataset(\"iris\")\n",
    "dataset.head(1)"
   ]
  },
  {
   "cell_type": "markdown",
   "id": "06190573",
   "metadata": {},
   "source": [
    "# 🔧 Tool: pandas 라이브러리\n",
    "\n",
    "**Dataset:** mpg\n",
    "**난이도:** 중\n",
    "\n",
    "**Q.** [GROQ ERROR] Error code: 401 - {'error': {'message': 'Invalid API Key', 'type': 'invalid_request_error', 'code': 'invalid_api_key'}}"
   ]
  },
  {
   "cell_type": "code",
   "execution_count": null,
   "id": "1265af98",
   "metadata": {},
   "outputs": [],
   "source": [
    "import seaborn as sns\n",
    "import pandas as pd\n",
    "dataset = sns.load_dataset(\"mpg\")\n",
    "dataset.head(1)"
   ]
  },
  {
   "cell_type": "markdown",
   "id": "98c630fb",
   "metadata": {},
   "source": [
    "# 🔧 Tool: pandas 라이브러리\n",
    "\n",
    "**Dataset:** tips\n",
    "**난이도:** 상\n",
    "\n",
    "**Q.** [GROQ ERROR] Error code: 401 - {'error': {'message': 'Invalid API Key', 'type': 'invalid_request_error', 'code': 'invalid_api_key'}}"
   ]
  },
  {
   "cell_type": "code",
   "execution_count": null,
   "id": "d96646ab",
   "metadata": {},
   "outputs": [],
   "source": [
    "import seaborn as sns\n",
    "import pandas as pd\n",
    "dataset = sns.load_dataset(\"tips\")\n",
    "dataset.head(1)"
   ]
  },
  {
   "cell_type": "markdown",
   "id": "9a2677e0",
   "metadata": {},
   "source": [
    "# 🔧 Tool: pandas 라이브러리\n",
    "\n",
    "**Dataset:** tips\n",
    "**난이도:** 상\n",
    "\n",
    "**Q.** [GROQ ERROR] Error code: 401 - {'error': {'message': 'Invalid API Key', 'type': 'invalid_request_error', 'code': 'invalid_api_key'}}"
   ]
  },
  {
   "cell_type": "code",
   "execution_count": null,
   "id": "5c8c0f06",
   "metadata": {},
   "outputs": [],
   "source": [
    "import seaborn as sns\n",
    "import pandas as pd\n",
    "dataset = sns.load_dataset(\"tips\")\n",
    "dataset.head(1)"
   ]
  },
  {
   "cell_type": "markdown",
   "id": "17827bdc",
   "metadata": {},
   "source": [
    "# 🔧 Tool: pandas 라이브러리\n",
    "\n",
    "**Dataset:** iris\n",
    "**난이도:** 최상\n",
    "\n",
    "**Q.** [GROQ ERROR] Error code: 401 - {'error': {'message': 'Invalid API Key', 'type': 'invalid_request_error', 'code': 'invalid_api_key'}}"
   ]
  },
  {
   "cell_type": "code",
   "execution_count": null,
   "id": "45b3ef4c",
   "metadata": {},
   "outputs": [],
   "source": [
    "import seaborn as sns\n",
    "import pandas as pd\n",
    "dataset = sns.load_dataset(\"iris\")\n",
    "dataset.head(1)"
   ]
  },
  {
   "cell_type": "markdown",
   "id": "5dd5d06e",
   "metadata": {},
   "source": [
    "# 🔧 Tool: pandas 라이브러리\n",
    "\n",
    "**Dataset:** mpg\n",
    "**난이도:** 최상\n",
    "\n",
    "**Q.** [GROQ ERROR] Error code: 401 - {'error': {'message': 'Invalid API Key', 'type': 'invalid_request_error', 'code': 'invalid_api_key'}}"
   ]
  },
  {
   "cell_type": "code",
   "execution_count": null,
   "id": "4aa7d787",
   "metadata": {},
   "outputs": [],
   "source": [
    "import seaborn as sns\n",
    "import pandas as pd\n",
    "dataset = sns.load_dataset(\"mpg\")\n",
    "dataset.head(1)"
   ]
  },
  {
   "cell_type": "markdown",
   "id": "4fa4b0dc",
   "metadata": {},
   "source": [
    "# 🔧 Tool: pandas 라이브러리\n",
    "\n",
    "**Dataset:** tips\n",
    "**난이도:** 중\n",
    "\n",
    "**Q.** [GROQ ERROR] Error code: 401 - {'error': {'message': 'Invalid API Key', 'type': 'invalid_request_error', 'code': 'invalid_api_key'}}"
   ]
  },
  {
   "cell_type": "code",
   "execution_count": null,
   "id": "457a0553",
   "metadata": {},
   "outputs": [],
   "source": [
    "import seaborn as sns\n",
    "import pandas as pd\n",
    "dataset = sns.load_dataset(\"tips\")\n",
    "dataset.head(1)"
   ]
  },
  {
   "cell_type": "markdown",
   "id": "49616c0b",
   "metadata": {},
   "source": [
    "# 🔧 Tool: pandas 라이브러리\n",
    "\n",
    "**Dataset:** tips\n",
    "**난이도:** 중\n",
    "\n",
    "**Q.** [GROQ ERROR] Error code: 401 - {'error': {'message': 'Invalid API Key', 'type': 'invalid_request_error', 'code': 'invalid_api_key'}}"
   ]
  },
  {
   "cell_type": "code",
   "execution_count": null,
   "id": "660ae0e9",
   "metadata": {},
   "outputs": [],
   "source": [
    "import seaborn as sns\n",
    "import pandas as pd\n",
    "dataset = sns.load_dataset(\"tips\")\n",
    "dataset.head(1)"
   ]
  },
  {
   "cell_type": "markdown",
   "id": "662716fd",
   "metadata": {},
   "source": [
    "# 🔧 Tool: pandas 라이브러리\n",
    "\n",
    "**Dataset:** mpg\n",
    "**난이도:** 상\n",
    "\n",
    "**Q.** [GROQ ERROR] Error code: 401 - {'error': {'message': 'Invalid API Key', 'type': 'invalid_request_error', 'code': 'invalid_api_key'}}"
   ]
  },
  {
   "cell_type": "code",
   "execution_count": null,
   "id": "1f529f6f",
   "metadata": {},
   "outputs": [],
   "source": [
    "import seaborn as sns\n",
    "import pandas as pd\n",
    "dataset = sns.load_dataset(\"mpg\")\n",
    "dataset.head(1)"
   ]
  },
  {
   "cell_type": "markdown",
   "id": "3338efd4",
   "metadata": {},
   "source": [
    "# 🔧 Tool: pandas 라이브러리\n",
    "\n",
    "**Dataset:** mpg\n",
    "**난이도:** 상\n",
    "\n",
    "**Q.** [GROQ ERROR] Error code: 401 - {'error': {'message': 'Invalid API Key', 'type': 'invalid_request_error', 'code': 'invalid_api_key'}}"
   ]
  },
  {
   "cell_type": "code",
   "execution_count": null,
   "id": "8ef11df4",
   "metadata": {},
   "outputs": [],
   "source": [
    "import seaborn as sns\n",
    "import pandas as pd\n",
    "dataset = sns.load_dataset(\"mpg\")\n",
    "dataset.head(1)"
   ]
  },
  {
   "cell_type": "markdown",
   "id": "a57a944f",
   "metadata": {},
   "source": [
    "# 🔧 Tool: pandas 라이브러리\n",
    "\n",
    "**Dataset:** diamonds\n",
    "**난이도:** 최상\n",
    "\n",
    "**Q.** [GROQ ERROR] Error code: 401 - {'error': {'message': 'Invalid API Key', 'type': 'invalid_request_error', 'code': 'invalid_api_key'}}"
   ]
  },
  {
   "cell_type": "code",
   "execution_count": null,
   "id": "34441010",
   "metadata": {},
   "outputs": [],
   "source": [
    "import seaborn as sns\n",
    "import pandas as pd\n",
    "dataset = sns.load_dataset(\"diamonds\")\n",
    "dataset.head(1)"
   ]
  },
  {
   "cell_type": "markdown",
   "id": "fa4c6a19",
   "metadata": {},
   "source": [
    "# 🔧 Tool: pandas 라이브러리\n",
    "\n",
    "**Dataset:** tips\n",
    "**난이도:** 최상\n",
    "\n",
    "**Q.** [GROQ ERROR] Error code: 401 - {'error': {'message': 'Invalid API Key', 'type': 'invalid_request_error', 'code': 'invalid_api_key'}}"
   ]
  },
  {
   "cell_type": "code",
   "execution_count": null,
   "id": "30209989",
   "metadata": {},
   "outputs": [],
   "source": [
    "import seaborn as sns\n",
    "import pandas as pd\n",
    "dataset = sns.load_dataset(\"tips\")\n",
    "dataset.head(1)"
   ]
  },
  {
   "cell_type": "markdown",
   "id": "ea934263",
   "metadata": {},
   "source": [
    "# 🔧 Tool: pandas 라이브러리\n",
    "\n",
    "**Dataset:** tips\n",
    "**난이도:** 중\n",
    "\n",
    "**Q.** Here are two problems suitable for a pandas library learning exercise, tailored to the given dataset options and difficulty levels:"
   ]
  },
  {
   "cell_type": "code",
   "execution_count": null,
   "id": "0e02d169",
   "metadata": {},
   "outputs": [],
   "source": [
    "import seaborn as sns\n",
    "import pandas as pd\n",
    "dataset = sns.load_dataset(\"tips\")\n",
    "dataset.head(1)"
   ]
  },
  {
   "cell_type": "markdown",
   "id": "55c08975",
   "metadata": {},
   "source": [
    "# 🔧 Tool: pandas 라이브러리\n",
    "\n",
    "**Dataset:** tips\n",
    "**난이도:** 중\n",
    "\n",
    "**Q.** **Problem 1:** (중, 중급)"
   ]
  },
  {
   "cell_type": "code",
   "execution_count": null,
   "id": "f408a5b8",
   "metadata": {},
   "outputs": [],
   "source": [
    "import seaborn as sns\n",
    "import pandas as pd\n",
    "dataset = sns.load_dataset(\"tips\")\n",
    "dataset.head(1)"
   ]
  },
  {
   "cell_type": "markdown",
   "id": "a2b69682",
   "metadata": {},
   "source": [
    "# 🔧 Tool: pandas 라이브러리\n",
    "\n",
    "**Dataset:** tips\n",
    "**난이도:** 중\n",
    "\n",
    "**Q.** `tips` 데이터셋을 사용하여, 요일별로 평균 그린 가격을 분석하세요. 또한, 요일별로 가격이 가장 높은 날은 언제인지 확인하세요."
   ]
  },
  {
   "cell_type": "code",
   "execution_count": null,
   "id": "e323eb4f",
   "metadata": {},
   "outputs": [],
   "source": [
    "import seaborn as sns\n",
    "import pandas as pd\n",
    "dataset = sns.load_dataset(\"tips\")\n",
    "dataset.head(1)"
   ]
  },
  {
   "cell_type": "markdown",
   "id": "3081fd1c",
   "metadata": {},
   "source": [
    "# 🔧 Tool: pandas 라이브러리\n",
    "\n",
    "**Dataset:** tips\n",
    "**난이도:** 중\n",
    "\n",
    "**Q.** **Translation:** Analyze the average green prices by day of the week using the `tips` dataset. Additionally, find out which day of the week has the highest prices."
   ]
  },
  {
   "cell_type": "code",
   "execution_count": null,
   "id": "d2edef6c",
   "metadata": {},
   "outputs": [],
   "source": [
    "import seaborn as sns\n",
    "import pandas as pd\n",
    "dataset = sns.load_dataset(\"tips\")\n",
    "dataset.head(1)"
   ]
  },
  {
   "cell_type": "markdown",
   "id": "3f32d653",
   "metadata": {},
   "source": [
    "# 🔧 Tool: pandas 라이브러리\n",
    "\n",
    "**Dataset:** tips\n",
    "**난이도:** 중\n",
    "\n",
    "**Q.** **Problem 2:** (상, 최상)"
   ]
  },
  {
   "cell_type": "code",
   "execution_count": null,
   "id": "c03117aa",
   "metadata": {},
   "outputs": [],
   "source": [
    "import seaborn as sns\n",
    "import pandas as pd\n",
    "dataset = sns.load_dataset(\"tips\")\n",
    "dataset.head(1)"
   ]
  },
  {
   "cell_type": "markdown",
   "id": "50b6cb49",
   "metadata": {},
   "source": [
    "# 🔧 Tool: pandas 라이브러리\n",
    "\n",
    "**Dataset:** tips\n",
    "**난이도:** 중\n",
    "\n",
    "**Q.** `penguins` 데이터셋을 사용하여, 몸무게와 날개 길이 간의 상관관계를 회귀 분석하여 설명하세요. 또한, 몸무게가 5kg 미만인 펭귄의 날개 길이는 평균적으로 얼마나길이가 짧은지 확인하세요."
   ]
  },
  {
   "cell_type": "code",
   "execution_count": null,
   "id": "d270daad",
   "metadata": {},
   "outputs": [],
   "source": [
    "import seaborn as sns\n",
    "import pandas as pd\n",
    "dataset = sns.load_dataset(\"tips\")\n",
    "dataset.head(1)"
   ]
  },
  {
   "cell_type": "markdown",
   "id": "bed6ce3e",
   "metadata": {},
   "source": [
    "# 🔧 Tool: pandas 라이브러리\n",
    "\n",
    "**Dataset:** tips\n",
    "**난이도:** 중\n",
    "\n",
    "**Q.** **Translation:** Perform a regression analysis to examine the correlation between body mass and wing length using the `penguins` dataset. Additionally, find out how much shorter the wing length is on average for penguins with a body mass of less than 5kg."
   ]
  },
  {
   "cell_type": "code",
   "execution_count": null,
   "id": "0f16c87d",
   "metadata": {},
   "outputs": [],
   "source": [
    "import seaborn as sns\n",
    "import pandas as pd\n",
    "dataset = sns.load_dataset(\"tips\")\n",
    "dataset.head(1)"
   ]
  },
  {
   "cell_type": "markdown",
   "id": "148b33eb",
   "metadata": {},
   "source": [
    "# 🔧 Tool: pandas 라이브러리\n",
    "\n",
    "**Dataset:** tips\n",
    "**난이도:** 중\n",
    "\n",
    "**Q.** These problems cover various aspects of pandas, such as data visualization, filtering, and regression analysis, and are suitable for learners of intermediate to advanced levels."
   ]
  },
  {
   "cell_type": "code",
   "execution_count": null,
   "id": "87280e6c",
   "metadata": {},
   "outputs": [],
   "source": [
    "import seaborn as sns\n",
    "import pandas as pd\n",
    "dataset = sns.load_dataset(\"tips\")\n",
    "dataset.head(1)"
   ]
  },
  {
   "cell_type": "markdown",
   "id": "f28e9560",
   "metadata": {},
   "source": [
    "# 🔧 Tool: pandas 라이브러리\n",
    "\n",
    "**Dataset:** tips\n",
    "**난이도:** 중\n",
    "\n",
    "**Q.** Here are two problems suitable for learning pandas library with the given dataset and difficulty range:"
   ]
  },
  {
   "cell_type": "code",
   "execution_count": null,
   "id": "f8263a98",
   "metadata": {},
   "outputs": [],
   "source": [
    "import seaborn as sns\n",
    "import pandas as pd\n",
    "dataset = sns.load_dataset(\"tips\")\n",
    "dataset.head(1)"
   ]
  },
  {
   "cell_type": "markdown",
   "id": "967d18fe",
   "metadata": {},
   "source": [
    "# 🔧 Tool: pandas 라이브러리\n",
    "\n",
    "**Dataset:** tips\n",
    "**난이도:** 중\n",
    "\n",
    "**Q.** **Problem 1: 중급 (Intermediate)**"
   ]
  },
  {
   "cell_type": "code",
   "execution_count": null,
   "id": "adeea8e4",
   "metadata": {},
   "outputs": [],
   "source": [
    "import seaborn as sns\n",
    "import pandas as pd\n",
    "dataset = sns.load_dataset(\"tips\")\n",
    "dataset.head(1)"
   ]
  },
  {
   "cell_type": "markdown",
   "id": "460732f1",
   "metadata": {},
   "source": [
    "# 🔧 Tool: pandas 라이브러리\n",
    "\n",
    "**Dataset:** tips\n",
    "**난이도:** 중\n",
    "\n",
    "**Q.** 🚗 'car_crashes' 데이터셋을 사용하여, 'airbag'와 'injury_severity' 간의 상관관계를 분석하세요. 또한, 'airbag'가 설치된 차량의 'injury_severity'를 비교하세요."
   ]
  },
  {
   "cell_type": "code",
   "execution_count": null,
   "id": "6b05e9a8",
   "metadata": {},
   "outputs": [],
   "source": [
    "import seaborn as sns\n",
    "import pandas as pd\n",
    "dataset = sns.load_dataset(\"tips\")\n",
    "dataset.head(1)"
   ]
  },
  {
   "cell_type": "markdown",
   "id": "26ba1aff",
   "metadata": {},
   "source": [
    "# 🔧 Tool: pandas 라이브러리\n",
    "\n",
    "**Dataset:** tips\n",
    "**난이도:** 중\n",
    "\n",
    "**Q.** Translation: Analyze the correlation between 'airbag' and 'injury_severity' using the 'car_crashes' dataset. Additionally, compare the 'injury_severity' of vehicles with and without 'airbag' installed."
   ]
  },
  {
   "cell_type": "code",
   "execution_count": null,
   "id": "36a68547",
   "metadata": {},
   "outputs": [],
   "source": [
    "import seaborn as sns\n",
    "import pandas as pd\n",
    "dataset = sns.load_dataset(\"tips\")\n",
    "dataset.head(1)"
   ]
  },
  {
   "cell_type": "markdown",
   "id": "d032c813",
   "metadata": {},
   "source": [
    "# 🔧 Tool: pandas 라이브러리\n",
    "\n",
    "**Dataset:** tips\n",
    "**난이도:** 중\n",
    "\n",
    "**Q.** **Problem 2: 최상 (Expert)**"
   ]
  },
  {
   "cell_type": "code",
   "execution_count": null,
   "id": "93761b87",
   "metadata": {},
   "outputs": [],
   "source": [
    "import seaborn as sns\n",
    "import pandas as pd\n",
    "dataset = sns.load_dataset(\"tips\")\n",
    "dataset.head(1)"
   ]
  },
  {
   "cell_type": "markdown",
   "id": "4c45efed",
   "metadata": {},
   "source": [
    "# 🔧 Tool: pandas 라이브러리\n",
    "\n",
    "**Dataset:** tips\n",
    "**난이도:** 중\n",
    "\n",
    "**Q.** 🐧 'penguins' 데이터셋을 사용하여, 'bill_length_mm'와 'bill_depth_mm' 간의 회귀분석을 수행하여, 'bill_length_mm'가 'bill_depth_mm'에 미치는 영향을 분석하세요. 또한, 'bill_length_mm'와 'bill_depth_mm'의 상관관계를 시각화하세요."
   ]
  },
  {
   "cell_type": "code",
   "execution_count": null,
   "id": "9b0ffac9",
   "metadata": {},
   "outputs": [],
   "source": [
    "import seaborn as sns\n",
    "import pandas as pd\n",
    "dataset = sns.load_dataset(\"tips\")\n",
    "dataset.head(1)"
   ]
  },
  {
   "cell_type": "markdown",
   "id": "802abd9e",
   "metadata": {},
   "source": [
    "# 🔧 Tool: pandas 라이브러리\n",
    "\n",
    "**Dataset:** tips\n",
    "**난이도:** 중\n",
    "\n",
    "**Q.** Translation: Perform a regression analysis using the 'penguins' dataset to analyze the impact of 'bill_length_mm' on 'bill_depth_mm'. Additionally, visualize the correlation between 'bill_length_mm' and 'bill_depth_mm'."
   ]
  },
  {
   "cell_type": "code",
   "execution_count": null,
   "id": "b86c9316",
   "metadata": {},
   "outputs": [],
   "source": [
    "import seaborn as sns\n",
    "import pandas as pd\n",
    "dataset = sns.load_dataset(\"tips\")\n",
    "dataset.head(1)"
   ]
  },
  {
   "cell_type": "markdown",
   "id": "588afa25",
   "metadata": {},
   "source": [
    "# 🔧 Tool: pandas 라이브러리\n",
    "\n",
    "**Dataset:** penguins\n",
    "**난이도:** 상\n",
    "\n",
    "**Q.** Here are two pandas-related problems suitable for learning, with a moderate to high level of difficulty:"
   ]
  },
  {
   "cell_type": "code",
   "execution_count": null,
   "id": "d7457176",
   "metadata": {},
   "outputs": [],
   "source": [
    "import seaborn as sns\n",
    "import pandas as pd\n",
    "dataset = sns.load_dataset(\"penguins\")\n",
    "dataset.head(1)"
   ]
  },
  {
   "cell_type": "markdown",
   "id": "378edc34",
   "metadata": {},
   "source": [
    "# 🔧 Tool: pandas 라이브러리\n",
    "\n",
    "**Dataset:** penguins\n",
    "**난이도:** 상\n",
    "\n",
    "**Q.** **Problem 1: 중급 (Moderate)**"
   ]
  },
  {
   "cell_type": "code",
   "execution_count": null,
   "id": "31671b35",
   "metadata": {},
   "outputs": [],
   "source": [
    "import seaborn as sns\n",
    "import pandas as pd\n",
    "dataset = sns.load_dataset(\"penguins\")\n",
    "dataset.head(1)"
   ]
  },
  {
   "cell_type": "markdown",
   "id": "7e2853d1",
   "metadata": {},
   "source": [
    "# 🔧 Tool: pandas 라이브러리\n",
    "\n",
    "**Dataset:** penguins\n",
    "**난이도:** 상\n",
    "\n",
    "**Q.** 🚗 **차량 사고 데이터에서 특정 지역의 사고 빈도를 분석하세요.**"
   ]
  },
  {
   "cell_type": "code",
   "execution_count": null,
   "id": "3af205da",
   "metadata": {},
   "outputs": [],
   "source": [
    "import seaborn as sns\n",
    "import pandas as pd\n",
    "dataset = sns.load_dataset(\"penguins\")\n",
    "dataset.head(1)"
   ]
  },
  {
   "cell_type": "markdown",
   "id": "56c9b0d1",
   "metadata": {},
   "source": [
    "# 🔧 Tool: pandas 라이브러리\n",
    "\n",
    "**Dataset:** penguins\n",
    "**난이도:** 상\n",
    "\n",
    "**Q.** Using the `car_crashes` dataset, analyze the frequency of car crashes in a specific region (e.g., urban vs. rural areas). You need to:"
   ]
  },
  {
   "cell_type": "code",
   "execution_count": null,
   "id": "4400acba",
   "metadata": {},
   "outputs": [],
   "source": [
    "import seaborn as sns\n",
    "import pandas as pd\n",
    "dataset = sns.load_dataset(\"penguins\")\n",
    "dataset.head(1)"
   ]
  },
  {
   "cell_type": "markdown",
   "id": "8579bcc4",
   "metadata": {},
   "source": [
    "# 🔧 Tool: pandas 라이브러리\n",
    "\n",
    "**Dataset:** penguins\n",
    "**난이도:** 상\n",
    "\n",
    "**Q.** Filter the data to extract records for the selected region."
   ]
  },
  {
   "cell_type": "code",
   "execution_count": null,
   "id": "8c863833",
   "metadata": {},
   "outputs": [],
   "source": [
    "import seaborn as sns\n",
    "import pandas as pd\n",
    "dataset = sns.load_dataset(\"penguins\")\n",
    "dataset.head(1)"
   ]
  },
  {
   "cell_type": "markdown",
   "id": "ae0e5d5c",
   "metadata": {},
   "source": [
    "# 🔧 Tool: pandas 라이브러리\n",
    "\n",
    "**Dataset:** penguins\n",
    "**난이도:** 상\n",
    "\n",
    "**Q.** Calculate the frequency of car crashes per 100,000 people."
   ]
  },
  {
   "cell_type": "code",
   "execution_count": null,
   "id": "ea604a92",
   "metadata": {},
   "outputs": [],
   "source": [
    "import seaborn as sns\n",
    "import pandas as pd\n",
    "dataset = sns.load_dataset(\"penguins\")\n",
    "dataset.head(1)"
   ]
  },
  {
   "cell_type": "markdown",
   "id": "0ca39ab7",
   "metadata": {},
   "source": [
    "# 🔧 Tool: pandas 라이브러리\n",
    "\n",
    "**Dataset:** penguins\n",
    "**난이도:** 상\n",
    "\n",
    "**Q.** Visualize the results using a bar chart or heatmap."
   ]
  },
  {
   "cell_type": "code",
   "execution_count": null,
   "id": "7d679534",
   "metadata": {},
   "outputs": [],
   "source": [
    "import seaborn as sns\n",
    "import pandas as pd\n",
    "dataset = sns.load_dataset(\"penguins\")\n",
    "dataset.head(1)"
   ]
  },
  {
   "cell_type": "markdown",
   "id": "75162105",
   "metadata": {},
   "source": [
    "# 🔧 Tool: pandas 라이브러리\n",
    "\n",
    "**Dataset:** penguins\n",
    "**난이도:** 상\n",
    "\n",
    "**Q.** **Problem 2: 상급 (High-level)**"
   ]
  },
  {
   "cell_type": "code",
   "execution_count": null,
   "id": "b163d72d",
   "metadata": {},
   "outputs": [],
   "source": [
    "import seaborn as sns\n",
    "import pandas as pd\n",
    "dataset = sns.load_dataset(\"penguins\")\n",
    "dataset.head(1)"
   ]
  },
  {
   "cell_type": "markdown",
   "id": "2cd3e678",
   "metadata": {},
   "source": [
    "# 🔧 Tool: pandas 라이브러리\n",
    "\n",
    "**Dataset:** penguins\n",
    "**난이도:** 상\n",
    "\n",
    "**Q.** 🐧 **펭귄 데이터에서 특정 변수의 상관관계를 분석하세요.**"
   ]
  },
  {
   "cell_type": "code",
   "execution_count": null,
   "id": "5f661d68",
   "metadata": {},
   "outputs": [],
   "source": [
    "import seaborn as sns\n",
    "import pandas as pd\n",
    "dataset = sns.load_dataset(\"penguins\")\n",
    "dataset.head(1)"
   ]
  },
  {
   "cell_type": "markdown",
   "id": "3bad200b",
   "metadata": {},
   "source": [
    "# 🔧 Tool: pandas 라이브러리\n",
    "\n",
    "**Dataset:** penguins\n",
    "**난이도:** 상\n",
    "\n",
    "**Q.** Using the `penguins` dataset, analyze the correlation between the `bill_length_mm` and `bill_depth_mm` variables. You need to:"
   ]
  },
  {
   "cell_type": "code",
   "execution_count": null,
   "id": "c99df1ee",
   "metadata": {},
   "outputs": [],
   "source": [
    "import seaborn as sns\n",
    "import pandas as pd\n",
    "dataset = sns.load_dataset(\"penguins\")\n",
    "dataset.head(1)"
   ]
  },
  {
   "cell_type": "markdown",
   "id": "7bb54b66",
   "metadata": {},
   "source": [
    "# 🔧 Tool: pandas 라이브러리\n",
    "\n",
    "**Dataset:** penguins\n",
    "**난이도:** 상\n",
    "\n",
    "**Q.** Calculate the Pearson correlation coefficient between the two variables."
   ]
  },
  {
   "cell_type": "code",
   "execution_count": null,
   "id": "e57b2903",
   "metadata": {},
   "outputs": [],
   "source": [
    "import seaborn as sns\n",
    "import pandas as pd\n",
    "dataset = sns.load_dataset(\"penguins\")\n",
    "dataset.head(1)"
   ]
  },
  {
   "cell_type": "markdown",
   "id": "a60e4037",
   "metadata": {},
   "source": [
    "# 🔧 Tool: pandas 라이브러리\n",
    "\n",
    "**Dataset:** penguins\n",
    "**난이도:** 상\n",
    "\n",
    "**Q.** Visualize the correlation using a scatterplot or heatmap."
   ]
  },
  {
   "cell_type": "code",
   "execution_count": null,
   "id": "5e9b1371",
   "metadata": {},
   "outputs": [],
   "source": [
    "import seaborn as sns\n",
    "import pandas as pd\n",
    "dataset = sns.load_dataset(\"penguins\")\n",
    "dataset.head(1)"
   ]
  },
  {
   "cell_type": "markdown",
   "id": "92a2930a",
   "metadata": {},
   "source": [
    "# 🔧 Tool: pandas 라이브러리\n",
    "\n",
    "**Dataset:** penguins\n",
    "**난이도:** 상\n",
    "\n",
    "**Q.** Interpret the results and discuss the implications for penguin biology."
   ]
  },
  {
   "cell_type": "code",
   "execution_count": null,
   "id": "ac0afc02",
   "metadata": {},
   "outputs": [],
   "source": [
    "import seaborn as sns\n",
    "import pandas as pd\n",
    "dataset = sns.load_dataset(\"penguins\")\n",
    "dataset.head(1)"
   ]
  },
  {
   "cell_type": "markdown",
   "id": "9bf33db4",
   "metadata": {},
   "source": [
    "# 🔧 Tool: pandas 라이브러리\n",
    "\n",
    "**Dataset:** penguins\n",
    "**난이도:** 상\n",
    "\n",
    "**Q.** I hope these problems help you practice your pandas skills! 😊"
   ]
  },
  {
   "cell_type": "code",
   "execution_count": null,
   "id": "f27607c3",
   "metadata": {},
   "outputs": [],
   "source": [
    "import seaborn as sns\n",
    "import pandas as pd\n",
    "dataset = sns.load_dataset(\"penguins\")\n",
    "dataset.head(1)"
   ]
  },
  {
   "cell_type": "markdown",
   "id": "1b70abd6",
   "metadata": {},
   "source": [
    "# 🔧 Tool: pandas 라이브러리\n",
    "\n",
    "**Dataset:** tips\n",
    "**난이도:** 상\n",
    "\n",
    "**Q.** Here are two pandas-related problems that fit the conditions:"
   ]
  },
  {
   "cell_type": "code",
   "execution_count": null,
   "id": "2143ac6b",
   "metadata": {},
   "outputs": [],
   "source": [
    "import seaborn as sns\n",
    "import pandas as pd\n",
    "dataset = sns.load_dataset(\"tips\")\n",
    "dataset.head(1)"
   ]
  },
  {
   "cell_type": "markdown",
   "id": "5158b499",
   "metadata": {},
   "source": [
    "# 🔧 Tool: pandas 라이브러리\n",
    "\n",
    "**Dataset:** tips\n",
    "**난이도:** 상\n",
    "\n",
    "**Q.** **Problem 1 (중, 중급)**"
   ]
  },
  {
   "cell_type": "code",
   "execution_count": null,
   "id": "5387a81b",
   "metadata": {},
   "outputs": [],
   "source": [
    "import seaborn as sns\n",
    "import pandas as pd\n",
    "dataset = sns.load_dataset(\"tips\")\n",
    "dataset.head(1)"
   ]
  },
  {
   "cell_type": "markdown",
   "id": "a437ac9d",
   "metadata": {},
   "source": [
    "# 🔧 Tool: pandas 라이브러리\n",
    "\n",
    "**Dataset:** tips\n",
    "**난이도:** 상\n",
    "\n",
    "**Q.** 🚗 자동차 충돌사고 데이터셋에서, '시도' 열과 '충돌사고 수' 열의 관계를 분석하세요. 시도별 충돌사고 수를 시각화하여, 가장 많은 충돌사고가 발생하는 시도를 확인하세요."
   ]
  },
  {
   "cell_type": "code",
   "execution_count": null,
   "id": "e799d6d2",
   "metadata": {},
   "outputs": [],
   "source": [
    "import seaborn as sns\n",
    "import pandas as pd\n",
    "dataset = sns.load_dataset(\"tips\")\n",
    "dataset.head(1)"
   ]
  },
  {
   "cell_type": "markdown",
   "id": "a2a17b71",
   "metadata": {},
   "source": [
    "# 🔧 Tool: pandas 라이브러리\n",
    "\n",
    "**Dataset:** tips\n",
    "**난이도:** 상\n",
    "\n",
    "**Q.** **Problem 2 (상, 고급)**"
   ]
  },
  {
   "cell_type": "code",
   "execution_count": null,
   "id": "ede1f205",
   "metadata": {},
   "outputs": [],
   "source": [
    "import seaborn as sns\n",
    "import pandas as pd\n",
    "dataset = sns.load_dataset(\"tips\")\n",
    "dataset.head(1)"
   ]
  },
  {
   "cell_type": "markdown",
   "id": "ce8b2bef",
   "metadata": {},
   "source": [
    "# 🔧 Tool: pandas 라이브러리\n",
    "\n",
    "**Dataset:** tips\n",
    "**난이도:** 상\n",
    "\n",
    "**Q.** 🐧 펭귄 데이터셋에서, 'bill_length_mm' 열과 'bill_depth_mm' 열 간의 회귀 분석을 수행하세요. 회귀식에서 'bill_length_mm' 열이 Independent Variable, 'bill_depth_mm' 열이 Dependent Variable로 설정하세요. 또한, 회귀 분석 결과를 시각화하여, 'bill_length_mm' 열이 증가할 때 'bill_depth_mm' 열의 예측치가 어떻게 변화하는지 확인하세요."
   ]
  },
  {
   "cell_type": "code",
   "execution_count": null,
   "id": "aa8ac56b",
   "metadata": {},
   "outputs": [],
   "source": [
    "import seaborn as sns\n",
    "import pandas as pd\n",
    "dataset = sns.load_dataset(\"tips\")\n",
    "dataset.head(1)"
   ]
  },
  {
   "cell_type": "markdown",
   "id": "03ced2b5",
   "metadata": {},
   "source": [
    "# 🔧 Tool: pandas 라이브러리\n",
    "\n",
    "**Dataset:** tips\n",
    "**난이도:** 상\n",
    "\n",
    "**Q.** Translation:"
   ]
  },
  {
   "cell_type": "code",
   "execution_count": null,
   "id": "3b7317f4",
   "metadata": {},
   "outputs": [],
   "source": [
    "import seaborn as sns\n",
    "import pandas as pd\n",
    "dataset = sns.load_dataset(\"tips\")\n",
    "dataset.head(1)"
   ]
  },
  {
   "cell_type": "markdown",
   "id": "35eeea82",
   "metadata": {},
   "source": [
    "# 🔧 Tool: pandas 라이브러리\n",
    "\n",
    "**Dataset:** tips\n",
    "**난이도:** 상\n",
    "\n",
    "**Q.** **Problem 1 (Mid-level)**"
   ]
  },
  {
   "cell_type": "code",
   "execution_count": null,
   "id": "6b9b6d3c",
   "metadata": {},
   "outputs": [],
   "source": [
    "import seaborn as sns\n",
    "import pandas as pd\n",
    "dataset = sns.load_dataset(\"tips\")\n",
    "dataset.head(1)"
   ]
  },
  {
   "cell_type": "markdown",
   "id": "bcf88fb9",
   "metadata": {},
   "source": [
    "# 🔧 Tool: pandas 라이브러리\n",
    "\n",
    "**Dataset:** tips\n",
    "**난이도:** 상\n",
    "\n",
    "**Q.** Analyze the relationship between the 'state' column and the 'crashes' column in the car crashes dataset. Visualize the state-wise crash numbers to identify the state with the most crashes."
   ]
  },
  {
   "cell_type": "code",
   "execution_count": null,
   "id": "0cf7f126",
   "metadata": {},
   "outputs": [],
   "source": [
    "import seaborn as sns\n",
    "import pandas as pd\n",
    "dataset = sns.load_dataset(\"tips\")\n",
    "dataset.head(1)"
   ]
  },
  {
   "cell_type": "markdown",
   "id": "e56c1891",
   "metadata": {},
   "source": [
    "# 🔧 Tool: pandas 라이브러리\n",
    "\n",
    "**Dataset:** tips\n",
    "**난이도:** 상\n",
    "\n",
    "**Q.** **Problem 2 (Advanced)**"
   ]
  },
  {
   "cell_type": "code",
   "execution_count": null,
   "id": "2efc7f3d",
   "metadata": {},
   "outputs": [],
   "source": [
    "import seaborn as sns\n",
    "import pandas as pd\n",
    "dataset = sns.load_dataset(\"tips\")\n",
    "dataset.head(1)"
   ]
  },
  {
   "cell_type": "markdown",
   "id": "93cc9af4",
   "metadata": {},
   "source": [
    "# 🔧 Tool: pandas 라이브러리\n",
    "\n",
    "**Dataset:** tips\n",
    "**난이도:** 상\n",
    "\n",
    "**Q.** Perform a regression analysis on the 'bill_length_mm' column and the 'bill_depth_mm' column in the penguins dataset. Set 'bill_length_mm' as the Independent Variable and 'bill_depth_mm' as the Dependent Variable. Visualize the regression results to see how the predicted values of 'bill_depth_mm' change as 'bill_length_mm' increases."
   ]
  },
  {
   "cell_type": "code",
   "execution_count": null,
   "id": "00b6f7fb",
   "metadata": {},
   "outputs": [],
   "source": [
    "import seaborn as sns\n",
    "import pandas as pd\n",
    "dataset = sns.load_dataset(\"tips\")\n",
    "dataset.head(1)"
   ]
  },
  {
   "cell_type": "markdown",
   "id": "6d1de3ef",
   "metadata": {},
   "source": [
    "# 🔧 Tool: pandas 라이브러리\n",
    "\n",
    "**Dataset:** tips\n",
    "**난이도:** 최상\n",
    "\n",
    "**Q.** Here are two problem statements suitable for learning pandas library with the given datasets and difficulty levels:"
   ]
  },
  {
   "cell_type": "code",
   "execution_count": null,
   "id": "13b0c4b5",
   "metadata": {},
   "outputs": [],
   "source": [
    "import seaborn as sns\n",
    "import pandas as pd\n",
    "dataset = sns.load_dataset(\"tips\")\n",
    "dataset.head(1)"
   ]
  },
  {
   "cell_type": "markdown",
   "id": "3a142b6b",
   "metadata": {},
   "source": [
    "# 🔧 Tool: pandas 라이브러리\n",
    "\n",
    "**Dataset:** tips\n",
    "**난이도:** 최상\n",
    "\n",
    "**Q.** **Problem 1: 중급 (Intermediate)**"
   ]
  },
  {
   "cell_type": "code",
   "execution_count": null,
   "id": "35542a09",
   "metadata": {},
   "outputs": [],
   "source": [
    "import seaborn as sns\n",
    "import pandas as pd\n",
    "dataset = sns.load_dataset(\"tips\")\n",
    "dataset.head(1)"
   ]
  },
  {
   "cell_type": "markdown",
   "id": "061d2d66",
   "metadata": {},
   "source": [
    "# 🔧 Tool: pandas 라이브러리\n",
    "\n",
    "**Dataset:** tips\n",
    "**난이도:** 최상\n",
    "\n",
    "**Q.** 🚗 \"차량 충돌 사고 데이터셋\"의 'make'와 'model'의 관계를 분석하세요. 'make'와 'model' 간의 상관관계를 확인하고, 가장 빈번하게 발생하는 'make'와 'model' 조합을 찾으세요."
   ]
  },
  {
   "cell_type": "code",
   "execution_count": null,
   "id": "efd0630e",
   "metadata": {},
   "outputs": [],
   "source": [
    "import seaborn as sns\n",
    "import pandas as pd\n",
    "dataset = sns.load_dataset(\"tips\")\n",
    "dataset.head(1)"
   ]
  },
  {
   "cell_type": "markdown",
   "id": "6ae102b2",
   "metadata": {},
   "source": [
    "# 🔧 Tool: pandas 라이브러리\n",
    "\n",
    "**Dataset:** tips\n",
    "**난이도:** 최상\n",
    "\n",
    "**Q.** Translation: Analyze the relationship between 'make' and 'model' in the \"car crashes\" dataset. Check for correlations between 'make' and 'model' and find the most frequent combination of 'make' and 'model'."
   ]
  },
  {
   "cell_type": "code",
   "execution_count": null,
   "id": "ea173e6d",
   "metadata": {},
   "outputs": [],
   "source": [
    "import seaborn as sns\n",
    "import pandas as pd\n",
    "dataset = sns.load_dataset(\"tips\")\n",
    "dataset.head(1)"
   ]
  },
  {
   "cell_type": "markdown",
   "id": "b01e7dc2",
   "metadata": {},
   "source": [
    "# 🔧 Tool: pandas 라이브러리\n",
    "\n",
    "**Dataset:** tips\n",
    "**난이도:** 최상\n",
    "\n",
    "**Q.** **Problem 2: 최상 (Advanced)**"
   ]
  },
  {
   "cell_type": "code",
   "execution_count": null,
   "id": "a0f5e483",
   "metadata": {},
   "outputs": [],
   "source": [
    "import seaborn as sns\n",
    "import pandas as pd\n",
    "dataset = sns.load_dataset(\"tips\")\n",
    "dataset.head(1)"
   ]
  },
  {
   "cell_type": "markdown",
   "id": "bc709029",
   "metadata": {},
   "source": [
    "# 🔧 Tool: pandas 라이브러리\n",
    "\n",
    "**Dataset:** tips\n",
    "**난이도:** 최상\n",
    "\n",
    "**Q.** 🐧 \"펭귄 데이터셋\"의 'bill_length_mm'와 'bill_depth_mm'의 회귀 분석을 수행하세요. 'bill_length_mm'과 'bill_depth_mm' 간의 선형 회귀 모델을 구축하고, 모델의 성능을 평가하세요. 또한, 'bill_length_mm'과 'bill_depth_mm'의 상관관계를 시각화하세요."
   ]
  },
  {
   "cell_type": "code",
   "execution_count": null,
   "id": "89d54c46",
   "metadata": {},
   "outputs": [],
   "source": [
    "import seaborn as sns\n",
    "import pandas as pd\n",
    "dataset = sns.load_dataset(\"tips\")\n",
    "dataset.head(1)"
   ]
  },
  {
   "cell_type": "markdown",
   "id": "40225157",
   "metadata": {},
   "source": [
    "# 🔧 Tool: pandas 라이브러리\n",
    "\n",
    "**Dataset:** tips\n",
    "**난이도:** 최상\n",
    "\n",
    "**Q.** Translation: Perform a linear regression analysis on the \"penguins\" dataset's 'bill_length_mm' and 'bill_depth_mm'. Build a linear regression model and evaluate its performance. Additionally, visualize the correlation between 'bill_length_mm' and 'bill_depth_mm'."
   ]
  },
  {
   "cell_type": "code",
   "execution_count": null,
   "id": "7003b29b",
   "metadata": {},
   "outputs": [],
   "source": [
    "import seaborn as sns\n",
    "import pandas as pd\n",
    "dataset = sns.load_dataset(\"tips\")\n",
    "dataset.head(1)"
   ]
  },
  {
   "cell_type": "markdown",
   "id": "b2999631",
   "metadata": {},
   "source": [
    "# 🔧 Tool: pandas 라이브러리\n",
    "\n",
    "**Dataset:** tips\n",
    "**난이도:** 최상\n",
    "\n",
    "**Q.** Let me know if you'd like me to adjust the difficulty levels or create more problems! 😊"
   ]
  },
  {
   "cell_type": "code",
   "execution_count": null,
   "id": "3d895424",
   "metadata": {},
   "outputs": [],
   "source": [
    "import seaborn as sns\n",
    "import pandas as pd\n",
    "dataset = sns.load_dataset(\"tips\")\n",
    "dataset.head(1)"
   ]
  },
  {
   "cell_type": "markdown",
   "id": "23775916",
   "metadata": {},
   "source": [
    "# 🔧 Tool: pandas 라이브러리\n",
    "\n",
    "**Dataset:** penguins\n",
    "**난이도:** 최상\n",
    "\n",
    "**Q.** Here are two pandas-related problems suitable for learning, with a moderate to high level of difficulty:"
   ]
  },
  {
   "cell_type": "code",
   "execution_count": null,
   "id": "f091eb67",
   "metadata": {},
   "outputs": [],
   "source": [
    "import seaborn as sns\n",
    "import pandas as pd\n",
    "dataset = sns.load_dataset(\"penguins\")\n",
    "dataset.head(1)"
   ]
  },
  {
   "cell_type": "markdown",
   "id": "4887a171",
   "metadata": {},
   "source": [
    "# 🔧 Tool: pandas 라이브러리\n",
    "\n",
    "**Dataset:** penguins\n",
    "**난이도:** 최상\n",
    "\n",
    "**Q.** **Problem 1:**"
   ]
  },
  {
   "cell_type": "code",
   "execution_count": null,
   "id": "7ca05c3d",
   "metadata": {},
   "outputs": [],
   "source": [
    "import seaborn as sns\n",
    "import pandas as pd\n",
    "dataset = sns.load_dataset(\"penguins\")\n",
    "dataset.head(1)"
   ]
  },
  {
   "cell_type": "markdown",
   "id": "10311796",
   "metadata": {},
   "source": [
    "# 🔧 Tool: pandas 라이브러리\n",
    "\n",
    "**Dataset:** penguins\n",
    "**난이도:** 최상\n",
    "\n",
    "**Q.** 🚗 `car_crashes` 데이터셋을 사용하여, 속도제한 초과와 사망률 간의 관계를 분석하세요. 속도제한 초과가 사망률에 미치는 영향을 확인하고, 그래프를 통해 시각화하세요."
   ]
  },
  {
   "cell_type": "code",
   "execution_count": null,
   "id": "6331fce5",
   "metadata": {},
   "outputs": [],
   "source": [
    "import seaborn as sns\n",
    "import pandas as pd\n",
    "dataset = sns.load_dataset(\"penguins\")\n",
    "dataset.head(1)"
   ]
  },
  {
   "cell_type": "markdown",
   "id": "47d7570a",
   "metadata": {},
   "source": [
    "# 🔧 Tool: pandas 라이브러리\n",
    "\n",
    "**Dataset:** penguins\n",
    "**난이도:** 최상\n",
    "\n",
    "**Q.** Translation: Analyze the relationship between speed limit violations and fatality rates using the `car_crashes` dataset. Confirm the impact of speed limit violations on fatality rates and visualize it through a graph."
   ]
  },
  {
   "cell_type": "code",
   "execution_count": null,
   "id": "630808d0",
   "metadata": {},
   "outputs": [],
   "source": [
    "import seaborn as sns\n",
    "import pandas as pd\n",
    "dataset = sns.load_dataset(\"penguins\")\n",
    "dataset.head(1)"
   ]
  },
  {
   "cell_type": "markdown",
   "id": "0498068b",
   "metadata": {},
   "source": [
    "# 🔧 Tool: pandas 라이브러리\n",
    "\n",
    "**Dataset:** penguins\n",
    "**난이도:** 최상\n",
    "\n",
    "**Q.** **Problem 2:**"
   ]
  },
  {
   "cell_type": "code",
   "execution_count": null,
   "id": "375004c6",
   "metadata": {},
   "outputs": [],
   "source": [
    "import seaborn as sns\n",
    "import pandas as pd\n",
    "dataset = sns.load_dataset(\"penguins\")\n",
    "dataset.head(1)"
   ]
  },
  {
   "cell_type": "markdown",
   "id": "a1833fe5",
   "metadata": {},
   "source": [
    "# 🔧 Tool: pandas 라이브러리\n",
    "\n",
    "**Dataset:** penguins\n",
    "**난이도:** 최상\n",
    "\n",
    "**Q.** 🐧 `penguins` 데이터셋을 사용하여, 성별과 부위에 따른 습연이동 거리의 분포를 비교하세요. 성별과 부위 간의 상관관계를 분석하고, 그래프를 통해 시각화하세요."
   ]
  },
  {
   "cell_type": "code",
   "execution_count": null,
   "id": "330149e4",
   "metadata": {},
   "outputs": [],
   "source": [
    "import seaborn as sns\n",
    "import pandas as pd\n",
    "dataset = sns.load_dataset(\"penguins\")\n",
    "dataset.head(1)"
   ]
  },
  {
   "cell_type": "markdown",
   "id": "5c482aeb",
   "metadata": {},
   "source": [
    "# 🔧 Tool: pandas 라이브러리\n",
    "\n",
    "**Dataset:** penguins\n",
    "**난이도:** 최상\n",
    "\n",
    "**Q.** Translation: Compare the distribution of flipper length distances between males and females using the `penguins` dataset. Analyze the correlation between gender and body part and visualize it through a graph."
   ]
  },
  {
   "cell_type": "code",
   "execution_count": null,
   "id": "ef9d7717",
   "metadata": {},
   "outputs": [],
   "source": [
    "import seaborn as sns\n",
    "import pandas as pd\n",
    "dataset = sns.load_dataset(\"penguins\")\n",
    "dataset.head(1)"
   ]
  },
  {
   "cell_type": "markdown",
   "id": "dc33f6c2",
   "metadata": {},
   "source": [
    "# 🔧 Tool: pandas 라이브러리\n",
    "\n",
    "**Dataset:** penguins\n",
    "**난이도:** 최상\n",
    "\n",
    "**Q.** These problems cover topics such as data visualization, correlation analysis, and data exploration, which are essential skills for working with pandas."
   ]
  },
  {
   "cell_type": "code",
   "execution_count": null,
   "id": "f2835301",
   "metadata": {},
   "outputs": [],
   "source": [
    "import seaborn as sns\n",
    "import pandas as pd\n",
    "dataset = sns.load_dataset(\"penguins\")\n",
    "dataset.head(1)"
   ]
  },
  {
   "cell_type": "markdown",
   "id": "816c3de1",
   "metadata": {},
   "source": [
    "# 🔧 Tool: pandas 라이브러리\n",
    "\n",
    "**Dataset:** titanic\n",
    "**난이도:** 중\n",
    "\n",
    "**Q.** **Problem 1: 중급 (Intermediate)**"
   ]
  },
  {
   "cell_type": "code",
   "execution_count": null,
   "id": "4920be80",
   "metadata": {},
   "outputs": [],
   "source": [
    "import seaborn as sns\n",
    "import pandas as pd\n",
    "dataset = sns.load_dataset(\"titanic\")\n",
    "dataset.head(1)"
   ]
  },
  {
   "cell_type": "markdown",
   "id": "45347f8d",
   "metadata": {},
   "source": [
    "# 🔧 Tool: pandas 라이브러리\n",
    "\n",
    "**Dataset:** titanic\n",
    "**난이도:** 중\n",
    "\n",
    "**Q.** `titanic` 데이터셋을 사용하여, 성별과 연령 간의 상관관계를 분석하세요. 또한, 성별에 따라 생존 가능성을 예측하는 데 도움이 되는 요인을 찾으세요."
   ]
  },
  {
   "cell_type": "code",
   "execution_count": null,
   "id": "93471c46",
   "metadata": {},
   "outputs": [],
   "source": [
    "import seaborn as sns\n",
    "import pandas as pd\n",
    "dataset = sns.load_dataset(\"titanic\")\n",
    "dataset.head(1)"
   ]
  },
  {
   "cell_type": "markdown",
   "id": "db9496e0",
   "metadata": {},
   "source": [
    "# 🔧 Tool: pandas 라이브러리\n",
    "\n",
    "**Dataset:** titanic\n",
    "**난이도:** 중\n",
    "\n",
    "**Q.** **Problem 2: 최상 (Expert)**"
   ]
  },
  {
   "cell_type": "code",
   "execution_count": null,
   "id": "51d2fc10",
   "metadata": {},
   "outputs": [],
   "source": [
    "import seaborn as sns\n",
    "import pandas as pd\n",
    "dataset = sns.load_dataset(\"titanic\")\n",
    "dataset.head(1)"
   ]
  },
  {
   "cell_type": "markdown",
   "id": "b4b6185a",
   "metadata": {},
   "source": [
    "# 🔧 Tool: pandas 라이브러리\n",
    "\n",
    "**Dataset:** titanic\n",
    "**난이도:** 중\n",
    "\n",
    "**Q.** `penguins` 데이터셋을 사용하여, 펭귄의 두께, 길이, 발 길이 등 다양한 요인을 고려하여, 종을 예측하는 모델을 구축하세요. 또한, 모델의 성능을 개선하기 위해, 데이터셋에 없는 새로운 요인을 추가하여 모델을 업데이트하세요."
   ]
  },
  {
   "cell_type": "code",
   "execution_count": null,
   "id": "349e90d9",
   "metadata": {},
   "outputs": [],
   "source": [
    "import seaborn as sns\n",
    "import pandas as pd\n",
    "dataset = sns.load_dataset(\"titanic\")\n",
    "dataset.head(1)"
   ]
  },
  {
   "cell_type": "markdown",
   "id": "d6f9d443",
   "metadata": {},
   "source": [
    "# 🔧 Tool: pandas 라이브러리\n",
    "\n",
    "**Dataset:** titanic\n",
    "**난이도:** 중\n",
    "\n",
    "**Q.** Let me know if you'd like me to adjust the difficulty levels or create more problems! 😊"
   ]
  },
  {
   "cell_type": "code",
   "execution_count": null,
   "id": "2212877d",
   "metadata": {},
   "outputs": [],
   "source": [
    "import seaborn as sns\n",
    "import pandas as pd\n",
    "dataset = sns.load_dataset(\"titanic\")\n",
    "dataset.head(1)"
   ]
  },
  {
   "cell_type": "markdown",
   "id": "c9cdb533",
   "metadata": {},
   "source": [
    "# 🔧 Tool: pandas 라이브러리\n",
    "\n",
    "**Dataset:** mpg\n",
    "**난이도:** 중\n",
    "\n",
    "**Q.** **Problem 1: 중급 (Intermediate)**"
   ]
  },
  {
   "cell_type": "code",
   "execution_count": null,
   "id": "f098e60e",
   "metadata": {},
   "outputs": [],
   "source": [
    "import seaborn as sns\n",
    "import pandas as pd\n",
    "dataset = sns.load_dataset(\"mpg\")\n",
    "dataset.head(1)"
   ]
  },
  {
   "cell_type": "markdown",
   "id": "fdf49cad",
   "metadata": {},
   "source": [
    "# 🔧 Tool: pandas 라이브러리\n",
    "\n",
    "**Dataset:** mpg\n",
    "**난이도:** 중\n",
    "\n",
    "**Q.** `titanic` 데이터셋을 사용하여, 생존자와 사망자의 class 분포를 분석하세요. 또한, class 간의 차이를 분석하여, 생존 가능성에 영향을 주는 요인을 찾으세요. 데이터를 시각화하여, class별 생존 가능성을 예측하는 데 도움이 되는 그래프를 만들어보세요."
   ]
  },
  {
   "cell_type": "code",
   "execution_count": null,
   "id": "3a58cf02",
   "metadata": {},
   "outputs": [],
   "source": [
    "import seaborn as sns\n",
    "import pandas as pd\n",
    "dataset = sns.load_dataset(\"mpg\")\n",
    "dataset.head(1)"
   ]
  },
  {
   "cell_type": "markdown",
   "id": "3a0d15b3",
   "metadata": {},
   "source": [
    "# 🔧 Tool: pandas 라이브러리\n",
    "\n",
    "**Dataset:** mpg\n",
    "**난이도:** 중\n",
    "\n",
    "**Q.** **Problem 2: 최상 (Expert)**"
   ]
  },
  {
   "cell_type": "code",
   "execution_count": null,
   "id": "f3d8b0cd",
   "metadata": {},
   "outputs": [],
   "source": [
    "import seaborn as sns\n",
    "import pandas as pd\n",
    "dataset = sns.load_dataset(\"mpg\")\n",
    "dataset.head(1)"
   ]
  },
  {
   "cell_type": "markdown",
   "id": "8ad4de9f",
   "metadata": {},
   "source": [
    "# 🔧 Tool: pandas 라이브러리\n",
    "\n",
    "**Dataset:** mpg\n",
    "**난이도:** 중\n",
    "\n",
    "**Q.** `penguins` 데이터셋을 사용하여, 퓨지(Feather Length)와 Body Mass Index(BMI) 간의 상관관계를 분석하세요. 또한, 퓨지를 통해 BMI를 예측하는 모델을 구축하세요. 데이터를 시각화하여, 퓨지와 BMI 간의 관계를 확인하고, 모델의 성능을 개선하는 데 도움이 되는 요인을 찾으세요."
   ]
  },
  {
   "cell_type": "code",
   "execution_count": null,
   "id": "252c66e3",
   "metadata": {},
   "outputs": [],
   "source": [
    "import seaborn as sns\n",
    "import pandas as pd\n",
    "dataset = sns.load_dataset(\"mpg\")\n",
    "dataset.head(1)"
   ]
  },
  {
   "cell_type": "markdown",
   "id": "8f97a8b4",
   "metadata": {},
   "source": [
    "# 🔧 Tool: pandas 라이브러리\n",
    "\n",
    "**Dataset:** mpg\n",
    "**난이도:** 중\n",
    "\n",
    "**Q.** Let me know if you need any adjustments! 😊"
   ]
  },
  {
   "cell_type": "code",
   "execution_count": null,
   "id": "f0b6af73",
   "metadata": {},
   "outputs": [],
   "source": [
    "import seaborn as sns\n",
    "import pandas as pd\n",
    "dataset = sns.load_dataset(\"mpg\")\n",
    "dataset.head(1)"
   ]
  },
  {
   "cell_type": "markdown",
   "id": "67cdf827",
   "metadata": {},
   "source": [
    "# 🔧 Tool: pandas 라이브러리\n",
    "\n",
    "**Dataset:** titanic\n",
    "**난이도:** 상\n",
    "\n",
    "**Q.** **Problem 1: 중급 (Intermediate)**"
   ]
  },
  {
   "cell_type": "code",
   "execution_count": null,
   "id": "ccfaeb07",
   "metadata": {},
   "outputs": [],
   "source": [
    "import seaborn as sns\n",
    "import pandas as pd\n",
    "dataset = sns.load_dataset(\"titanic\")\n",
    "dataset.head(1)"
   ]
  },
  {
   "cell_type": "markdown",
   "id": "5c3ddb27",
   "metadata": {},
   "source": [
    "# 🔧 Tool: pandas 라이브러리\n",
    "\n",
    "**Dataset:** titanic\n",
    "**난이도:** 상\n",
    "\n",
    "**Q.** `titanic` 데이터셋을 사용하여, 각 항구별 생존자의 수를 분석하세요. 또한, 항구별 생존자의 수에 영향을 미치는 요인을 찾으세요. 예를 들어, 뉴욕항의 생존자 수는 왜 더 많을까요?"
   ]
  },
  {
   "cell_type": "code",
   "execution_count": null,
   "id": "f05011da",
   "metadata": {},
   "outputs": [],
   "source": [
    "import seaborn as sns\n",
    "import pandas as pd\n",
    "dataset = sns.load_dataset(\"titanic\")\n",
    "dataset.head(1)"
   ]
  },
  {
   "cell_type": "markdown",
   "id": "03e8ac49",
   "metadata": {},
   "source": [
    "# 🔧 Tool: pandas 라이브러리\n",
    "\n",
    "**Dataset:** titanic\n",
    "**난이도:** 상\n",
    "\n",
    "**Q.** **Problem 2: 최상 (Expert)**"
   ]
  },
  {
   "cell_type": "code",
   "execution_count": null,
   "id": "038e8a20",
   "metadata": {},
   "outputs": [],
   "source": [
    "import seaborn as sns\n",
    "import pandas as pd\n",
    "dataset = sns.load_dataset(\"titanic\")\n",
    "dataset.head(1)"
   ]
  },
  {
   "cell_type": "markdown",
   "id": "6f9d5bc4",
   "metadata": {},
   "source": [
    "# 🔧 Tool: pandas 라이브러리\n",
    "\n",
    "**Dataset:** titanic\n",
    "**난이도:** 상\n",
    "\n",
    "**Q.** `penguins` 데이터셋을 사용하여, 퓨플랜드, 아델리, 그린랜드 제비의 크기와 몸무게 간의 상관계수를 분석하세요. 또한, 각 종의 크기와 몸무게 간의 차이를 분석하여, 각 종의 특징을 정의하는 요인을 찾으세요. 예를 들어, 퓨플랜드 제비의 크기는 왜 더 작을까요?"
   ]
  },
  {
   "cell_type": "code",
   "execution_count": null,
   "id": "286c1235",
   "metadata": {},
   "outputs": [],
   "source": [
    "import seaborn as sns\n",
    "import pandas as pd\n",
    "dataset = sns.load_dataset(\"titanic\")\n",
    "dataset.head(1)"
   ]
  },
  {
   "cell_type": "markdown",
   "id": "f9ad44d9",
   "metadata": {},
   "source": [
    "# 🔧 Tool: pandas 라이브러리\n",
    "\n",
    "**Dataset:** titanic\n",
    "**난이도:** 상\n",
    "\n",
    "**Q.** Let me know if you'd like me to adjust the difficulty levels or create more problems! 😊"
   ]
  },
  {
   "cell_type": "code",
   "execution_count": null,
   "id": "71e1c639",
   "metadata": {},
   "outputs": [],
   "source": [
    "import seaborn as sns\n",
    "import pandas as pd\n",
    "dataset = sns.load_dataset(\"titanic\")\n",
    "dataset.head(1)"
   ]
  },
  {
   "cell_type": "markdown",
   "id": "fd687427",
   "metadata": {},
   "source": [
    "# 🔧 Tool: pandas 라이브러리\n",
    "\n",
    "**Dataset:** mpg\n",
    "**난이도:** 상\n",
    "\n",
    "**Q.** **Problem 1: 중급 (Intermediate)**"
   ]
  },
  {
   "cell_type": "code",
   "execution_count": null,
   "id": "33d86bb5",
   "metadata": {},
   "outputs": [],
   "source": [
    "import seaborn as sns\n",
    "import pandas as pd\n",
    "dataset = sns.load_dataset(\"mpg\")\n",
    "dataset.head(1)"
   ]
  },
  {
   "cell_type": "markdown",
   "id": "54ca03f5",
   "metadata": {},
   "source": [
    "# 🔧 Tool: pandas 라이브러리\n",
    "\n",
    "**Dataset:** mpg\n",
    "**난이도:** 상\n",
    "\n",
    "**Q.** `titanic` 데이터셋을 사용하여, 생존자와 사망자의 class 분포를 분석하세요.(class 1, class 2, class 3) 각 클래스의 생존자와 사망자의 비율을 계산하여, 생존 가능성을 예측하는 데 도움이 되는 요인을 찾으세요. 또한, 각 클래스의 생존자와 사망자의 특징을 비교하여, 생존 가능성을 예측하는 데 있어 가장 중요한 요인을 확인하세요."
   ]
  },
  {
   "cell_type": "code",
   "execution_count": null,
   "id": "df518071",
   "metadata": {},
   "outputs": [],
   "source": [
    "import seaborn as sns\n",
    "import pandas as pd\n",
    "dataset = sns.load_dataset(\"mpg\")\n",
    "dataset.head(1)"
   ]
  },
  {
   "cell_type": "markdown",
   "id": "b5830241",
   "metadata": {},
   "source": [
    "# 🔧 Tool: pandas 라이브러리\n",
    "\n",
    "**Dataset:** mpg\n",
    "**난이도:** 상\n",
    "\n",
    "**Q.** **Problem 2: 최상 (Expert)**"
   ]
  },
  {
   "cell_type": "code",
   "execution_count": null,
   "id": "57f7bca3",
   "metadata": {},
   "outputs": [],
   "source": [
    "import seaborn as sns\n",
    "import pandas as pd\n",
    "dataset = sns.load_dataset(\"mpg\")\n",
    "dataset.head(1)"
   ]
  },
  {
   "cell_type": "markdown",
   "id": "7109b911",
   "metadata": {},
   "source": [
    "# 🔧 Tool: pandas 라이브러리\n",
    "\n",
    "**Dataset:** mpg\n",
    "**난이도:** 상\n",
    "\n",
    "**Q.** `penguins` 데이터셋을 사용하여, 새의 특징(bill length, flipper length, etc.)을 고려하여, 새의 종을 예측하는 모델을 구축하세요. 또한, 새의 특징 간의 상관관계를 분석하여, 예측 모델의 성능을 개선하세요. 예를 들어, bill length와 flipper length 간의 상관관계를 분석하여, 새의 종을 예측하는 데 있어 가장 중요한 특징을 확인하세요."
   ]
  },
  {
   "cell_type": "code",
   "execution_count": null,
   "id": "dfbc1124",
   "metadata": {},
   "outputs": [],
   "source": [
    "import seaborn as sns\n",
    "import pandas as pd\n",
    "dataset = sns.load_dataset(\"mpg\")\n",
    "dataset.head(1)"
   ]
  },
  {
   "cell_type": "markdown",
   "id": "d27513eb",
   "metadata": {},
   "source": [
    "# 🔧 Tool: pandas 라이브러리\n",
    "\n",
    "**Dataset:** mpg\n",
    "**난이도:** 상\n",
    "\n",
    "**Q.** Let me know if you'd like me to adjust the difficulty levels or create more problems! 😊"
   ]
  },
  {
   "cell_type": "code",
   "execution_count": null,
   "id": "5103547c",
   "metadata": {},
   "outputs": [],
   "source": [
    "import seaborn as sns\n",
    "import pandas as pd\n",
    "dataset = sns.load_dataset(\"mpg\")\n",
    "dataset.head(1)"
   ]
  },
  {
   "cell_type": "markdown",
   "id": "3d5e51b4",
   "metadata": {},
   "source": [
    "# 🔧 Tool: pandas 라이브러리\n",
    "\n",
    "**Dataset:** mpg\n",
    "**난이도:** 최상\n",
    "\n",
    "**Q.** **Problem 1: 중급 (Intermediate)**"
   ]
  },
  {
   "cell_type": "code",
   "execution_count": null,
   "id": "6fd4f042",
   "metadata": {},
   "outputs": [],
   "source": [
    "import seaborn as sns\n",
    "import pandas as pd\n",
    "dataset = sns.load_dataset(\"mpg\")\n",
    "dataset.head(1)"
   ]
  },
  {
   "cell_type": "markdown",
   "id": "eef324bb",
   "metadata": {},
   "source": [
    "# 🔧 Tool: pandas 라이브러리\n",
    "\n",
    "**Dataset:** mpg\n",
    "**난이도:** 최상\n",
    "\n",
    "**Q.** `titanic` 데이터셋을 사용하여, 생존자와 사망자의 성별, class, fare 등에 따라 생존 가능성을 예측하는 모델을 구축하세요. 또한, 모델의 성능을 평가하고, 예측 모델이 실제 생존 가능성을 잘 예측하는지 확인하세요."
   ]
  },
  {
   "cell_type": "code",
   "execution_count": null,
   "id": "abcfac6e",
   "metadata": {},
   "outputs": [],
   "source": [
    "import seaborn as sns\n",
    "import pandas as pd\n",
    "dataset = sns.load_dataset(\"mpg\")\n",
    "dataset.head(1)"
   ]
  },
  {
   "cell_type": "markdown",
   "id": "dcc15083",
   "metadata": {},
   "source": [
    "# 🔧 Tool: pandas 라이브러리\n",
    "\n",
    "**Dataset:** mpg\n",
    "**난이도:** 최상\n",
    "\n",
    "**Q.** **Problem 2: 최상 (Expert)**"
   ]
  },
  {
   "cell_type": "code",
   "execution_count": null,
   "id": "e7171ddb",
   "metadata": {},
   "outputs": [],
   "source": [
    "import seaborn as sns\n",
    "import pandas as pd\n",
    "dataset = sns.load_dataset(\"mpg\")\n",
    "dataset.head(1)"
   ]
  },
  {
   "cell_type": "markdown",
   "id": "df73a248",
   "metadata": {},
   "source": [
    "# 🔧 Tool: pandas 라이브러리\n",
    "\n",
    "**Dataset:** mpg\n",
    "**난이도:** 최상\n",
    "\n",
    "**Q.** `penguins` 데이터셋을 사용하여, 펭귄의 성별, 종, 등고도 등에 따라 새끼의 수를 예측하는 모델을 구축하세요. 또한, 모델의 성능을 평가하고, 예측 모델이 실제 새끼의 수를 잘 예측하는지 확인하세요. 또한, 모델의 결과를 사용하여, 펭귄의 생태계에 대한 이해를 deepen하세요."
   ]
  },
  {
   "cell_type": "code",
   "execution_count": null,
   "id": "6987c8a2",
   "metadata": {},
   "outputs": [],
   "source": [
    "import seaborn as sns\n",
    "import pandas as pd\n",
    "dataset = sns.load_dataset(\"mpg\")\n",
    "dataset.head(1)"
   ]
  },
  {
   "cell_type": "markdown",
   "id": "065f5312",
   "metadata": {},
   "source": [
    "# 🔧 Tool: pandas 라이브러리\n",
    "\n",
    "**Dataset:** mpg\n",
    "**난이도:** 최상\n",
    "\n",
    "**Q.** Let me know if you'd like me to adjust the difficulty levels or create more problems! 😊"
   ]
  },
  {
   "cell_type": "code",
   "execution_count": null,
   "id": "ea7408f8",
   "metadata": {},
   "outputs": [],
   "source": [
    "import seaborn as sns\n",
    "import pandas as pd\n",
    "dataset = sns.load_dataset(\"mpg\")\n",
    "dataset.head(1)"
   ]
  },
  {
   "cell_type": "markdown",
   "id": "ea51f6d5",
   "metadata": {},
   "source": [
    "# 🔧 Tool: pandas 라이브러리\n",
    "\n",
    "**Dataset:** penguins\n",
    "**난이도:** 최상\n",
    "\n",
    "**Q.** **Problem 1: 중급 (Intermediate)**"
   ]
  },
  {
   "cell_type": "code",
   "execution_count": null,
   "id": "c0eda8c3",
   "metadata": {},
   "outputs": [],
   "source": [
    "import seaborn as sns\n",
    "import pandas as pd\n",
    "dataset = sns.load_dataset(\"penguins\")\n",
    "dataset.head(1)"
   ]
  },
  {
   "cell_type": "markdown",
   "id": "95c06418",
   "metadata": {},
   "source": [
    "# 🔧 Tool: pandas 라이브러리\n",
    "\n",
    "**Dataset:** penguins\n",
    "**난이도:** 최상\n",
    "\n",
    "**Q.** `titanic` 데이터셋을 사용하여, 생존자와 사망자의 class, sex, age 간의 상관관계를 분석하세요. 또한, 생존 가능성을 예측하는 데 도움이 되는 요인을 찾으세요. 이 문제에서는, 데이터의 특징을 이해하고, 상관관계를 분석하여, 실제 문제에 적용할 수 있는 방법을 찾으세요."
   ]
  },
  {
   "cell_type": "code",
   "execution_count": null,
   "id": "15eabe82",
   "metadata": {},
   "outputs": [],
   "source": [
    "import seaborn as sns\n",
    "import pandas as pd\n",
    "dataset = sns.load_dataset(\"penguins\")\n",
    "dataset.head(1)"
   ]
  },
  {
   "cell_type": "markdown",
   "id": "18314197",
   "metadata": {},
   "source": [
    "# 🔧 Tool: pandas 라이브러리\n",
    "\n",
    "**Dataset:** penguins\n",
    "**난이도:** 최상\n",
    "\n",
    "**Q.** **Problem 2: 최상 (Expert)**"
   ]
  },
  {
   "cell_type": "code",
   "execution_count": null,
   "id": "2a7c018e",
   "metadata": {},
   "outputs": [],
   "source": [
    "import seaborn as sns\n",
    "import pandas as pd\n",
    "dataset = sns.load_dataset(\"penguins\")\n",
    "dataset.head(1)"
   ]
  },
  {
   "cell_type": "markdown",
   "id": "7e06897f",
   "metadata": {},
   "source": [
    "# 🔧 Tool: pandas 라이브러리\n",
    "\n",
    "**Dataset:** penguins\n",
    "**난이도:** 최상\n",
    "\n",
    "**Q.** `penguins` 데이터셋을 사용하여, 펭귄의 성별, 종, 기간, 깃털 색상 등의 요인을 고려하여, 그들의 평균 몸무게를 예측하는 모델을 구축하세요. 또한, 모델의 성능을 개선하기 위해, 데이터.preprocessing, overfitting 방지, hyperparameter tuning 등을 고려하세요."
   ]
  },
  {
   "cell_type": "code",
   "execution_count": null,
   "id": "3b0f9a83",
   "metadata": {},
   "outputs": [],
   "source": [
    "import seaborn as sns\n",
    "import pandas as pd\n",
    "dataset = sns.load_dataset(\"penguins\")\n",
    "dataset.head(1)"
   ]
  },
  {
   "cell_type": "markdown",
   "id": "6f117511",
   "metadata": {},
   "source": [
    "# 🔧 Tool: pandas 라이브러리\n",
    "\n",
    "**Dataset:** penguins\n",
    "**난이도:** 최상\n",
    "\n",
    "**Q.** Let me know if you'd like me to adjust the difficulty levels or create more problems! 😊"
   ]
  },
  {
   "cell_type": "code",
   "execution_count": null,
   "id": "043ea84f",
   "metadata": {},
   "outputs": [],
   "source": [
    "import seaborn as sns\n",
    "import pandas as pd\n",
    "dataset = sns.load_dataset(\"penguins\")\n",
    "dataset.head(1)"
   ]
  },
  {
   "cell_type": "markdown",
   "id": "c82ffd4c",
   "metadata": {},
   "source": [
    "# 🔧 Tool: pandas 라이브러리\n",
    "\n",
    "**Dataset:** flights\n",
    "**난이도:** 중\n",
    "\n",
    "**Q.** **Problem 1: 중급 (Intermediate)**"
   ]
  },
  {
   "cell_type": "code",
   "execution_count": null,
   "id": "c1255483",
   "metadata": {},
   "outputs": [],
   "source": [
    "import seaborn as sns\n",
    "import pandas as pd\n",
    "dataset = sns.load_dataset(\"flights\")\n",
    "dataset.head(1)"
   ]
  },
  {
   "cell_type": "markdown",
   "id": "c756027e",
   "metadata": {},
   "source": [
    "# 🔧 Tool: pandas 라이브러리\n",
    "\n",
    "**Dataset:** flights\n",
    "**난이도:** 중\n",
    "\n",
    "**Q.** `iris` 데이터셋을 사용하여, 꽃의 종류를 예측하는 모델을 구축하세요. 이 문제에서는, 데이터의 특징을 이해하고, 상관관계를 분석하여, 실제 문제에 적용할 수 있는 방법을 찾으세요. 또한, 모델의 성능을 개선하기 위해, 데이터.preprocessing, overfitting 방지, hyperparameter tuning 등을 고려하세요."
   ]
  },
  {
   "cell_type": "code",
   "execution_count": null,
   "id": "9823852b",
   "metadata": {},
   "outputs": [],
   "source": [
    "import seaborn as sns\n",
    "import pandas as pd\n",
    "dataset = sns.load_dataset(\"flights\")\n",
    "dataset.head(1)"
   ]
  },
  {
   "cell_type": "markdown",
   "id": "4b3dff5e",
   "metadata": {},
   "source": [
    "# 🔧 Tool: pandas 라이브러리\n",
    "\n",
    "**Dataset:** flights\n",
    "**난이도:** 중\n",
    "\n",
    "**Q.** **Problem 2: 최상 (Expert)**"
   ]
  },
  {
   "cell_type": "code",
   "execution_count": null,
   "id": "51ed7b14",
   "metadata": {},
   "outputs": [],
   "source": [
    "import seaborn as sns\n",
    "import pandas as pd\n",
    "dataset = sns.load_dataset(\"flights\")\n",
    "dataset.head(1)"
   ]
  },
  {
   "cell_type": "markdown",
   "id": "c6af4ffd",
   "metadata": {},
   "source": [
    "# 🔧 Tool: pandas 라이브러리\n",
    "\n",
    "**Dataset:** flights\n",
    "**난이도:** 중\n",
    "\n",
    "**Q.** `flights` 데이터셋을 사용하여, 항공사의 예약 인원수를 예측하는 모델을 구축하세요. 이 문제에서는, 날씨, 시간, 날의 요일, 항공사의 특징 등 다양한 요인을 고려하여, 예약 인원수를 예측하는 모델을 구축하세요. 또한, 모델의 성능을 개선하기 위해, 데이터.preprocessing, overfitting 방지, hyperparameter tuning 등을 고려하세요."
   ]
  },
  {
   "cell_type": "code",
   "execution_count": null,
   "id": "e5d7c231",
   "metadata": {},
   "outputs": [],
   "source": [
    "import seaborn as sns\n",
    "import pandas as pd\n",
    "dataset = sns.load_dataset(\"flights\")\n",
    "dataset.head(1)"
   ]
  },
  {
   "cell_type": "markdown",
   "id": "45ebdef0",
   "metadata": {},
   "source": [
    "# 🔧 Tool: pandas 라이브러리\n",
    "\n",
    "**Dataset:** flights\n",
    "**난이도:** 중\n",
    "\n",
    "**Q.** Let me know if you need any adjustments or if you'd like me to create more problems! 😊"
   ]
  },
  {
   "cell_type": "code",
   "execution_count": null,
   "id": "93b46cbc",
   "metadata": {},
   "outputs": [],
   "source": [
    "import seaborn as sns\n",
    "import pandas as pd\n",
    "dataset = sns.load_dataset(\"flights\")\n",
    "dataset.head(1)"
   ]
  },
  {
   "cell_type": "markdown",
   "id": "e0d3b70f",
   "metadata": {},
   "source": [
    "# 🔧 Tool: pandas 라이브러리\n",
    "\n",
    "**Dataset:** flights\n",
    "**난이도:** 중\n",
    "\n",
    "**Q.** **Problem 1: 중급 (Intermediate)**"
   ]
  },
  {
   "cell_type": "code",
   "execution_count": null,
   "id": "1ee57416",
   "metadata": {},
   "outputs": [],
   "source": [
    "import seaborn as sns\n",
    "import pandas as pd\n",
    "dataset = sns.load_dataset(\"flights\")\n",
    "dataset.head(1)"
   ]
  },
  {
   "cell_type": "markdown",
   "id": "e1b25f0d",
   "metadata": {},
   "source": [
    "# 🔧 Tool: pandas 라이브러리\n",
    "\n",
    "**Dataset:** flights\n",
    "**난이도:** 중\n",
    "\n",
    "**Q.** `iris` 데이터셋을 사용하여, 세 개의 꽃의 특징(꽃받침 길이, 꽃받침 넓이, 꽃잎 길이, 꽃잎 넓이)을 고려하여, 각 꽃의 종을 예측하는 모델을 구축하세요. 또한, 모델의 성능을 개선하기 위해, 데이터.preprocessing, feature selection 등을 고려하세요."
   ]
  },
  {
   "cell_type": "code",
   "execution_count": null,
   "id": "d237f585",
   "metadata": {},
   "outputs": [],
   "source": [
    "import seaborn as sns\n",
    "import pandas as pd\n",
    "dataset = sns.load_dataset(\"flights\")\n",
    "dataset.head(1)"
   ]
  },
  {
   "cell_type": "markdown",
   "id": "73e658b1",
   "metadata": {},
   "source": [
    "# 🔧 Tool: pandas 라이브러리\n",
    "\n",
    "**Dataset:** flights\n",
    "**난이도:** 중\n",
    "\n",
    "**Q.** **Problem 2: 최상 (Expert)**"
   ]
  },
  {
   "cell_type": "code",
   "execution_count": null,
   "id": "6ea52e55",
   "metadata": {},
   "outputs": [],
   "source": [
    "import seaborn as sns\n",
    "import pandas as pd\n",
    "dataset = sns.load_dataset(\"flights\")\n",
    "dataset.head(1)"
   ]
  },
  {
   "cell_type": "markdown",
   "id": "bce3e3ba",
   "metadata": {},
   "source": [
    "# 🔧 Tool: pandas 라이브러리\n",
    "\n",
    "**Dataset:** flights\n",
    "**난이도:** 중\n",
    "\n",
    "**Q.** `flights` 데이터셋을 사용하여, 항공편의 출발지, 도착지, 탑승일, 탑승자 수 등의 요인을 고려하여, 항공편의 지연 시간을 예측하는 모델을 구축하세요. 또한, 모델의 성능을 개선하기 위해, 데이터.preprocessing, overfitting 방지, hyperparameter tuning, feature engineering 등을 고려하세요."
   ]
  },
  {
   "cell_type": "code",
   "execution_count": null,
   "id": "29ab1dbd",
   "metadata": {},
   "outputs": [],
   "source": [
    "import seaborn as sns\n",
    "import pandas as pd\n",
    "dataset = sns.load_dataset(\"flights\")\n",
    "dataset.head(1)"
   ]
  },
  {
   "cell_type": "markdown",
   "id": "52f6d661",
   "metadata": {},
   "source": [
    "# 🔧 Tool: pandas 라이브러리\n",
    "\n",
    "**Dataset:** flights\n",
    "**난이도:** 중\n",
    "\n",
    "**Q.** Let me know if you'd like me to adjust the difficulty levels or create more problems! 😊"
   ]
  },
  {
   "cell_type": "code",
   "execution_count": null,
   "id": "78b44582",
   "metadata": {},
   "outputs": [],
   "source": [
    "import seaborn as sns\n",
    "import pandas as pd\n",
    "dataset = sns.load_dataset(\"flights\")\n",
    "dataset.head(1)"
   ]
  },
  {
   "cell_type": "markdown",
   "id": "ac0b7a98",
   "metadata": {},
   "source": [
    "# 🔧 Tool: pandas 라이브러리\n",
    "\n",
    "**Dataset:** iris\n",
    "**난이도:** 상\n",
    "\n",
    "**Q.** **Problem 1: 중급 (Intermediate)**"
   ]
  },
  {
   "cell_type": "code",
   "execution_count": null,
   "id": "4dde6677",
   "metadata": {},
   "outputs": [],
   "source": [
    "import seaborn as sns\n",
    "import pandas as pd\n",
    "dataset = sns.load_dataset(\"iris\")\n",
    "dataset.head(1)"
   ]
  },
  {
   "cell_type": "markdown",
   "id": "bec40e99",
   "metadata": {},
   "source": [
    "# 🔧 Tool: pandas 라이브러리\n",
    "\n",
    "**Dataset:** iris\n",
    "**난이도:** 상\n",
    "\n",
    "**Q.** `iris` 데이터셋을 사용하여, 세 개의 종의 꽃잎 특징(꽃잎 길이, 너비, 색상)을 분석하세요. 각 종의 특징을 구별하는 데 도움이 되는 요인을 찾으세요. 또한, 특징을 사용하여, 새로운 샘플의 종을 예측하는 모델을 구축하세요."
   ]
  },
  {
   "cell_type": "code",
   "execution_count": null,
   "id": "63d61fbf",
   "metadata": {},
   "outputs": [],
   "source": [
    "import seaborn as sns\n",
    "import pandas as pd\n",
    "dataset = sns.load_dataset(\"iris\")\n",
    "dataset.head(1)"
   ]
  },
  {
   "cell_type": "markdown",
   "id": "36b4c00f",
   "metadata": {},
   "source": [
    "# 🔧 Tool: pandas 라이브러리\n",
    "\n",
    "**Dataset:** iris\n",
    "**난이도:** 상\n",
    "\n",
    "**Q.** **Problem 2: 최상 (Expert)**"
   ]
  },
  {
   "cell_type": "code",
   "execution_count": null,
   "id": "6996fe30",
   "metadata": {},
   "outputs": [],
   "source": [
    "import seaborn as sns\n",
    "import pandas as pd\n",
    "dataset = sns.load_dataset(\"iris\")\n",
    "dataset.head(1)"
   ]
  },
  {
   "cell_type": "markdown",
   "id": "70c8f41d",
   "metadata": {},
   "source": [
    "# 🔧 Tool: pandas 라이브러리\n",
    "\n",
    "**Dataset:** iris\n",
    "**난이도:** 상\n",
    "\n",
    "**Q.** `flights` 데이터셋을 사용하여, 항공편의 출발지, 도착지, 탑승일자, 탑승객 수 등의 요인을 고려하여, 항공편의 평균 지연시간을 예측하는 모델을 구축하세요. 또한, 모델의 성능을 개선하기 위해, 데이터.preprocessing, overfitting 방지, hyperparameter tuning 등을 고려하세요. Moreover, 분석결과를 사용하여, 항공편운영사에게 필요한 데이터를 제공하세요."
   ]
  },
  {
   "cell_type": "code",
   "execution_count": null,
   "id": "e23a1cf1",
   "metadata": {},
   "outputs": [],
   "source": [
    "import seaborn as sns\n",
    "import pandas as pd\n",
    "dataset = sns.load_dataset(\"iris\")\n",
    "dataset.head(1)"
   ]
  },
  {
   "cell_type": "markdown",
   "id": "af9d8fd6",
   "metadata": {},
   "source": [
    "# 🔧 Tool: pandas 라이브러리\n",
    "\n",
    "**Dataset:** iris\n",
    "**난이도:** 상\n",
    "\n",
    "**Q.** Let me know if you'd like me to adjust the difficulty levels or create more problems! 😊"
   ]
  },
  {
   "cell_type": "code",
   "execution_count": null,
   "id": "faec12a6",
   "metadata": {},
   "outputs": [],
   "source": [
    "import seaborn as sns\n",
    "import pandas as pd\n",
    "dataset = sns.load_dataset(\"iris\")\n",
    "dataset.head(1)"
   ]
  },
  {
   "cell_type": "markdown",
   "id": "74d641fa",
   "metadata": {},
   "source": [
    "# 🔧 Tool: pandas 라이브러리\n",
    "\n",
    "**Dataset:** iris\n",
    "**난이도:** 상\n",
    "\n",
    "**Q.** 📊 **Problem 1: 중급 (Intermediate)**"
   ]
  },
  {
   "cell_type": "code",
   "execution_count": null,
   "id": "93d869e0",
   "metadata": {},
   "outputs": [],
   "source": [
    "import seaborn as sns\n",
    "import pandas as pd\n",
    "dataset = sns.load_dataset(\"iris\")\n",
    "dataset.head(1)"
   ]
  },
  {
   "cell_type": "markdown",
   "id": "5242e711",
   "metadata": {},
   "source": [
    "# 🔧 Tool: pandas 라이브러리\n",
    "\n",
    "**Dataset:** iris\n",
    "**난이도:** 상\n",
    "\n",
    "**Q.** `iris` 데이터셋을 사용하여, 세 개의 꽃의 특징(꽃받침 길이, 꽃받침 폭, 꽃잎 길이, 꽃잎 폭)을 분석하세요. 각 꽃의 특징 간의 상관관계를 분석하고, 가장 유의한 특징을 찾으세요. 또한, 이 특징을 사용하여, 새로운 꽃의 특징을 기반으로 꽃의 종류를 예측하는 모델을 구축하세요."
   ]
  },
  {
   "cell_type": "code",
   "execution_count": null,
   "id": "5c5a88b3",
   "metadata": {},
   "outputs": [],
   "source": [
    "import seaborn as sns\n",
    "import pandas as pd\n",
    "dataset = sns.load_dataset(\"iris\")\n",
    "dataset.head(1)"
   ]
  },
  {
   "cell_type": "markdown",
   "id": "620c4c41",
   "metadata": {},
   "source": [
    "# 🔧 Tool: pandas 라이브러리\n",
    "\n",
    "**Dataset:** iris\n",
    "**난이도:** 상\n",
    "\n",
    "**Q.** 📊 **Problem 2: 최상 (Expert)**"
   ]
  },
  {
   "cell_type": "code",
   "execution_count": null,
   "id": "7159ab64",
   "metadata": {},
   "outputs": [],
   "source": [
    "import seaborn as sns\n",
    "import pandas as pd\n",
    "dataset = sns.load_dataset(\"iris\")\n",
    "dataset.head(1)"
   ]
  },
  {
   "cell_type": "markdown",
   "id": "7b77eb92",
   "metadata": {},
   "source": [
    "# 🔧 Tool: pandas 라이브러리\n",
    "\n",
    "**Dataset:** iris\n",
    "**난이도:** 상\n",
    "\n",
    "**Q.** `flights` 데이터셋을 사용하여, 항공편의 기착지, 탑승자 수, 비용, 여객기 종류 등의 요인을 고려하여, 항공편의 평균 비용을 예측하는 모델을 구축하세요. 또한, 모델의 성능을 개선하기 위해, 데이터.preprocessing, overfitting 방지, hyperparameter tuning 등을 고려하세요. 또한, 모델의 예측 성능을 분석하여, 실제 항공편 운영에 적용할 수 있는 방법을 찾으세요."
   ]
  },
  {
   "cell_type": "code",
   "execution_count": null,
   "id": "efa74352",
   "metadata": {},
   "outputs": [],
   "source": [
    "import seaborn as sns\n",
    "import pandas as pd\n",
    "dataset = sns.load_dataset(\"iris\")\n",
    "dataset.head(1)"
   ]
  },
  {
   "cell_type": "markdown",
   "id": "1d2171a2",
   "metadata": {},
   "source": [
    "# 🔧 Tool: pandas 라이브러리\n",
    "\n",
    "**Dataset:** iris\n",
    "**난이도:** 상\n",
    "\n",
    "**Q.** Let me know if you'd like me to adjust the difficulty levels or create more problems! 😊"
   ]
  },
  {
   "cell_type": "code",
   "execution_count": null,
   "id": "41ae9028",
   "metadata": {},
   "outputs": [],
   "source": [
    "import seaborn as sns\n",
    "import pandas as pd\n",
    "dataset = sns.load_dataset(\"iris\")\n",
    "dataset.head(1)"
   ]
  },
  {
   "cell_type": "markdown",
   "id": "d7e3d894",
   "metadata": {},
   "source": [
    "# 🔧 Tool: pandas 라이브러리\n",
    "\n",
    "**Dataset:** penguins\n",
    "**난이도:** 최상\n",
    "\n",
    "**Q.** **Problem 1: 중급 (Intermediate)**"
   ]
  },
  {
   "cell_type": "code",
   "execution_count": null,
   "id": "88eebea8",
   "metadata": {},
   "outputs": [],
   "source": [
    "import seaborn as sns\n",
    "import pandas as pd\n",
    "dataset = sns.load_dataset(\"penguins\")\n",
    "dataset.head(1)"
   ]
  },
  {
   "cell_type": "markdown",
   "id": "ce7efb23",
   "metadata": {},
   "source": [
    "# 🔧 Tool: pandas 라이브러리\n",
    "\n",
    "**Dataset:** penguins\n",
    "**난이도:** 최상\n",
    "\n",
    "**Q.** `iris` 데이터셋을 사용하여, 세 개의 품종 간의 특징을 분석하세요. 품종 간의 차이를 이해하기 위해, 각 특징의 평균, 중위수, 분산 등을 계산하세요. 또한, 데이터의 불균형 문제를 해결하기 위해, oversampling or undersampling 기법을 적용하세요."
   ]
  },
  {
   "cell_type": "code",
   "execution_count": null,
   "id": "0625fb64",
   "metadata": {},
   "outputs": [],
   "source": [
    "import seaborn as sns\n",
    "import pandas as pd\n",
    "dataset = sns.load_dataset(\"penguins\")\n",
    "dataset.head(1)"
   ]
  },
  {
   "cell_type": "markdown",
   "id": "af28866a",
   "metadata": {},
   "source": [
    "# 🔧 Tool: pandas 라이브러리\n",
    "\n",
    "**Dataset:** penguins\n",
    "**난이도:** 최상\n",
    "\n",
    "**Q.** **Problem 2: 최상 (Expert)**"
   ]
  },
  {
   "cell_type": "code",
   "execution_count": null,
   "id": "11ae154c",
   "metadata": {},
   "outputs": [],
   "source": [
    "import seaborn as sns\n",
    "import pandas as pd\n",
    "dataset = sns.load_dataset(\"penguins\")\n",
    "dataset.head(1)"
   ]
  },
  {
   "cell_type": "markdown",
   "id": "a9bd9719",
   "metadata": {},
   "source": [
    "# 🔧 Tool: pandas 라이브러리\n",
    "\n",
    "**Dataset:** penguins\n",
    "**난이도:** 최상\n",
    "\n",
    "**Q.** `flights` 데이터셋을 사용하여, 항공편의 출발지, 도착지, 날짜, 시간, 탑승객 수 등의 요인을 고려하여, 항공편의 평균 비용을 예측하는 모델을 구축하세요. 또한, 모델의 성능을 개선하기 위해, 데이터.preprocessing (e.g., handling missing values, encoding categorical variables), feature engineering (e.g., creating new features), hyperparameter tuning 등을 고려하세요."
   ]
  },
  {
   "cell_type": "code",
   "execution_count": null,
   "id": "9da74d72",
   "metadata": {},
   "outputs": [],
   "source": [
    "import seaborn as sns\n",
    "import pandas as pd\n",
    "dataset = sns.load_dataset(\"penguins\")\n",
    "dataset.head(1)"
   ]
  },
  {
   "cell_type": "markdown",
   "id": "06fc98ab",
   "metadata": {},
   "source": [
    "# 🔧 Tool: pandas 라이브러리\n",
    "\n",
    "**Dataset:** penguins\n",
    "**난이도:** 최상\n",
    "\n",
    "**Q.** Let me know if you'd like me to adjust the difficulty levels or create more problems! 😊"
   ]
  },
  {
   "cell_type": "code",
   "execution_count": null,
   "id": "0e894309",
   "metadata": {},
   "outputs": [],
   "source": [
    "import seaborn as sns\n",
    "import pandas as pd\n",
    "dataset = sns.load_dataset(\"penguins\")\n",
    "dataset.head(1)"
   ]
  },
  {
   "cell_type": "markdown",
   "id": "a68e6c70",
   "metadata": {},
   "source": [
    "# 🔧 Tool: pandas 라이브러리\n",
    "\n",
    "**Dataset:** iris\n",
    "**난이도:** 최상\n",
    "\n",
    "**Q.** **Problem 1: 중급 (Intermediate)**"
   ]
  },
  {
   "cell_type": "code",
   "execution_count": null,
   "id": "d09b0ae3",
   "metadata": {},
   "outputs": [],
   "source": [
    "import seaborn as sns\n",
    "import pandas as pd\n",
    "dataset = sns.load_dataset(\"iris\")\n",
    "dataset.head(1)"
   ]
  },
  {
   "cell_type": "markdown",
   "id": "1f5db4d9",
   "metadata": {},
   "source": [
    "# 🔧 Tool: pandas 라이브러리\n",
    "\n",
    "**Dataset:** iris\n",
    "**난이도:** 최상\n",
    "\n",
    "**Q.** `iris` 데이터셋을 사용하여, 세 개의 꽃 종의 특징을 분석하세요. 각 꽃 종의 Sepal Length, Sepal Width, Petal Length, Petal Width 등 특징 간의 상관관계를 분석하여, 각 꽃 종을 구별하는 데 도움이 되는 요인을 찾으세요. 또한, 이 문제에서는, 데이터의 특징을 이해하고, 상관관계를 분석하여, 실제 문제에 적용할 수 있는 방법을 찾으세요."
   ]
  },
  {
   "cell_type": "code",
   "execution_count": null,
   "id": "2dce3c50",
   "metadata": {},
   "outputs": [],
   "source": [
    "import seaborn as sns\n",
    "import pandas as pd\n",
    "dataset = sns.load_dataset(\"iris\")\n",
    "dataset.head(1)"
   ]
  },
  {
   "cell_type": "markdown",
   "id": "504f14a1",
   "metadata": {},
   "source": [
    "# 🔧 Tool: pandas 라이브러리\n",
    "\n",
    "**Dataset:** iris\n",
    "**난이도:** 최상\n",
    "\n",
    "**Q.** **Problem 2: 최상 (Expert)**"
   ]
  },
  {
   "cell_type": "code",
   "execution_count": null,
   "id": "f94a5455",
   "metadata": {},
   "outputs": [],
   "source": [
    "import seaborn as sns\n",
    "import pandas as pd\n",
    "dataset = sns.load_dataset(\"iris\")\n",
    "dataset.head(1)"
   ]
  },
  {
   "cell_type": "markdown",
   "id": "2bffc903",
   "metadata": {},
   "source": [
    "# 🔧 Tool: pandas 라이브러리\n",
    "\n",
    "**Dataset:** iris\n",
    "**난이도:** 최상\n",
    "\n",
    "**Q.** `flights` 데이터셋을 사용하여, 항공편의 출발지, 도착지, 날짜, 시간 등의 요인을 고려하여, 그들의 비용을 예측하는 모델을 구축하세요. 또한, 모델의 성능을 개선하기 위해, 데이터.preprocessing, overfitting 방지, hyperparameter tuning 등을 고려하세요. 예를 들어, 출발지와 도착지의 조합이 비용에 미치는 영향을 분석하거나, 날짜와 시간의 효과를 고려하여, 더 정확한 예측 모델을 구축할 수 있습니다."
   ]
  },
  {
   "cell_type": "code",
   "execution_count": null,
   "id": "69c0a001",
   "metadata": {},
   "outputs": [],
   "source": [
    "import seaborn as sns\n",
    "import pandas as pd\n",
    "dataset = sns.load_dataset(\"iris\")\n",
    "dataset.head(1)"
   ]
  },
  {
   "cell_type": "markdown",
   "id": "eedcb6cd",
   "metadata": {},
   "source": [
    "# 🔧 Tool: pandas 라이브러리\n",
    "\n",
    "**Dataset:** iris\n",
    "**난이도:** 최상\n",
    "\n",
    "**Q.** Let me know if you'd like me to adjust the difficulty levels or create more problems! 😊"
   ]
  },
  {
   "cell_type": "code",
   "execution_count": null,
   "id": "0d61379a",
   "metadata": {},
   "outputs": [],
   "source": [
    "import seaborn as sns\n",
    "import pandas as pd\n",
    "dataset = sns.load_dataset(\"iris\")\n",
    "dataset.head(1)"
   ]
  },
  {
   "cell_type": "markdown",
   "id": "d5f4cf18",
   "metadata": {},
   "source": [
    "# 🔧 Tool: pandas 라이브러리\n",
    "\n",
    "**Dataset:** flights\n",
    "**난이도:** 중\n",
    "\n",
    "**Q.** **Problem 1: 중급 (Intermediate)**"
   ]
  },
  {
   "cell_type": "code",
   "execution_count": null,
   "id": "a9fa4932",
   "metadata": {},
   "outputs": [],
   "source": [
    "import seaborn as sns\n",
    "import pandas as pd\n",
    "dataset = sns.load_dataset(\"flights\")\n",
    "dataset.head(1)"
   ]
  },
  {
   "cell_type": "markdown",
   "id": "d7ae07d1",
   "metadata": {},
   "source": [
    "# 🔧 Tool: pandas 라이브러리\n",
    "\n",
    "**Dataset:** flights\n",
    "**난이도:** 중\n",
    "\n",
    "**Q.** `penguins` 데이터셋을 사용하여, 페링귰의 특징을 분석하세요. 각 종의 Feather Length, Flipper Length, Body Mass 등 특징 간의 상관관계를 분석하여, 각 종을 구별하는 데 도움이 되는 요인을 찾으세요. 또한, 이 문제에서는, 데이터의 특징을 이해하고, 상관관계를 분석하여, 실제 문제에 적용할 수 있는 방법을 찾으세요."
   ]
  },
  {
   "cell_type": "code",
   "execution_count": null,
   "id": "295cdeae",
   "metadata": {},
   "outputs": [],
   "source": [
    "import seaborn as sns\n",
    "import pandas as pd\n",
    "dataset = sns.load_dataset(\"flights\")\n",
    "dataset.head(1)"
   ]
  },
  {
   "cell_type": "markdown",
   "id": "ed12a5a8",
   "metadata": {},
   "source": [
    "# 🔧 Tool: pandas 라이브러리\n",
    "\n",
    "**Dataset:** flights\n",
    "**난이도:** 중\n",
    "\n",
    "**Q.** **Problem 2: 최상 (Expert)**"
   ]
  },
  {
   "cell_type": "code",
   "execution_count": null,
   "id": "9a34988b",
   "metadata": {},
   "outputs": [],
   "source": [
    "import seaborn as sns\n",
    "import pandas as pd\n",
    "dataset = sns.load_dataset(\"flights\")\n",
    "dataset.head(1)"
   ]
  },
  {
   "cell_type": "markdown",
   "id": "066106f8",
   "metadata": {},
   "source": [
    "# 🔧 Tool: pandas 라이브러리\n",
    "\n",
    "**Dataset:** flights\n",
    "**난이도:** 중\n",
    "\n",
    "**Q.** `car_crashes` 데이터셋을 사용하여, 교통사고의 요인을 분석하세요. 데이터셋에는 교통사고의 발생 지점, 날씨, 교통량, 교통수단 등의 정보가 포함되어 있습니다. 이 정보를 사용하여, 교통사고의 발생 위험도를 예측하는 모델을 구축하세요. 또한, 모델의 성능을 개선하기 위해, 데이터.preprocessing, overfitting 방지, hyperparameter tuning 등을 고려하세요. 예를 들어, 날씨의 영향을 분석하거나, 교통량의 효과를 고려하여, 더 정확한 예측 모델을 구축할 수 있습니다."
   ]
  },
  {
   "cell_type": "code",
   "execution_count": null,
   "id": "f07610ea",
   "metadata": {},
   "outputs": [],
   "source": [
    "import seaborn as sns\n",
    "import pandas as pd\n",
    "dataset = sns.load_dataset(\"flights\")\n",
    "dataset.head(1)"
   ]
  },
  {
   "cell_type": "markdown",
   "id": "2e3d9a7c",
   "metadata": {},
   "source": [
    "# 🔧 Tool: pandas 라이브러리\n",
    "\n",
    "**Dataset:** flights\n",
    "**난이도:** 중\n",
    "\n",
    "**Q.** Let me know if you'd like me to adjust the difficulty levels or create more problems! 😊"
   ]
  },
  {
   "cell_type": "code",
   "execution_count": null,
   "id": "57390f54",
   "metadata": {},
   "outputs": [],
   "source": [
    "import seaborn as sns\n",
    "import pandas as pd\n",
    "dataset = sns.load_dataset(\"flights\")\n",
    "dataset.head(1)"
   ]
  },
  {
   "cell_type": "markdown",
   "id": "f9e7630d",
   "metadata": {},
   "source": [
    "# 🔧 Tool: pandas 라이브러리\n",
    "\n",
    "**Dataset:** car_crashes\n",
    "**난이도:** 중\n",
    "\n",
    "**Q.** **Problem 1: 중급 (Intermediate)**"
   ]
  },
  {
   "cell_type": "code",
   "execution_count": null,
   "id": "776562b2",
   "metadata": {},
   "outputs": [],
   "source": [
    "import seaborn as sns\n",
    "import pandas as pd\n",
    "dataset = sns.load_dataset(\"car_crashes\")\n",
    "dataset.head(1)"
   ]
  },
  {
   "cell_type": "markdown",
   "id": "1a56ac8b",
   "metadata": {},
   "source": [
    "# 🔧 Tool: pandas 라이브러리\n",
    "\n",
    "**Dataset:** car_crashes\n",
    "**난이도:** 중\n",
    "\n",
    "**Q.** `penguins` 데이터셋을 사용하여, 기러기의 특징을 분석하세요. 각 기러기 종의 bill length, flipper length, body mass 등 특징 간의 상관관계를 분석하여, 기러기 종을 구별하는 데 도움이 되는 요인을 찾으세요. 또한, 이 문제에서는, 데이터의 특징을 이해하고, 상관관계를 분석하여, 실제 문제에 적용할 수 있는 방법을 찾으세요. 예를 들어, bill length와 flipper length이 기러기 종을 구별하는 데 중요한 요인인지 분석하세요."
   ]
  },
  {
   "cell_type": "code",
   "execution_count": null,
   "id": "cd02ad58",
   "metadata": {},
   "outputs": [],
   "source": [
    "import seaborn as sns\n",
    "import pandas as pd\n",
    "dataset = sns.load_dataset(\"car_crashes\")\n",
    "dataset.head(1)"
   ]
  },
  {
   "cell_type": "markdown",
   "id": "3bb9aff7",
   "metadata": {},
   "source": [
    "# 🔧 Tool: pandas 라이브러리\n",
    "\n",
    "**Dataset:** car_crashes\n",
    "**난이도:** 중\n",
    "\n",
    "**Q.** **Problem 2: 최상 (Expert)**"
   ]
  },
  {
   "cell_type": "code",
   "execution_count": null,
   "id": "51fa21cb",
   "metadata": {},
   "outputs": [],
   "source": [
    "import seaborn as sns\n",
    "import pandas as pd\n",
    "dataset = sns.load_dataset(\"car_crashes\")\n",
    "dataset.head(1)"
   ]
  },
  {
   "cell_type": "markdown",
   "id": "544eefa2",
   "metadata": {},
   "source": [
    "# 🔧 Tool: pandas 라이브러리\n",
    "\n",
    "**Dataset:** car_crashes\n",
    "**난이도:** 중\n",
    "\n",
    "**Q.** `car_crashes` 데이터셋을 사용하여, 자동차 충돌사고의 위험 요인을 분석하세요. 데이터셋에는 다양한 요인, 즉, 도로 조건, 기상, 시간, 차종 등이 포함되어 있습니다. 이 문제에서는, pandas를 사용하여, 데이터를 전처리하고, 상관관계 분석을 수행하여, 자동차 충돌사고의 위험 요인을 찾으세요. 또한, 모델의 성능을 개선하기 위해, 데이터.preprocessing, overfitting 방지, hyperparameter tuning 등을 고려하세요. 예를 들어, 도로 조건과 기상이 자동차 충돌사고의 위험 요인에 미치는 영향을 분석하거나, 차종과 시간의 효과를 고려하여, 더 정확한 예측 모델을 구축할 수 있습니다."
   ]
  },
  {
   "cell_type": "code",
   "execution_count": null,
   "id": "914035c3",
   "metadata": {},
   "outputs": [],
   "source": [
    "import seaborn as sns\n",
    "import pandas as pd\n",
    "dataset = sns.load_dataset(\"car_crashes\")\n",
    "dataset.head(1)"
   ]
  },
  {
   "cell_type": "markdown",
   "id": "b814582f",
   "metadata": {},
   "source": [
    "# 🔧 Tool: pandas 라이브러리\n",
    "\n",
    "**Dataset:** car_crashes\n",
    "**난이도:** 중\n",
    "\n",
    "**Q.** Let me know if you'd like me to adjust the difficulty levels or create more problems! 😊"
   ]
  },
  {
   "cell_type": "code",
   "execution_count": null,
   "id": "700887c4",
   "metadata": {},
   "outputs": [],
   "source": [
    "import seaborn as sns\n",
    "import pandas as pd\n",
    "dataset = sns.load_dataset(\"car_crashes\")\n",
    "dataset.head(1)"
   ]
  },
  {
   "cell_type": "markdown",
   "id": "612f30bd",
   "metadata": {},
   "source": [
    "# 🔧 Tool: pandas 라이브러리\n",
    "\n",
    "**Dataset:** car_crashes\n",
    "**난이도:** 상\n",
    "\n",
    "**Q.** **Problem 1: 중급 (Intermediate)**"
   ]
  },
  {
   "cell_type": "code",
   "execution_count": null,
   "id": "63465b24",
   "metadata": {},
   "outputs": [],
   "source": [
    "import seaborn as sns\n",
    "import pandas as pd\n",
    "dataset = sns.load_dataset(\"car_crashes\")\n",
    "dataset.head(1)"
   ]
  },
  {
   "cell_type": "markdown",
   "id": "044b5987",
   "metadata": {},
   "source": [
    "# 🔧 Tool: pandas 라이브러리\n",
    "\n",
    "**Dataset:** car_crashes\n",
    "**난이도:** 상\n",
    "\n",
    "**Q.** `penguins` 데이터셋을 사용하여, 킹펭귄과 애덜리펭귄의 두 종의 특징을 분석하세요. 각 종의 Body Mass, Flipper Length, Beak Length, Feathers 등 특징 간의 상관관계를 분석하여, 두 종을 구별하는 데 도움이 되는 요인을 찾으세요. 또한, 이 문제에서는, 데이터의 특징을 이해하고, 상관관계를 분석하여, 실제 문제에 적용할 수 있는 방법을 찾으세요."
   ]
  },
  {
   "cell_type": "code",
   "execution_count": null,
   "id": "f744efa7",
   "metadata": {},
   "outputs": [],
   "source": [
    "import seaborn as sns\n",
    "import pandas as pd\n",
    "dataset = sns.load_dataset(\"car_crashes\")\n",
    "dataset.head(1)"
   ]
  },
  {
   "cell_type": "markdown",
   "id": "89292167",
   "metadata": {},
   "source": [
    "# 🔧 Tool: pandas 라이브러리\n",
    "\n",
    "**Dataset:** car_crashes\n",
    "**난이도:** 상\n",
    "\n",
    "**Q.** **Problem 2: 최상 (Expert)**"
   ]
  },
  {
   "cell_type": "code",
   "execution_count": null,
   "id": "c23dba26",
   "metadata": {},
   "outputs": [],
   "source": [
    "import seaborn as sns\n",
    "import pandas as pd\n",
    "dataset = sns.load_dataset(\"car_crashes\")\n",
    "dataset.head(1)"
   ]
  },
  {
   "cell_type": "markdown",
   "id": "a2991066",
   "metadata": {},
   "source": [
    "# 🔧 Tool: pandas 라이브러리\n",
    "\n",
    "**Dataset:** car_crashes\n",
    "**난이도:** 상\n",
    "\n",
    "**Q.** `car_crashes` 데이터셋을 사용하여, 교통사고의 위험 요인을 분석하세요. 데이터셋에는 교통사고가 발생한 위치, 날씨, 교통량, 도로 상태 등의 요인이 포함되어 있습니다. 이러한 요인을 고려하여, 교통사고의 위험도를 예측하는 모델을 구축하세요. 또한, 모델의 성능을 개선하기 위해, 데이터.preprocessing, overfitting 방지, hyperparameter tuning 등을 고려하세요. 예를 들어, 날씨의 영향을 분석하거나, 교통량과 도로 상태의 조합이 위험도에 미치는 영향을 분석할 수 있습니다."
   ]
  },
  {
   "cell_type": "code",
   "execution_count": null,
   "id": "edebf6b1",
   "metadata": {},
   "outputs": [],
   "source": [
    "import seaborn as sns\n",
    "import pandas as pd\n",
    "dataset = sns.load_dataset(\"car_crashes\")\n",
    "dataset.head(1)"
   ]
  },
  {
   "cell_type": "markdown",
   "id": "2049b9df",
   "metadata": {},
   "source": [
    "# 🔧 Tool: pandas 라이브러리\n",
    "\n",
    "**Dataset:** car_crashes\n",
    "**난이도:** 상\n",
    "\n",
    "**Q.** Let me know if you'd like me to adjust the difficulty levels or create more problems! 😊"
   ]
  },
  {
   "cell_type": "code",
   "execution_count": null,
   "id": "e171fadc",
   "metadata": {},
   "outputs": [],
   "source": [
    "import seaborn as sns\n",
    "import pandas as pd\n",
    "dataset = sns.load_dataset(\"car_crashes\")\n",
    "dataset.head(1)"
   ]
  },
  {
   "cell_type": "markdown",
   "id": "8517d547",
   "metadata": {},
   "source": [
    "# 🔧 Tool: pandas 라이브러리\n",
    "\n",
    "**Dataset:** flights\n",
    "**난이도:** 상\n",
    "\n",
    "**Q.** **Problem 1: 중급 (Intermediate)**"
   ]
  },
  {
   "cell_type": "code",
   "execution_count": null,
   "id": "bcd7f5e9",
   "metadata": {},
   "outputs": [],
   "source": [
    "import seaborn as sns\n",
    "import pandas as pd\n",
    "dataset = sns.load_dataset(\"flights\")\n",
    "dataset.head(1)"
   ]
  },
  {
   "cell_type": "markdown",
   "id": "7137e37d",
   "metadata": {},
   "source": [
    "# 🔧 Tool: pandas 라이브러리\n",
    "\n",
    "**Dataset:** flights\n",
    "**난이도:** 상\n",
    "\n",
    "**Q.** `penguins` 데이터셋을 사용하여, 펭귄의 특징을 분석하세요. 펭귄의 loài, 성별, 크기, 날개 길이, 등 등 특징 간의 상관관계를 분석하여, 펭귄을 구별하는 데 도움이 되는 요인을 찾으세요. 또한, 이 문제에서는, 데이터의 특징을 이해하고, 상관관계를 분석하여, 실제 문제에 적용할 수 있는 방법을 찾으세요."
   ]
  },
  {
   "cell_type": "code",
   "execution_count": null,
   "id": "67cffb83",
   "metadata": {},
   "outputs": [],
   "source": [
    "import seaborn as sns\n",
    "import pandas as pd\n",
    "dataset = sns.load_dataset(\"flights\")\n",
    "dataset.head(1)"
   ]
  },
  {
   "cell_type": "markdown",
   "id": "06142a31",
   "metadata": {},
   "source": [
    "# 🔧 Tool: pandas 라이브러리\n",
    "\n",
    "**Dataset:** flights\n",
    "**난이도:** 상\n",
    "\n",
    "**Q.** **Problem 2: 최상 (Expert)**"
   ]
  },
  {
   "cell_type": "code",
   "execution_count": null,
   "id": "b9c4ac38",
   "metadata": {},
   "outputs": [],
   "source": [
    "import seaborn as sns\n",
    "import pandas as pd\n",
    "dataset = sns.load_dataset(\"flights\")\n",
    "dataset.head(1)"
   ]
  },
  {
   "cell_type": "markdown",
   "id": "71f5ed9a",
   "metadata": {},
   "source": [
    "# 🔧 Tool: pandas 라이브러리\n",
    "\n",
    "**Dataset:** flights\n",
    "**난이도:** 상\n",
    "\n",
    "**Q.** `car_crashes` 데이터셋을 사용하여, 교통사고의 발생 요인을 분석하세요. 교통사고의 위치, 날씨, 교통량, 등 등 요인을 고려하여, 그들의 영향을 분석하세요. 또한, 모델의 성능을 개선하기 위해, 데이터.preprocessing, overfitting 방지, hyperparameter tuning 등을 고려하세요. 예를 들어, 날씨가 교통사고에 미치는 영향을 분석하거나, 교통량이 교통사고의 발생 빈도를影响하는지를 분석할 수 있습니다."
   ]
  },
  {
   "cell_type": "code",
   "execution_count": null,
   "id": "c4557a9d",
   "metadata": {},
   "outputs": [],
   "source": [
    "import seaborn as sns\n",
    "import pandas as pd\n",
    "dataset = sns.load_dataset(\"flights\")\n",
    "dataset.head(1)"
   ]
  },
  {
   "cell_type": "markdown",
   "id": "49386c45",
   "metadata": {},
   "source": [
    "# 🔧 Tool: pandas 라이브러리\n",
    "\n",
    "**Dataset:** flights\n",
    "**난이도:** 상\n",
    "\n",
    "**Q.** Let me know if you'd like me to adjust the difficulty levels or create more problems! 😊"
   ]
  },
  {
   "cell_type": "code",
   "execution_count": null,
   "id": "859ec5b0",
   "metadata": {},
   "outputs": [],
   "source": [
    "import seaborn as sns\n",
    "import pandas as pd\n",
    "dataset = sns.load_dataset(\"flights\")\n",
    "dataset.head(1)"
   ]
  },
  {
   "cell_type": "markdown",
   "id": "91a8865a",
   "metadata": {},
   "source": [
    "# 🔧 Tool: pandas 라이브러리\n",
    "\n",
    "**Dataset:** flights\n",
    "**난이도:** 최상\n",
    "\n",
    "**Q.** **Problem 1: 중급 (Intermediate)**"
   ]
  },
  {
   "cell_type": "code",
   "execution_count": null,
   "id": "87827b0e",
   "metadata": {},
   "outputs": [],
   "source": [
    "import seaborn as sns\n",
    "import pandas as pd\n",
    "dataset = sns.load_dataset(\"flights\")\n",
    "dataset.head(1)"
   ]
  },
  {
   "cell_type": "markdown",
   "id": "f3983477",
   "metadata": {},
   "source": [
    "# 🔧 Tool: pandas 라이브러리\n",
    "\n",
    "**Dataset:** flights\n",
    "**난이도:** 최상\n",
    "\n",
    "**Q.** `penguins` 데이터셋을 사용하여, 페민의 두 종(Penguin species)인 Adelie, Chinstrap, Gentoo의 특징을 분석하세요. 각 페민의 Body Mass, Flipper Length, Beak Depth 등 특징 간의 상관관계를 분석하여, 각 페민을 구별하는 데 도움이 되는 요인을 찾으세요. 또한, 이 문제에서는, 데이터의 특징을 이해하고, 상관관계를 분석하여, 실제 문제에 적용할 수 있는 방법을 찾으세요."
   ]
  },
  {
   "cell_type": "code",
   "execution_count": null,
   "id": "8ea0d94e",
   "metadata": {},
   "outputs": [],
   "source": [
    "import seaborn as sns\n",
    "import pandas as pd\n",
    "dataset = sns.load_dataset(\"flights\")\n",
    "dataset.head(1)"
   ]
  },
  {
   "cell_type": "markdown",
   "id": "c4a19fc4",
   "metadata": {},
   "source": [
    "# 🔧 Tool: pandas 라이브러리\n",
    "\n",
    "**Dataset:** flights\n",
    "**난이도:** 최상\n",
    "\n",
    "**Q.** **Problem 2: 최상 (Expert)**"
   ]
  },
  {
   "cell_type": "code",
   "execution_count": null,
   "id": "4e845d1a",
   "metadata": {},
   "outputs": [],
   "source": [
    "import seaborn as sns\n",
    "import pandas as pd\n",
    "dataset = sns.load_dataset(\"flights\")\n",
    "dataset.head(1)"
   ]
  },
  {
   "cell_type": "markdown",
   "id": "40e5a216",
   "metadata": {},
   "source": [
    "# 🔧 Tool: pandas 라이브러리\n",
    "\n",
    "**Dataset:** flights\n",
    "**난이도:** 최상\n",
    "\n",
    "**Q.** `car_crashes` 데이터셋을 사용하여, 교통사고의 위험 요인을 분석하세요. 데이터셋에는 교통사고의 경우,_SPEED, ALCOHOL, DISTANCE 등 다양한 요인이 포함되어 있습니다. 이 문제에서는, BOOSTING 알고리즘을 사용하여, 위험 요인을 예측하는 모델을 구축하세요. 또한, 모델의 성능을 개선하기 위해, 데이터.preprocessing, overfitting 방지, hyperparameter tuning 등을 고려하세요. 예를 들어, _ALCOHOL_의 효과를 고려하여, 음주운전과 교통사고의 상관관계를 분석하거나, _DISTANCE_의 영향을 고려하여, 교통사고의 위험 요인을 예측할 수 있습니다."
   ]
  },
  {
   "cell_type": "code",
   "execution_count": null,
   "id": "16c866f0",
   "metadata": {},
   "outputs": [],
   "source": [
    "import seaborn as sns\n",
    "import pandas as pd\n",
    "dataset = sns.load_dataset(\"flights\")\n",
    "dataset.head(1)"
   ]
  },
  {
   "cell_type": "markdown",
   "id": "fc09cf76",
   "metadata": {},
   "source": [
    "# 🔧 Tool: pandas 라이브러리\n",
    "\n",
    "**Dataset:** flights\n",
    "**난이도:** 최상\n",
    "\n",
    "**Q.** Let me know if you'd like me to adjust the difficulty levels or create more problems! 😊"
   ]
  },
  {
   "cell_type": "code",
   "execution_count": null,
   "id": "dd245c8a",
   "metadata": {},
   "outputs": [],
   "source": [
    "import seaborn as sns\n",
    "import pandas as pd\n",
    "dataset = sns.load_dataset(\"flights\")\n",
    "dataset.head(1)"
   ]
  },
  {
   "cell_type": "markdown",
   "id": "44247ac7",
   "metadata": {},
   "source": [
    "# 🔧 Tool: pandas 라이브러리\n",
    "\n",
    "**Dataset:** car_crashes\n",
    "**난이도:** 최상\n",
    "\n",
    "**Q.** **Problem 1: 중급 (Intermediate)**"
   ]
  },
  {
   "cell_type": "code",
   "execution_count": null,
   "id": "d3541061",
   "metadata": {},
   "outputs": [],
   "source": [
    "import seaborn as sns\n",
    "import pandas as pd\n",
    "dataset = sns.load_dataset(\"car_crashes\")\n",
    "dataset.head(1)"
   ]
  },
  {
   "cell_type": "markdown",
   "id": "be1e5681",
   "metadata": {},
   "source": [
    "# 🔧 Tool: pandas 라이브러리\n",
    "\n",
    "**Dataset:** car_crashes\n",
    "**난이도:** 최상\n",
    "\n",
    "**Q.** `penguins` 데이터셋을 사용하여, 아델리펭윈의 성별,_SPECIES_, BILL_LENGTH, FLIPPER_LENGTH 등 특징을 분석하세요. 이 데이터셋에서는, 성별, SPECIES, BILL_LENGTH, FLIPPER_LENGTH 등의 특징이 주어집니다. 이러한 특징을 고려하여, 아델리펭윈의 성별을 예측하는 모델을 구축하세요. 또한, 데이터의 특징을 이해하고, 상관관계를 분석하여, 실제 문제에 적용할 수 있는 방법을 찾으세요."
   ]
  },
  {
   "cell_type": "code",
   "execution_count": null,
   "id": "9feb28e3",
   "metadata": {},
   "outputs": [],
   "source": [
    "import seaborn as sns\n",
    "import pandas as pd\n",
    "dataset = sns.load_dataset(\"car_crashes\")\n",
    "dataset.head(1)"
   ]
  },
  {
   "cell_type": "markdown",
   "id": "d89dbb44",
   "metadata": {},
   "source": [
    "# 🔧 Tool: pandas 라이브러리\n",
    "\n",
    "**Dataset:** car_crashes\n",
    "**난이도:** 최상\n",
    "\n",
    "**Q.** **Problem 2: 최상 (Expert)**"
   ]
  },
  {
   "cell_type": "code",
   "execution_count": null,
   "id": "0f932250",
   "metadata": {},
   "outputs": [],
   "source": [
    "import seaborn as sns\n",
    "import pandas as pd\n",
    "dataset = sns.load_dataset(\"car_crashes\")\n",
    "dataset.head(1)"
   ]
  },
  {
   "cell_type": "markdown",
   "id": "cc1a1382",
   "metadata": {},
   "source": [
    "# 🔧 Tool: pandas 라이브러리\n",
    "\n",
    "**Dataset:** car_crashes\n",
    "**난이도:** 최상\n",
    "\n",
    "**Q.** `car_crashes` 데이터셋을 사용하여, 자동차 충돌사고의 빈도를 예측하는 모델을 구축하세요. 이 데이터셋에서는, 다양한 요인들이 주어집니다. 예를 들어, 도로의 길이, 교차로의 수, 날씨, 시간 등이 주어집니다. 이러한 요인을 고려하여, 자동차 충돌사고의 빈도를 예측하는 모델을 구축하세요. 또한, 모델의 성능을 개선하기 위해, 데이터.preprocessing, overfitting 방지, hyperparameter tuning 등을 고려하세요. 예를 들어, 도로의 길이와 교차로의 수의 조합이 충돌사고의 빈도에 미치는 영향을 분석하거나, 날씨와 시간의 효과를 고려하여, 더 정확한 예측 모델을 구축할 수 있습니다."
   ]
  },
  {
   "cell_type": "code",
   "execution_count": null,
   "id": "4b29b722",
   "metadata": {},
   "outputs": [],
   "source": [
    "import seaborn as sns\n",
    "import pandas as pd\n",
    "dataset = sns.load_dataset(\"car_crashes\")\n",
    "dataset.head(1)"
   ]
  },
  {
   "cell_type": "markdown",
   "id": "b5e16c6e",
   "metadata": {},
   "source": [
    "# 🔧 Tool: pandas 라이브러리\n",
    "\n",
    "**Dataset:** car_crashes\n",
    "**난이도:** 최상\n",
    "\n",
    "**Q.** Let me know if you'd like me to adjust the difficulty levels or create more problems! 😊"
   ]
  },
  {
   "cell_type": "code",
   "execution_count": null,
   "id": "aa4c4bb8",
   "metadata": {},
   "outputs": [],
   "source": [
    "import seaborn as sns\n",
    "import pandas as pd\n",
    "dataset = sns.load_dataset(\"car_crashes\")\n",
    "dataset.head(1)"
   ]
  },
  {
   "cell_type": "markdown",
   "id": "ba01c439",
   "metadata": {},
   "source": [
    "# 🔧 Tool: pandas 라이브러리\n",
    "\n",
    "**Dataset:** car_crashes\n",
    "**난이도:** 중\n",
    "\n",
    "**Q.** **Problem 1: 중급 (Intermediate)**"
   ]
  },
  {
   "cell_type": "code",
   "execution_count": null,
   "id": "6649fba2",
   "metadata": {},
   "outputs": [],
   "source": [
    "import seaborn as sns\n",
    "import pandas as pd\n",
    "dataset = sns.load_dataset(\"car_crashes\")\n",
    "dataset.head(1)"
   ]
  },
  {
   "cell_type": "markdown",
   "id": "226a2c3e",
   "metadata": {},
   "source": [
    "# 🔧 Tool: pandas 라이브러리\n",
    "\n",
    "**Dataset:** car_crashes\n",
    "**난이도:** 중\n",
    "\n",
    "**Q.** `flights` 데이터셋을 사용하여, 항공편의 출발지, 도착지, 날짜, 시간 등의 요인을 고려하여, 그들의 비용을 예측하는 모델을 구축하세요. 또한, 모델의 성능을 개선하기 위해, 데이터.preprocessing, overfitting 방지, hyperparameter tuning 등을 고려하세요. 예를 들어, 출발지와 도착지의 조합이 비용에 미치는 영향을 분석하거나, 날짜와 시간의 효과를 고려하여, 더 정확한 예측 모델을 구축할 수 있습니다."
   ]
  },
  {
   "cell_type": "code",
   "execution_count": null,
   "id": "7183aaa5",
   "metadata": {},
   "outputs": [],
   "source": [
    "import seaborn as sns\n",
    "import pandas as pd\n",
    "dataset = sns.load_dataset(\"car_crashes\")\n",
    "dataset.head(1)"
   ]
  },
  {
   "cell_type": "markdown",
   "id": "e60981cd",
   "metadata": {},
   "source": [
    "# 🔧 Tool: pandas 라이브러리\n",
    "\n",
    "**Dataset:** car_crashes\n",
    "**난이도:** 중\n",
    "\n",
    "**Q.** **Problem 2: 최상 (Expert)**"
   ]
  },
  {
   "cell_type": "code",
   "execution_count": null,
   "id": "3a06683d",
   "metadata": {},
   "outputs": [],
   "source": [
    "import seaborn as sns\n",
    "import pandas as pd\n",
    "dataset = sns.load_dataset(\"car_crashes\")\n",
    "dataset.head(1)"
   ]
  },
  {
   "cell_type": "markdown",
   "id": "f97924a7",
   "metadata": {},
   "source": [
    "# 🔧 Tool: pandas 라이브러리\n",
    "\n",
    "**Dataset:** car_crashes\n",
    "**난이도:** 중\n",
    "\n",
    "**Q.** `car_crashes` 데이터셋을 사용하여, 교통사고의 빈도를 예측하는 모델을 구축하세요. 이 문제에서는, 다양한 요인을 고려하여, 모델의 성능을 개선할 수 있습니다. 예를 들어, 도로의 유형, 기상condition, 교통량, 교통법규 등을 고려하여, 더 정확한 예측 모델을 구축할 수 있습니다. 또한, 모델의 성능을 개선하기 위해, 데이터.preprocessing, overfitting 방지, hyperparameter tuning 등을 고려하세요."
   ]
  },
  {
   "cell_type": "code",
   "execution_count": null,
   "id": "3a2fba54",
   "metadata": {},
   "outputs": [],
   "source": [
    "import seaborn as sns\n",
    "import pandas as pd\n",
    "dataset = sns.load_dataset(\"car_crashes\")\n",
    "dataset.head(1)"
   ]
  },
  {
   "cell_type": "markdown",
   "id": "ac02e9da",
   "metadata": {},
   "source": [
    "# 🔧 Tool: pandas 라이브러리\n",
    "\n",
    "**Dataset:** car_crashes\n",
    "**난이도:** 중\n",
    "\n",
    "**Q.** Let me know if you'd like me to adjust the difficulty levels or create more problems! 😊"
   ]
  },
  {
   "cell_type": "code",
   "execution_count": null,
   "id": "5ee5c505",
   "metadata": {},
   "outputs": [],
   "source": [
    "import seaborn as sns\n",
    "import pandas as pd\n",
    "dataset = sns.load_dataset(\"car_crashes\")\n",
    "dataset.head(1)"
   ]
  },
  {
   "cell_type": "markdown",
   "id": "17d6d6ce",
   "metadata": {},
   "source": [
    "# 🔧 Tool: pandas 라이브러리\n",
    "\n",
    "**Dataset:** flights\n",
    "**난이도:** 중\n",
    "\n",
    "**Q.** **Problem 1: 중급 (Intermediate)**"
   ]
  },
  {
   "cell_type": "code",
   "execution_count": null,
   "id": "7ccc179f",
   "metadata": {},
   "outputs": [],
   "source": [
    "import seaborn as sns\n",
    "import pandas as pd\n",
    "dataset = sns.load_dataset(\"flights\")\n",
    "dataset.head(1)"
   ]
  },
  {
   "cell_type": "markdown",
   "id": "b25fd4fe",
   "metadata": {},
   "source": [
    "# 🔧 Tool: pandas 라이브러리\n",
    "\n",
    "**Dataset:** flights\n",
    "**난이도:** 중\n",
    "\n",
    "**Q.** `flights` 데이터셋을 사용하여, 2019년 1월 1일부터 2020년 12월 31일까지의 항공편의 평균 비용을 분석하세요. 또한, 이 기간 동안의 비용 변동을 분석하여, 2021년의 비용 예측을 도와주는 요인을 찾아보세요. 분석 결과를 그래프로 시각화하여, 2021년의 비용 예측에 대한 의견을 제안하세요."
   ]
  },
  {
   "cell_type": "code",
   "execution_count": null,
   "id": "e9bdf645",
   "metadata": {},
   "outputs": [],
   "source": [
    "import seaborn as sns\n",
    "import pandas as pd\n",
    "dataset = sns.load_dataset(\"flights\")\n",
    "dataset.head(1)"
   ]
  },
  {
   "cell_type": "markdown",
   "id": "b19e1380",
   "metadata": {},
   "source": [
    "# 🔧 Tool: pandas 라이브러리\n",
    "\n",
    "**Dataset:** flights\n",
    "**난이도:** 중\n",
    "\n",
    "**Q.** **Problem 2: 최상 (Expert)**"
   ]
  },
  {
   "cell_type": "code",
   "execution_count": null,
   "id": "f34f4f50",
   "metadata": {},
   "outputs": [],
   "source": [
    "import seaborn as sns\n",
    "import pandas as pd\n",
    "dataset = sns.load_dataset(\"flights\")\n",
    "dataset.head(1)"
   ]
  },
  {
   "cell_type": "markdown",
   "id": "1994e25f",
   "metadata": {},
   "source": [
    "# 🔧 Tool: pandas 라이브러리\n",
    "\n",
    "**Dataset:** flights\n",
    "**난이도:** 중\n",
    "\n",
    "**Q.** `car_crashes` 데이터셋을 사용하여, 교통사고의 위험 요인을 분석하세요. 데이터셋에는 교통사고의 종류, 날씨, 교통량, 도로 조건 등 다양한 요인이 포함되어 있습니다. 분석 결과를 바탕으로, 교통사고의 위험 요인을 분류하고, 이를 고려하여 교통사고 예방을 위한 정책을 제안하세요. 또한, 분석 결과를 그래프로 시각화하여, 교통사고 예방에 대한 의견을 제안하세요."
   ]
  },
  {
   "cell_type": "code",
   "execution_count": null,
   "id": "00bb374f",
   "metadata": {},
   "outputs": [],
   "source": [
    "import seaborn as sns\n",
    "import pandas as pd\n",
    "dataset = sns.load_dataset(\"flights\")\n",
    "dataset.head(1)"
   ]
  },
  {
   "cell_type": "markdown",
   "id": "2ed49d8c",
   "metadata": {},
   "source": [
    "# 🔧 Tool: pandas 라이브러리\n",
    "\n",
    "**Dataset:** flights\n",
    "**난이도:** 중\n",
    "\n",
    "**Q.** Let me know if you'd like me to adjust the difficulty levels or create more problems! 😊"
   ]
  },
  {
   "cell_type": "code",
   "execution_count": null,
   "id": "7be623ce",
   "metadata": {},
   "outputs": [],
   "source": [
    "import seaborn as sns\n",
    "import pandas as pd\n",
    "dataset = sns.load_dataset(\"flights\")\n",
    "dataset.head(1)"
   ]
  },
  {
   "cell_type": "markdown",
   "id": "dbd263ae",
   "metadata": {},
   "source": [
    "# 🔧 Tool: pandas 라이브러리\n",
    "\n",
    "**Dataset:** flights\n",
    "**난이도:** 상\n",
    "\n",
    "**Q.** **Problem 1: 중급 (Intermediate)**"
   ]
  },
  {
   "cell_type": "code",
   "execution_count": null,
   "id": "29d8fb40",
   "metadata": {},
   "outputs": [],
   "source": [
    "import seaborn as sns\n",
    "import pandas as pd\n",
    "dataset = sns.load_dataset(\"flights\")\n",
    "dataset.head(1)"
   ]
  },
  {
   "cell_type": "markdown",
   "id": "e5aedfc5",
   "metadata": {},
   "source": [
    "# 🔧 Tool: pandas 라이브러리\n",
    "\n",
    "**Dataset:** flights\n",
    "**난이도:** 상\n",
    "\n",
    "**Q.** `car_crashes` 데이터셋을 사용하여, 교통사고의 빈도와 관련 요인을 분석하세요. 데이터셋에는, 교통사고의 위치, 날씨, 교통량, 등 요인이 포함되어 있습니다. 다음의 질문에 답하여, 교통사고의 빈도와 관련 요인을 분석하세요."
   ]
  },
  {
   "cell_type": "code",
   "execution_count": null,
   "id": "e5650566",
   "metadata": {},
   "outputs": [],
   "source": [
    "import seaborn as sns\n",
    "import pandas as pd\n",
    "dataset = sns.load_dataset(\"flights\")\n",
    "dataset.head(1)"
   ]
  },
  {
   "cell_type": "markdown",
   "id": "a54c3766",
   "metadata": {},
   "source": [
    "# 🔧 Tool: pandas 라이브러리\n",
    "\n",
    "**Dataset:** flights\n",
    "**난이도:** 상\n",
    "\n",
    "**Q.** 교통사고의 빈도는 어떤 요인에 의해 결정되는지 분석하세요."
   ]
  },
  {
   "cell_type": "code",
   "execution_count": null,
   "id": "364da0b3",
   "metadata": {},
   "outputs": [],
   "source": [
    "import seaborn as sns\n",
    "import pandas as pd\n",
    "dataset = sns.load_dataset(\"flights\")\n",
    "dataset.head(1)"
   ]
  },
  {
   "cell_type": "markdown",
   "id": "9587e07f",
   "metadata": {},
   "source": [
    "# 🔧 Tool: pandas 라이브러리\n",
    "\n",
    "**Dataset:** flights\n",
    "**난이도:** 상\n",
    "\n",
    "**Q.** 날씨, 교통량, 등 요인들이 교통사고의 빈도에 어떤 영향을 미치는지 분석하세요."
   ]
  },
  {
   "cell_type": "code",
   "execution_count": null,
   "id": "9ede8e47",
   "metadata": {},
   "outputs": [],
   "source": [
    "import seaborn as sns\n",
    "import pandas as pd\n",
    "dataset = sns.load_dataset(\"flights\")\n",
    "dataset.head(1)"
   ]
  },
  {
   "cell_type": "markdown",
   "id": "45bc32e3",
   "metadata": {},
   "source": [
    "# 🔧 Tool: pandas 라이브러리\n",
    "\n",
    "**Dataset:** flights\n",
    "**난이도:** 상\n",
    "\n",
    "**Q.** 분석 결과를 바탕으로, 교통사고의 빈도를 감소시키는 방안을 제안하세요."
   ]
  },
  {
   "cell_type": "code",
   "execution_count": null,
   "id": "c6c94260",
   "metadata": {},
   "outputs": [],
   "source": [
    "import seaborn as sns\n",
    "import pandas as pd\n",
    "dataset = sns.load_dataset(\"flights\")\n",
    "dataset.head(1)"
   ]
  },
  {
   "cell_type": "markdown",
   "id": "bc653500",
   "metadata": {},
   "source": [
    "# 🔧 Tool: pandas 라이브러리\n",
    "\n",
    "**Dataset:** flights\n",
    "**난이도:** 상\n",
    "\n",
    "**Q.** **Problem 2: 최상 (Expert)**"
   ]
  },
  {
   "cell_type": "code",
   "execution_count": null,
   "id": "70e45703",
   "metadata": {},
   "outputs": [],
   "source": [
    "import seaborn as sns\n",
    "import pandas as pd\n",
    "dataset = sns.load_dataset(\"flights\")\n",
    "dataset.head(1)"
   ]
  },
  {
   "cell_type": "markdown",
   "id": "16499df7",
   "metadata": {},
   "source": [
    "# 🔧 Tool: pandas 라이브러리\n",
    "\n",
    "**Dataset:** flights\n",
    "**난이도:** 상\n",
    "\n",
    "**Q.** `tips` 데이터셋을 사용하여, 식당의 예상 요금을 예측하는 모델을 구축하세요. 데이터셋에는, 식당의 이름, 주소, 요금, 등 요인이 포함되어 있습니다. 다음의 질문에 답하여, 예측 모델을 구축하세요."
   ]
  },
  {
   "cell_type": "code",
   "execution_count": null,
   "id": "d62e787f",
   "metadata": {},
   "outputs": [],
   "source": [
    "import seaborn as sns\n",
    "import pandas as pd\n",
    "dataset = sns.load_dataset(\"flights\")\n",
    "dataset.head(1)"
   ]
  },
  {
   "cell_type": "markdown",
   "id": "f17c433f",
   "metadata": {},
   "source": [
    "# 🔧 Tool: pandas 라이브러리\n",
    "\n",
    "**Dataset:** flights\n",
    "**난이도:** 상\n",
    "\n",
    "**Q.** 식당의 예상 요금을 예측하는 데 사용할 수 있는 요인을 분석하세요."
   ]
  },
  {
   "cell_type": "code",
   "execution_count": null,
   "id": "0b1416b5",
   "metadata": {},
   "outputs": [],
   "source": [
    "import seaborn as sns\n",
    "import pandas as pd\n",
    "dataset = sns.load_dataset(\"flights\")\n",
    "dataset.head(1)"
   ]
  },
  {
   "cell_type": "markdown",
   "id": "9f23dd71",
   "metadata": {},
   "source": [
    "# 🔧 Tool: pandas 라이브러리\n",
    "\n",
    "**Dataset:** flights\n",
    "**난이도:** 상\n",
    "\n",
    "**Q.** 데이터.preprocessing을 통해, 요금을 예측하는 데 도움이 되는 요인을 도출하세요."
   ]
  },
  {
   "cell_type": "code",
   "execution_count": null,
   "id": "b70c6727",
   "metadata": {},
   "outputs": [],
   "source": [
    "import seaborn as sns\n",
    "import pandas as pd\n",
    "dataset = sns.load_dataset(\"flights\")\n",
    "dataset.head(1)"
   ]
  },
  {
   "cell_type": "markdown",
   "id": "1670eb1b",
   "metadata": {},
   "source": [
    "# 🔧 Tool: pandas 라이브러리\n",
    "\n",
    "**Dataset:** flights\n",
    "**난이도:** 상\n",
    "\n",
    "**Q.** hyperparameter tuning을 통해, 예측 모델의 성능을 개선하세요."
   ]
  },
  {
   "cell_type": "code",
   "execution_count": null,
   "id": "dc8dec43",
   "metadata": {},
   "outputs": [],
   "source": [
    "import seaborn as sns\n",
    "import pandas as pd\n",
    "dataset = sns.load_dataset(\"flights\")\n",
    "dataset.head(1)"
   ]
  },
  {
   "cell_type": "markdown",
   "id": "68a22186",
   "metadata": {},
   "source": [
    "# 🔧 Tool: pandas 라이브러리\n",
    "\n",
    "**Dataset:** flights\n",
    "**난이도:** 상\n",
    "\n",
    "**Q.** 분석 결과를 바탕으로, 식당의 예상 요금을 예측하는 데 사용할 수 있는 알고리즘을 제안하세요."
   ]
  },
  {
   "cell_type": "code",
   "execution_count": null,
   "id": "56743413",
   "metadata": {},
   "outputs": [],
   "source": [
    "import seaborn as sns\n",
    "import pandas as pd\n",
    "dataset = sns.load_dataset(\"flights\")\n",
    "dataset.head(1)"
   ]
  },
  {
   "cell_type": "markdown",
   "id": "3afc37b3",
   "metadata": {},
   "source": [
    "# 🔧 Tool: pandas 라이브러리\n",
    "\n",
    "**Dataset:** flights\n",
    "**난이도:** 상\n",
    "\n",
    "**Q.** Let me know if you'd like me to adjust the difficulty levels or create more problems! 😊"
   ]
  },
  {
   "cell_type": "code",
   "execution_count": null,
   "id": "58fd4437",
   "metadata": {},
   "outputs": [],
   "source": [
    "import seaborn as sns\n",
    "import pandas as pd\n",
    "dataset = sns.load_dataset(\"flights\")\n",
    "dataset.head(1)"
   ]
  },
  {
   "cell_type": "markdown",
   "id": "020c734b",
   "metadata": {},
   "source": [
    "# 🔧 Tool: pandas 라이브러리\n",
    "\n",
    "**Dataset:** tips\n",
    "**난이도:** 상\n",
    "\n",
    "**Q.** **Problem 1: 중급 (Intermediate)**"
   ]
  },
  {
   "cell_type": "code",
   "execution_count": null,
   "id": "15e07b0f",
   "metadata": {},
   "outputs": [],
   "source": [
    "import seaborn as sns\n",
    "import pandas as pd\n",
    "dataset = sns.load_dataset(\"tips\")\n",
    "dataset.head(1)"
   ]
  },
  {
   "cell_type": "markdown",
   "id": "eac54a39",
   "metadata": {},
   "source": [
    "# 🔧 Tool: pandas 라이브러리\n",
    "\n",
    "**Dataset:** tips\n",
    "**난이도:** 상\n",
    "\n",
    "**Q.** `flights` 데이터셋을 사용하여, 특정 항공편의 비용을 예측하는 모델을 구축하세요. 이를 위해, 데이터셋에서 출발지, 도착지, 날짜, 시간, 승객수, etc. 등의 요인을 고려하여, 모델을 구축하세요. 또한, 모델의 성능을 개선하기 위해, 데이터.preprocessing, overfitting 방지, hyperparameter tuning 등을 고려하세요."
   ]
  },
  {
   "cell_type": "code",
   "execution_count": null,
   "id": "bda72006",
   "metadata": {},
   "outputs": [],
   "source": [
    "import seaborn as sns\n",
    "import pandas as pd\n",
    "dataset = sns.load_dataset(\"tips\")\n",
    "dataset.head(1)"
   ]
  },
  {
   "cell_type": "markdown",
   "id": "b7be1352",
   "metadata": {},
   "source": [
    "# 🔧 Tool: pandas 라이브러리\n",
    "\n",
    "**Dataset:** tips\n",
    "**난이도:** 상\n",
    "\n",
    "**Q.** **Problem 2: 최상 (Expert)**"
   ]
  },
  {
   "cell_type": "code",
   "execution_count": null,
   "id": "8a830de9",
   "metadata": {},
   "outputs": [],
   "source": [
    "import seaborn as sns\n",
    "import pandas as pd\n",
    "dataset = sns.load_dataset(\"tips\")\n",
    "dataset.head(1)"
   ]
  },
  {
   "cell_type": "markdown",
   "id": "8f1e19a1",
   "metadata": {},
   "source": [
    "# 🔧 Tool: pandas 라이브러리\n",
    "\n",
    "**Dataset:** tips\n",
    "**난이도:** 상\n",
    "\n",
    "**Q.** `car_crashes` 데이터셋을 사용하여, 차량 사고의 위험 요인을 분석하세요. 이를 위해, 데이터셋에서 차량의 속도, 거리, 날씨, 도로 상태, 등 등의 요인을 고려하여, 사고의 위험 요인을 분석하세요. 또한, 분석결과를 바탕으로, 차량 사고의 예방을 위한策略를 제안하세요. 예를 들어, 특정 도로 상태에서 차량 속도를 제한하거나, 날씨에 따라 도로 상태를 점검하는 등, 실제 문제에 적용할 수 있는 방법을 찾으세요."
   ]
  },
  {
   "cell_type": "code",
   "execution_count": null,
   "id": "bc5bd5fe",
   "metadata": {},
   "outputs": [],
   "source": [
    "import seaborn as sns\n",
    "import pandas as pd\n",
    "dataset = sns.load_dataset(\"tips\")\n",
    "dataset.head(1)"
   ]
  },
  {
   "cell_type": "markdown",
   "id": "1d6388bc",
   "metadata": {},
   "source": [
    "# 🔧 Tool: pandas 라이브러리\n",
    "\n",
    "**Dataset:** tips\n",
    "**난이도:** 상\n",
    "\n",
    "**Q.** Let me know if you'd like me to adjust the difficulty levels or create more problems! 😊"
   ]
  },
  {
   "cell_type": "code",
   "execution_count": null,
   "id": "94507fef",
   "metadata": {},
   "outputs": [],
   "source": [
    "import seaborn as sns\n",
    "import pandas as pd\n",
    "dataset = sns.load_dataset(\"tips\")\n",
    "dataset.head(1)"
   ]
  },
  {
   "cell_type": "markdown",
   "id": "6eb5af1e",
   "metadata": {},
   "source": [
    "# 🔧 Tool: pandas 라이브러리\n",
    "\n",
    "**Dataset:** flights\n",
    "**난이도:** 최상\n",
    "\n",
    "**Q.** **Problem 1: 중급 (Intermediate)**"
   ]
  },
  {
   "cell_type": "code",
   "execution_count": null,
   "id": "e3f5cf30",
   "metadata": {},
   "outputs": [],
   "source": [
    "import seaborn as sns\n",
    "import pandas as pd\n",
    "dataset = sns.load_dataset(\"flights\")\n",
    "dataset.head(1)"
   ]
  },
  {
   "cell_type": "markdown",
   "id": "6f04b163",
   "metadata": {},
   "source": [
    "# 🔧 Tool: pandas 라이브러리\n",
    "\n",
    "**Dataset:** flights\n",
    "**난이도:** 최상\n",
    "\n",
    "**Q.** `flights` 데이터셋을 사용하여, 항공편의 출발지, 도착지, 날짜, 시간 등의 요인을 고려하여, 그들의 비용을 예측하는 모델을 구축하세요. 또한, 모델의 성능을 개선하기 위해, 데이터.preprocessing, overfitting 방지, hyperparameter tuning 등을 고려하세요. 예를 들어, 출발지와 도착지의 조합이 비용에 미치는 영향을 분석하거나, 날짜와 시간의 효과를 고려하여, 더 정확한 예측 모델을 구축할 수 있습니다."
   ]
  },
  {
   "cell_type": "code",
   "execution_count": null,
   "id": "004a2dc7",
   "metadata": {},
   "outputs": [],
   "source": [
    "import seaborn as sns\n",
    "import pandas as pd\n",
    "dataset = sns.load_dataset(\"flights\")\n",
    "dataset.head(1)"
   ]
  },
  {
   "cell_type": "markdown",
   "id": "987f909b",
   "metadata": {},
   "source": [
    "# 🔧 Tool: pandas 라이브러리\n",
    "\n",
    "**Dataset:** flights\n",
    "**난이도:** 최상\n",
    "\n",
    "**Q.** **Problem 2: 최상 (Expert)**"
   ]
  },
  {
   "cell_type": "code",
   "execution_count": null,
   "id": "e32ae822",
   "metadata": {},
   "outputs": [],
   "source": [
    "import seaborn as sns\n",
    "import pandas as pd\n",
    "dataset = sns.load_dataset(\"flights\")\n",
    "dataset.head(1)"
   ]
  },
  {
   "cell_type": "markdown",
   "id": "ec3948c9",
   "metadata": {},
   "source": [
    "# 🔧 Tool: pandas 라이브러리\n",
    "\n",
    "**Dataset:** flights\n",
    "**난이도:** 최상\n",
    "\n",
    "**Q.** `car_crashes` 데이터셋을 사용하여, 도로 사고의 위험 요인을 분석하세요. 특정 지역, 시간대, 날씨 등 다양한 요인을 고려하여, 도로 사고의 위험도를 예측하는 모델을 구축하세요. 또한, 모델의 성능을 개선하기 위해, 데이터.preprocessing, overfitting 방지, hyperparameter tuning 등을 고려하세요. 예를 들어, 특정 지역의 도로 구조, 시간대의 교통량, 날씨의 영향을 고려하여, 더 정확한 예측 모델을 구축할 수 있습니다."
   ]
  },
  {
   "cell_type": "code",
   "execution_count": null,
   "id": "74371c42",
   "metadata": {},
   "outputs": [],
   "source": [
    "import seaborn as sns\n",
    "import pandas as pd\n",
    "dataset = sns.load_dataset(\"flights\")\n",
    "dataset.head(1)"
   ]
  },
  {
   "cell_type": "markdown",
   "id": "44b91b37",
   "metadata": {},
   "source": [
    "# 🔧 Tool: pandas 라이브러리\n",
    "\n",
    "**Dataset:** flights\n",
    "**난이도:** 최상\n",
    "\n",
    "**Q.** I hope these problems fit the conditions and are suitable for your learning purposes! 😊"
   ]
  },
  {
   "cell_type": "code",
   "execution_count": null,
   "id": "da423c71",
   "metadata": {},
   "outputs": [],
   "source": [
    "import seaborn as sns\n",
    "import pandas as pd\n",
    "dataset = sns.load_dataset(\"flights\")\n",
    "dataset.head(1)"
   ]
  },
  {
   "cell_type": "markdown",
   "id": "4a0b98cc",
   "metadata": {},
   "source": [
    "# 🔧 Tool: pandas 라이브러리\n",
    "\n",
    "**Dataset:** car_crashes\n",
    "**난이도:** 최상\n",
    "\n",
    "**Q.** **Problem 1: 중급 (Intermediate)**"
   ]
  },
  {
   "cell_type": "code",
   "execution_count": null,
   "id": "518e6040",
   "metadata": {},
   "outputs": [],
   "source": [
    "import seaborn as sns\n",
    "import pandas as pd\n",
    "dataset = sns.load_dataset(\"car_crashes\")\n",
    "dataset.head(1)"
   ]
  },
  {
   "cell_type": "markdown",
   "id": "e821166e",
   "metadata": {},
   "source": [
    "# 🔧 Tool: pandas 라이브러리\n",
    "\n",
    "**Dataset:** car_crashes\n",
    "**난이도:** 최상\n",
    "\n",
    "**Q.** `tips` 데이터셋을 사용하여, 점원과 소비자의 성별, 연령, 음식 종류 등의 요인을 고려하여, 소비자들이 지불한 팁의 평균을 예측하는 모델을 구축하세요. 또한, 모델의 성능을 개선하기 위해, 데이터.preprocessing, overfitting 방지, hyperparameter tuning 등을 고려하세요. 예를 들어, 성별이나 연령이 팁의 평균에 미치는 영향을 분석하거나, 음식 종류의 효과를 고려하여, 더 정확한 예측 모델을 구축할 수 있습니다."
   ]
  },
  {
   "cell_type": "code",
   "execution_count": null,
   "id": "485ef413",
   "metadata": {},
   "outputs": [],
   "source": [
    "import seaborn as sns\n",
    "import pandas as pd\n",
    "dataset = sns.load_dataset(\"car_crashes\")\n",
    "dataset.head(1)"
   ]
  },
  {
   "cell_type": "markdown",
   "id": "1bdbf3b9",
   "metadata": {},
   "source": [
    "# 🔧 Tool: pandas 라이브러리\n",
    "\n",
    "**Dataset:** car_crashes\n",
    "**난이도:** 최상\n",
    "\n",
    "**Q.** **Problem 2: 최상 (Expert)**"
   ]
  },
  {
   "cell_type": "code",
   "execution_count": null,
   "id": "0b464d69",
   "metadata": {},
   "outputs": [],
   "source": [
    "import seaborn as sns\n",
    "import pandas as pd\n",
    "dataset = sns.load_dataset(\"car_crashes\")\n",
    "dataset.head(1)"
   ]
  },
  {
   "cell_type": "markdown",
   "id": "40968036",
   "metadata": {},
   "source": [
    "# 🔧 Tool: pandas 라이브러리\n",
    "\n",
    "**Dataset:** car_crashes\n",
    "**난이도:** 최상\n",
    "\n",
    "**Q.** `car_crashes` 데이터셋을 사용하여, 교통사고의 원인 요인을 분석하여, 사고가 일어나는 지역, 날씨, 시간 등의 요인에 따라 교통사고의 빈도를 예측하는 모델을 구축하세요. 또한, 모델의 성능을 개선하기 위해, 데이터.preprocessing, overfitting 방지, hyperparameter tuning 등을 고려하세요. 예를 들어, 날씨가 좋은 날에는 교통사고의 빈도가 줄어드는지, 시간대별로 교통사고의 빈도가 다르게 나타나는지 분석하여, 더 정확한 예측 모델을 구축할 수 있습니다."
   ]
  },
  {
   "cell_type": "code",
   "execution_count": null,
   "id": "1b6024fe",
   "metadata": {},
   "outputs": [],
   "source": [
    "import seaborn as sns\n",
    "import pandas as pd\n",
    "dataset = sns.load_dataset(\"car_crashes\")\n",
    "dataset.head(1)"
   ]
  },
  {
   "cell_type": "markdown",
   "id": "893000b6",
   "metadata": {},
   "source": [
    "# 🔧 Tool: pandas 라이브러리\n",
    "\n",
    "**Dataset:** car_crashes\n",
    "**난이도:** 최상\n",
    "\n",
    "**Q.** Let me know if you'd like me to adjust the difficulty levels or create more problems! 😊"
   ]
  },
  {
   "cell_type": "code",
   "execution_count": null,
   "id": "cc59a6d3",
   "metadata": {},
   "outputs": [],
   "source": [
    "import seaborn as sns\n",
    "import pandas as pd\n",
    "dataset = sns.load_dataset(\"car_crashes\")\n",
    "dataset.head(1)"
   ]
  },
  {
   "cell_type": "markdown",
   "id": "409735f0",
   "metadata": {},
   "source": [
    "# 🔧 Tool: pandas 라이브러리\n",
    "\n",
    "**Dataset:** iris\n",
    "**난이도:** 중\n",
    "\n",
    "**Q.** Here's a problem for you:"
   ]
  },
  {
   "cell_type": "code",
   "execution_count": null,
   "id": "e6bf903c",
   "metadata": {},
   "outputs": [],
   "source": [
    "import seaborn as sns\n",
    "import pandas as pd\n",
    "dataset = sns.load_dataset(\"iris\")\n",
    "dataset.head(1)"
   ]
  },
  {
   "cell_type": "markdown",
   "id": "dbc0623e",
   "metadata": {},
   "source": [
    "# 🔧 Tool: pandas 라이브러리\n",
    "\n",
    "**Dataset:** iris\n",
    "**난이도:** 중\n",
    "\n",
    "**Q.** **Problem 3: 중상 (Advanced)**"
   ]
  },
  {
   "cell_type": "code",
   "execution_count": null,
   "id": "b3cd7ed8",
   "metadata": {},
   "outputs": [],
   "source": [
    "import seaborn as sns\n",
    "import pandas as pd\n",
    "dataset = sns.load_dataset(\"iris\")\n",
    "dataset.head(1)"
   ]
  },
  {
   "cell_type": "markdown",
   "id": "d8cd393a",
   "metadata": {},
   "source": [
    "# 🔧 Tool: pandas 라이브러리\n",
    "\n",
    "**Dataset:** iris\n",
    "**난이도:** 중\n",
    "\n",
    "**Q.** `titanic` 데이터셋을 사용하여, 승객의 생존 여부를 예측하는 모델을 구축하세요. 이 모델은 승객의 성별, 연령, 등급, 탑승한 등급, 가족여부 등의 요인을 고려하여, 생존여부를 예측할 수 있습니다. 또한, 모델의 성능을 개선하기 위해, 데이터.preprocessing, overfitting 방지, hyperparameter tuning 등을 고려하세요. 예를 들어, 성별이나 연령이 생존여부에 미치는 영향을 분석하거나, 등급이 생존여부에 영향을 미치는지 분석하여, 더 정확한 예측 모델을 구축할 수 있습니다."
   ]
  },
  {
   "cell_type": "code",
   "execution_count": null,
   "id": "96694c04",
   "metadata": {},
   "outputs": [],
   "source": [
    "import seaborn as sns\n",
    "import pandas as pd\n",
    "dataset = sns.load_dataset(\"iris\")\n",
    "dataset.head(1)"
   ]
  },
  {
   "cell_type": "markdown",
   "id": "e357afe0",
   "metadata": {},
   "source": [
    "# 🔧 Tool: pandas 라이브러리\n",
    "\n",
    "**Dataset:** iris\n",
    "**난이도:** 중\n",
    "\n",
    "**Q.** **Problem 3: Advanced**"
   ]
  },
  {
   "cell_type": "code",
   "execution_count": null,
   "id": "48fd80a6",
   "metadata": {},
   "outputs": [],
   "source": [
    "import seaborn as sns\n",
    "import pandas as pd\n",
    "dataset = sns.load_dataset(\"iris\")\n",
    "dataset.head(1)"
   ]
  },
  {
   "cell_type": "markdown",
   "id": "34893400",
   "metadata": {},
   "source": [
    "# 🔧 Tool: pandas 라이브러리\n",
    "\n",
    "**Dataset:** iris\n",
    "**난이도:** 중\n",
    "\n",
    "**Q.** Using the `titanic` dataset, build a model that predicts the survival of passengers. This model should consider factors such as gender, age, class, travel class, and family status to predict survival. Additionally, consider data preprocessing, overfitting prevention, and hyperparameter tuning to improve the model's performance. For example, analyze how gender and age affect survival or whether class affects survival, and build a more accurate prediction model."
   ]
  },
  {
   "cell_type": "code",
   "execution_count": null,
   "id": "11fbcd30",
   "metadata": {},
   "outputs": [],
   "source": [
    "import seaborn as sns\n",
    "import pandas as pd\n",
    "dataset = sns.load_dataset(\"iris\")\n",
    "dataset.head(1)"
   ]
  },
  {
   "cell_type": "markdown",
   "id": "b339db7a",
   "metadata": {},
   "source": [
    "# 🔧 Tool: pandas 라이브러리\n",
    "\n",
    "**Dataset:** iris\n",
    "**난이도:** 중\n",
    "\n",
    "**Q.** Difficulty level: Advanced (중상)"
   ]
  },
  {
   "cell_type": "code",
   "execution_count": null,
   "id": "d9eab92d",
   "metadata": {},
   "outputs": [],
   "source": [
    "import seaborn as sns\n",
    "import pandas as pd\n",
    "dataset = sns.load_dataset(\"iris\")\n",
    "dataset.head(1)"
   ]
  },
  {
   "cell_type": "markdown",
   "id": "2df3a44b",
   "metadata": {},
   "source": [
    "# 🔧 Tool: pandas 라이브러리\n",
    "\n",
    "**Dataset:** tips\n",
    "**난이도:** 중상\n",
    "\n",
    "**Q.** Here's a problem that fits the conditions:"
   ]
  },
  {
   "cell_type": "code",
   "execution_count": null,
   "id": "9422af1f",
   "metadata": {},
   "outputs": [],
   "source": [
    "import seaborn as sns\n",
    "import pandas as pd\n",
    "dataset = sns.load_dataset(\"tips\")\n",
    "dataset.head(1)"
   ]
  },
  {
   "cell_type": "markdown",
   "id": "bfac0766",
   "metadata": {},
   "source": [
    "# 🔧 Tool: pandas 라이브러리\n",
    "\n",
    "**Dataset:** tips\n",
    "**난이도:** 중상\n",
    "\n",
    "**Q.** **Problem: 중급 (Intermediate)**"
   ]
  },
  {
   "cell_type": "code",
   "execution_count": null,
   "id": "a08a27ff",
   "metadata": {},
   "outputs": [],
   "source": [
    "import seaborn as sns\n",
    "import pandas as pd\n",
    "dataset = sns.load_dataset(\"tips\")\n",
    "dataset.head(1)"
   ]
  },
  {
   "cell_type": "markdown",
   "id": "34ec7f01",
   "metadata": {},
   "source": [
    "# 🔧 Tool: pandas 라이브러리\n",
    "\n",
    "**Dataset:** tips\n",
    "**난이도:** 중상\n",
    "\n",
    "**Q.** `iris` 데이터셋을 사용하여, 세pal 길이, petal 길이, 꽃받침 길이, 꽃받침 넓이 등의 특성 요인을 고려하여, 새로운 샘플이 어떤 종류의 꽃인지를 예측하는 모델을 구축하세요. 또한, 모델의 성능을 개선하기 위해, 데이터.preprocessing, overfitting 방지, hyperparameter tuning 등을 고려하세요. 예를 들어, 특정 속성의 중요도를 분석하거나, 특정 속성이 다른 속성에 영향을 미치는지 분석하여, 더 정확한 예측 모델을 구축할 수 있습니다."
   ]
  },
  {
   "cell_type": "code",
   "execution_count": null,
   "id": "60b8eab1",
   "metadata": {},
   "outputs": [],
   "source": [
    "import seaborn as sns\n",
    "import pandas as pd\n",
    "dataset = sns.load_dataset(\"tips\")\n",
    "dataset.head(1)"
   ]
  },
  {
   "cell_type": "markdown",
   "id": "e15ce866",
   "metadata": {},
   "source": [
    "# 🔧 Tool: pandas 라이브러리\n",
    "\n",
    "**Dataset:** tips\n",
    "**난이도:** 중상\n",
    "\n",
    "**Q.** **Problem: Intermediate**"
   ]
  },
  {
   "cell_type": "code",
   "execution_count": null,
   "id": "571e3894",
   "metadata": {},
   "outputs": [],
   "source": [
    "import seaborn as sns\n",
    "import pandas as pd\n",
    "dataset = sns.load_dataset(\"tips\")\n",
    "dataset.head(1)"
   ]
  },
  {
   "cell_type": "markdown",
   "id": "527227aa",
   "metadata": {},
   "source": [
    "# 🔧 Tool: pandas 라이브러리\n",
    "\n",
    "**Dataset:** tips\n",
    "**난이도:** 중상\n",
    "\n",
    "**Q.** Using the `iris` dataset, build a model that predicts the type of flower based on characteristics such as sepal length, petal length, sepal width, and petal width. Consider improving the model's performance by preprocessing the data, preventing overfitting, and tuning hyperparameters. For example, analyze the importance of certain attributes or examine how certain attributes affect others to build a more accurate prediction model."
   ]
  },
  {
   "cell_type": "code",
   "execution_count": null,
   "id": "a45dccfc",
   "metadata": {},
   "outputs": [],
   "source": [
    "import seaborn as sns\n",
    "import pandas as pd\n",
    "dataset = sns.load_dataset(\"tips\")\n",
    "dataset.head(1)"
   ]
  },
  {
   "cell_type": "markdown",
   "id": "0a85767c",
   "metadata": {},
   "source": [
    "# 🔧 Tool: pandas 라이브러리\n",
    "\n",
    "**Dataset:** tips\n",
    "**난이도:** 중상\n",
    "\n",
    "**Q.** Let me know if you'd like me to adjust the difficulty levels or create more problems! 😊"
   ]
  },
  {
   "cell_type": "code",
   "execution_count": null,
   "id": "57d7ca1b",
   "metadata": {},
   "outputs": [],
   "source": [
    "import seaborn as sns\n",
    "import pandas as pd\n",
    "dataset = sns.load_dataset(\"tips\")\n",
    "dataset.head(1)"
   ]
  },
  {
   "cell_type": "markdown",
   "id": "58ae7290",
   "metadata": {},
   "source": [
    "# 🔧 Tool: pandas 라이브러리\n",
    "\n",
    "**Dataset:** titanic\n",
    "**난이도:** 상\n",
    "\n",
    "**Q.** Here's a problem that fits the conditions:"
   ]
  },
  {
   "cell_type": "code",
   "execution_count": null,
   "id": "5ea5408f",
   "metadata": {},
   "outputs": [],
   "source": [
    "import seaborn as sns\n",
    "import pandas as pd\n",
    "dataset = sns.load_dataset(\"titanic\")\n",
    "dataset.head(1)"
   ]
  },
  {
   "cell_type": "markdown",
   "id": "4b43d3c3",
   "metadata": {},
   "source": [
    "# 🔧 Tool: pandas 라이브러리\n",
    "\n",
    "**Dataset:** titanic\n",
    "**난이도:** 상\n",
    "\n",
    "**Q.** **Problem 3: 중상 (Upper-Intermediate)**"
   ]
  },
  {
   "cell_type": "code",
   "execution_count": null,
   "id": "e9759eee",
   "metadata": {},
   "outputs": [],
   "source": [
    "import seaborn as sns\n",
    "import pandas as pd\n",
    "dataset = sns.load_dataset(\"titanic\")\n",
    "dataset.head(1)"
   ]
  },
  {
   "cell_type": "markdown",
   "id": "7fc09720",
   "metadata": {},
   "source": [
    "# 🔧 Tool: pandas 라이브러리\n",
    "\n",
    "**Dataset:** titanic\n",
    "**난이도:** 상\n",
    "\n",
    "**Q.** `iris` 데이터셋을 사용하여, 세포의 특성(꽃받침 길이, 꽃받침 너비, 꽃잎 길이, 꽃잎 너비)을 고려하여, 세포가 가지는 속성(버지, 세로, 우라)을 예측하는 모델을 구축하세요. 또한, 모델의 성능을 개선하기 위해, 데이터.preprocessing, overfitting 방지, hyperparameter tuning 등을 고려하세요. 예를 들어, 특정 특성의 중요도를 분석하거나, 특성 간의 상관관계를 고려하여, 더 정확한 예측 모델을 구축할 수 있습니다."
   ]
  },
  {
   "cell_type": "code",
   "execution_count": null,
   "id": "3f6529a1",
   "metadata": {},
   "outputs": [],
   "source": [
    "import seaborn as sns\n",
    "import pandas as pd\n",
    "dataset = sns.load_dataset(\"titanic\")\n",
    "dataset.head(1)"
   ]
  },
  {
   "cell_type": "markdown",
   "id": "7a387b85",
   "metadata": {},
   "source": [
    "# 🔧 Tool: pandas 라이브러리\n",
    "\n",
    "**Dataset:** titanic\n",
    "**난이도:** 상\n",
    "\n",
    "**Q.** **Problem 3: Upper-Intermediate**"
   ]
  },
  {
   "cell_type": "code",
   "execution_count": null,
   "id": "98312e13",
   "metadata": {},
   "outputs": [],
   "source": [
    "import seaborn as sns\n",
    "import pandas as pd\n",
    "dataset = sns.load_dataset(\"titanic\")\n",
    "dataset.head(1)"
   ]
  },
  {
   "cell_type": "markdown",
   "id": "6cb127df",
   "metadata": {},
   "source": [
    "# 🔧 Tool: pandas 라이브러리\n",
    "\n",
    "**Dataset:** titanic\n",
    "**난이도:** 상\n",
    "\n",
    "**Q.** Using the `iris` dataset, build a model that predicts the property (Setosa, Versicolor, Virginica) of an iris sample based on its characteristics (sepal length, sepal width, petal length, petal width). Additionally, consider data preprocessing, overfitting prevention, and hyperparameter tuning to improve the model's performance. For example, analyze the importance of specific characteristics or consider the correlations between characteristics to build a more accurate prediction model."
   ]
  },
  {
   "cell_type": "code",
   "execution_count": null,
   "id": "493a4162",
   "metadata": {},
   "outputs": [],
   "source": [
    "import seaborn as sns\n",
    "import pandas as pd\n",
    "dataset = sns.load_dataset(\"titanic\")\n",
    "dataset.head(1)"
   ]
  },
  {
   "cell_type": "markdown",
   "id": "b90d9fc8",
   "metadata": {},
   "source": [
    "# 🔧 Tool: pandas 라이브러리\n",
    "\n",
    "**Dataset:** titanic\n",
    "**난이도:** 상\n",
    "\n",
    "**Q.** Let me know if you'd like me to adjust the difficulty level or create more problems! 😊"
   ]
  },
  {
   "cell_type": "code",
   "execution_count": null,
   "id": "05a5f184",
   "metadata": {},
   "outputs": [],
   "source": [
    "import seaborn as sns\n",
    "import pandas as pd\n",
    "dataset = sns.load_dataset(\"titanic\")\n",
    "dataset.head(1)"
   ]
  },
  {
   "cell_type": "markdown",
   "id": "dfb6038b",
   "metadata": {},
   "source": [
    "# 🔧 Tool: pandas 라이브러리\n",
    "\n",
    "**Dataset:** tips\n",
    "**난이도:** 중하\n",
    "\n",
    "**Q.** Here's a problem that fits the conditions:"
   ]
  },
  {
   "cell_type": "code",
   "execution_count": null,
   "id": "f2f973e2",
   "metadata": {},
   "outputs": [],
   "source": [
    "import seaborn as sns\n",
    "import pandas as pd\n",
    "dataset = sns.load_dataset(\"tips\")\n",
    "dataset.head(1)"
   ]
  },
  {
   "cell_type": "markdown",
   "id": "4a5d7180",
   "metadata": {},
   "source": [
    "# 🔧 Tool: pandas 라이브러리\n",
    "\n",
    "**Dataset:** tips\n",
    "**난이도:** 중하\n",
    "\n",
    "**Q.** **Problem 4: 중하 (Lower-Intermediate)**"
   ]
  },
  {
   "cell_type": "code",
   "execution_count": null,
   "id": "ed61449f",
   "metadata": {},
   "outputs": [],
   "source": [
    "import seaborn as sns\n",
    "import pandas as pd\n",
    "dataset = sns.load_dataset(\"tips\")\n",
    "dataset.head(1)"
   ]
  },
  {
   "cell_type": "markdown",
   "id": "9abc1ce3",
   "metadata": {},
   "source": [
    "# 🔧 Tool: pandas 라이브러리\n",
    "\n",
    "**Dataset:** tips\n",
    "**난이도:** 중하\n",
    "\n",
    "**Q.** `tips` 데이터셋을 사용하여, SERVER, FOOD, OTHER, ENTRE, WINE, OTHER2 SIX categories에 속하는 tip을 예측하는 모델을 구축하세요. 또한, 데이터.preprocessing, overfitting 방지, hyperparameter tuning 등을 고려하여, 더 정확한 예측 모델을 구축할 수 있습니다."
   ]
  },
  {
   "cell_type": "code",
   "execution_count": null,
   "id": "d1b3ea3a",
   "metadata": {},
   "outputs": [],
   "source": [
    "import seaborn as sns\n",
    "import pandas as pd\n",
    "dataset = sns.load_dataset(\"tips\")\n",
    "dataset.head(1)"
   ]
  },
  {
   "cell_type": "markdown",
   "id": "9db15e51",
   "metadata": {},
   "source": [
    "# 🔧 Tool: pandas 라이브러리\n",
    "\n",
    "**Dataset:** tips\n",
    "**난이도:** 중하\n",
    "\n",
    "**Q.** Using the `tips` dataset, build a model that predicts the tip category (SERVER, FOOD, OTHER, ENTRE, WINE, OTHER2 SIX) based on the data. Additionally, consider data preprocessing, overfitting prevention, and hyperparameter tuning to improve the model's performance."
   ]
  },
  {
   "cell_type": "code",
   "execution_count": null,
   "id": "8a8e3cce",
   "metadata": {},
   "outputs": [],
   "source": [
    "import seaborn as sns\n",
    "import pandas as pd\n",
    "dataset = sns.load_dataset(\"tips\")\n",
    "dataset.head(1)"
   ]
  },
  {
   "cell_type": "markdown",
   "id": "a74f0ef2",
   "metadata": {},
   "source": [
    "# 🔧 Tool: pandas 라이브러리\n",
    "\n",
    "**Dataset:** tips\n",
    "**난이도:** 중하\n",
    "\n",
    "**Q.** This problem is considered Lower-Intermediate because it requires basic data analysis and modeling skills, but does not require advanced techniques such as feature engineering or complex hyperparameter tuning."
   ]
  },
  {
   "cell_type": "code",
   "execution_count": null,
   "id": "dda4a6c0",
   "metadata": {},
   "outputs": [],
   "source": [
    "import seaborn as sns\n",
    "import pandas as pd\n",
    "dataset = sns.load_dataset(\"tips\")\n",
    "dataset.head(1)"
   ]
  },
  {
   "cell_type": "markdown",
   "id": "2464b7a3",
   "metadata": {},
   "source": [
    "# 🔧 Tool: pandas 라이브러리\n",
    "\n",
    "**Dataset:** iris\n",
    "**난이도:** 중상\n",
    "\n",
    "**Q.** Here's a problem that fits the given conditions:"
   ]
  },
  {
   "cell_type": "code",
   "execution_count": null,
   "id": "dae9b19d",
   "metadata": {},
   "outputs": [],
   "source": [
    "import seaborn as sns\n",
    "import pandas as pd\n",
    "dataset = sns.load_dataset(\"iris\")\n",
    "dataset.head(1)"
   ]
  },
  {
   "cell_type": "markdown",
   "id": "a84c2674",
   "metadata": {},
   "source": [
    "# 🔧 Tool: pandas 라이브러리\n",
    "\n",
    "**Dataset:** iris\n",
    "**난이도:** 중상\n",
    "\n",
    "**Q.** **Problem 1: 중하 (Lower-Intermediate)**"
   ]
  },
  {
   "cell_type": "code",
   "execution_count": null,
   "id": "444b8cdc",
   "metadata": {},
   "outputs": [],
   "source": [
    "import seaborn as sns\n",
    "import pandas as pd\n",
    "dataset = sns.load_dataset(\"iris\")\n",
    "dataset.head(1)"
   ]
  },
  {
   "cell_type": "markdown",
   "id": "12fdfea4",
   "metadata": {},
   "source": [
    "# 🔧 Tool: pandas 라이브러리\n",
    "\n",
    "**Dataset:** iris\n",
    "**난이도:** 중상\n",
    "\n",
    "**Q.** `titanic` 데이터셋을 사용하여, 승객의 성별을 예측하는 모델을 구축하세요. 데이터를 preprocessing하여, 각 특성의 중요도를 분석하고, overfitting 방지를 위해 regularization을 적용하세요. 예를 들어, 특정 특성의 importance를 분석하거나, 특성 간의 상관관계를 고려하여, 더 정확한 예측 모델을 구축할 수 있습니다."
   ]
  },
  {
   "cell_type": "code",
   "execution_count": null,
   "id": "2b8b5a92",
   "metadata": {},
   "outputs": [],
   "source": [
    "import seaborn as sns\n",
    "import pandas as pd\n",
    "dataset = sns.load_dataset(\"iris\")\n",
    "dataset.head(1)"
   ]
  },
  {
   "cell_type": "markdown",
   "id": "43f736c4",
   "metadata": {},
   "source": [
    "# 🔧 Tool: pandas 라이브러리\n",
    "\n",
    "**Dataset:** iris\n",
    "**난이도:** 중상\n",
    "\n",
    "**Q.** **Problem 1: Lower-Intermediate**"
   ]
  },
  {
   "cell_type": "code",
   "execution_count": null,
   "id": "4b9d1a2a",
   "metadata": {},
   "outputs": [],
   "source": [
    "import seaborn as sns\n",
    "import pandas as pd\n",
    "dataset = sns.load_dataset(\"iris\")\n",
    "dataset.head(1)"
   ]
  },
  {
   "cell_type": "markdown",
   "id": "df49be59",
   "metadata": {},
   "source": [
    "# 🔧 Tool: pandas 라이브러리\n",
    "\n",
    "**Dataset:** iris\n",
    "**난이도:** 중상\n",
    "\n",
    "**Q.** Using the `titanic` dataset, build a model that predicts the gender of a passenger. Preprocess the data to analyze the importance of each characteristic and apply regularization to prevent overfitting. For example, analyze the importance of specific characteristics or consider the correlations between characteristics to build a more accurate prediction model."
   ]
  },
  {
   "cell_type": "code",
   "execution_count": null,
   "id": "ba0ff92b",
   "metadata": {},
   "outputs": [],
   "source": [
    "import seaborn as sns\n",
    "import pandas as pd\n",
    "dataset = sns.load_dataset(\"iris\")\n",
    "dataset.head(1)"
   ]
  },
  {
   "cell_type": "markdown",
   "id": "e38af7b8",
   "metadata": {},
   "source": [
    "# 🔧 Tool: pandas 라이브러리\n",
    "\n",
    "**Dataset:** iris\n",
    "**난이도:** 중상\n",
    "\n",
    "**Q.** Let me know if you'd like me to adjust the difficulty level or create more problems! 😊"
   ]
  },
  {
   "cell_type": "code",
   "execution_count": null,
   "id": "873a39af",
   "metadata": {},
   "outputs": [],
   "source": [
    "import seaborn as sns\n",
    "import pandas as pd\n",
    "dataset = sns.load_dataset(\"iris\")\n",
    "dataset.head(1)"
   ]
  },
  {
   "cell_type": "markdown",
   "id": "d7d61c27",
   "metadata": {},
   "source": [
    "# 🔧 Tool: pandas 라이브러리\n",
    "\n",
    "**Dataset:** iris\n",
    "**난이도:** 상\n",
    "\n",
    "**Q.** Here's a problem that fits the conditions:"
   ]
  },
  {
   "cell_type": "code",
   "execution_count": null,
   "id": "6767c5a1",
   "metadata": {},
   "outputs": [],
   "source": [
    "import seaborn as sns\n",
    "import pandas as pd\n",
    "dataset = sns.load_dataset(\"iris\")\n",
    "dataset.head(1)"
   ]
  },
  {
   "cell_type": "markdown",
   "id": "4f3d3290",
   "metadata": {},
   "source": [
    "# 🔧 Tool: pandas 라이브러리\n",
    "\n",
    "**Dataset:** iris\n",
    "**난이도:** 상\n",
    "\n",
    "**Q.** **Problem 1: 중하 (Lower-Intermediate)**"
   ]
  },
  {
   "cell_type": "code",
   "execution_count": null,
   "id": "c24e1b2f",
   "metadata": {},
   "outputs": [],
   "source": [
    "import seaborn as sns\n",
    "import pandas as pd\n",
    "dataset = sns.load_dataset(\"iris\")\n",
    "dataset.head(1)"
   ]
  },
  {
   "cell_type": "markdown",
   "id": "bbb3da97",
   "metadata": {},
   "source": [
    "# 🔧 Tool: pandas 라이브러리\n",
    "\n",
    "**Dataset:** iris\n",
    "**난이도:** 상\n",
    "\n",
    "**Q.** `titanic` 데이터셋을 사용하여, 승객의 성별을 예측하는 모델을 구축하세요. 모델의 성능을 개선하기 위해, 데이터.preprocessing, overfitting 방지, hyperparameter tuning 등을 고려하세요. 예를 들어, 특정 특성의 중요도를 분석하거나, 특성 간의 상관관계를 고려하여, 더 정확한 예측 모델을 구축할 수 있습니다."
   ]
  },
  {
   "cell_type": "code",
   "execution_count": null,
   "id": "a49c63ec",
   "metadata": {},
   "outputs": [],
   "source": [
    "import seaborn as sns\n",
    "import pandas as pd\n",
    "dataset = sns.load_dataset(\"iris\")\n",
    "dataset.head(1)"
   ]
  },
  {
   "cell_type": "markdown",
   "id": "bc72f049",
   "metadata": {},
   "source": [
    "# 🔧 Tool: pandas 라이브러리\n",
    "\n",
    "**Dataset:** iris\n",
    "**난이도:** 상\n",
    "\n",
    "**Q.** **Problem 1: Lower-Intermediate**"
   ]
  },
  {
   "cell_type": "code",
   "execution_count": null,
   "id": "f6fff7df",
   "metadata": {},
   "outputs": [],
   "source": [
    "import seaborn as sns\n",
    "import pandas as pd\n",
    "dataset = sns.load_dataset(\"iris\")\n",
    "dataset.head(1)"
   ]
  },
  {
   "cell_type": "markdown",
   "id": "2337701b",
   "metadata": {},
   "source": [
    "# 🔧 Tool: pandas 라이브러리\n",
    "\n",
    "**Dataset:** iris\n",
    "**난이도:** 상\n",
    "\n",
    "**Q.** Using the `titanic` dataset, build a model that predicts the gender of a passenger. Consider data preprocessing, overfitting prevention, and hyperparameter tuning to improve the model's performance. For example, analyze the importance of specific characteristics or consider the correlations between characteristics to build a more accurate prediction model."
   ]
  },
  {
   "cell_type": "code",
   "execution_count": null,
   "id": "d7dc1c3a",
   "metadata": {},
   "outputs": [],
   "source": [
    "import seaborn as sns\n",
    "import pandas as pd\n",
    "dataset = sns.load_dataset(\"iris\")\n",
    "dataset.head(1)"
   ]
  },
  {
   "cell_type": "markdown",
   "id": "9c615902",
   "metadata": {},
   "source": [
    "# 🔧 Tool: pandas 라이브러리\n",
    "\n",
    "**Dataset:** iris\n",
    "**난이도:** 상\n",
    "\n",
    "**Q.** Let me know if you'd like me to adjust the difficulty level or create more problems! 😊"
   ]
  },
  {
   "cell_type": "code",
   "execution_count": null,
   "id": "04cc00fc",
   "metadata": {},
   "outputs": [],
   "source": [
    "import seaborn as sns\n",
    "import pandas as pd\n",
    "dataset = sns.load_dataset(\"iris\")\n",
    "dataset.head(1)"
   ]
  },
  {
   "cell_type": "markdown",
   "id": "00d88a8f",
   "metadata": {},
   "source": [
    "# 🔧 Tool: pandas 라이브러리\n",
    "\n",
    "**Dataset:** iris\n",
    "**난이도:** 중하\n",
    "\n",
    "**Q.** Here's a problem that fits the criteria:"
   ]
  },
  {
   "cell_type": "code",
   "execution_count": null,
   "id": "739b04c3",
   "metadata": {},
   "outputs": [],
   "source": [
    "import seaborn as sns\n",
    "import pandas as pd\n",
    "dataset = sns.load_dataset(\"iris\")\n",
    "dataset.head(1)"
   ]
  },
  {
   "cell_type": "markdown",
   "id": "8573aec4",
   "metadata": {},
   "source": [
    "# 🔧 Tool: pandas 라이브러리\n",
    "\n",
    "**Dataset:** iris\n",
    "**난이도:** 중하\n",
    "\n",
    "**Q.** **Problem 1: 중하 (Intermediate)**"
   ]
  },
  {
   "cell_type": "code",
   "execution_count": null,
   "id": "00ae6121",
   "metadata": {},
   "outputs": [],
   "source": [
    "import seaborn as sns\n",
    "import pandas as pd\n",
    "dataset = sns.load_dataset(\"iris\")\n",
    "dataset.head(1)"
   ]
  },
  {
   "cell_type": "markdown",
   "id": "5715af96",
   "metadata": {},
   "source": [
    "# 🔧 Tool: pandas 라이브러리\n",
    "\n",
    "**Dataset:** iris\n",
    "**난이도:** 중하\n",
    "\n",
    "**Q.** `tips` 데이터셋을 사용하여, 음식점의 tip을 예측하는 모델을 구축하세요. tip을 예측하는 데 사용되는 특성으로는, 음식점의 종류, 음식점의 가격, 음식점의 서비스 등이 있습니다. 또한, 모델의 성능을 개선하기 위해, 데이터.preprocessing, feature engineering 등을 고려하세요."
   ]
  },
  {
   "cell_type": "code",
   "execution_count": null,
   "id": "b73de830",
   "metadata": {},
   "outputs": [],
   "source": [
    "import seaborn as sns\n",
    "import pandas as pd\n",
    "dataset = sns.load_dataset(\"iris\")\n",
    "dataset.head(1)"
   ]
  },
  {
   "cell_type": "markdown",
   "id": "8a80be64",
   "metadata": {},
   "source": [
    "# 🔧 Tool: pandas 라이브러리\n",
    "\n",
    "**Dataset:** iris\n",
    "**난이도:** 중하\n",
    "\n",
    "**Q.** Using the `tips` dataset, build a model that predicts the tip amount. The characteristics used to predict the tip amount are the type of restaurant, the price of the restaurant, and the quality of service. Additionally, consider data preprocessing and feature engineering to improve the model's performance."
   ]
  },
  {
   "cell_type": "code",
   "execution_count": null,
   "id": "d807f791",
   "metadata": {},
   "outputs": [],
   "source": [
    "import seaborn as sns\n",
    "import pandas as pd\n",
    "dataset = sns.load_dataset(\"iris\")\n",
    "dataset.head(1)"
   ]
  },
  {
   "cell_type": "markdown",
   "id": "364e8a7d",
   "metadata": {},
   "source": [
    "# 🔧 Tool: pandas 라이브러리\n",
    "\n",
    "**Dataset:** iris\n",
    "**난이도:** 중하\n",
    "\n",
    "**Q.** This problem is at the intermediate level, requiring basic knowledge of data preprocessing, feature engineering, and modeling. It's a good starting point for those who are new to pandas and machine learning."
   ]
  },
  {
   "cell_type": "code",
   "execution_count": null,
   "id": "f83666cf",
   "metadata": {},
   "outputs": [],
   "source": [
    "import seaborn as sns\n",
    "import pandas as pd\n",
    "dataset = sns.load_dataset(\"iris\")\n",
    "dataset.head(1)"
   ]
  },
  {
   "cell_type": "markdown",
   "id": "7dad90a6",
   "metadata": {},
   "source": [
    "# 🔧 Tool: pandas 라이브러리\n",
    "\n",
    "**Dataset:** tips\n",
    "**난이도:** 중상\n",
    "\n",
    "**Q.** Here's a problem that fits the conditions:"
   ]
  },
  {
   "cell_type": "code",
   "execution_count": null,
   "id": "40dbd86a",
   "metadata": {},
   "outputs": [],
   "source": [
    "import seaborn as sns\n",
    "import pandas as pd\n",
    "dataset = sns.load_dataset(\"tips\")\n",
    "dataset.head(1)"
   ]
  },
  {
   "cell_type": "markdown",
   "id": "814024e6",
   "metadata": {},
   "source": [
    "# 🔧 Tool: pandas 라이브러리\n",
    "\n",
    "**Dataset:** tips\n",
    "**난이도:** 중상\n",
    "\n",
    "**Q.** **Problem 4: 중하 (Intermediate)**"
   ]
  },
  {
   "cell_type": "code",
   "execution_count": null,
   "id": "6f4f79ae",
   "metadata": {},
   "outputs": [],
   "source": [
    "import seaborn as sns\n",
    "import pandas as pd\n",
    "dataset = sns.load_dataset(\"tips\")\n",
    "dataset.head(1)"
   ]
  },
  {
   "cell_type": "markdown",
   "id": "726d94a2",
   "metadata": {},
   "source": [
    "# 🔧 Tool: pandas 라이브러리\n",
    "\n",
    "**Dataset:** tips\n",
    "**난이도:** 중상\n",
    "\n",
    "**Q.** `tips` 데이터셋을 사용하여, 음식점의_tip_(tip amount)과 관련된 특성(음식점의 종류, 음식점의 크기, 음식점의 지역)을 고려하여, tip amount를 예측하는 모델을 구축하세요. 또한, 모델의 성능을 개선하기 위해, 데이터.preprocessing, overfitting 방지, hyperparameter tuning 등을 고려하세요. 예를 들어, 특정 특성의 중요도를 분석하거나, 특성 간의 상관관계를 고려하여, 더 정확한 예측 모델을 구축할 수 있습니다."
   ]
  },
  {
   "cell_type": "code",
   "execution_count": null,
   "id": "de31c1bc",
   "metadata": {},
   "outputs": [],
   "source": [
    "import seaborn as sns\n",
    "import pandas as pd\n",
    "dataset = sns.load_dataset(\"tips\")\n",
    "dataset.head(1)"
   ]
  },
  {
   "cell_type": "markdown",
   "id": "8333aba6",
   "metadata": {},
   "source": [
    "# 🔧 Tool: pandas 라이브러리\n",
    "\n",
    "**Dataset:** tips\n",
    "**난이도:** 중상\n",
    "\n",
    "**Q.** Using the `tips` dataset, build a model that predicts the tip amount based on the characteristics of a restaurant (type, size, location). Additionally, consider data preprocessing, overfitting prevention, and hyperparameter tuning to improve the model's performance. For example, analyze the importance of specific characteristics or consider the correlations between characteristics to build a more accurate prediction model."
   ]
  },
  {
   "cell_type": "code",
   "execution_count": null,
   "id": "332a17c5",
   "metadata": {},
   "outputs": [],
   "source": [
    "import seaborn as sns\n",
    "import pandas as pd\n",
    "dataset = sns.load_dataset(\"tips\")\n",
    "dataset.head(1)"
   ]
  },
  {
   "cell_type": "markdown",
   "id": "d955ae79",
   "metadata": {},
   "source": [
    "# 🔧 Tool: pandas 라이브러리\n",
    "\n",
    "**Dataset:** tips\n",
    "**난이도:** 중상\n",
    "\n",
    "**Q.** Let me know if you'd like me to adjust the difficulty level or create more problems! 😊"
   ]
  },
  {
   "cell_type": "code",
   "execution_count": null,
   "id": "bb053703",
   "metadata": {},
   "outputs": [],
   "source": [
    "import seaborn as sns\n",
    "import pandas as pd\n",
    "dataset = sns.load_dataset(\"tips\")\n",
    "dataset.head(1)"
   ]
  },
  {
   "cell_type": "markdown",
   "id": "9370b903",
   "metadata": {},
   "source": [
    "# 🔧 Tool: pandas 라이브러리\n",
    "\n",
    "**Dataset:** iris\n",
    "**난이도:** 상\n",
    "\n",
    "**Q.** Here's a problem for you:"
   ]
  },
  {
   "cell_type": "code",
   "execution_count": null,
   "id": "14682748",
   "metadata": {},
   "outputs": [],
   "source": [
    "import seaborn as sns\n",
    "import pandas as pd\n",
    "dataset = sns.load_dataset(\"iris\")\n",
    "dataset.head(1)"
   ]
  },
  {
   "cell_type": "markdown",
   "id": "4f753cd6",
   "metadata": {},
   "source": [
    "# 🔧 Tool: pandas 라이브러리\n",
    "\n",
    "**Dataset:** iris\n",
    "**난이도:** 상\n",
    "\n",
    "**Q.** **Problem 4: 중하 (Intermediate)**"
   ]
  },
  {
   "cell_type": "code",
   "execution_count": null,
   "id": "4920ebef",
   "metadata": {},
   "outputs": [],
   "source": [
    "import seaborn as sns\n",
    "import pandas as pd\n",
    "dataset = sns.load_dataset(\"iris\")\n",
    "dataset.head(1)"
   ]
  },
  {
   "cell_type": "markdown",
   "id": "c9e07ab4",
   "metadata": {},
   "source": [
    "# 🔧 Tool: pandas 라이브러리\n",
    "\n",
    "**Dataset:** iris\n",
    "**난이도:** 상\n",
    "\n",
    "**Q.** `tips` 데이터셋을 사용하여, 손님들이 음식점에서 탑승한 총액을 예측하는 모델을 구축하세요. 특정 요인(timeofday, sex, smoker, day, total bill) 중 하나를 선택하여, 이를 모델에 고려하여 예측 성능을 개선하세요. 예를 들어, `timeofday` 특성에 따라 예측 성능이 어떻게 변화하는지 분석하거나, `sex`와 `smoker` 특성 간의 상관관계를 고려하여 예측 모델을 개선할 수 있습니다."
   ]
  },
  {
   "cell_type": "code",
   "execution_count": null,
   "id": "86071444",
   "metadata": {},
   "outputs": [],
   "source": [
    "import seaborn as sns\n",
    "import pandas as pd\n",
    "dataset = sns.load_dataset(\"iris\")\n",
    "dataset.head(1)"
   ]
  },
  {
   "cell_type": "markdown",
   "id": "dd6922be",
   "metadata": {},
   "source": [
    "# 🔧 Tool: pandas 라이브러리\n",
    "\n",
    "**Dataset:** iris\n",
    "**난이도:** 상\n",
    "\n",
    "**Q.** **Problem 4: Intermediate**"
   ]
  },
  {
   "cell_type": "code",
   "execution_count": null,
   "id": "55674a5c",
   "metadata": {},
   "outputs": [],
   "source": [
    "import seaborn as sns\n",
    "import pandas as pd\n",
    "dataset = sns.load_dataset(\"iris\")\n",
    "dataset.head(1)"
   ]
  },
  {
   "cell_type": "markdown",
   "id": "72bd7f80",
   "metadata": {},
   "source": [
    "# 🔧 Tool: pandas 라이브러리\n",
    "\n",
    "**Dataset:** iris\n",
    "**난이도:** 상\n",
    "\n",
    "**Q.** Using the `tips` dataset, build a model that predicts the total bill amount of a customer at a restaurant. Select one of the factors (timeofday, sex, smoker, day, total bill) and consider it in the model to improve the prediction performance. For example, analyze how the prediction performance changes according to the `timeofday` feature or consider the correlation between the `sex` and `smoker` features to improve the prediction model."
   ]
  },
  {
   "cell_type": "code",
   "execution_count": null,
   "id": "834ad768",
   "metadata": {},
   "outputs": [],
   "source": [
    "import seaborn as sns\n",
    "import pandas as pd\n",
    "dataset = sns.load_dataset(\"iris\")\n",
    "dataset.head(1)"
   ]
  },
  {
   "cell_type": "markdown",
   "id": "e9b8d7dc",
   "metadata": {},
   "source": [
    "# 🔧 Tool: pandas 라이브러리\n",
    "\n",
    "**Dataset:** iris\n",
    "**난이도:** 상\n",
    "\n",
    "**Q.** Let me know if you'd like me to adjust the difficulty level or create more problems! 😊"
   ]
  },
  {
   "cell_type": "code",
   "execution_count": null,
   "id": "ca226398",
   "metadata": {},
   "outputs": [],
   "source": [
    "import seaborn as sns\n",
    "import pandas as pd\n",
    "dataset = sns.load_dataset(\"iris\")\n",
    "dataset.head(1)"
   ]
  },
  {
   "cell_type": "markdown",
   "id": "f1ce86b9",
   "metadata": {},
   "source": [
    "# 🔧 Tool: pandas 라이브러리\n",
    "\n",
    "**Dataset:** titanic\n",
    "**난이도:** 중하\n",
    "\n",
    "**Q.** Here's a new problem that fits the given conditions:"
   ]
  },
  {
   "cell_type": "code",
   "execution_count": null,
   "id": "c5624164",
   "metadata": {},
   "outputs": [],
   "source": [
    "import seaborn as sns\n",
    "import pandas as pd\n",
    "dataset = sns.load_dataset(\"titanic\")\n",
    "dataset.head(1)"
   ]
  },
  {
   "cell_type": "markdown",
   "id": "b60471fa",
   "metadata": {},
   "source": [
    "# 🔧 Tool: pandas 라이브러리\n",
    "\n",
    "**Dataset:** titanic\n",
    "**난이도:** 중하\n",
    "\n",
    "**Q.** **Problem 4: 중하 (Lower-Intermediate)**"
   ]
  },
  {
   "cell_type": "code",
   "execution_count": null,
   "id": "8671bc20",
   "metadata": {},
   "outputs": [],
   "source": [
    "import seaborn as sns\n",
    "import pandas as pd\n",
    "dataset = sns.load_dataset(\"titanic\")\n",
    "dataset.head(1)"
   ]
  },
  {
   "cell_type": "markdown",
   "id": "46fbfd36",
   "metadata": {},
   "source": [
    "# 🔧 Tool: pandas 라이브러리\n",
    "\n",
    "**Dataset:** titanic\n",
    "**난이도:** 중하\n",
    "\n",
    "**Q.** `tips` 데이터셋을 사용하여, 서버에서 제공하는 팁을 예측하는 모델을 구축하세요. 특정 서버의 특성(서버의 크기, 서버의 위치, 서버의 운영 체제)을 고려하여, 팁의 크기, 팁의 종류, 팁의 요일을 예측하는 모델을 구축하세요. 또한, 데이터.preprocessing, feature engineering 등을 고려하여, 더 정확한 예측 모델을 구축할 수 있습니다."
   ]
  },
  {
   "cell_type": "code",
   "execution_count": null,
   "id": "6cb0c5ee",
   "metadata": {},
   "outputs": [],
   "source": [
    "import seaborn as sns\n",
    "import pandas as pd\n",
    "dataset = sns.load_dataset(\"titanic\")\n",
    "dataset.head(1)"
   ]
  },
  {
   "cell_type": "markdown",
   "id": "8a066cf9",
   "metadata": {},
   "source": [
    "# 🔧 Tool: pandas 라이브러리\n",
    "\n",
    "**Dataset:** titanic\n",
    "**난이도:** 중하\n",
    "\n",
    "**Q.** **Problem 4: Lower-Intermediate**"
   ]
  },
  {
   "cell_type": "code",
   "execution_count": null,
   "id": "f939d5dc",
   "metadata": {},
   "outputs": [],
   "source": [
    "import seaborn as sns\n",
    "import pandas as pd\n",
    "dataset = sns.load_dataset(\"titanic\")\n",
    "dataset.head(1)"
   ]
  },
  {
   "cell_type": "markdown",
   "id": "6910c863",
   "metadata": {},
   "source": [
    "# 🔧 Tool: pandas 라이브러리\n",
    "\n",
    "**Dataset:** titanic\n",
    "**난이도:** 중하\n",
    "\n",
    "**Q.** Using the `tips` dataset, build a model that predicts the tip amount, type, and day of the week based on the characteristics of the server (server size, server location, server operating system). Additionally, consider data preprocessing, feature engineering to improve the model's performance and build a more accurate prediction model."
   ]
  },
  {
   "cell_type": "code",
   "execution_count": null,
   "id": "8df1760d",
   "metadata": {},
   "outputs": [],
   "source": [
    "import seaborn as sns\n",
    "import pandas as pd\n",
    "dataset = sns.load_dataset(\"titanic\")\n",
    "dataset.head(1)"
   ]
  },
  {
   "cell_type": "markdown",
   "id": "bed3e836",
   "metadata": {},
   "source": [
    "# 🔧 Tool: pandas 라이브러리\n",
    "\n",
    "**Dataset:** titanic\n",
    "**난이도:** 중하\n",
    "\n",
    "**Q.** Let me know if you need any adjustments! 😊"
   ]
  },
  {
   "cell_type": "code",
   "execution_count": null,
   "id": "0f916f41",
   "metadata": {},
   "outputs": [],
   "source": [
    "import seaborn as sns\n",
    "import pandas as pd\n",
    "dataset = sns.load_dataset(\"titanic\")\n",
    "dataset.head(1)"
   ]
  },
  {
   "cell_type": "markdown",
   "id": "0da5c573",
   "metadata": {},
   "source": [
    "# 🔧 Tool: pandas 라이브러리\n",
    "\n",
    "**Dataset:** titanic\n",
    "**난이도:** 중상\n",
    "\n",
    "**Q.** Here's a problem suitable for the given conditions:"
   ]
  },
  {
   "cell_type": "code",
   "execution_count": null,
   "id": "287f02e8",
   "metadata": {},
   "outputs": [],
   "source": [
    "import seaborn as sns\n",
    "import pandas as pd\n",
    "dataset = sns.load_dataset(\"titanic\")\n",
    "dataset.head(1)"
   ]
  },
  {
   "cell_type": "markdown",
   "id": "9647cd1a",
   "metadata": {},
   "source": [
    "# 🔧 Tool: pandas 라이브러리\n",
    "\n",
    "**Dataset:** titanic\n",
    "**난이도:** 중상\n",
    "\n",
    "**Q.** **Problem 4: 중하 (Intermediate)**"
   ]
  },
  {
   "cell_type": "code",
   "execution_count": null,
   "id": "682b53da",
   "metadata": {},
   "outputs": [],
   "source": [
    "import seaborn as sns\n",
    "import pandas as pd\n",
    "dataset = sns.load_dataset(\"titanic\")\n",
    "dataset.head(1)"
   ]
  },
  {
   "cell_type": "markdown",
   "id": "1fe416cc",
   "metadata": {},
   "source": [
    "# 🔧 Tool: pandas 라이브러리\n",
    "\n",
    "**Dataset:** titanic\n",
    "**난이도:** 중상\n",
    "\n",
    "**Q.** `titanic` 데이터셋을 사용하여, 승객의 생존 여부를 예측하는 모델을 구축하세요. 특정 특성(성별, 나이, 등급, 가족 수) 등에 따라 생존 확률이 달라질 수 있습니다. 예를 들어, 성별이 남성일 때 생존 확률이 낮은지, 나이가 작을 때 생존 확률이 높은지 등을 분석하여, 더 정확한 예측 모델을 구축할 수 있습니다."
   ]
  },
  {
   "cell_type": "code",
   "execution_count": null,
   "id": "70489313",
   "metadata": {},
   "outputs": [],
   "source": [
    "import seaborn as sns\n",
    "import pandas as pd\n",
    "dataset = sns.load_dataset(\"titanic\")\n",
    "dataset.head(1)"
   ]
  },
  {
   "cell_type": "markdown",
   "id": "52da1af5",
   "metadata": {},
   "source": [
    "# 🔧 Tool: pandas 라이브러리\n",
    "\n",
    "**Dataset:** titanic\n",
    "**난이도:** 중상\n",
    "\n",
    "**Q.** **Problem 4: Intermediate**"
   ]
  },
  {
   "cell_type": "code",
   "execution_count": null,
   "id": "754b8888",
   "metadata": {},
   "outputs": [],
   "source": [
    "import seaborn as sns\n",
    "import pandas as pd\n",
    "dataset = sns.load_dataset(\"titanic\")\n",
    "dataset.head(1)"
   ]
  },
  {
   "cell_type": "markdown",
   "id": "9f4f1207",
   "metadata": {},
   "source": [
    "# 🔧 Tool: pandas 라이브러리\n",
    "\n",
    "**Dataset:** titanic\n",
    "**난이도:** 중상\n",
    "\n",
    "**Q.** Using the `titanic` dataset, build a model that predicts the survival probability of a passenger based on certain characteristics (gender, age, class, family size). For example, analyze how the survival probability changes depending on whether the passenger is male or female, or whether the passenger is young or old. This could help you build a more accurate prediction model."
   ]
  },
  {
   "cell_type": "code",
   "execution_count": null,
   "id": "c9947556",
   "metadata": {},
   "outputs": [],
   "source": [
    "import seaborn as sns\n",
    "import pandas as pd\n",
    "dataset = sns.load_dataset(\"titanic\")\n",
    "dataset.head(1)"
   ]
  },
  {
   "cell_type": "markdown",
   "id": "8d2e780b",
   "metadata": {},
   "source": [
    "# 🔧 Tool: pandas 라이브러리\n",
    "\n",
    "**Dataset:** titanic\n",
    "**난이도:** 중상\n",
    "\n",
    "**Q.** Let me know if you'd like me to adjust the difficulty level or create more problems! 😊"
   ]
  },
  {
   "cell_type": "code",
   "execution_count": null,
   "id": "8aeb5739",
   "metadata": {},
   "outputs": [],
   "source": [
    "import seaborn as sns\n",
    "import pandas as pd\n",
    "dataset = sns.load_dataset(\"titanic\")\n",
    "dataset.head(1)"
   ]
  },
  {
   "cell_type": "markdown",
   "id": "42538f7d",
   "metadata": {},
   "source": [
    "# 🔧 Tool: pandas 라이브러리\n",
    "\n",
    "**Dataset:** iris\n",
    "**난이도:** 상\n",
    "\n",
    "**Q.** Here's a problem that fits the conditions:"
   ]
  },
  {
   "cell_type": "code",
   "execution_count": null,
   "id": "25798a2d",
   "metadata": {},
   "outputs": [],
   "source": [
    "import seaborn as sns\n",
    "import pandas as pd\n",
    "dataset = sns.load_dataset(\"iris\")\n",
    "dataset.head(1)"
   ]
  },
  {
   "cell_type": "markdown",
   "id": "6060af8c",
   "metadata": {},
   "source": [
    "# 🔧 Tool: pandas 라이브러리\n",
    "\n",
    "**Dataset:** iris\n",
    "**난이도:** 상\n",
    "\n",
    "**Q.** **Problem 1: 중하 (Lower-Intermediate)**"
   ]
  },
  {
   "cell_type": "code",
   "execution_count": null,
   "id": "77268aae",
   "metadata": {},
   "outputs": [],
   "source": [
    "import seaborn as sns\n",
    "import pandas as pd\n",
    "dataset = sns.load_dataset(\"iris\")\n",
    "dataset.head(1)"
   ]
  },
  {
   "cell_type": "markdown",
   "id": "c0096929",
   "metadata": {},
   "source": [
    "# 🔧 Tool: pandas 라이브러리\n",
    "\n",
    "**Dataset:** iris\n",
    "**난이도:** 상\n",
    "\n",
    "**Q.** `titanic` 데이터셋을 사용하여, 승객의 생존 여부를 예측하는 모델을 구축하세요. 특성으로는 성별, 나이, class, fare 등을 고려할 수 있습니다. 모델의 성능을 개선하기 위해, 데이터.preprocessing, overfitting 방지, hyperparameter tuning 등을 고려하세요. 예를 들어, 성별의 중요도를 분석하거나, class와 fare 간의 상관관계를 고려하여, 더 정확한 예측 모델을 구축할 수 있습니다."
   ]
  },
  {
   "cell_type": "code",
   "execution_count": null,
   "id": "7e77a33e",
   "metadata": {},
   "outputs": [],
   "source": [
    "import seaborn as sns\n",
    "import pandas as pd\n",
    "dataset = sns.load_dataset(\"iris\")\n",
    "dataset.head(1)"
   ]
  },
  {
   "cell_type": "markdown",
   "id": "0208d730",
   "metadata": {},
   "source": [
    "# 🔧 Tool: pandas 라이브러리\n",
    "\n",
    "**Dataset:** iris\n",
    "**난이도:** 상\n",
    "\n",
    "**Q.** **Problem 1: Lower-Intermediate**"
   ]
  },
  {
   "cell_type": "code",
   "execution_count": null,
   "id": "5a7b6dfb",
   "metadata": {},
   "outputs": [],
   "source": [
    "import seaborn as sns\n",
    "import pandas as pd\n",
    "dataset = sns.load_dataset(\"iris\")\n",
    "dataset.head(1)"
   ]
  },
  {
   "cell_type": "markdown",
   "id": "96d88090",
   "metadata": {},
   "source": [
    "# 🔧 Tool: pandas 라이브러리\n",
    "\n",
    "**Dataset:** iris\n",
    "**난이도:** 상\n",
    "\n",
    "**Q.** Using the `titanic` dataset, build a model that predicts the survival status of passengers. Consider characteristics such as gender, age, class, and fare. Improve the model's performance by considering data preprocessing, overfitting prevention, and hyperparameter tuning. For example, analyze the importance of gender or consider the correlations between class and fare to build a more accurate prediction model."
   ]
  },
  {
   "cell_type": "code",
   "execution_count": null,
   "id": "5db5882f",
   "metadata": {},
   "outputs": [],
   "source": [
    "import seaborn as sns\n",
    "import pandas as pd\n",
    "dataset = sns.load_dataset(\"iris\")\n",
    "dataset.head(1)"
   ]
  },
  {
   "cell_type": "markdown",
   "id": "0e63d5bf",
   "metadata": {},
   "source": [
    "# 🔧 Tool: pandas 라이브러리\n",
    "\n",
    "**Dataset:** iris\n",
    "**난이도:** 상\n",
    "\n",
    "**Q.** Let me know if you'd like me to adjust the difficulty level or create more problems! 😊"
   ]
  },
  {
   "cell_type": "code",
   "execution_count": null,
   "id": "c9145335",
   "metadata": {},
   "outputs": [],
   "source": [
    "import seaborn as sns\n",
    "import pandas as pd\n",
    "dataset = sns.load_dataset(\"iris\")\n",
    "dataset.head(1)"
   ]
  }
 ],
 "metadata": {
  "kernelspec": {
   "display_name": "Python 3",
   "language": "python",
   "name": "python3"
  },
  "language_info": {
   "codemirror_mode": {
    "name": "ipython",
    "version": 3
   },
   "file_extension": ".py",
   "mimetype": "text/x-python",
   "name": "python",
   "nbconvert_exporter": "python",
   "pygments_lexer": "ipython3",
   "version": "3.13.2"
  }
 },
 "nbformat": 4,
 "nbformat_minor": 5
}
