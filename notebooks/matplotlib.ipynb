{
 "cells": [
  {
   "cell_type": "markdown",
   "id": "e5726d49",
   "metadata": {},
   "source": [
    "# 🔧 Tool: matplotlib\n",
    "\n",
    "**Dataset:** titanic\n",
    "**난이도:** 하\n",
    "\n",
    "**Q.** Here's a suitable problem for a matplotlib learning exercise, tailored to the given datasets and difficulty levels:"
   ]
  },
  {
   "cell_type": "code",
   "execution_count": null,
   "id": "91116c91",
   "metadata": {},
   "outputs": [],
   "source": [
    "import seaborn as sns\n",
    "import pandas as pd\n",
    "dataset = sns.load_dataset(\"titanic\")\n",
    "dataset.head(1)"
   ]
  },
  {
   "cell_type": "markdown",
   "id": "c2490706",
   "metadata": {},
   "source": [
    "# 🔧 Tool: matplotlib\n",
    "\n",
    "**Dataset:** titanic\n",
    "**난이도:** 하\n",
    "\n",
    "**Q.** **문제:**"
   ]
  },
  {
   "cell_type": "code",
   "execution_count": null,
   "id": "f9d4b088",
   "metadata": {},
   "outputs": [],
   "source": [
    "import seaborn as sns\n",
    "import pandas as pd\n",
    "dataset = sns.load_dataset(\"titanic\")\n",
    "dataset.head(1)"
   ]
  },
  {
   "cell_type": "markdown",
   "id": "55997282",
   "metadata": {},
   "source": [
    "# 🔧 Tool: matplotlib\n",
    "\n",
    "**Dataset:** titanic\n",
    "**난이도:** 하\n",
    "\n",
    "**Q.** Titanic 생존자와 사망자의 수를 그래프로 나타내어, 생존자의 수와 사망자의 수의 차이가 가장 큰 구간을 찾으시오."
   ]
  },
  {
   "cell_type": "code",
   "execution_count": null,
   "id": "49a52a9e",
   "metadata": {},
   "outputs": [],
   "source": [
    "import seaborn as sns\n",
    "import pandas as pd\n",
    "dataset = sns.load_dataset(\"titanic\")\n",
    "dataset.head(1)"
   ]
  },
  {
   "cell_type": "markdown",
   "id": "04b04ee9",
   "metadata": {},
   "source": [
    "# 🔧 Tool: matplotlib\n",
    "\n",
    "**Dataset:** titanic\n",
    "**난이도:** 하\n",
    "\n",
    "**Q.** **Dataset:** Titanic"
   ]
  },
  {
   "cell_type": "code",
   "execution_count": null,
   "id": "418f5615",
   "metadata": {},
   "outputs": [],
   "source": [
    "import seaborn as sns\n",
    "import pandas as pd\n",
    "dataset = sns.load_dataset(\"titanic\")\n",
    "dataset.head(1)"
   ]
  },
  {
   "cell_type": "markdown",
   "id": "2a7d23ed",
   "metadata": {},
   "source": [
    "# 🔧 Tool: matplotlib\n",
    "\n",
    "**Dataset:** titanic\n",
    "**난이도:** 하\n",
    "\n",
    "**Q.** **Hint:** matplotlib을 사용하여 그래프를 그려보세요."
   ]
  },
  {
   "cell_type": "code",
   "execution_count": null,
   "id": "9f8d78b4",
   "metadata": {},
   "outputs": [],
   "source": [
    "import seaborn as sns\n",
    "import pandas as pd\n",
    "dataset = sns.load_dataset(\"titanic\")\n",
    "dataset.head(1)"
   ]
  },
  {
   "cell_type": "markdown",
   "id": "d6fcc41d",
   "metadata": {},
   "source": [
    "# 🔧 Tool: matplotlib\n",
    "\n",
    "**Dataset:** titanic\n",
    "**난이도:** 하\n",
    "\n",
    "**Q.** **Expected Output:**"
   ]
  },
  {
   "cell_type": "code",
   "execution_count": null,
   "id": "0c5a527d",
   "metadata": {},
   "outputs": [],
   "source": [
    "import seaborn as sns\n",
    "import pandas as pd\n",
    "dataset = sns.load_dataset(\"titanic\")\n",
    "dataset.head(1)"
   ]
  },
  {
   "cell_type": "markdown",
   "id": "c3aa3449",
   "metadata": {},
   "source": [
    "# 🔧 Tool: matplotlib\n",
    "\n",
    "**Dataset:** titanic\n",
    "**난이도:** 하\n",
    "\n",
    "**Q.** * A bar graph showing the number of survivors and non-survivors in the Titanic dataset"
   ]
  },
  {
   "cell_type": "code",
   "execution_count": null,
   "id": "fbab99cd",
   "metadata": {},
   "outputs": [],
   "source": [
    "import seaborn as sns\n",
    "import pandas as pd\n",
    "dataset = sns.load_dataset(\"titanic\")\n",
    "dataset.head(1)"
   ]
  },
  {
   "cell_type": "markdown",
   "id": "328f3245",
   "metadata": {},
   "source": [
    "# 🔧 Tool: matplotlib\n",
    "\n",
    "**Dataset:** titanic\n",
    "**난이도:** 하\n",
    "\n",
    "**Q.** * The x-axis represents the class (1st, 2nd, 3rd, etc.) or the age range"
   ]
  },
  {
   "cell_type": "code",
   "execution_count": null,
   "id": "b32e1e86",
   "metadata": {},
   "outputs": [],
   "source": [
    "import seaborn as sns\n",
    "import pandas as pd\n",
    "dataset = sns.load_dataset(\"titanic\")\n",
    "dataset.head(1)"
   ]
  },
  {
   "cell_type": "markdown",
   "id": "28a62e16",
   "metadata": {},
   "source": [
    "# 🔧 Tool: matplotlib\n",
    "\n",
    "**Dataset:** titanic\n",
    "**난이도:** 하\n",
    "\n",
    "**Q.** * The y-axis represents the number of survivors and non-survivors"
   ]
  },
  {
   "cell_type": "code",
   "execution_count": null,
   "id": "a62a6d21",
   "metadata": {},
   "outputs": [],
   "source": [
    "import seaborn as sns\n",
    "import pandas as pd\n",
    "dataset = sns.load_dataset(\"titanic\")\n",
    "dataset.head(1)"
   ]
  },
  {
   "cell_type": "markdown",
   "id": "ccf9a3aa",
   "metadata": {},
   "source": [
    "# 🔧 Tool: matplotlib\n",
    "\n",
    "**Dataset:** titanic\n",
    "**난이도:** 하\n",
    "\n",
    "**Q.** * The graph should highlight the range where the difference between the number of survivors and non-survivors is the largest"
   ]
  },
  {
   "cell_type": "code",
   "execution_count": null,
   "id": "36362b4e",
   "metadata": {},
   "outputs": [],
   "source": [
    "import seaborn as sns\n",
    "import pandas as pd\n",
    "dataset = sns.load_dataset(\"titanic\")\n",
    "dataset.head(1)"
   ]
  },
  {
   "cell_type": "markdown",
   "id": "dcadc0e9",
   "metadata": {},
   "source": [
    "# 🔧 Tool: matplotlib\n",
    "\n",
    "**Dataset:** titanic\n",
    "**난이도:** 하\n",
    "\n",
    "**Q.** **Difficulty Level:** 중 (medium)"
   ]
  },
  {
   "cell_type": "code",
   "execution_count": null,
   "id": "bf97e4d9",
   "metadata": {},
   "outputs": [],
   "source": [
    "import seaborn as sns\n",
    "import pandas as pd\n",
    "dataset = sns.load_dataset(\"titanic\")\n",
    "dataset.head(1)"
   ]
  },
  {
   "cell_type": "markdown",
   "id": "aa7ba66f",
   "metadata": {},
   "source": [
    "# 🔧 Tool: matplotlib\n",
    "\n",
    "**Dataset:** titanic\n",
    "**난이도:** 하\n",
    "\n",
    "**Q.** This problem requires the use of matplotlib to create a graph and analyze the data. The dataset is relatively simple, but the task requires some thought to identify the most suitable x-axis variable and to interpret the results."
   ]
  },
  {
   "cell_type": "code",
   "execution_count": null,
   "id": "336390b0",
   "metadata": {},
   "outputs": [],
   "source": [
    "import seaborn as sns\n",
    "import pandas as pd\n",
    "dataset = sns.load_dataset(\"titanic\")\n",
    "dataset.head(1)"
   ]
  },
  {
   "cell_type": "markdown",
   "id": "2aad6284",
   "metadata": {},
   "source": [
    "# 🔧 Tool: matplotlib\n",
    "\n",
    "**Dataset:** iris\n",
    "**난이도:** 중하\n",
    "\n",
    "**Q.** Here's a problem suitable for a matplotlib learning exercise, with a medium level of difficulty:"
   ]
  },
  {
   "cell_type": "code",
   "execution_count": null,
   "id": "5cf56a96",
   "metadata": {},
   "outputs": [],
   "source": [
    "import seaborn as sns\n",
    "import pandas as pd\n",
    "dataset = sns.load_dataset(\"iris\")\n",
    "dataset.head(1)"
   ]
  },
  {
   "cell_type": "markdown",
   "id": "d559f5a7",
   "metadata": {},
   "source": [
    "# 🔧 Tool: matplotlib\n",
    "\n",
    "**Dataset:** iris\n",
    "**난이도:** 중하\n",
    "\n",
    "**Q.** **문제**"
   ]
  },
  {
   "cell_type": "code",
   "execution_count": null,
   "id": "a1391f9f",
   "metadata": {},
   "outputs": [],
   "source": [
    "import seaborn as sns\n",
    "import pandas as pd\n",
    "dataset = sns.load_dataset(\"iris\")\n",
    "dataset.head(1)"
   ]
  },
  {
   "cell_type": "markdown",
   "id": "6d9c7e68",
   "metadata": {},
   "source": [
    "# 🔧 Tool: matplotlib\n",
    "\n",
    "**Dataset:** iris\n",
    "**난이도:** 중하\n",
    "\n",
    "**Q.** 트랜스애틀틱 항공사에서 1912년 도미닉호가 침몰한 탱크의 데이터를 분석하여, 생존자와 사망자의 평균 기온을 비교하세요."
   ]
  },
  {
   "cell_type": "code",
   "execution_count": null,
   "id": "b1e1a627",
   "metadata": {},
   "outputs": [],
   "source": [
    "import seaborn as sns\n",
    "import pandas as pd\n",
    "dataset = sns.load_dataset(\"iris\")\n",
    "dataset.head(1)"
   ]
  },
  {
   "cell_type": "markdown",
   "id": "b3fd73cd",
   "metadata": {},
   "source": [
    "# 🔧 Tool: matplotlib\n",
    "\n",
    "**Dataset:** iris\n",
    "**난이도:** 중하\n",
    "\n",
    "**Q.** **데이터**"
   ]
  },
  {
   "cell_type": "code",
   "execution_count": null,
   "id": "81618baa",
   "metadata": {},
   "outputs": [],
   "source": [
    "import seaborn as sns\n",
    "import pandas as pd\n",
    "dataset = sns.load_dataset(\"iris\")\n",
    "dataset.head(1)"
   ]
  },
  {
   "cell_type": "markdown",
   "id": "c7591571",
   "metadata": {},
   "source": [
    "# 🔧 Tool: matplotlib\n",
    "\n",
    "**Dataset:** iris\n",
    "**난이도:** 중하\n",
    "\n",
    "**Q.** * `tips` 데이터셋의 `total_bill` 열과 `tip` 열을 사용하여, 생존자와 사망자의 평균 기온을 구할 수 있습니다. ( Hint: 생존자와 사망자를 구분하는 열은 `survived` 열입니다.)"
   ]
  },
  {
   "cell_type": "code",
   "execution_count": null,
   "id": "9a2deb68",
   "metadata": {},
   "outputs": [],
   "source": [
    "import seaborn as sns\n",
    "import pandas as pd\n",
    "dataset = sns.load_dataset(\"iris\")\n",
    "dataset.head(1)"
   ]
  },
  {
   "cell_type": "markdown",
   "id": "fb63f473",
   "metadata": {},
   "source": [
    "# 🔧 Tool: matplotlib\n",
    "\n",
    "**Dataset:** iris\n",
    "**난이도:** 중하\n",
    "\n",
    "**Q.** **목표**"
   ]
  },
  {
   "cell_type": "code",
   "execution_count": null,
   "id": "6392d20a",
   "metadata": {},
   "outputs": [],
   "source": [
    "import seaborn as sns\n",
    "import pandas as pd\n",
    "dataset = sns.load_dataset(\"iris\")\n",
    "dataset.head(1)"
   ]
  },
  {
   "cell_type": "markdown",
   "id": "1ad79a4c",
   "metadata": {},
   "source": [
    "# 🔧 Tool: matplotlib\n",
    "\n",
    "**Dataset:** iris\n",
    "**난이도:** 중하\n",
    "\n",
    "**Q.** * matplotlib을 사용하여, 생존자와 사망자의 평균 기온을 비교하는 그래프를 생성하세요."
   ]
  },
  {
   "cell_type": "code",
   "execution_count": null,
   "id": "5628bef3",
   "metadata": {},
   "outputs": [],
   "source": [
    "import seaborn as sns\n",
    "import pandas as pd\n",
    "dataset = sns.load_dataset(\"iris\")\n",
    "dataset.head(1)"
   ]
  },
  {
   "cell_type": "markdown",
   "id": "11208698",
   "metadata": {},
   "source": [
    "# 🔧 Tool: matplotlib\n",
    "\n",
    "**Dataset:** iris\n",
    "**난이도:** 중하\n",
    "\n",
    "**Q.** * 그래프에는 x축에 기온, y축에 생존/사망자 수를 표시합니다."
   ]
  },
  {
   "cell_type": "code",
   "execution_count": null,
   "id": "4dcf52f0",
   "metadata": {},
   "outputs": [],
   "source": [
    "import seaborn as sns\n",
    "import pandas as pd\n",
    "dataset = sns.load_dataset(\"iris\")\n",
    "dataset.head(1)"
   ]
  },
  {
   "cell_type": "markdown",
   "id": "ebe95c81",
   "metadata": {},
   "source": [
    "# 🔧 Tool: matplotlib\n",
    "\n",
    "**Dataset:** iris\n",
    "**난이도:** 중하\n",
    "\n",
    "**Q.** * 그래프의 제목은 \"트랜스애틀틱 항공사 생존자와 사망자 평균 기온 비교\"입니다."
   ]
  },
  {
   "cell_type": "code",
   "execution_count": null,
   "id": "399352ef",
   "metadata": {},
   "outputs": [],
   "source": [
    "import seaborn as sns\n",
    "import pandas as pd\n",
    "dataset = sns.load_dataset(\"iris\")\n",
    "dataset.head(1)"
   ]
  },
  {
   "cell_type": "markdown",
   "id": "653bec38",
   "metadata": {},
   "source": [
    "# 🔧 Tool: matplotlib\n",
    "\n",
    "**Dataset:** iris\n",
    "**난이도:** 중하\n",
    "\n",
    "**Q.** **참고**"
   ]
  },
  {
   "cell_type": "code",
   "execution_count": null,
   "id": "d65124dc",
   "metadata": {},
   "outputs": [],
   "source": [
    "import seaborn as sns\n",
    "import pandas as pd\n",
    "dataset = sns.load_dataset(\"iris\")\n",
    "dataset.head(1)"
   ]
  },
  {
   "cell_type": "markdown",
   "id": "38189c8b",
   "metadata": {},
   "source": [
    "# 🔧 Tool: matplotlib\n",
    "\n",
    "**Dataset:** iris\n",
    "**난이도:** 중하\n",
    "\n",
    "**Q.** * `tips` 데이터셋에는 `total_bill` 열과 `tip` 열이 있습니다. 이 열을 사용하여, 생존자와 사망자의 평균 기온을 구할 수 있습니다."
   ]
  },
  {
   "cell_type": "code",
   "execution_count": null,
   "id": "0906cddf",
   "metadata": {},
   "outputs": [],
   "source": [
    "import seaborn as sns\n",
    "import pandas as pd\n",
    "dataset = sns.load_dataset(\"iris\")\n",
    "dataset.head(1)"
   ]
  },
  {
   "cell_type": "markdown",
   "id": "e1ec6839",
   "metadata": {},
   "source": [
    "# 🔧 Tool: matplotlib\n",
    "\n",
    "**Dataset:** iris\n",
    "**난이도:** 중하\n",
    "\n",
    "**Q.** * matplotlib의 `bar` 함수를 사용하여, 그래프를 생성할 수 있습니다."
   ]
  },
  {
   "cell_type": "code",
   "execution_count": null,
   "id": "1dd200d5",
   "metadata": {},
   "outputs": [],
   "source": [
    "import seaborn as sns\n",
    "import pandas as pd\n",
    "dataset = sns.load_dataset(\"iris\")\n",
    "dataset.head(1)"
   ]
  },
  {
   "cell_type": "markdown",
   "id": "ad1e4680",
   "metadata": {},
   "source": [
    "# 🔧 Tool: matplotlib\n",
    "\n",
    "**Dataset:** iris\n",
    "**난이도:** 중하\n",
    "\n",
    "**Q.** **점수**"
   ]
  },
  {
   "cell_type": "code",
   "execution_count": null,
   "id": "9bf67f86",
   "metadata": {},
   "outputs": [],
   "source": [
    "import seaborn as sns\n",
    "import pandas as pd\n",
    "dataset = sns.load_dataset(\"iris\")\n",
    "dataset.head(1)"
   ]
  },
  {
   "cell_type": "markdown",
   "id": "3660d1b0",
   "metadata": {},
   "source": [
    "# 🔧 Tool: matplotlib\n",
    "\n",
    "**Dataset:** iris\n",
    "**난이도:** 중하\n",
    "\n",
    "**Q.** * 그래프가 정상적으로 생성되는지 확인 (20점)"
   ]
  },
  {
   "cell_type": "code",
   "execution_count": null,
   "id": "b3d06c92",
   "metadata": {},
   "outputs": [],
   "source": [
    "import seaborn as sns\n",
    "import pandas as pd\n",
    "dataset = sns.load_dataset(\"iris\")\n",
    "dataset.head(1)"
   ]
  },
  {
   "cell_type": "markdown",
   "id": "80dc8dde",
   "metadata": {},
   "source": [
    "# 🔧 Tool: matplotlib\n",
    "\n",
    "**Dataset:** iris\n",
    "**난이도:** 중하\n",
    "\n",
    "**Q.** * 그래프의 제목과 축 레이블이 올바른지 확인 (20점)"
   ]
  },
  {
   "cell_type": "code",
   "execution_count": null,
   "id": "a8584ebc",
   "metadata": {},
   "outputs": [],
   "source": [
    "import seaborn as sns\n",
    "import pandas as pd\n",
    "dataset = sns.load_dataset(\"iris\")\n",
    "dataset.head(1)"
   ]
  },
  {
   "cell_type": "markdown",
   "id": "5af23a76",
   "metadata": {},
   "source": [
    "# 🔧 Tool: matplotlib\n",
    "\n",
    "**Dataset:** iris\n",
    "**난이도:** 중하\n",
    "\n",
    "**Q.** * 생존자와 사망자의 평균 기온이 비교되는지 확인 (30점)"
   ]
  },
  {
   "cell_type": "code",
   "execution_count": null,
   "id": "79ea2800",
   "metadata": {},
   "outputs": [],
   "source": [
    "import seaborn as sns\n",
    "import pandas as pd\n",
    "dataset = sns.load_dataset(\"iris\")\n",
    "dataset.head(1)"
   ]
  },
  {
   "cell_type": "markdown",
   "id": "7d3d5897",
   "metadata": {},
   "source": [
    "# 🔧 Tool: matplotlib\n",
    "\n",
    "**Dataset:** iris\n",
    "**난이도:** 중하\n",
    "\n",
    "**Q.** * 코드의 가독성 및 구조가 좋은지 확인 (30점)"
   ]
  },
  {
   "cell_type": "code",
   "execution_count": null,
   "id": "93e6f88a",
   "metadata": {},
   "outputs": [],
   "source": [
    "import seaborn as sns\n",
    "import pandas as pd\n",
    "dataset = sns.load_dataset(\"iris\")\n",
    "dataset.head(1)"
   ]
  },
  {
   "cell_type": "markdown",
   "id": "45c1c149",
   "metadata": {},
   "source": [
    "# 🔧 Tool: matplotlib\n",
    "\n",
    "**Dataset:** iris\n",
    "**난이도:** 중하\n",
    "\n",
    "**Q.** Total score: 100 points"
   ]
  },
  {
   "cell_type": "code",
   "execution_count": null,
   "id": "425a9bd6",
   "metadata": {},
   "outputs": [],
   "source": [
    "import seaborn as sns\n",
    "import pandas as pd\n",
    "dataset = sns.load_dataset(\"iris\")\n",
    "dataset.head(1)"
   ]
  },
  {
   "cell_type": "markdown",
   "id": "97ca05ad",
   "metadata": {},
   "source": [
    "# 🔧 Tool: matplotlib\n",
    "\n",
    "**Dataset:** tips\n",
    "**난이도:** 중\n",
    "\n",
    "**Q.** Here is a problem suitable for a matplotlib learning exercise, tailored to the given conditions:"
   ]
  },
  {
   "cell_type": "code",
   "execution_count": null,
   "id": "521e8cea",
   "metadata": {},
   "outputs": [],
   "source": [
    "import seaborn as sns\n",
    "import pandas as pd\n",
    "dataset = sns.load_dataset(\"tips\")\n",
    "dataset.head(1)"
   ]
  },
  {
   "cell_type": "markdown",
   "id": "42dded46",
   "metadata": {},
   "source": [
    "# 🔧 Tool: matplotlib\n",
    "\n",
    "**Dataset:** tips\n",
    "**난이도:** 중\n",
    "\n",
    "**Q.** **문제:**"
   ]
  },
  {
   "cell_type": "code",
   "execution_count": null,
   "id": "5e522733",
   "metadata": {},
   "outputs": [],
   "source": [
    "import seaborn as sns\n",
    "import pandas as pd\n",
    "dataset = sns.load_dataset(\"tips\")\n",
    "dataset.head(1)"
   ]
  },
  {
   "cell_type": "markdown",
   "id": "0cd1a9e3",
   "metadata": {},
   "source": [
    "# 🔧 Tool: matplotlib\n",
    "\n",
    "**Dataset:** tips\n",
    "**난이도:** 중\n",
    "\n",
    "**Q.** Titanic 의 생존자와 사망자의 분포를 분석하여, 생존자와 사망자의 숫자를 비교하고 그래프로 나타내시오."
   ]
  },
  {
   "cell_type": "code",
   "execution_count": null,
   "id": "50c4a25a",
   "metadata": {},
   "outputs": [],
   "source": [
    "import seaborn as sns\n",
    "import pandas as pd\n",
    "dataset = sns.load_dataset(\"tips\")\n",
    "dataset.head(1)"
   ]
  },
  {
   "cell_type": "markdown",
   "id": "91c931a6",
   "metadata": {},
   "source": [
    "# 🔧 Tool: matplotlib\n",
    "\n",
    "**Dataset:** tips\n",
    "**난이도:** 중\n",
    "\n",
    "**Q.** **데이터:**"
   ]
  },
  {
   "cell_type": "code",
   "execution_count": null,
   "id": "53708211",
   "metadata": {},
   "outputs": [],
   "source": [
    "import seaborn as sns\n",
    "import pandas as pd\n",
    "dataset = sns.load_dataset(\"tips\")\n",
    "dataset.head(1)"
   ]
  },
  {
   "cell_type": "markdown",
   "id": "421e476d",
   "metadata": {},
   "source": [
    "# 🔧 Tool: matplotlib\n",
    "\n",
    "**Dataset:** tips\n",
    "**난이도:** 중\n",
    "\n",
    "**Q.** - Titanic dataset (Survived, Pclass, Age, Sex)"
   ]
  },
  {
   "cell_type": "code",
   "execution_count": null,
   "id": "3ba60217",
   "metadata": {},
   "outputs": [],
   "source": [
    "import seaborn as sns\n",
    "import pandas as pd\n",
    "dataset = sns.load_dataset(\"tips\")\n",
    "dataset.head(1)"
   ]
  },
  {
   "cell_type": "markdown",
   "id": "51cf93d7",
   "metadata": {},
   "source": [
    "# 🔧 Tool: matplotlib\n",
    "\n",
    "**Dataset:** tips\n",
    "**난이도:** 중\n",
    "\n",
    "**Q.** **목표:**"
   ]
  },
  {
   "cell_type": "code",
   "execution_count": null,
   "id": "9069cfca",
   "metadata": {},
   "outputs": [],
   "source": [
    "import seaborn as sns\n",
    "import pandas as pd\n",
    "dataset = sns.load_dataset(\"tips\")\n",
    "dataset.head(1)"
   ]
  },
  {
   "cell_type": "markdown",
   "id": "affa845b",
   "metadata": {},
   "source": [
    "# 🔧 Tool: matplotlib\n",
    "\n",
    "**Dataset:** tips\n",
    "**난이도:** 중\n",
    "\n",
    "**Q.** - 생존자와 사망자의 숫자를 비교하여 그래프로 나타내시오."
   ]
  },
  {
   "cell_type": "code",
   "execution_count": null,
   "id": "87f79deb",
   "metadata": {},
   "outputs": [],
   "source": [
    "import seaborn as sns\n",
    "import pandas as pd\n",
    "dataset = sns.load_dataset(\"tips\")\n",
    "dataset.head(1)"
   ]
  },
  {
   "cell_type": "markdown",
   "id": "2969aa25",
   "metadata": {},
   "source": [
    "# 🔧 Tool: matplotlib\n",
    "\n",
    "**Dataset:** tips\n",
    "**난이도:** 중\n",
    "\n",
    "**Q.** - 그래프의 제목, 축 제목, 레이블 등을 한국어로 작성하여 읽기 쉽게 하시오."
   ]
  },
  {
   "cell_type": "code",
   "execution_count": null,
   "id": "27dd3eb7",
   "metadata": {},
   "outputs": [],
   "source": [
    "import seaborn as sns\n",
    "import pandas as pd\n",
    "dataset = sns.load_dataset(\"tips\")\n",
    "dataset.head(1)"
   ]
  },
  {
   "cell_type": "markdown",
   "id": "34da4c6c",
   "metadata": {},
   "source": [
    "# 🔧 Tool: matplotlib\n",
    "\n",
    "**Dataset:** tips\n",
    "**난이도:** 중\n",
    "\n",
    "**Q.** **난이도:** 중"
   ]
  },
  {
   "cell_type": "code",
   "execution_count": null,
   "id": "85f5ad74",
   "metadata": {},
   "outputs": [],
   "source": [
    "import seaborn as sns\n",
    "import pandas as pd\n",
    "dataset = sns.load_dataset(\"tips\")\n",
    "dataset.head(1)"
   ]
  },
  {
   "cell_type": "markdown",
   "id": "1750fe9c",
   "metadata": {},
   "source": [
    "# 🔧 Tool: matplotlib\n",
    "\n",
    "**Dataset:** tips\n",
    "**난이도:** 중\n",
    "\n",
    "**Q.** **참고:**"
   ]
  },
  {
   "cell_type": "code",
   "execution_count": null,
   "id": "0239b732",
   "metadata": {},
   "outputs": [],
   "source": [
    "import seaborn as sns\n",
    "import pandas as pd\n",
    "dataset = sns.load_dataset(\"tips\")\n",
    "dataset.head(1)"
   ]
  },
  {
   "cell_type": "markdown",
   "id": "2a4bfff0",
   "metadata": {},
   "source": [
    "# 🔧 Tool: matplotlib\n",
    "\n",
    "**Dataset:** tips\n",
    "**난이도:** 중\n",
    "\n",
    "**Q.** - matplotlib 라이브러리를 사용하여 그래프를 생성하세요."
   ]
  },
  {
   "cell_type": "code",
   "execution_count": null,
   "id": "6ceb7e77",
   "metadata": {},
   "outputs": [],
   "source": [
    "import seaborn as sns\n",
    "import pandas as pd\n",
    "dataset = sns.load_dataset(\"tips\")\n",
    "dataset.head(1)"
   ]
  },
  {
   "cell_type": "markdown",
   "id": "27fea772",
   "metadata": {},
   "source": [
    "# 🔧 Tool: matplotlib\n",
    "\n",
    "**Dataset:** tips\n",
    "**난이도:** 중\n",
    "\n",
    "**Q.** - 생존자와 사망자의 숫자를 비교하는 그래프를 생성하여, 데이터의 분포를 분석할 수 있도록 하시오."
   ]
  },
  {
   "cell_type": "code",
   "execution_count": null,
   "id": "18c3366a",
   "metadata": {},
   "outputs": [],
   "source": [
    "import seaborn as sns\n",
    "import pandas as pd\n",
    "dataset = sns.load_dataset(\"tips\")\n",
    "dataset.head(1)"
   ]
  },
  {
   "cell_type": "markdown",
   "id": "76cd6c73",
   "metadata": {},
   "source": [
    "# 🔧 Tool: matplotlib\n",
    "\n",
    "**Dataset:** tips\n",
    "**난이도:** 중\n",
    "\n",
    "**Q.** **Answer:**"
   ]
  },
  {
   "cell_type": "code",
   "execution_count": null,
   "id": "2fd00b88",
   "metadata": {},
   "outputs": [],
   "source": [
    "import seaborn as sns\n",
    "import pandas as pd\n",
    "dataset = sns.load_dataset(\"tips\")\n",
    "dataset.head(1)"
   ]
  },
  {
   "cell_type": "markdown",
   "id": "43949d93",
   "metadata": {},
   "source": [
    "# 🔧 Tool: matplotlib\n",
    "\n",
    "**Dataset:** tips\n",
    "**난이도:** 중\n",
    "\n",
    "**Q.** (Note: This is just a sample answer, please adjust according to your own solution)"
   ]
  },
  {
   "cell_type": "code",
   "execution_count": null,
   "id": "4ed2d8a2",
   "metadata": {},
   "outputs": [],
   "source": [
    "import seaborn as sns\n",
    "import pandas as pd\n",
    "dataset = sns.load_dataset(\"tips\")\n",
    "dataset.head(1)"
   ]
  },
  {
   "cell_type": "markdown",
   "id": "08b0ff82",
   "metadata": {},
   "source": [
    "# 🔧 Tool: matplotlib\n",
    "\n",
    "**Dataset:** tips\n",
    "**난이도:** 중\n",
    "\n",
    "**Q.** import matplotlib.pyplot as plt"
   ]
  },
  {
   "cell_type": "code",
   "execution_count": null,
   "id": "02207775",
   "metadata": {},
   "outputs": [],
   "source": [
    "import seaborn as sns\n",
    "import pandas as pd\n",
    "dataset = sns.load_dataset(\"tips\")\n",
    "dataset.head(1)"
   ]
  },
  {
   "cell_type": "markdown",
   "id": "746cf755",
   "metadata": {},
   "source": [
    "# 🔧 Tool: matplotlib\n",
    "\n",
    "**Dataset:** tips\n",
    "**난이도:** 중\n",
    "\n",
    "**Q.** import seaborn as sns"
   ]
  },
  {
   "cell_type": "code",
   "execution_count": null,
   "id": "e9650bde",
   "metadata": {},
   "outputs": [],
   "source": [
    "import seaborn as sns\n",
    "import pandas as pd\n",
    "dataset = sns.load_dataset(\"tips\")\n",
    "dataset.head(1)"
   ]
  },
  {
   "cell_type": "markdown",
   "id": "1e746eb0",
   "metadata": {},
   "source": [
    "# 🔧 Tool: matplotlib\n",
    "\n",
    "**Dataset:** tips\n",
    "**난이도:** 중\n",
    "\n",
    "**Q.** import pandas as pd"
   ]
  },
  {
   "cell_type": "code",
   "execution_count": null,
   "id": "8b152c92",
   "metadata": {},
   "outputs": [],
   "source": [
    "import seaborn as sns\n",
    "import pandas as pd\n",
    "dataset = sns.load_dataset(\"tips\")\n",
    "dataset.head(1)"
   ]
  },
  {
   "cell_type": "markdown",
   "id": "4208e773",
   "metadata": {},
   "source": [
    "# 🔧 Tool: matplotlib\n",
    "\n",
    "**Dataset:** tips\n",
    "**난이도:** 중\n",
    "\n",
    "**Q.** # Load Titanic dataset"
   ]
  },
  {
   "cell_type": "code",
   "execution_count": null,
   "id": "0bec15a1",
   "metadata": {},
   "outputs": [],
   "source": [
    "import seaborn as sns\n",
    "import pandas as pd\n",
    "dataset = sns.load_dataset(\"tips\")\n",
    "dataset.head(1)"
   ]
  },
  {
   "cell_type": "markdown",
   "id": "f9d2dce3",
   "metadata": {},
   "source": [
    "# 🔧 Tool: matplotlib\n",
    "\n",
    "**Dataset:** tips\n",
    "**난이도:** 중\n",
    "\n",
    "**Q.** titanic = pd.read_csv('titanic.csv')"
   ]
  },
  {
   "cell_type": "code",
   "execution_count": null,
   "id": "fd65d56b",
   "metadata": {},
   "outputs": [],
   "source": [
    "import seaborn as sns\n",
    "import pandas as pd\n",
    "dataset = sns.load_dataset(\"tips\")\n",
    "dataset.head(1)"
   ]
  },
  {
   "cell_type": "markdown",
   "id": "13e3eb2f",
   "metadata": {},
   "source": [
    "# 🔧 Tool: matplotlib\n",
    "\n",
    "**Dataset:** tips\n",
    "**난이도:** 중\n",
    "\n",
    "**Q.** # Count the number of survivors and non-survivors"
   ]
  },
  {
   "cell_type": "code",
   "execution_count": null,
   "id": "c8a28a77",
   "metadata": {},
   "outputs": [],
   "source": [
    "import seaborn as sns\n",
    "import pandas as pd\n",
    "dataset = sns.load_dataset(\"tips\")\n",
    "dataset.head(1)"
   ]
  },
  {
   "cell_type": "markdown",
   "id": "817fedd7",
   "metadata": {},
   "source": [
    "# 🔧 Tool: matplotlib\n",
    "\n",
    "**Dataset:** tips\n",
    "**난이도:** 중\n",
    "\n",
    "**Q.** survived = titanic[titanic['Survived'] == 1].shape[0]"
   ]
  },
  {
   "cell_type": "code",
   "execution_count": null,
   "id": "4c1c6bf4",
   "metadata": {},
   "outputs": [],
   "source": [
    "import seaborn as sns\n",
    "import pandas as pd\n",
    "dataset = sns.load_dataset(\"tips\")\n",
    "dataset.head(1)"
   ]
  },
  {
   "cell_type": "markdown",
   "id": "443a25a9",
   "metadata": {},
   "source": [
    "# 🔧 Tool: matplotlib\n",
    "\n",
    "**Dataset:** tips\n",
    "**난이도:** 중\n",
    "\n",
    "**Q.** not_survived = titanic[titanic['Survived'] == 0].shape[0]"
   ]
  },
  {
   "cell_type": "code",
   "execution_count": null,
   "id": "bf4e35f0",
   "metadata": {},
   "outputs": [],
   "source": [
    "import seaborn as sns\n",
    "import pandas as pd\n",
    "dataset = sns.load_dataset(\"tips\")\n",
    "dataset.head(1)"
   ]
  },
  {
   "cell_type": "markdown",
   "id": "18557ba0",
   "metadata": {},
   "source": [
    "# 🔧 Tool: matplotlib\n",
    "\n",
    "**Dataset:** tips\n",
    "**난이도:** 중\n",
    "\n",
    "**Q.** # Create a pie chart"
   ]
  },
  {
   "cell_type": "code",
   "execution_count": null,
   "id": "b1a26e0c",
   "metadata": {},
   "outputs": [],
   "source": [
    "import seaborn as sns\n",
    "import pandas as pd\n",
    "dataset = sns.load_dataset(\"tips\")\n",
    "dataset.head(1)"
   ]
  },
  {
   "cell_type": "markdown",
   "id": "14ff90c6",
   "metadata": {},
   "source": [
    "# 🔧 Tool: matplotlib\n",
    "\n",
    "**Dataset:** tips\n",
    "**난이도:** 중\n",
    "\n",
    "**Q.** plt.figure(figsize=(8, 6))"
   ]
  },
  {
   "cell_type": "code",
   "execution_count": null,
   "id": "c2dd56e5",
   "metadata": {},
   "outputs": [],
   "source": [
    "import seaborn as sns\n",
    "import pandas as pd\n",
    "dataset = sns.load_dataset(\"tips\")\n",
    "dataset.head(1)"
   ]
  },
  {
   "cell_type": "markdown",
   "id": "902efe5f",
   "metadata": {},
   "source": [
    "# 🔧 Tool: matplotlib\n",
    "\n",
    "**Dataset:** tips\n",
    "**난이도:** 중\n",
    "\n",
    "**Q.** plt.pie([survived, not_survived], labels=['생존자', '사망자'], autopct='%1.1f%%')"
   ]
  },
  {
   "cell_type": "code",
   "execution_count": null,
   "id": "a38919e9",
   "metadata": {},
   "outputs": [],
   "source": [
    "import seaborn as sns\n",
    "import pandas as pd\n",
    "dataset = sns.load_dataset(\"tips\")\n",
    "dataset.head(1)"
   ]
  },
  {
   "cell_type": "markdown",
   "id": "879b0eb3",
   "metadata": {},
   "source": [
    "# 🔧 Tool: matplotlib\n",
    "\n",
    "**Dataset:** tips\n",
    "**난이도:** 중\n",
    "\n",
    "**Q.** plt.title('Titanic 생존자와 사망자의 분포')"
   ]
  },
  {
   "cell_type": "code",
   "execution_count": null,
   "id": "461c6aa0",
   "metadata": {},
   "outputs": [],
   "source": [
    "import seaborn as sns\n",
    "import pandas as pd\n",
    "dataset = sns.load_dataset(\"tips\")\n",
    "dataset.head(1)"
   ]
  },
  {
   "cell_type": "markdown",
   "id": "629a5caf",
   "metadata": {},
   "source": [
    "# 🔧 Tool: matplotlib\n",
    "\n",
    "**Dataset:** tips\n",
    "**난이도:** 중\n",
    "\n",
    "**Q.** plt.show()"
   ]
  },
  {
   "cell_type": "code",
   "execution_count": null,
   "id": "6106bfed",
   "metadata": {},
   "outputs": [],
   "source": [
    "import seaborn as sns\n",
    "import pandas as pd\n",
    "dataset = sns.load_dataset(\"tips\")\n",
    "dataset.head(1)"
   ]
  },
  {
   "cell_type": "markdown",
   "id": "2e9f786c",
   "metadata": {},
   "source": [
    "# 🔧 Tool: matplotlib\n",
    "\n",
    "**Dataset:** tips\n",
    "**난이도:** 중\n",
    "\n",
    "**Q.** This problem is designed to be moderately challenging, requiring the use of matplotlib to create a pie chart that compares the number of survivors and non-survivors in the Titanic dataset. The problem also requires the use of Korean language in the graph's title, axis labels, and legend."
   ]
  },
  {
   "cell_type": "code",
   "execution_count": null,
   "id": "5d0ff1f1",
   "metadata": {},
   "outputs": [],
   "source": [
    "import seaborn as sns\n",
    "import pandas as pd\n",
    "dataset = sns.load_dataset(\"tips\")\n",
    "dataset.head(1)"
   ]
  },
  {
   "cell_type": "markdown",
   "id": "6ecf1398",
   "metadata": {},
   "source": [
    "# 🔧 Tool: matplotlib\n",
    "\n",
    "**Dataset:** iris\n",
    "**난이도:** 하\n",
    "\n",
    "**Q.** Here's a problem that meets the conditions:"
   ]
  },
  {
   "cell_type": "code",
   "execution_count": null,
   "id": "53c77499",
   "metadata": {},
   "outputs": [],
   "source": [
    "import seaborn as sns\n",
    "import pandas as pd\n",
    "dataset = sns.load_dataset(\"iris\")\n",
    "dataset.head(1)"
   ]
  },
  {
   "cell_type": "markdown",
   "id": "e7e65daa",
   "metadata": {},
   "source": [
    "# 🔧 Tool: matplotlib\n",
    "\n",
    "**Dataset:** iris\n",
    "**난이도:** 하\n",
    "\n",
    "**Q.** **문제:** iris 데이터셋에서 꽃의 품종별로 sepallength와 petalength의 평균을 비교하는 그래프를 생성하세요."
   ]
  },
  {
   "cell_type": "code",
   "execution_count": null,
   "id": "066d5d81",
   "metadata": {},
   "outputs": [],
   "source": [
    "import seaborn as sns\n",
    "import pandas as pd\n",
    "dataset = sns.load_dataset(\"iris\")\n",
    "dataset.head(1)"
   ]
  },
  {
   "cell_type": "markdown",
   "id": "862e3e74",
   "metadata": {},
   "source": [
    "# 🔧 Tool: matplotlib\n",
    "\n",
    "**Dataset:** iris\n",
    "**난이도:** 하\n",
    "\n",
    "**Q.** **Description:** iris 데이터셋에는 세 종류의 꽃(setsosa, versicolor, virginica)과 각 꽃의 sepallength, petalength 정보가 있습니다. 이 문제에서는 세 종류의 꽃의 sepallength와 petalength의 평균을 비교하는 그래프를 생성하여 꽃의 품종별 특징을 분석하세요."
   ]
  },
  {
   "cell_type": "code",
   "execution_count": null,
   "id": "13b494b3",
   "metadata": {},
   "outputs": [],
   "source": [
    "import seaborn as sns\n",
    "import pandas as pd\n",
    "dataset = sns.load_dataset(\"iris\")\n",
    "dataset.head(1)"
   ]
  },
  {
   "cell_type": "markdown",
   "id": "16c82973",
   "metadata": {},
   "source": [
    "# 🔧 Tool: matplotlib\n",
    "\n",
    "**Dataset:** iris\n",
    "**난이도:** 하\n",
    "\n",
    "**Q.** **Requirements:**"
   ]
  },
  {
   "cell_type": "code",
   "execution_count": null,
   "id": "f9c6cff2",
   "metadata": {},
   "outputs": [],
   "source": [
    "import seaborn as sns\n",
    "import pandas as pd\n",
    "dataset = sns.load_dataset(\"iris\")\n",
    "dataset.head(1)"
   ]
  },
  {
   "cell_type": "markdown",
   "id": "70c40815",
   "metadata": {},
   "source": [
    "# 🔧 Tool: matplotlib\n",
    "\n",
    "**Dataset:** iris\n",
    "**난이도:** 하\n",
    "\n",
    "**Q.** * 사용할 데이터셋: iris"
   ]
  },
  {
   "cell_type": "code",
   "execution_count": null,
   "id": "40b76aa5",
   "metadata": {},
   "outputs": [],
   "source": [
    "import seaborn as sns\n",
    "import pandas as pd\n",
    "dataset = sns.load_dataset(\"iris\")\n",
    "dataset.head(1)"
   ]
  },
  {
   "cell_type": "markdown",
   "id": "55e3f16b",
   "metadata": {},
   "source": [
    "# 🔧 Tool: matplotlib\n",
    "\n",
    "**Dataset:** iris\n",
    "**난이도:** 하\n",
    "\n",
    "**Q.** * 그래프 종류: bar chart"
   ]
  },
  {
   "cell_type": "code",
   "execution_count": null,
   "id": "478ed0a7",
   "metadata": {},
   "outputs": [],
   "source": [
    "import seaborn as sns\n",
    "import pandas as pd\n",
    "dataset = sns.load_dataset(\"iris\")\n",
    "dataset.head(1)"
   ]
  },
  {
   "cell_type": "markdown",
   "id": "8b660502",
   "metadata": {},
   "source": [
    "# 🔧 Tool: matplotlib\n",
    "\n",
    "**Dataset:** iris\n",
    "**난이도:** 하\n",
    "\n",
    "**Q.** * 그래프에 표시할 정보: sepallength와 petalength의 평균"
   ]
  },
  {
   "cell_type": "code",
   "execution_count": null,
   "id": "4a15efe3",
   "metadata": {},
   "outputs": [],
   "source": [
    "import seaborn as sns\n",
    "import pandas as pd\n",
    "dataset = sns.load_dataset(\"iris\")\n",
    "dataset.head(1)"
   ]
  },
  {
   "cell_type": "markdown",
   "id": "868820a3",
   "metadata": {},
   "source": [
    "# 🔧 Tool: matplotlib\n",
    "\n",
    "**Dataset:** iris\n",
    "**난이도:** 하\n",
    "\n",
    "**Q.** * 꽃의 품종별로 구분하여 표시: setsosa, versicolor, virginica"
   ]
  },
  {
   "cell_type": "code",
   "execution_count": null,
   "id": "b7de2459",
   "metadata": {},
   "outputs": [],
   "source": [
    "import seaborn as sns\n",
    "import pandas as pd\n",
    "dataset = sns.load_dataset(\"iris\")\n",
    "dataset.head(1)"
   ]
  },
  {
   "cell_type": "markdown",
   "id": "6c854c02",
   "metadata": {},
   "source": [
    "# 🔧 Tool: matplotlib\n",
    "\n",
    "**Dataset:** iris\n",
    "**난이도:** 하\n",
    "\n",
    "**Q.** * 그래프 제목과 축 레이블, LEGEND는 한국어로 작성"
   ]
  },
  {
   "cell_type": "code",
   "execution_count": null,
   "id": "4d82e14f",
   "metadata": {},
   "outputs": [],
   "source": [
    "import seaborn as sns\n",
    "import pandas as pd\n",
    "dataset = sns.load_dataset(\"iris\")\n",
    "dataset.head(1)"
   ]
  },
  {
   "cell_type": "markdown",
   "id": "d9db7b92",
   "metadata": {},
   "source": [
    "# 🔧 Tool: matplotlib\n",
    "\n",
    "**Dataset:** iris\n",
    "**난이도:** 하\n",
    "\n",
    "**Q.** **Hint:** You can use the `matplotlib` library to create the graph. You can use the `mean` function to calculate the average sepallength and petalength for each species. You can also use the `errorbar` function to add error bars to the graph if you want to show the standard deviation of the data."
   ]
  },
  {
   "cell_type": "code",
   "execution_count": null,
   "id": "a46d4f6f",
   "metadata": {},
   "outputs": [],
   "source": [
    "import seaborn as sns\n",
    "import pandas as pd\n",
    "dataset = sns.load_dataset(\"iris\")\n",
    "dataset.head(1)"
   ]
  },
  {
   "cell_type": "markdown",
   "id": "0a3e091c",
   "metadata": {},
   "source": [
    "# 🔧 Tool: matplotlib\n",
    "\n",
    "**Dataset:** iris\n",
    "**난이도:** 하\n",
    "\n",
    "**Q.** I hope this problem is suitable for your needs! Let me know if you need any further modifications. 😊"
   ]
  },
  {
   "cell_type": "code",
   "execution_count": null,
   "id": "81ea32f8",
   "metadata": {},
   "outputs": [],
   "source": [
    "import seaborn as sns\n",
    "import pandas as pd\n",
    "dataset = sns.load_dataset(\"iris\")\n",
    "dataset.head(1)"
   ]
  },
  {
   "cell_type": "markdown",
   "id": "66377688",
   "metadata": {},
   "source": [
    "# 🔧 Tool: matplotlib\n",
    "\n",
    "**Dataset:** tips\n",
    "**난이도:** 중하\n",
    "\n",
    "**Q.** Here's a problem that fits the conditions:"
   ]
  },
  {
   "cell_type": "code",
   "execution_count": null,
   "id": "875b5ef6",
   "metadata": {},
   "outputs": [],
   "source": [
    "import seaborn as sns\n",
    "import pandas as pd\n",
    "dataset = sns.load_dataset(\"tips\")\n",
    "dataset.head(1)"
   ]
  },
  {
   "cell_type": "markdown",
   "id": "965c6195",
   "metadata": {},
   "source": [
    "# 🔧 Tool: matplotlib\n",
    "\n",
    "**Dataset:** tips\n",
    "**난이도:** 중하\n",
    "\n",
    "**Q.** **문제:** iris 데이터셋을 사용하여 matplotlib 라이브러리를 사용하여 Sepal Length, Sepal Width, Petal Length, Petal Width의 4가지 특성에 대한 분포를 보여주는 히스토그램을 생성하세요. furthermore, 4가지 특성에 대한 각 클래스의 평균을 표시하세요."
   ]
  },
  {
   "cell_type": "code",
   "execution_count": null,
   "id": "0e1ad8c1",
   "metadata": {},
   "outputs": [],
   "source": [
    "import seaborn as sns\n",
    "import pandas as pd\n",
    "dataset = sns.load_dataset(\"tips\")\n",
    "dataset.head(1)"
   ]
  },
  {
   "cell_type": "markdown",
   "id": "fff7597c",
   "metadata": {},
   "source": [
    "# 🔧 Tool: matplotlib\n",
    "\n",
    "**Dataset:** tips\n",
    "**난이도:** 중하\n",
    "\n",
    "**Q.** **Constraints:**"
   ]
  },
  {
   "cell_type": "code",
   "execution_count": null,
   "id": "8844f662",
   "metadata": {},
   "outputs": [],
   "source": [
    "import seaborn as sns\n",
    "import pandas as pd\n",
    "dataset = sns.load_dataset(\"tips\")\n",
    "dataset.head(1)"
   ]
  },
  {
   "cell_type": "markdown",
   "id": "f9ee8f70",
   "metadata": {},
   "source": [
    "# 🔧 Tool: matplotlib\n",
    "\n",
    "**Dataset:** tips\n",
    "**난이도:** 중하\n",
    "\n",
    "**Q.** * 데이터셋: iris"
   ]
  },
  {
   "cell_type": "code",
   "execution_count": null,
   "id": "9de340f9",
   "metadata": {},
   "outputs": [],
   "source": [
    "import seaborn as sns\n",
    "import pandas as pd\n",
    "dataset = sns.load_dataset(\"tips\")\n",
    "dataset.head(1)"
   ]
  },
  {
   "cell_type": "markdown",
   "id": "5392d176",
   "metadata": {},
   "source": [
    "# 🔧 Tool: matplotlib\n",
    "\n",
    "**Dataset:** tips\n",
    "**난이도:** 중하\n",
    "\n",
    "**Q.** * 난이도: 중"
   ]
  },
  {
   "cell_type": "code",
   "execution_count": null,
   "id": "e21e2c6b",
   "metadata": {},
   "outputs": [],
   "source": [
    "import seaborn as sns\n",
    "import pandas as pd\n",
    "dataset = sns.load_dataset(\"tips\")\n",
    "dataset.head(1)"
   ]
  },
  {
   "cell_type": "markdown",
   "id": "e03dd982",
   "metadata": {},
   "source": [
    "# 🔧 Tool: matplotlib\n",
    "\n",
    "**Dataset:** tips\n",
    "**난이도:** 중하\n",
    "\n",
    "**Q.** * 문제 언어: 한국어"
   ]
  },
  {
   "cell_type": "code",
   "execution_count": null,
   "id": "f9a2303f",
   "metadata": {},
   "outputs": [],
   "source": [
    "import seaborn as sns\n",
    "import pandas as pd\n",
    "dataset = sns.load_dataset(\"tips\")\n",
    "dataset.head(1)"
   ]
  },
  {
   "cell_type": "markdown",
   "id": "6fe41945",
   "metadata": {},
   "source": [
    "# 🔧 Tool: matplotlib\n",
    "\n",
    "**Dataset:** tips\n",
    "**난이도:** 중하\n",
    "\n",
    "**Q.** **Expected Output:**"
   ]
  },
  {
   "cell_type": "code",
   "execution_count": null,
   "id": "1b63f96b",
   "metadata": {},
   "outputs": [],
   "source": [
    "import seaborn as sns\n",
    "import pandas as pd\n",
    "dataset = sns.load_dataset(\"tips\")\n",
    "dataset.head(1)"
   ]
  },
  {
   "cell_type": "markdown",
   "id": "290075de",
   "metadata": {},
   "source": [
    "# 🔧 Tool: matplotlib\n",
    "\n",
    "**Dataset:** tips\n",
    "**난이도:** 중하\n",
    "\n",
    "**Q.** * A histogram that shows the distribution of Sepal Length, Sepal Width, Petal Length, and Petal Width for the iris dataset."
   ]
  },
  {
   "cell_type": "code",
   "execution_count": null,
   "id": "78ddadb6",
   "metadata": {},
   "outputs": [],
   "source": [
    "import seaborn as sns\n",
    "import pandas as pd\n",
    "dataset = sns.load_dataset(\"tips\")\n",
    "dataset.head(1)"
   ]
  },
  {
   "cell_type": "markdown",
   "id": "79f6ec79",
   "metadata": {},
   "source": [
    "# 🔧 Tool: matplotlib\n",
    "\n",
    "**Dataset:** tips\n",
    "**난이도:** 중하\n",
    "\n",
    "**Q.** * Each class (Setosa, Versicolor, and Virginica) should be represented in the histogram."
   ]
  },
  {
   "cell_type": "code",
   "execution_count": null,
   "id": "84753da5",
   "metadata": {},
   "outputs": [],
   "source": [
    "import seaborn as sns\n",
    "import pandas as pd\n",
    "dataset = sns.load_dataset(\"tips\")\n",
    "dataset.head(1)"
   ]
  },
  {
   "cell_type": "markdown",
   "id": "ba987b8d",
   "metadata": {},
   "source": [
    "# 🔧 Tool: matplotlib\n",
    "\n",
    "**Dataset:** tips\n",
    "**난이도:** 중하\n",
    "\n",
    "**Q.** * The average value for each class should be displayed on the histogram."
   ]
  },
  {
   "cell_type": "code",
   "execution_count": null,
   "id": "2a030f1d",
   "metadata": {},
   "outputs": [],
   "source": [
    "import seaborn as sns\n",
    "import pandas as pd\n",
    "dataset = sns.load_dataset(\"tips\")\n",
    "dataset.head(1)"
   ]
  },
  {
   "cell_type": "markdown",
   "id": "01e8046b",
   "metadata": {},
   "source": [
    "# 🔧 Tool: matplotlib\n",
    "\n",
    "**Dataset:** tips\n",
    "**난이도:** 중하\n",
    "\n",
    "**Q.** **Example Code:**"
   ]
  },
  {
   "cell_type": "code",
   "execution_count": null,
   "id": "50c52b08",
   "metadata": {},
   "outputs": [],
   "source": [
    "import seaborn as sns\n",
    "import pandas as pd\n",
    "dataset = sns.load_dataset(\"tips\")\n",
    "dataset.head(1)"
   ]
  },
  {
   "cell_type": "markdown",
   "id": "d1b9ebfd",
   "metadata": {},
   "source": [
    "# 🔧 Tool: matplotlib\n",
    "\n",
    "**Dataset:** tips\n",
    "**난이도:** 중하\n",
    "\n",
    "**Q.** ```python"
   ]
  },
  {
   "cell_type": "code",
   "execution_count": null,
   "id": "83d4c21d",
   "metadata": {},
   "outputs": [],
   "source": [
    "import seaborn as sns\n",
    "import pandas as pd\n",
    "dataset = sns.load_dataset(\"tips\")\n",
    "dataset.head(1)"
   ]
  },
  {
   "cell_type": "markdown",
   "id": "3b72d553",
   "metadata": {},
   "source": [
    "# 🔧 Tool: matplotlib\n",
    "\n",
    "**Dataset:** tips\n",
    "**난이도:** 중하\n",
    "\n",
    "**Q.** import matplotlib.pyplot as plt"
   ]
  },
  {
   "cell_type": "code",
   "execution_count": null,
   "id": "71998cca",
   "metadata": {},
   "outputs": [],
   "source": [
    "import seaborn as sns\n",
    "import pandas as pd\n",
    "dataset = sns.load_dataset(\"tips\")\n",
    "dataset.head(1)"
   ]
  },
  {
   "cell_type": "markdown",
   "id": "e5a4be08",
   "metadata": {},
   "source": [
    "# 🔧 Tool: matplotlib\n",
    "\n",
    "**Dataset:** tips\n",
    "**난이도:** 중하\n",
    "\n",
    "**Q.** import seaborn as sns"
   ]
  },
  {
   "cell_type": "code",
   "execution_count": null,
   "id": "a66ff0ab",
   "metadata": {},
   "outputs": [],
   "source": [
    "import seaborn as sns\n",
    "import pandas as pd\n",
    "dataset = sns.load_dataset(\"tips\")\n",
    "dataset.head(1)"
   ]
  },
  {
   "cell_type": "markdown",
   "id": "e4fcede0",
   "metadata": {},
   "source": [
    "# 🔧 Tool: matplotlib\n",
    "\n",
    "**Dataset:** tips\n",
    "**난이도:** 중하\n",
    "\n",
    "**Q.** from sklearn.datasets import load_iris"
   ]
  },
  {
   "cell_type": "code",
   "execution_count": null,
   "id": "7b0e2fc9",
   "metadata": {},
   "outputs": [],
   "source": [
    "import seaborn as sns\n",
    "import pandas as pd\n",
    "dataset = sns.load_dataset(\"tips\")\n",
    "dataset.head(1)"
   ]
  },
  {
   "cell_type": "markdown",
   "id": "62fd4402",
   "metadata": {},
   "source": [
    "# 🔧 Tool: matplotlib\n",
    "\n",
    "**Dataset:** tips\n",
    "**난이도:** 중하\n",
    "\n",
    "**Q.** iris = load_iris()"
   ]
  },
  {
   "cell_type": "code",
   "execution_count": null,
   "id": "8a3288cd",
   "metadata": {},
   "outputs": [],
   "source": [
    "import seaborn as sns\n",
    "import pandas as pd\n",
    "dataset = sns.load_dataset(\"tips\")\n",
    "dataset.head(1)"
   ]
  },
  {
   "cell_type": "markdown",
   "id": "7d66a347",
   "metadata": {},
   "source": [
    "# 🔧 Tool: matplotlib\n",
    "\n",
    "**Dataset:** tips\n",
    "**난이도:** 중하\n",
    "\n",
    "**Q.** sns.set()"
   ]
  },
  {
   "cell_type": "code",
   "execution_count": null,
   "id": "6170e40e",
   "metadata": {},
   "outputs": [],
   "source": [
    "import seaborn as sns\n",
    "import pandas as pd\n",
    "dataset = sns.load_dataset(\"tips\")\n",
    "dataset.head(1)"
   ]
  },
  {
   "cell_type": "markdown",
   "id": "efa3fb1c",
   "metadata": {},
   "source": [
    "# 🔧 Tool: matplotlib\n",
    "\n",
    "**Dataset:** tips\n",
    "**난이도:** 중하\n",
    "\n",
    "**Q.** plt.figure(figsize=(8, 6))"
   ]
  },
  {
   "cell_type": "code",
   "execution_count": null,
   "id": "0d48cdc6",
   "metadata": {},
   "outputs": [],
   "source": [
    "import seaborn as sns\n",
    "import pandas as pd\n",
    "dataset = sns.load_dataset(\"tips\")\n",
    "dataset.head(1)"
   ]
  },
  {
   "cell_type": "markdown",
   "id": "619b9931",
   "metadata": {},
   "source": [
    "# 🔧 Tool: matplotlib\n",
    "\n",
    "**Dataset:** tips\n",
    "**난이도:** 중하\n",
    "\n",
    "**Q.** sns.histplot(x='sepal length (cm)', data=iris, hue='class', bins=50)"
   ]
  },
  {
   "cell_type": "code",
   "execution_count": null,
   "id": "89b913e8",
   "metadata": {},
   "outputs": [],
   "source": [
    "import seaborn as sns\n",
    "import pandas as pd\n",
    "dataset = sns.load_dataset(\"tips\")\n",
    "dataset.head(1)"
   ]
  },
  {
   "cell_type": "markdown",
   "id": "55ce179c",
   "metadata": {},
   "source": [
    "# 🔧 Tool: matplotlib\n",
    "\n",
    "**Dataset:** tips\n",
    "**난이도:** 중하\n",
    "\n",
    "**Q.** plt.title('iris 데이터셋 특성 분포')"
   ]
  },
  {
   "cell_type": "code",
   "execution_count": null,
   "id": "d9a36e69",
   "metadata": {},
   "outputs": [],
   "source": [
    "import seaborn as sns\n",
    "import pandas as pd\n",
    "dataset = sns.load_dataset(\"tips\")\n",
    "dataset.head(1)"
   ]
  },
  {
   "cell_type": "markdown",
   "id": "08db2d49",
   "metadata": {},
   "source": [
    "# 🔧 Tool: matplotlib\n",
    "\n",
    "**Dataset:** tips\n",
    "**난이도:** 중하\n",
    "\n",
    "**Q.** plt.xlabel('길이 (cm)')"
   ]
  },
  {
   "cell_type": "code",
   "execution_count": null,
   "id": "91644bf0",
   "metadata": {},
   "outputs": [],
   "source": [
    "import seaborn as sns\n",
    "import pandas as pd\n",
    "dataset = sns.load_dataset(\"tips\")\n",
    "dataset.head(1)"
   ]
  },
  {
   "cell_type": "markdown",
   "id": "699564c7",
   "metadata": {},
   "source": [
    "# 🔧 Tool: matplotlib\n",
    "\n",
    "**Dataset:** tips\n",
    "**난이도:** 중하\n",
    "\n",
    "**Q.** plt.ylabel('빈도')"
   ]
  },
  {
   "cell_type": "code",
   "execution_count": null,
   "id": "90336c00",
   "metadata": {},
   "outputs": [],
   "source": [
    "import seaborn as sns\n",
    "import pandas as pd\n",
    "dataset = sns.load_dataset(\"tips\")\n",
    "dataset.head(1)"
   ]
  },
  {
   "cell_type": "markdown",
   "id": "da01a4f0",
   "metadata": {},
   "source": [
    "# 🔧 Tool: matplotlib\n",
    "\n",
    "**Dataset:** tips\n",
    "**난이도:** 중하\n",
    "\n",
    "**Q.** plt.legend(title='클래스')"
   ]
  },
  {
   "cell_type": "code",
   "execution_count": null,
   "id": "f5c6c158",
   "metadata": {},
   "outputs": [],
   "source": [
    "import seaborn as sns\n",
    "import pandas as pd\n",
    "dataset = sns.load_dataset(\"tips\")\n",
    "dataset.head(1)"
   ]
  },
  {
   "cell_type": "markdown",
   "id": "8da537f6",
   "metadata": {},
   "source": [
    "# 🔧 Tool: matplotlib\n",
    "\n",
    "**Dataset:** tips\n",
    "**난이도:** 중하\n",
    "\n",
    "**Q.** plt.show()"
   ]
  },
  {
   "cell_type": "code",
   "execution_count": null,
   "id": "970c7c46",
   "metadata": {},
   "outputs": [],
   "source": [
    "import seaborn as sns\n",
    "import pandas as pd\n",
    "dataset = sns.load_dataset(\"tips\")\n",
    "dataset.head(1)"
   ]
  },
  {
   "cell_type": "markdown",
   "id": "eda78469",
   "metadata": {},
   "source": [
    "# 🔧 Tool: matplotlib\n",
    "\n",
    "**Dataset:** tips\n",
    "**난이도:** 중하\n",
    "\n",
    "**Q.** This problem requires the use of matplotlib to create a histogram that shows the distribution of the 4 features in the iris dataset. It also requires the use of Korean language in the graph's title, axis labels, and legend. The problem is moderately challenging, as it requires the use of a specific dataset, the creation of a histogram, and the display of class averages."
   ]
  },
  {
   "cell_type": "code",
   "execution_count": null,
   "id": "b22658b5",
   "metadata": {},
   "outputs": [],
   "source": [
    "import seaborn as sns\n",
    "import pandas as pd\n",
    "dataset = sns.load_dataset(\"tips\")\n",
    "dataset.head(1)"
   ]
  },
  {
   "cell_type": "markdown",
   "id": "57034ca1",
   "metadata": {},
   "source": [
    "# 🔧 Tool: matplotlib\n",
    "\n",
    "**Dataset:** titanic\n",
    "**난이도:** 중\n",
    "\n",
    "**Q.** Here's a problem that fits the conditions:"
   ]
  },
  {
   "cell_type": "code",
   "execution_count": null,
   "id": "07122027",
   "metadata": {},
   "outputs": [],
   "source": [
    "import seaborn as sns\n",
    "import pandas as pd\n",
    "dataset = sns.load_dataset(\"titanic\")\n",
    "dataset.head(1)"
   ]
  },
  {
   "cell_type": "markdown",
   "id": "dad6442f",
   "metadata": {},
   "source": [
    "# 🔧 Tool: matplotlib\n",
    "\n",
    "**Dataset:** titanic\n",
    "**난이도:** 중\n",
    "\n",
    "**Q.** **문제:** Iris 꽃의 특징을 보여주는 bar chart를 생성하여, 세 가지 종류의 꽃(A, C, V) 중 어떤 종류의 꽃이 가장 큰 특징을 갖추고 있는지 분석하여주세요."
   ]
  },
  {
   "cell_type": "code",
   "execution_count": null,
   "id": "556e8666",
   "metadata": {},
   "outputs": [],
   "source": [
    "import seaborn as sns\n",
    "import pandas as pd\n",
    "dataset = sns.load_dataset(\"titanic\")\n",
    "dataset.head(1)"
   ]
  },
  {
   "cell_type": "markdown",
   "id": "4fb2d54a",
   "metadata": {},
   "source": [
    "# 🔧 Tool: matplotlib\n",
    "\n",
    "**Dataset:** titanic\n",
    "**난이도:** 중\n",
    "\n",
    "**Q.** **데이터:** iris dataset"
   ]
  },
  {
   "cell_type": "code",
   "execution_count": null,
   "id": "c1404774",
   "metadata": {},
   "outputs": [],
   "source": [
    "import seaborn as sns\n",
    "import pandas as pd\n",
    "dataset = sns.load_dataset(\"titanic\")\n",
    "dataset.head(1)"
   ]
  },
  {
   "cell_type": "markdown",
   "id": "9a59663e",
   "metadata": {},
   "source": [
    "# 🔧 Tool: matplotlib\n",
    "\n",
    "**Dataset:** titanic\n",
    "**난이도:** 중\n",
    "\n",
    "**Q.** **요구 사항:**"
   ]
  },
  {
   "cell_type": "code",
   "execution_count": null,
   "id": "13a636a8",
   "metadata": {},
   "outputs": [],
   "source": [
    "import seaborn as sns\n",
    "import pandas as pd\n",
    "dataset = sns.load_dataset(\"titanic\")\n",
    "dataset.head(1)"
   ]
  },
  {
   "cell_type": "markdown",
   "id": "574e1f07",
   "metadata": {},
   "source": [
    "# 🔧 Tool: matplotlib\n",
    "\n",
    "**Dataset:** titanic\n",
    "**난이도:** 중\n",
    "\n",
    "**Q.** * bar chart를 사용하여 세 가지 종류의 꽃(A, C, V) 중 Sepal Length, Sepal Width, Petal Length, Petal Width의 특징을 보여주세요."
   ]
  },
  {
   "cell_type": "code",
   "execution_count": null,
   "id": "78b088c3",
   "metadata": {},
   "outputs": [],
   "source": [
    "import seaborn as sns\n",
    "import pandas as pd\n",
    "dataset = sns.load_dataset(\"titanic\")\n",
    "dataset.head(1)"
   ]
  },
  {
   "cell_type": "markdown",
   "id": "e9a89b73",
   "metadata": {},
   "source": [
    "# 🔧 Tool: matplotlib\n",
    "\n",
    "**Dataset:** titanic\n",
    "**난이도:** 중\n",
    "\n",
    "**Q.** * 그래프의 제목은 \"Iris 꽃의 특징\"으로, x축은 \"Feature\" (Sepal Length, Sepal Width, Petal Length, Petal Width), y축은 \"Value\"로 설정하여주세요."
   ]
  },
  {
   "cell_type": "code",
   "execution_count": null,
   "id": "176fd8b5",
   "metadata": {},
   "outputs": [],
   "source": [
    "import seaborn as sns\n",
    "import pandas as pd\n",
    "dataset = sns.load_dataset(\"titanic\")\n",
    "dataset.head(1)"
   ]
  },
  {
   "cell_type": "markdown",
   "id": "7c56f072",
   "metadata": {},
   "source": [
    "# 🔧 Tool: matplotlib\n",
    "\n",
    "**Dataset:** titanic\n",
    "**난이도:** 중\n",
    "\n",
    "**Q.** * 각 그래프의 제목과 x축, y축의 레이블은 한국어로 작성하여주세요."
   ]
  },
  {
   "cell_type": "code",
   "execution_count": null,
   "id": "bb7673af",
   "metadata": {},
   "outputs": [],
   "source": [
    "import seaborn as sns\n",
    "import pandas as pd\n",
    "dataset = sns.load_dataset(\"titanic\")\n",
    "dataset.head(1)"
   ]
  },
  {
   "cell_type": "markdown",
   "id": "344ed7b5",
   "metadata": {},
   "source": [
    "# 🔧 Tool: matplotlib\n",
    "\n",
    "**Dataset:** titanic\n",
    "**난이도:** 중\n",
    "\n",
    "**Q.** * 그래프에서 가장 큰 특징을 갖추고 있는 종류의 꽃을 분석하여, 결과를 한 문장으로 정리하여주세요."
   ]
  },
  {
   "cell_type": "code",
   "execution_count": null,
   "id": "39b5c59f",
   "metadata": {},
   "outputs": [],
   "source": [
    "import seaborn as sns\n",
    "import pandas as pd\n",
    "dataset = sns.load_dataset(\"titanic\")\n",
    "dataset.head(1)"
   ]
  },
  {
   "cell_type": "markdown",
   "id": "bad839fa",
   "metadata": {},
   "source": [
    "# 🔧 Tool: matplotlib\n",
    "\n",
    "**Dataset:** titanic\n",
    "**난이도:** 중\n",
    "\n",
    "**Q.** **예시:**"
   ]
  },
  {
   "cell_type": "code",
   "execution_count": null,
   "id": "91eb2a51",
   "metadata": {},
   "outputs": [],
   "source": [
    "import seaborn as sns\n",
    "import pandas as pd\n",
    "dataset = sns.load_dataset(\"titanic\")\n",
    "dataset.head(1)"
   ]
  },
  {
   "cell_type": "markdown",
   "id": "b6c91978",
   "metadata": {},
   "source": [
    "# 🔧 Tool: matplotlib\n",
    "\n",
    "**Dataset:** titanic\n",
    "**난이도:** 중\n",
    "\n",
    "**Q.** ```python"
   ]
  },
  {
   "cell_type": "code",
   "execution_count": null,
   "id": "0c9b74d6",
   "metadata": {},
   "outputs": [],
   "source": [
    "import seaborn as sns\n",
    "import pandas as pd\n",
    "dataset = sns.load_dataset(\"titanic\")\n",
    "dataset.head(1)"
   ]
  },
  {
   "cell_type": "markdown",
   "id": "28d065d5",
   "metadata": {},
   "source": [
    "# 🔧 Tool: matplotlib\n",
    "\n",
    "**Dataset:** titanic\n",
    "**난이도:** 중\n",
    "\n",
    "**Q.** import matplotlib.pyplot as plt"
   ]
  },
  {
   "cell_type": "code",
   "execution_count": null,
   "id": "dbcc41cb",
   "metadata": {},
   "outputs": [],
   "source": [
    "import seaborn as sns\n",
    "import pandas as pd\n",
    "dataset = sns.load_dataset(\"titanic\")\n",
    "dataset.head(1)"
   ]
  },
  {
   "cell_type": "markdown",
   "id": "a0b5ab60",
   "metadata": {},
   "source": [
    "# 🔧 Tool: matplotlib\n",
    "\n",
    "**Dataset:** titanic\n",
    "**난이도:** 중\n",
    "\n",
    "**Q.** import seaborn as sns"
   ]
  },
  {
   "cell_type": "code",
   "execution_count": null,
   "id": "8c691f46",
   "metadata": {},
   "outputs": [],
   "source": [
    "import seaborn as sns\n",
    "import pandas as pd\n",
    "dataset = sns.load_dataset(\"titanic\")\n",
    "dataset.head(1)"
   ]
  },
  {
   "cell_type": "markdown",
   "id": "430e30b1",
   "metadata": {},
   "source": [
    "# 🔧 Tool: matplotlib\n",
    "\n",
    "**Dataset:** titanic\n",
    "**난이도:** 중\n",
    "\n",
    "**Q.** # 데이터 준비"
   ]
  },
  {
   "cell_type": "code",
   "execution_count": null,
   "id": "4e675e70",
   "metadata": {},
   "outputs": [],
   "source": [
    "import seaborn as sns\n",
    "import pandas as pd\n",
    "dataset = sns.load_dataset(\"titanic\")\n",
    "dataset.head(1)"
   ]
  },
  {
   "cell_type": "markdown",
   "id": "915168b0",
   "metadata": {},
   "source": [
    "# 🔧 Tool: matplotlib\n",
    "\n",
    "**Dataset:** titanic\n",
    "**난이도:** 중\n",
    "\n",
    "**Q.** iris_data = sns.load_dataset('iris')"
   ]
  },
  {
   "cell_type": "code",
   "execution_count": null,
   "id": "89925b76",
   "metadata": {},
   "outputs": [],
   "source": [
    "import seaborn as sns\n",
    "import pandas as pd\n",
    "dataset = sns.load_dataset(\"titanic\")\n",
    "dataset.head(1)"
   ]
  },
  {
   "cell_type": "markdown",
   "id": "87169b19",
   "metadata": {},
   "source": [
    "# 🔧 Tool: matplotlib\n",
    "\n",
    "**Dataset:** titanic\n",
    "**난이도:** 중\n",
    "\n",
    "**Q.** # bar chart 생성"
   ]
  },
  {
   "cell_type": "code",
   "execution_count": null,
   "id": "0e8a9f20",
   "metadata": {},
   "outputs": [],
   "source": [
    "import seaborn as sns\n",
    "import pandas as pd\n",
    "dataset = sns.load_dataset(\"titanic\")\n",
    "dataset.head(1)"
   ]
  },
  {
   "cell_type": "markdown",
   "id": "00d98b7e",
   "metadata": {},
   "source": [
    "# 🔧 Tool: matplotlib\n",
    "\n",
    "**Dataset:** titanic\n",
    "**난이도:** 중\n",
    "\n",
    "**Q.** plt.figure(figsize=(8, 6))"
   ]
  },
  {
   "cell_type": "code",
   "execution_count": null,
   "id": "eb51691f",
   "metadata": {},
   "outputs": [],
   "source": [
    "import seaborn as sns\n",
    "import pandas as pd\n",
    "dataset = sns.load_dataset(\"titanic\")\n",
    "dataset.head(1)"
   ]
  },
  {
   "cell_type": "markdown",
   "id": "02b281c1",
   "metadata": {},
   "source": [
    "# 🔧 Tool: matplotlib\n",
    "\n",
    "**Dataset:** titanic\n",
    "**난이도:** 중\n",
    "\n",
    "**Q.** sns.barplot(x='feature', y='value', hue='species', data=iris_data)"
   ]
  },
  {
   "cell_type": "code",
   "execution_count": null,
   "id": "2ebed267",
   "metadata": {},
   "outputs": [],
   "source": [
    "import seaborn as sns\n",
    "import pandas as pd\n",
    "dataset = sns.load_dataset(\"titanic\")\n",
    "dataset.head(1)"
   ]
  },
  {
   "cell_type": "markdown",
   "id": "529045a0",
   "metadata": {},
   "source": [
    "# 🔧 Tool: matplotlib\n",
    "\n",
    "**Dataset:** titanic\n",
    "**난이도:** 중\n",
    "\n",
    "**Q.** plt.title('Iris 꽃의 특징')"
   ]
  },
  {
   "cell_type": "code",
   "execution_count": null,
   "id": "6a554f1a",
   "metadata": {},
   "outputs": [],
   "source": [
    "import seaborn as sns\n",
    "import pandas as pd\n",
    "dataset = sns.load_dataset(\"titanic\")\n",
    "dataset.head(1)"
   ]
  },
  {
   "cell_type": "markdown",
   "id": "1e71332d",
   "metadata": {},
   "source": [
    "# 🔧 Tool: matplotlib\n",
    "\n",
    "**Dataset:** titanic\n",
    "**난이도:** 중\n",
    "\n",
    "**Q.** plt.xlabel('Feature')"
   ]
  },
  {
   "cell_type": "code",
   "execution_count": null,
   "id": "e7d03e3f",
   "metadata": {},
   "outputs": [],
   "source": [
    "import seaborn as sns\n",
    "import pandas as pd\n",
    "dataset = sns.load_dataset(\"titanic\")\n",
    "dataset.head(1)"
   ]
  },
  {
   "cell_type": "markdown",
   "id": "c7836016",
   "metadata": {},
   "source": [
    "# 🔧 Tool: matplotlib\n",
    "\n",
    "**Dataset:** titanic\n",
    "**난이도:** 중\n",
    "\n",
    "**Q.** plt.ylabel('Value')"
   ]
  },
  {
   "cell_type": "code",
   "execution_count": null,
   "id": "374561da",
   "metadata": {},
   "outputs": [],
   "source": [
    "import seaborn as sns\n",
    "import pandas as pd\n",
    "dataset = sns.load_dataset(\"titanic\")\n",
    "dataset.head(1)"
   ]
  },
  {
   "cell_type": "markdown",
   "id": "3fa5cd46",
   "metadata": {},
   "source": [
    "# 🔧 Tool: matplotlib\n",
    "\n",
    "**Dataset:** titanic\n",
    "**난이도:** 중\n",
    "\n",
    "**Q.** plt.show()"
   ]
  },
  {
   "cell_type": "code",
   "execution_count": null,
   "id": "c0fab812",
   "metadata": {},
   "outputs": [],
   "source": [
    "import seaborn as sns\n",
    "import pandas as pd\n",
    "dataset = sns.load_dataset(\"titanic\")\n",
    "dataset.head(1)"
   ]
  },
  {
   "cell_type": "markdown",
   "id": "51dc3f8b",
   "metadata": {},
   "source": [
    "# 🔧 Tool: matplotlib\n",
    "\n",
    "**Dataset:** titanic\n",
    "**난이도:** 중\n",
    "\n",
    "**Q.** # 결과 분석"
   ]
  },
  {
   "cell_type": "code",
   "execution_count": null,
   "id": "af2e7b7c",
   "metadata": {},
   "outputs": [],
   "source": [
    "import seaborn as sns\n",
    "import pandas as pd\n",
    "dataset = sns.load_dataset(\"titanic\")\n",
    "dataset.head(1)"
   ]
  },
  {
   "cell_type": "markdown",
   "id": "bfc6926c",
   "metadata": {},
   "source": [
    "# 🔧 Tool: matplotlib\n",
    "\n",
    "**Dataset:** titanic\n",
    "**난이도:** 중\n",
    "\n",
    "**Q.** # 가장 큰 특징을 갖추고 있는 종류의 꽃은 ?"
   ]
  },
  {
   "cell_type": "code",
   "execution_count": null,
   "id": "55ccbb57",
   "metadata": {},
   "outputs": [],
   "source": [
    "import seaborn as sns\n",
    "import pandas as pd\n",
    "dataset = sns.load_dataset(\"titanic\")\n",
    "dataset.head(1)"
   ]
  },
  {
   "cell_type": "markdown",
   "id": "aa8ed7d6",
   "metadata": {},
   "source": [
    "# 🔧 Tool: matplotlib\n",
    "\n",
    "**Dataset:** titanic\n",
    "**난이도:** 중\n",
    "\n",
    "**Q.** This problem is designed to be moderately challenging, requiring the use of matplotlib to create a bar chart that compares the features of three types of flowers (A, C, V) in the iris dataset. The problem also requires the use of Korean language in the graph's title, axis labels, and legend."
   ]
  },
  {
   "cell_type": "code",
   "execution_count": null,
   "id": "68992e5a",
   "metadata": {},
   "outputs": [],
   "source": [
    "import seaborn as sns\n",
    "import pandas as pd\n",
    "dataset = sns.load_dataset(\"titanic\")\n",
    "dataset.head(1)"
   ]
  },
  {
   "cell_type": "markdown",
   "id": "5fb24bbc",
   "metadata": {},
   "source": [
    "# 🔧 Tool: matplotlib\n",
    "\n",
    "**Dataset:** tips\n",
    "**난이도:** 하\n",
    "\n",
    "**Q.** Here is a problem that meets the conditions:"
   ]
  },
  {
   "cell_type": "code",
   "execution_count": null,
   "id": "f2d0ad9d",
   "metadata": {},
   "outputs": [],
   "source": [
    "import seaborn as sns\n",
    "import pandas as pd\n",
    "dataset = sns.load_dataset(\"tips\")\n",
    "dataset.head(1)"
   ]
  },
  {
   "cell_type": "markdown",
   "id": "f7890f1a",
   "metadata": {},
   "source": [
    "# 🔧 Tool: matplotlib\n",
    "\n",
    "**Dataset:** tips\n",
    "**난이도:** 하\n",
    "\n",
    "**Q.** 📊 사용 데이터셋: titanic"
   ]
  },
  {
   "cell_type": "code",
   "execution_count": null,
   "id": "b2494050",
   "metadata": {},
   "outputs": [],
   "source": [
    "import seaborn as sns\n",
    "import pandas as pd\n",
    "dataset = sns.load_dataset(\"tips\")\n",
    "dataset.head(1)"
   ]
  },
  {
   "cell_type": "markdown",
   "id": "002d1d9d",
   "metadata": {},
   "source": [
    "# 🔧 Tool: matplotlib\n",
    "\n",
    "**Dataset:** tips\n",
    "**난이도:** 하\n",
    "\n",
    "**Q.** 🎯 난이도: 중"
   ]
  },
  {
   "cell_type": "code",
   "execution_count": null,
   "id": "61c4fb1b",
   "metadata": {},
   "outputs": [],
   "source": [
    "import seaborn as sns\n",
    "import pandas as pd\n",
    "dataset = sns.load_dataset(\"tips\")\n",
    "dataset.head(1)"
   ]
  },
  {
   "cell_type": "markdown",
   "id": "8434506e",
   "metadata": {},
   "source": [
    "# 🔧 Tool: matplotlib\n",
    "\n",
    "**Dataset:** tips\n",
    "**난이도:** 하\n",
    "\n",
    "**Q.** 📝 문제:"
   ]
  },
  {
   "cell_type": "code",
   "execution_count": null,
   "id": "f8f5eb87",
   "metadata": {},
   "outputs": [],
   "source": [
    "import seaborn as sns\n",
    "import pandas as pd\n",
    "dataset = sns.load_dataset(\"tips\")\n",
    "dataset.head(1)"
   ]
  },
  {
   "cell_type": "markdown",
   "id": "e30be3fb",
   "metadata": {},
   "source": [
    "# 🔧 Tool: matplotlib\n",
    "\n",
    "**Dataset:** tips\n",
    "**난이도:** 하\n",
    "\n",
    "**Q.** 타이타닉호 좌석 할당 데이터를 사용하여, 생존자와 사망자의 좌석 할당 분포를 비교하는 그래프를 생성하세요. 그래프의 제목은 \"타이타ニック호 좌석 할당 분포\"로, x축은 \"좌석 등급\"을, y축은 \"비율\"을 나타내게 하세요. 또한, 생존자와 사망자의 구별을 나타내는 색상으로 표시하세요."
   ]
  },
  {
   "cell_type": "code",
   "execution_count": null,
   "id": "4381f29c",
   "metadata": {},
   "outputs": [],
   "source": [
    "import seaborn as sns\n",
    "import pandas as pd\n",
    "dataset = sns.load_dataset(\"tips\")\n",
    "dataset.head(1)"
   ]
  },
  {
   "cell_type": "markdown",
   "id": "fa7cf21b",
   "metadata": {},
   "source": [
    "# 🔧 Tool: matplotlib\n",
    "\n",
    "**Dataset:** tips\n",
    "**난이도:** 하\n",
    "\n",
    "**Q.** 💡 Hint: Titanic dataset contains information about the cabin class and survival status of passengers."
   ]
  },
  {
   "cell_type": "code",
   "execution_count": null,
   "id": "13bb5958",
   "metadata": {},
   "outputs": [],
   "source": [
    "import seaborn as sns\n",
    "import pandas as pd\n",
    "dataset = sns.load_dataset(\"tips\")\n",
    "dataset.head(1)"
   ]
  },
  {
   "cell_type": "markdown",
   "id": "14b3e194",
   "metadata": {},
   "source": [
    "# 🔧 Tool: matplotlib\n",
    "\n",
    "**Dataset:** tips\n",
    "**난이도:** 하\n",
    "\n",
    "**Q.** This problem requires the use of matplotlib to create a bar chart that compares the distribution of cabin classes for survivors and non-survivors in the Titanic dataset. The problem also requires the use of Korean language in the graph's title, axis labels, and legend."
   ]
  },
  {
   "cell_type": "code",
   "execution_count": null,
   "id": "a35518be",
   "metadata": {},
   "outputs": [],
   "source": [
    "import seaborn as sns\n",
    "import pandas as pd\n",
    "dataset = sns.load_dataset(\"tips\")\n",
    "dataset.head(1)"
   ]
  },
  {
   "cell_type": "markdown",
   "id": "3c5c8550",
   "metadata": {},
   "source": [
    "# 🔧 Tool: matplotlib\n",
    "\n",
    "**Dataset:** tips\n",
    "**난이도:** 중하\n",
    "\n",
    "**Q.** Here's a problem that fits the conditions:"
   ]
  },
  {
   "cell_type": "code",
   "execution_count": null,
   "id": "b0ec7099",
   "metadata": {},
   "outputs": [],
   "source": [
    "import seaborn as sns\n",
    "import pandas as pd\n",
    "dataset = sns.load_dataset(\"tips\")\n",
    "dataset.head(1)"
   ]
  },
  {
   "cell_type": "markdown",
   "id": "50961312",
   "metadata": {},
   "source": [
    "# 🔧 Tool: matplotlib\n",
    "\n",
    "**Dataset:** tips\n",
    "**난이도:** 중하\n",
    "\n",
    "**Q.** 📊 문제:"
   ]
  },
  {
   "cell_type": "code",
   "execution_count": null,
   "id": "4c0511c8",
   "metadata": {},
   "outputs": [],
   "source": [
    "import seaborn as sns\n",
    "import pandas as pd\n",
    "dataset = sns.load_dataset(\"tips\")\n",
    "dataset.head(1)"
   ]
  },
  {
   "cell_type": "markdown",
   "id": "d81eacc6",
   "metadata": {},
   "source": [
    "# 🔧 Tool: matplotlib\n",
    "\n",
    "**Dataset:** tips\n",
    "**난이도:** 중하\n",
    "\n",
    "**Q.** 🌊 2012년 이브닝 스타즈에서 제공한 프로미의 팁 데이터를 사용하여, 메뉴의 종류별로 평균적으로 어떻게 많은 팁이 나왔는지 분석하세요. matplotlib을 사용하여 그래프를 생성하여 결과를 보여주세요."
   ]
  },
  {
   "cell_type": "code",
   "execution_count": null,
   "id": "eaedbe90",
   "metadata": {},
   "outputs": [],
   "source": [
    "import seaborn as sns\n",
    "import pandas as pd\n",
    "dataset = sns.load_dataset(\"tips\")\n",
    "dataset.head(1)"
   ]
  },
  {
   "cell_type": "markdown",
   "id": "a6d80425",
   "metadata": {},
   "source": [
    "# 🔧 Tool: matplotlib\n",
    "\n",
    "**Dataset:** tips\n",
    "**난이도:** 중하\n",
    "\n",
    "**Q.** Using the tips data provided by Evening Stars in 2012, analyze how many tips were given on average by menu type. Create a graph using matplotlib to show the results.)"
   ]
  },
  {
   "cell_type": "code",
   "execution_count": null,
   "id": "8e2cfeff",
   "metadata": {},
   "outputs": [],
   "source": [
    "import seaborn as sns\n",
    "import pandas as pd\n",
    "dataset = sns.load_dataset(\"tips\")\n",
    "dataset.head(1)"
   ]
  },
  {
   "cell_type": "markdown",
   "id": "d68f63e6",
   "metadata": {},
   "source": [
    "# 🔧 Tool: matplotlib\n",
    "\n",
    "**Dataset:** tips\n",
    "**난이도:** 중하\n",
    "\n",
    "**Q.** This problem is designed to be moderately challenging, requiring the use of matplotlib to create a graph that compares the average tips given by menu type in the tips dataset. The problem also requires the use of Korean language in the graph's title, axis labels, and legend."
   ]
  },
  {
   "cell_type": "code",
   "execution_count": null,
   "id": "649ae947",
   "metadata": {},
   "outputs": [],
   "source": [
    "import seaborn as sns\n",
    "import pandas as pd\n",
    "dataset = sns.load_dataset(\"tips\")\n",
    "dataset.head(1)"
   ]
  },
  {
   "cell_type": "markdown",
   "id": "395ed939",
   "metadata": {},
   "source": [
    "# 🔧 Tool: matplotlib\n",
    "\n",
    "**Dataset:** titanic\n",
    "**난이도:** 중\n",
    "\n",
    "**Q.** Here's a problem that meets the conditions:"
   ]
  },
  {
   "cell_type": "code",
   "execution_count": null,
   "id": "d818a09d",
   "metadata": {},
   "outputs": [],
   "source": [
    "import seaborn as sns\n",
    "import pandas as pd\n",
    "dataset = sns.load_dataset(\"titanic\")\n",
    "dataset.head(1)"
   ]
  },
  {
   "cell_type": "markdown",
   "id": "1b8856ff",
   "metadata": {},
   "source": [
    "# 🔧 Tool: matplotlib\n",
    "\n",
    "**Dataset:** titanic\n",
    "**난이도:** 중\n",
    "\n",
    "**Q.** 📊 데이터셋: titanic"
   ]
  },
  {
   "cell_type": "code",
   "execution_count": null,
   "id": "9626a394",
   "metadata": {},
   "outputs": [],
   "source": [
    "import seaborn as sns\n",
    "import pandas as pd\n",
    "dataset = sns.load_dataset(\"titanic\")\n",
    "dataset.head(1)"
   ]
  },
  {
   "cell_type": "markdown",
   "id": "d7845c12",
   "metadata": {},
   "source": [
    "# 🔧 Tool: matplotlib\n",
    "\n",
    "**Dataset:** titanic\n",
    "**난이도:** 중\n",
    "\n",
    "**Q.** 🎯 난이도: 중"
   ]
  },
  {
   "cell_type": "code",
   "execution_count": null,
   "id": "9cb9f47c",
   "metadata": {},
   "outputs": [],
   "source": [
    "import seaborn as sns\n",
    "import pandas as pd\n",
    "dataset = sns.load_dataset(\"titanic\")\n",
    "dataset.head(1)"
   ]
  },
  {
   "cell_type": "markdown",
   "id": "2b364d80",
   "metadata": {},
   "source": [
    "# 🔧 Tool: matplotlib\n",
    "\n",
    "**Dataset:** titanic\n",
    "**난이도:** 중\n",
    "\n",
    "**Q.** 📝 문제:"
   ]
  },
  {
   "cell_type": "code",
   "execution_count": null,
   "id": "5324c7bc",
   "metadata": {},
   "outputs": [],
   "source": [
    "import seaborn as sns\n",
    "import pandas as pd\n",
    "dataset = sns.load_dataset(\"titanic\")\n",
    "dataset.head(1)"
   ]
  },
  {
   "cell_type": "markdown",
   "id": "b9629d57",
   "metadata": {},
   "source": [
    "# 🔧 Tool: matplotlib\n",
    "\n",
    "**Dataset:** titanic\n",
    "**난이도:** 중\n",
    "\n",
    "**Q.** \"호송선 '타이탄ิค'의 생존자와 사망자의 나이 분포를 comparesing bar chart으로 나타내고, 가장 많은 생존자가 속하는 나이 구간을 찾는다고 가정하세요. matplotlib을 사용하여 그래프를 생성하고, 결과를 분석하여 답을 작성하세요.\""
   ]
  },
  {
   "cell_type": "code",
   "execution_count": null,
   "id": "11b10ebe",
   "metadata": {},
   "outputs": [],
   "source": [
    "import seaborn as sns\n",
    "import pandas as pd\n",
    "dataset = sns.load_dataset(\"titanic\")\n",
    "dataset.head(1)"
   ]
  },
  {
   "cell_type": "markdown",
   "id": "68bcd7fb",
   "metadata": {},
   "source": [
    "# 🔧 Tool: matplotlib\n",
    "\n",
    "**Dataset:** titanic\n",
    "**난이도:** 중\n",
    "\n",
    "**Q.** \"Assuming that you are comparing the age distribution of survivors and deceased passengers on the 'Titanic' ship using a bar chart, create a graph using matplotlib and find the age range with the most survivors.\""
   ]
  },
  {
   "cell_type": "code",
   "execution_count": null,
   "id": "7f0fa6c3",
   "metadata": {},
   "outputs": [],
   "source": [
    "import seaborn as sns\n",
    "import pandas as pd\n",
    "dataset = sns.load_dataset(\"titanic\")\n",
    "dataset.head(1)"
   ]
  },
  {
   "cell_type": "markdown",
   "id": "25ecb095",
   "metadata": {},
   "source": [
    "# 🔧 Tool: matplotlib\n",
    "\n",
    "**Dataset:** titanic\n",
    "**난이도:** 중\n",
    "\n",
    "**Q.** This problem requires the use of matplotlib to create a bar chart, and also requires the use of Korean language in the graph's title, axis labels, and legend. The problem is moderately challenging, requiring the use of data analysis and visualization skills."
   ]
  },
  {
   "cell_type": "code",
   "execution_count": null,
   "id": "62f92083",
   "metadata": {},
   "outputs": [],
   "source": [
    "import seaborn as sns\n",
    "import pandas as pd\n",
    "dataset = sns.load_dataset(\"titanic\")\n",
    "dataset.head(1)"
   ]
  },
  {
   "cell_type": "markdown",
   "id": "cc31264f",
   "metadata": {},
   "source": [
    "# 🔧 Tool: matplotlib\n",
    "\n",
    "**Dataset:** tips\n",
    "**난이도:** 하\n",
    "\n",
    "**Q.** Here's a problem that fits the conditions:"
   ]
  },
  {
   "cell_type": "code",
   "execution_count": null,
   "id": "c3127df4",
   "metadata": {},
   "outputs": [],
   "source": [
    "import seaborn as sns\n",
    "import pandas as pd\n",
    "dataset = sns.load_dataset(\"tips\")\n",
    "dataset.head(1)"
   ]
  },
  {
   "cell_type": "markdown",
   "id": "a86fde7c",
   "metadata": {},
   "source": [
    "# 🔧 Tool: matplotlib\n",
    "\n",
    "**Dataset:** tips\n",
    "**난이도:** 하\n",
    "\n",
    "**Q.** 🎯 난이도: 중하"
   ]
  },
  {
   "cell_type": "code",
   "execution_count": null,
   "id": "e109ff9b",
   "metadata": {},
   "outputs": [],
   "source": [
    "import seaborn as sns\n",
    "import pandas as pd\n",
    "dataset = sns.load_dataset(\"tips\")\n",
    "dataset.head(1)"
   ]
  },
  {
   "cell_type": "markdown",
   "id": "21907797",
   "metadata": {},
   "source": [
    "# 🔧 Tool: matplotlib\n",
    "\n",
    "**Dataset:** tips\n",
    "**난이도:** 하\n",
    "\n",
    "**Q.** 📝 문제:"
   ]
  },
  {
   "cell_type": "code",
   "execution_count": null,
   "id": "5ab36011",
   "metadata": {},
   "outputs": [],
   "source": [
    "import seaborn as sns\n",
    "import pandas as pd\n",
    "dataset = sns.load_dataset(\"tips\")\n",
    "dataset.head(1)"
   ]
  },
  {
   "cell_type": "markdown",
   "id": "7958d8f5",
   "metadata": {},
   "source": [
    "# 🔧 Tool: matplotlib\n",
    "\n",
    "**Dataset:** tips\n",
    "**난이도:** 하\n",
    "\n",
    "**Q.** \"tips 데이터셋에서 음식점의 요금과Tips의 상관관계를 분석하여, matplotlib을 사용하여 scatter plot을 생성하세요. 또한, R-squared 값을 계산하여 요금과 Tips의 관계의 강도 Ποο으로 나타내고, 결과를 분석하여 답을 작성하세요.\""
   ]
  },
  {
   "cell_type": "code",
   "execution_count": null,
   "id": "af8e5e0c",
   "metadata": {},
   "outputs": [],
   "source": [
    "import seaborn as sns\n",
    "import pandas as pd\n",
    "dataset = sns.load_dataset(\"tips\")\n",
    "dataset.head(1)"
   ]
  },
  {
   "cell_type": "markdown",
   "id": "1c5af2a2",
   "metadata": {},
   "source": [
    "# 🔧 Tool: matplotlib\n",
    "\n",
    "**Dataset:** tips\n",
    "**난이도:** 하\n",
    "\n",
    "**Q.** \"Analyze the relationship between the price and tips in the 'tips' dataset using matplotlib to create a scatter plot. Also, calculate the R-squared value to show the strength of the relationship between price and tips, and write an answer based on the result.\""
   ]
  },
  {
   "cell_type": "code",
   "execution_count": null,
   "id": "436658fb",
   "metadata": {},
   "outputs": [],
   "source": [
    "import seaborn as sns\n",
    "import pandas as pd\n",
    "dataset = sns.load_dataset(\"tips\")\n",
    "dataset.head(1)"
   ]
  },
  {
   "cell_type": "markdown",
   "id": "8fd32a7b",
   "metadata": {},
   "source": [
    "# 🔧 Tool: matplotlib\n",
    "\n",
    "**Dataset:** tips\n",
    "**난이도:** 하\n",
    "\n",
    "**Q.** This problem requires the use of matplotlib to create a scatter plot, and also requires the use of data analysis and visualization skills. The problem is slightly easier than the previous one, but still requires the use of Korean language in the graph's title, axis labels, and legend."
   ]
  },
  {
   "cell_type": "code",
   "execution_count": null,
   "id": "9b5b8e7a",
   "metadata": {},
   "outputs": [],
   "source": [
    "import seaborn as sns\n",
    "import pandas as pd\n",
    "dataset = sns.load_dataset(\"tips\")\n",
    "dataset.head(1)"
   ]
  },
  {
   "cell_type": "markdown",
   "id": "990cab72",
   "metadata": {},
   "source": [
    "# 🔧 Tool: matplotlib\n",
    "\n",
    "**Dataset:** tips\n",
    "**난이도:** 중하\n",
    "\n",
    "**Q.** Here's a problem that fits the conditions:"
   ]
  },
  {
   "cell_type": "code",
   "execution_count": null,
   "id": "02381e70",
   "metadata": {},
   "outputs": [],
   "source": [
    "import seaborn as sns\n",
    "import pandas as pd\n",
    "dataset = sns.load_dataset(\"tips\")\n",
    "dataset.head(1)"
   ]
  },
  {
   "cell_type": "markdown",
   "id": "8f11c337",
   "metadata": {},
   "source": [
    "# 🔧 Tool: matplotlib\n",
    "\n",
    "**Dataset:** tips\n",
    "**난이도:** 중하\n",
    "\n",
    "**Q.** 🎯 난이도: 중하"
   ]
  },
  {
   "cell_type": "code",
   "execution_count": null,
   "id": "79e13cd8",
   "metadata": {},
   "outputs": [],
   "source": [
    "import seaborn as sns\n",
    "import pandas as pd\n",
    "dataset = sns.load_dataset(\"tips\")\n",
    "dataset.head(1)"
   ]
  },
  {
   "cell_type": "markdown",
   "id": "4b2d8039",
   "metadata": {},
   "source": [
    "# 🔧 Tool: matplotlib\n",
    "\n",
    "**Dataset:** tips\n",
    "**난이도:** 중하\n",
    "\n",
    "**Q.** 📝 문제:"
   ]
  },
  {
   "cell_type": "code",
   "execution_count": null,
   "id": "49dfa03d",
   "metadata": {},
   "outputs": [],
   "source": [
    "import seaborn as sns\n",
    "import pandas as pd\n",
    "dataset = sns.load_dataset(\"tips\")\n",
    "dataset.head(1)"
   ]
  },
  {
   "cell_type": "markdown",
   "id": "5b68775c",
   "metadata": {},
   "source": [
    "# 🔧 Tool: matplotlib\n",
    "\n",
    "**Dataset:** tips\n",
    "**난이도:** 중하\n",
    "\n",
    "**Q.** \"tip의 각종 요금과 서비스를 보여주는 scatter plot을 matplotlib을 사용하여 생성하고, 15~20%의 요금을 지불하는 고객이 가장 많이 있는 서비스를 찾는다고 가정하세요. 그래프의 제목, 축 레이블,_LEGEND를 한국어로 작성하세요.\""
   ]
  },
  {
   "cell_type": "code",
   "execution_count": null,
   "id": "49628a77",
   "metadata": {},
   "outputs": [],
   "source": [
    "import seaborn as sns\n",
    "import pandas as pd\n",
    "dataset = sns.load_dataset(\"tips\")\n",
    "dataset.head(1)"
   ]
  },
  {
   "cell_type": "markdown",
   "id": "baafeec7",
   "metadata": {},
   "source": [
    "# 🔧 Tool: matplotlib\n",
    "\n",
    "**Dataset:** tips\n",
    "**난이도:** 중하\n",
    "\n",
    "**Q.** \"Assuming that you are creating a scatter plot using matplotlib to show various fees and services of 'tips', find the service with the most customers who pay 15-20% of the fee using the graph. Write the title, axis labels, and legend of the graph in Korean.\""
   ]
  },
  {
   "cell_type": "code",
   "execution_count": null,
   "id": "a3709fe9",
   "metadata": {},
   "outputs": [],
   "source": [
    "import seaborn as sns\n",
    "import pandas as pd\n",
    "dataset = sns.load_dataset(\"tips\")\n",
    "dataset.head(1)"
   ]
  },
  {
   "cell_type": "markdown",
   "id": "e3643971",
   "metadata": {},
   "source": [
    "# 🔧 Tool: matplotlib\n",
    "\n",
    "**Dataset:** tips\n",
    "**난이도:** 중하\n",
    "\n",
    "**Q.** This problem requires the use of matplotlib to create a scatter plot, and also requires the use of Korean language in the graph's title, axis labels, and legend. The problem is moderately challenging, requiring the use of data analysis and visualization skills."
   ]
  },
  {
   "cell_type": "code",
   "execution_count": null,
   "id": "94bade20",
   "metadata": {},
   "outputs": [],
   "source": [
    "import seaborn as sns\n",
    "import pandas as pd\n",
    "dataset = sns.load_dataset(\"tips\")\n",
    "dataset.head(1)"
   ]
  },
  {
   "cell_type": "markdown",
   "id": "4fede721",
   "metadata": {},
   "source": [
    "# 🔧 Tool: matplotlib\n",
    "\n",
    "**Dataset:** titanic\n",
    "**난이도:** 중\n",
    "\n",
    "**Q.** Here's a problem that meets the conditions:"
   ]
  },
  {
   "cell_type": "code",
   "execution_count": null,
   "id": "634a25f3",
   "metadata": {},
   "outputs": [],
   "source": [
    "import seaborn as sns\n",
    "import pandas as pd\n",
    "dataset = sns.load_dataset(\"titanic\")\n",
    "dataset.head(1)"
   ]
  },
  {
   "cell_type": "markdown",
   "id": "662aab1f",
   "metadata": {},
   "source": [
    "# 🔧 Tool: matplotlib\n",
    "\n",
    "**Dataset:** titanic\n",
    "**난이도:** 중\n",
    "\n",
    "**Q.** 🎯 난이도: 중하"
   ]
  },
  {
   "cell_type": "code",
   "execution_count": null,
   "id": "f4dda703",
   "metadata": {},
   "outputs": [],
   "source": [
    "import seaborn as sns\n",
    "import pandas as pd\n",
    "dataset = sns.load_dataset(\"titanic\")\n",
    "dataset.head(1)"
   ]
  },
  {
   "cell_type": "markdown",
   "id": "a2a157ed",
   "metadata": {},
   "source": [
    "# 🔧 Tool: matplotlib\n",
    "\n",
    "**Dataset:** titanic\n",
    "**난이도:** 중\n",
    "\n",
    "**Q.** 📝 문제:"
   ]
  },
  {
   "cell_type": "code",
   "execution_count": null,
   "id": "b4aa0e3e",
   "metadata": {},
   "outputs": [],
   "source": [
    "import seaborn as sns\n",
    "import pandas as pd\n",
    "dataset = sns.load_dataset(\"titanic\")\n",
    "dataset.head(1)"
   ]
  },
  {
   "cell_type": "markdown",
   "id": "d99e6b4a",
   "metadata": {},
   "source": [
    "# 🔧 Tool: matplotlib\n",
    "\n",
    "**Dataset:** titanic\n",
    "**난이도:** 중\n",
    "\n",
    "**Q.** \"tips 데이터셋에서 음식점의 종류별로 제공하는 음료의 가격을 분석하여, 가장 비싼 음료의 종류를 찾는다고 가정하세요. matplotlib을 사용하여 그래프를 생성하고, 각 음료의 가격을 나타내는 box plot을 사용하여 분석 결과를 표시하세요.\""
   ]
  },
  {
   "cell_type": "code",
   "execution_count": null,
   "id": "e0b07ad9",
   "metadata": {},
   "outputs": [],
   "source": [
    "import seaborn as sns\n",
    "import pandas as pd\n",
    "dataset = sns.load_dataset(\"titanic\")\n",
    "dataset.head(1)"
   ]
  },
  {
   "cell_type": "markdown",
   "id": "71506261",
   "metadata": {},
   "source": [
    "# 🔧 Tool: matplotlib\n",
    "\n",
    "**Dataset:** titanic\n",
    "**난이도:** 중\n",
    "\n",
    "**Q.** \"Assuming that you are analyzing the prices of drinks offered by different types of restaurants in the 'tips' dataset, find the type of drink with the highest price using matplotlib. Create a graph using box plots to display the prices of each drink and analyze the results.\""
   ]
  },
  {
   "cell_type": "code",
   "execution_count": null,
   "id": "7baab79b",
   "metadata": {},
   "outputs": [],
   "source": [
    "import seaborn as sns\n",
    "import pandas as pd\n",
    "dataset = sns.load_dataset(\"titanic\")\n",
    "dataset.head(1)"
   ]
  },
  {
   "cell_type": "markdown",
   "id": "8bf55853",
   "metadata": {},
   "source": [
    "# 🔧 Tool: matplotlib\n",
    "\n",
    "**Dataset:** titanic\n",
    "**난이도:** 중\n",
    "\n",
    "**Q.** This problem requires the use of matplotlib to create a graph, and also requires the use of Korean language in the graph's title, axis labels, and legend. The problem is moderately challenging, requiring the use of data analysis and visualization skills."
   ]
  },
  {
   "cell_type": "code",
   "execution_count": null,
   "id": "aaf421b5",
   "metadata": {},
   "outputs": [],
   "source": [
    "import seaborn as sns\n",
    "import pandas as pd\n",
    "dataset = sns.load_dataset(\"titanic\")\n",
    "dataset.head(1)"
   ]
  },
  {
   "cell_type": "markdown",
   "id": "b2343fcc",
   "metadata": {},
   "source": [
    "# 🔧 Tool: matplotlib\n",
    "\n",
    "**Dataset:** tips\n",
    "**난이도:** 하\n",
    "\n",
    "**Q.** Here's a problem that fits the conditions:"
   ]
  },
  {
   "cell_type": "code",
   "execution_count": null,
   "id": "b349318a",
   "metadata": {},
   "outputs": [],
   "source": [
    "import seaborn as sns\n",
    "import pandas as pd\n",
    "dataset = sns.load_dataset(\"tips\")\n",
    "dataset.head(1)"
   ]
  },
  {
   "cell_type": "markdown",
   "id": "0c4b2b21",
   "metadata": {},
   "source": [
    "# 🔧 Tool: matplotlib\n",
    "\n",
    "**Dataset:** tips\n",
    "**난이도:** 하\n",
    "\n",
    "**Q.** 🎯 난이도: 중"
   ]
  },
  {
   "cell_type": "code",
   "execution_count": null,
   "id": "18c94dad",
   "metadata": {},
   "outputs": [],
   "source": [
    "import seaborn as sns\n",
    "import pandas as pd\n",
    "dataset = sns.load_dataset(\"tips\")\n",
    "dataset.head(1)"
   ]
  },
  {
   "cell_type": "markdown",
   "id": "655d8769",
   "metadata": {},
   "source": [
    "# 🔧 Tool: matplotlib\n",
    "\n",
    "**Dataset:** tips\n",
    "**난이도:** 하\n",
    "\n",
    "**Q.** 📝 문제:"
   ]
  },
  {
   "cell_type": "code",
   "execution_count": null,
   "id": "ce1f67ab",
   "metadata": {},
   "outputs": [],
   "source": [
    "import seaborn as sns\n",
    "import pandas as pd\n",
    "dataset = sns.load_dataset(\"tips\")\n",
    "dataset.head(1)"
   ]
  },
  {
   "cell_type": "markdown",
   "id": "b82459d8",
   "metadata": {},
   "source": [
    "# 🔧 Tool: matplotlib\n",
    "\n",
    "**Dataset:** tips\n",
    "**난이도:** 하\n",
    "\n",
    "**Q.** \"iris 데이터셋에서 세 개의 품종의 꽃잎 길이를 분석하여, 가장 긴 꽃잎을 가진 품종을 찾는다고 가정하세요. matplotlib을 사용하여 그래프를 생성하고, 각 품종의 꽃잎 길이를 나타내는 bar chart을 사용하여 분석 결과를 표시하세요. 또한, 각 품종의 꽃잎 길이의 분포를 확인하는 histogram chart도 함께 추가하세요.\""
   ]
  },
  {
   "cell_type": "code",
   "execution_count": null,
   "id": "fe2f9ee9",
   "metadata": {},
   "outputs": [],
   "source": [
    "import seaborn as sns\n",
    "import pandas as pd\n",
    "dataset = sns.load_dataset(\"tips\")\n",
    "dataset.head(1)"
   ]
  },
  {
   "cell_type": "markdown",
   "id": "ad7ef29a",
   "metadata": {},
   "source": [
    "# 🔧 Tool: matplotlib\n",
    "\n",
    "**Dataset:** tips\n",
    "**난이도:** 하\n",
    "\n",
    "**Q.** \"Assuming that you are analyzing the sepal lengths of three species of flowers in the 'iris' dataset, find the species with the longest sepal using matplotlib. Create a graph using a bar chart to display the sepal lengths of each species and analyze the results. Additionally, create a histogram chart to visualize the distribution of sepal lengths for each species.\""
   ]
  },
  {
   "cell_type": "code",
   "execution_count": null,
   "id": "e5565185",
   "metadata": {},
   "outputs": [],
   "source": [
    "import seaborn as sns\n",
    "import pandas as pd\n",
    "dataset = sns.load_dataset(\"tips\")\n",
    "dataset.head(1)"
   ]
  },
  {
   "cell_type": "markdown",
   "id": "52704276",
   "metadata": {},
   "source": [
    "# 🔧 Tool: matplotlib\n",
    "\n",
    "**Dataset:** tips\n",
    "**난이도:** 하\n",
    "\n",
    "**Q.** This problem requires the use of matplotlib to create a graph with multiple plots, and also requires the use of Korean language in the graph's title, axis labels, and legend. The problem is moderately challenging, requiring the use of data analysis and visualization skills."
   ]
  },
  {
   "cell_type": "code",
   "execution_count": null,
   "id": "5065efa3",
   "metadata": {},
   "outputs": [],
   "source": [
    "import seaborn as sns\n",
    "import pandas as pd\n",
    "dataset = sns.load_dataset(\"tips\")\n",
    "dataset.head(1)"
   ]
  },
  {
   "cell_type": "markdown",
   "id": "e996c1e7",
   "metadata": {},
   "source": [
    "# 🔧 Tool: matplotlib\n",
    "\n",
    "**Dataset:** iris\n",
    "**난이도:** 중하\n",
    "\n",
    "**Q.** Here's a problem that meets the conditions:"
   ]
  },
  {
   "cell_type": "code",
   "execution_count": null,
   "id": "5a6ca5d6",
   "metadata": {},
   "outputs": [],
   "source": [
    "import seaborn as sns\n",
    "import pandas as pd\n",
    "dataset = sns.load_dataset(\"iris\")\n",
    "dataset.head(1)"
   ]
  },
  {
   "cell_type": "markdown",
   "id": "d7fa3d45",
   "metadata": {},
   "source": [
    "# 🔧 Tool: matplotlib\n",
    "\n",
    "**Dataset:** iris\n",
    "**난이도:** 중하\n",
    "\n",
    "**Q.** 🎯 난이도: 중"
   ]
  },
  {
   "cell_type": "code",
   "execution_count": null,
   "id": "569d9a49",
   "metadata": {},
   "outputs": [],
   "source": [
    "import seaborn as sns\n",
    "import pandas as pd\n",
    "dataset = sns.load_dataset(\"iris\")\n",
    "dataset.head(1)"
   ]
  },
  {
   "cell_type": "markdown",
   "id": "bbd6dda6",
   "metadata": {},
   "source": [
    "# 🔧 Tool: matplotlib\n",
    "\n",
    "**Dataset:** iris\n",
    "**난이도:** 중하\n",
    "\n",
    "**Q.** 📝 문제:"
   ]
  },
  {
   "cell_type": "code",
   "execution_count": null,
   "id": "e2797c4a",
   "metadata": {},
   "outputs": [],
   "source": [
    "import seaborn as sns\n",
    "import pandas as pd\n",
    "dataset = sns.load_dataset(\"iris\")\n",
    "dataset.head(1)"
   ]
  },
  {
   "cell_type": "markdown",
   "id": "949434a8",
   "metadata": {},
   "source": [
    "# 🔧 Tool: matplotlib\n",
    "\n",
    "**Dataset:** iris\n",
    "**난이도:** 중하\n",
    "\n",
    "**Q.** \"이리스 데이터셋에서 각 품종의 꽃잎 길이와 꽃받침 길이를 분석하여, 이 두 변수 간의 상관관계를 확인하세요. matplotlib을 사용하여 그래프를 생성하고, Pearson 상관 계수를 표시하여 분석 결과를 표시하세요.\""
   ]
  },
  {
   "cell_type": "code",
   "execution_count": null,
   "id": "0e9f675d",
   "metadata": {},
   "outputs": [],
   "source": [
    "import seaborn as sns\n",
    "import pandas as pd\n",
    "dataset = sns.load_dataset(\"iris\")\n",
    "dataset.head(1)"
   ]
  },
  {
   "cell_type": "markdown",
   "id": "e4dd1356",
   "metadata": {},
   "source": [
    "# 🔧 Tool: matplotlib\n",
    "\n",
    "**Dataset:** iris\n",
    "**난이도:** 중하\n",
    "\n",
    "**Q.** \"Analyze the relationship between sepal length and petal length in the 'iris' dataset, assuming that each species has a different relationship between the two variables. Use matplotlib to create a graph and display the Pearson correlation coefficient to analyze the results.\""
   ]
  },
  {
   "cell_type": "code",
   "execution_count": null,
   "id": "8e25dee4",
   "metadata": {},
   "outputs": [],
   "source": [
    "import seaborn as sns\n",
    "import pandas as pd\n",
    "dataset = sns.load_dataset(\"iris\")\n",
    "dataset.head(1)"
   ]
  },
  {
   "cell_type": "markdown",
   "id": "7b6637d5",
   "metadata": {},
   "source": [
    "# 🔧 Tool: matplotlib\n",
    "\n",
    "**Dataset:** iris\n",
    "**난이도:** 중하\n",
    "\n",
    "**Q.** This problem requires the use of matplotlib to create a graph, and also requires the use of Korean language in the graph's title, axis labels, and legend. The problem is moderately challenging, requiring the use of data analysis and visualization skills."
   ]
  },
  {
   "cell_type": "code",
   "execution_count": null,
   "id": "d411c3f5",
   "metadata": {},
   "outputs": [],
   "source": [
    "import seaborn as sns\n",
    "import pandas as pd\n",
    "dataset = sns.load_dataset(\"iris\")\n",
    "dataset.head(1)"
   ]
  },
  {
   "cell_type": "markdown",
   "id": "63b39579",
   "metadata": {},
   "source": [
    "# 🔧 Tool: matplotlib\n",
    "\n",
    "**Dataset:** tips\n",
    "**난이도:** 중\n",
    "\n",
    "**Q.** Here's a problem that meets the conditions:"
   ]
  },
  {
   "cell_type": "code",
   "execution_count": null,
   "id": "8db7896f",
   "metadata": {},
   "outputs": [],
   "source": [
    "import seaborn as sns\n",
    "import pandas as pd\n",
    "dataset = sns.load_dataset(\"tips\")\n",
    "dataset.head(1)"
   ]
  },
  {
   "cell_type": "markdown",
   "id": "8e4a42b9",
   "metadata": {},
   "source": [
    "# 🔧 Tool: matplotlib\n",
    "\n",
    "**Dataset:** tips\n",
    "**난이도:** 중\n",
    "\n",
    "**Q.** 🎯 난이도: 중"
   ]
  },
  {
   "cell_type": "code",
   "execution_count": null,
   "id": "8316ee32",
   "metadata": {},
   "outputs": [],
   "source": [
    "import seaborn as sns\n",
    "import pandas as pd\n",
    "dataset = sns.load_dataset(\"tips\")\n",
    "dataset.head(1)"
   ]
  },
  {
   "cell_type": "markdown",
   "id": "b172d8b9",
   "metadata": {},
   "source": [
    "# 🔧 Tool: matplotlib\n",
    "\n",
    "**Dataset:** tips\n",
    "**난이도:** 중\n",
    "\n",
    "**Q.** 📝 문제:"
   ]
  },
  {
   "cell_type": "code",
   "execution_count": null,
   "id": "d5e2c6db",
   "metadata": {},
   "outputs": [],
   "source": [
    "import seaborn as sns\n",
    "import pandas as pd\n",
    "dataset = sns.load_dataset(\"tips\")\n",
    "dataset.head(1)"
   ]
  },
  {
   "cell_type": "markdown",
   "id": "93657c02",
   "metadata": {},
   "source": [
    "# 🔧 Tool: matplotlib\n",
    "\n",
    "**Dataset:** tips\n",
    "**난이도:** 중\n",
    "\n",
    "**Q.** \"이리스 데이터셋에서 세pal 길이, petal 길이, Sepal 너비, Petal 너비의 4가지 특성에 대한 분포를 분석하여, 각 특성 간의 상관관계를 확인하세요. matplotlib을 사용하여 그래프를 생성하고, scatter plot을 사용하여 각 특성 간의 상관관계를 표시하세요. 또한, 각 특성의 분포를 나타내는 histogram을 추가하여 분석 결과를 더 자세하게 설명하세요.\""
   ]
  },
  {
   "cell_type": "code",
   "execution_count": null,
   "id": "fa7a6ad8",
   "metadata": {},
   "outputs": [],
   "source": [
    "import seaborn as sns\n",
    "import pandas as pd\n",
    "dataset = sns.load_dataset(\"tips\")\n",
    "dataset.head(1)"
   ]
  },
  {
   "cell_type": "markdown",
   "id": "8a632ee7",
   "metadata": {},
   "source": [
    "# 🔧 Tool: matplotlib\n",
    "\n",
    "**Dataset:** tips\n",
    "**난이도:** 중\n",
    "\n",
    "**Q.** \"Analyze the distribution of four characteristics (sepal length, petal length, sepal width, and petal width) in the 'iris' dataset and verify the correlation between them. Using matplotlib, create a graph that includes a scatter plot to display the correlation between each pair of characteristics. Additionally, add a histogram for each characteristic to provide a more detailed analysis of the results.\""
   ]
  },
  {
   "cell_type": "code",
   "execution_count": null,
   "id": "718001cf",
   "metadata": {},
   "outputs": [],
   "source": [
    "import seaborn as sns\n",
    "import pandas as pd\n",
    "dataset = sns.load_dataset(\"tips\")\n",
    "dataset.head(1)"
   ]
  },
  {
   "cell_type": "markdown",
   "id": "cdd95123",
   "metadata": {},
   "source": [
    "# 🔧 Tool: matplotlib\n",
    "\n",
    "**Dataset:** tips\n",
    "**난이도:** 중\n",
    "\n",
    "**Q.** This problem requires the use of matplotlib to create a graph, and also requires the use of Korean language in the graph's title, axis labels, and legend. The problem is moderately challenging, requiring the use of data analysis and visualization skills."
   ]
  },
  {
   "cell_type": "code",
   "execution_count": null,
   "id": "7dbe8658",
   "metadata": {},
   "outputs": [],
   "source": [
    "import seaborn as sns\n",
    "import pandas as pd\n",
    "dataset = sns.load_dataset(\"tips\")\n",
    "dataset.head(1)"
   ]
  }
 ],
 "metadata": {},
 "nbformat": 4,
 "nbformat_minor": 5
}
