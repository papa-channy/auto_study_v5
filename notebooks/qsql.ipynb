{
 "cells": [
  {
   "cell_type": "markdown",
   "id": "9d1aa676",
   "metadata": {},
   "source": [
    "# 🔧 Tool: sql\n",
    "\n",
    "**Dataset:** titanic\n",
    "**난이도:** 하\n",
    "\n",
    "**Q.** 성별별 승객 수를 출력하는 SELECT 쿼리를 작성하세요."
   ]
  },
  {
   "cell_type": "code",
   "execution_count": null,
   "id": "b8c277ee",
   "metadata": {},
   "outputs": [],
   "source": [
    "import seaborn as sns\n",
    "import pandas as pd\n",
    "dataset = sns.load_dataset(\"titanic\")\n",
    "dataset.head(1)"
   ]
  },
  {
   "cell_type": "markdown",
   "id": "9f055ded",
   "metadata": {},
   "source": [
    "# 🔧 Tool: sql\n",
    "\n",
    "**Dataset:** tips\n",
    "**난이도:** 중하\n",
    "\n",
    "**Q.** Survived 열에 따라 승객의 수를 카운트하세요."
   ]
  },
  {
   "cell_type": "code",
   "execution_count": null,
   "id": "56286c3e",
   "metadata": {},
   "outputs": [],
   "source": [
    "import seaborn as sns\n",
    "import pandas as pd\n",
    "dataset = sns.load_dataset(\"tips\")\n",
    "dataset.head(1)"
   ]
  },
  {
   "cell_type": "markdown",
   "id": "462f385e",
   "metadata": {},
   "source": [
    "# 🔧 Tool: sql\n",
    "\n",
    "**Dataset:** tips\n",
    "**난이도:** 하\n",
    "\n",
    "**Q.** 성별별 승객 수를 출력하는 SELECT 쿼리를 작성하세요."
   ]
  },
  {
   "cell_type": "code",
   "execution_count": null,
   "id": "1f25b088",
   "metadata": {},
   "outputs": [],
   "source": [
    "import seaborn as sns\n",
    "import pandas as pd\n",
    "dataset = sns.load_dataset(\"tips\")\n",
    "dataset.head(1)"
   ]
  },
  {
   "cell_type": "markdown",
   "id": "6c7df0fa",
   "metadata": {},
   "source": [
    "# 🔧 Tool: sql\n",
    "\n",
    "**Dataset:** tips\n",
    "**난이도:** 중\n",
    "\n",
    "**Q.** 성별별 생존율을 구하세요."
   ]
  },
  {
   "cell_type": "code",
   "execution_count": null,
   "id": "30f0a17b",
   "metadata": {},
   "outputs": [],
   "source": [
    "import seaborn as sns\n",
    "import pandas as pd\n",
    "dataset = sns.load_dataset(\"tips\")\n",
    "dataset.head(1)"
   ]
  },
  {
   "cell_type": "markdown",
   "id": "6678e483",
   "metadata": {},
   "source": [
    "# 🔧 Tool: sql\n",
    "\n",
    "**Dataset:** 칼럼 제거\n",
    "**난이도:** 하\n",
    "\n",
    "**Q.** 성별을 제외한 열을 출력하세요."
   ]
  },
  {
   "cell_type": "code",
   "execution_count": null,
   "id": "f1125647",
   "metadata": {},
   "outputs": [],
   "source": [
    "import seaborn as sns\n",
    "import pandas as pd\n",
    "dataset = sns.load_dataset(\"칼럼 제거\")\n",
    "dataset.head(1)"
   ]
  },
  {
   "cell_type": "markdown",
   "id": "16e68571",
   "metadata": {},
   "source": [
    "# 🔧 Tool: sql\n",
    "\n",
    "**Dataset:** 묵시적 형 변환\n",
    "**난이도:** 중하\n",
    "\n",
    "**Q.** 성별을 숫자로 변환하여 출력하세요."
   ]
  },
  {
   "cell_type": "code",
   "execution_count": null,
   "id": "6001e981",
   "metadata": {},
   "outputs": [],
   "source": [
    "import seaborn as sns\n",
    "import pandas as pd\n",
    "dataset = sns.load_dataset(\"묵시적 형 변환\")\n",
    "dataset.head(1)"
   ]
  },
  {
   "cell_type": "markdown",
   "id": "50026fd3",
   "metadata": {},
   "source": [
    "# 🔧 Tool: sql\n",
    "\n",
    "**Dataset:** penguins\n",
    "**난이도:** 하\n",
    "\n",
    "**Q.** 인른의 몸무게가 5000g 이하인"
   ]
  },
  {
   "cell_type": "code",
   "execution_count": null,
   "id": "47b0df25",
   "metadata": {},
   "outputs": [],
   "source": [
    "import seaborn as sns\n",
    "import pandas as pd\n",
    "dataset = sns.load_dataset(\"penguins\")\n",
    "dataset.head(1)"
   ]
  },
  {
   "cell_type": "markdown",
   "id": "f17e4a5c",
   "metadata": {},
   "source": [
    "# 🔧 Tool: sql\n",
    "\n",
    "**Dataset:** tips\n",
    "**난이도:** 하\n",
    "\n",
    "**Q.** 칵테일 바에서 가장 저렴한 음료는 무엇입니까? 가격이 가장 낮은 음료의 이름과 가격을 출력하세요."
   ]
  },
  {
   "cell_type": "code",
   "execution_count": null,
   "id": "a188b4d8",
   "metadata": {},
   "outputs": [],
   "source": [
    "import seaborn as sns\n",
    "import pandas as pd\n",
    "dataset = sns.load_dataset(\"tips\")\n",
    "dataset.head(1)"
   ]
  },
  {
   "cell_type": "markdown",
   "id": "8c110b8e",
   "metadata": {},
   "source": [
    "# 🔧 Tool: sql\n",
    "\n",
    "**Dataset:** tips\n",
    "**난이도:** 중하\n",
    "\n",
    "**Q.** 칵테일 바의 기본 투팍을 찾는 데 사용되는 재료는 무엇입니까? 해당 정보는 기본투팍에서 찾을 수 있습니다."
   ]
  },
  {
   "cell_type": "code",
   "execution_count": null,
   "id": "b8cf54ad",
   "metadata": {},
   "outputs": [],
   "source": [
    "import seaborn as sns\n",
    "import pandas as pd\n",
    "dataset = sns.load_dataset(\"tips\")\n",
    "dataset.head(1)"
   ]
  },
  {
   "cell_type": "markdown",
   "id": "74e08e5e",
   "metadata": {},
   "source": [
    "# 🔧 Tool: SQL\n",
    "\n",
    "**Dataset:** mpg\n",
    "**난이도:** 하\n",
    "\n",
    "**Q.** [GROQ ERROR] Error code: 401 - {'error': {'message': 'Invalid API Key', 'type': 'invalid_request_error', 'code': 'invalid_api_key'}}"
   ]
  },
  {
   "cell_type": "code",
   "execution_count": null,
   "id": "6e5dc712",
   "metadata": {},
   "outputs": [],
   "source": [
    "import seaborn as sns\n",
    "import pandas as pd\n",
    "dataset = sns.load_dataset(\"mpg\")\n",
    "dataset.head(1)"
   ]
  },
  {
   "cell_type": "markdown",
   "id": "037fa9b3",
   "metadata": {},
   "source": [
    "# 🔧 Tool: SQL\n",
    "\n",
    "**Dataset:** penguins\n",
    "**난이도:** 하\n",
    "\n",
    "**Q.** [GROQ ERROR] Error code: 401 - {'error': {'message': 'Invalid API Key', 'type': 'invalid_request_error', 'code': 'invalid_api_key'}}"
   ]
  },
  {
   "cell_type": "code",
   "execution_count": null,
   "id": "f972ff11",
   "metadata": {},
   "outputs": [],
   "source": [
    "import seaborn as sns\n",
    "import pandas as pd\n",
    "dataset = sns.load_dataset(\"penguins\")\n",
    "dataset.head(1)"
   ]
  },
  {
   "cell_type": "markdown",
   "id": "4c911034",
   "metadata": {},
   "source": [
    "# 🔧 Tool: SQL\n",
    "\n",
    "**Dataset:** penguins\n",
    "**난이도:** 중하\n",
    "\n",
    "**Q.** [GROQ ERROR] Error code: 401 - {'error': {'message': 'Invalid API Key', 'type': 'invalid_request_error', 'code': 'invalid_api_key'}}"
   ]
  },
  {
   "cell_type": "code",
   "execution_count": null,
   "id": "eebadfe2",
   "metadata": {},
   "outputs": [],
   "source": [
    "import seaborn as sns\n",
    "import pandas as pd\n",
    "dataset = sns.load_dataset(\"penguins\")\n",
    "dataset.head(1)"
   ]
  },
  {
   "cell_type": "markdown",
   "id": "ed4c8433",
   "metadata": {},
   "source": [
    "# 🔧 Tool: SQL\n",
    "\n",
    "**Dataset:** penguins\n",
    "**난이도:** 중하\n",
    "\n",
    "**Q.** [GROQ ERROR] Error code: 401 - {'error': {'message': 'Invalid API Key', 'type': 'invalid_request_error', 'code': 'invalid_api_key'}}"
   ]
  },
  {
   "cell_type": "code",
   "execution_count": null,
   "id": "ded96515",
   "metadata": {},
   "outputs": [],
   "source": [
    "import seaborn as sns\n",
    "import pandas as pd\n",
    "dataset = sns.load_dataset(\"penguins\")\n",
    "dataset.head(1)"
   ]
  },
  {
   "cell_type": "markdown",
   "id": "0f6b60c8",
   "metadata": {},
   "source": [
    "# 🔧 Tool: SQL\n",
    "\n",
    "**Dataset:** iris\n",
    "**난이도:** 중\n",
    "\n",
    "**Q.** [GROQ ERROR] Error code: 401 - {'error': {'message': 'Invalid API Key', 'type': 'invalid_request_error', 'code': 'invalid_api_key'}}"
   ]
  },
  {
   "cell_type": "code",
   "execution_count": null,
   "id": "3c29e8ec",
   "metadata": {},
   "outputs": [],
   "source": [
    "import seaborn as sns\n",
    "import pandas as pd\n",
    "dataset = sns.load_dataset(\"iris\")\n",
    "dataset.head(1)"
   ]
  },
  {
   "cell_type": "markdown",
   "id": "e20aa51b",
   "metadata": {},
   "source": [
    "# 🔧 Tool: SQL\n",
    "\n",
    "**Dataset:** penguins\n",
    "**난이도:** 중\n",
    "\n",
    "**Q.** [GROQ ERROR] Error code: 401 - {'error': {'message': 'Invalid API Key', 'type': 'invalid_request_error', 'code': 'invalid_api_key'}}"
   ]
  },
  {
   "cell_type": "code",
   "execution_count": null,
   "id": "f0668235",
   "metadata": {},
   "outputs": [],
   "source": [
    "import seaborn as sns\n",
    "import pandas as pd\n",
    "dataset = sns.load_dataset(\"penguins\")\n",
    "dataset.head(1)"
   ]
  },
  {
   "cell_type": "markdown",
   "id": "82f5d298",
   "metadata": {},
   "source": [
    "# 🔧 Tool: SQL\n",
    "\n",
    "**Dataset:** iris\n",
    "**난이도:** 하\n",
    "\n",
    "**Q.** [GROQ ERROR] Error code: 401 - {'error': {'message': 'Invalid API Key', 'type': 'invalid_request_error', 'code': 'invalid_api_key'}}"
   ]
  },
  {
   "cell_type": "code",
   "execution_count": null,
   "id": "34d300e9",
   "metadata": {},
   "outputs": [],
   "source": [
    "import seaborn as sns\n",
    "import pandas as pd\n",
    "dataset = sns.load_dataset(\"iris\")\n",
    "dataset.head(1)"
   ]
  },
  {
   "cell_type": "markdown",
   "id": "e5288f64",
   "metadata": {},
   "source": [
    "# 🔧 Tool: SQL\n",
    "\n",
    "**Dataset:** iris\n",
    "**난이도:** 하\n",
    "\n",
    "**Q.** [GROQ ERROR] Error code: 401 - {'error': {'message': 'Invalid API Key', 'type': 'invalid_request_error', 'code': 'invalid_api_key'}}"
   ]
  },
  {
   "cell_type": "code",
   "execution_count": null,
   "id": "f702df65",
   "metadata": {},
   "outputs": [],
   "source": [
    "import seaborn as sns\n",
    "import pandas as pd\n",
    "dataset = sns.load_dataset(\"iris\")\n",
    "dataset.head(1)"
   ]
  },
  {
   "cell_type": "markdown",
   "id": "c6ba2cdc",
   "metadata": {},
   "source": [
    "# 🔧 Tool: SQL\n",
    "\n",
    "**Dataset:** mpg\n",
    "**난이도:** 중하\n",
    "\n",
    "**Q.** [GROQ ERROR] Error code: 401 - {'error': {'message': 'Invalid API Key', 'type': 'invalid_request_error', 'code': 'invalid_api_key'}}"
   ]
  },
  {
   "cell_type": "code",
   "execution_count": null,
   "id": "b02af13c",
   "metadata": {},
   "outputs": [],
   "source": [
    "import seaborn as sns\n",
    "import pandas as pd\n",
    "dataset = sns.load_dataset(\"mpg\")\n",
    "dataset.head(1)"
   ]
  },
  {
   "cell_type": "markdown",
   "id": "b51ddf1e",
   "metadata": {},
   "source": [
    "# 🔧 Tool: SQL\n",
    "\n",
    "**Dataset:** mpg\n",
    "**난이도:** 중하\n",
    "\n",
    "**Q.** [GROQ ERROR] Error code: 401 - {'error': {'message': 'Invalid API Key', 'type': 'invalid_request_error', 'code': 'invalid_api_key'}}"
   ]
  },
  {
   "cell_type": "code",
   "execution_count": null,
   "id": "810d908c",
   "metadata": {},
   "outputs": [],
   "source": [
    "import seaborn as sns\n",
    "import pandas as pd\n",
    "dataset = sns.load_dataset(\"mpg\")\n",
    "dataset.head(1)"
   ]
  },
  {
   "cell_type": "markdown",
   "id": "f9628819",
   "metadata": {},
   "source": [
    "# 🔧 Tool: SQL\n",
    "\n",
    "**Dataset:** iris\n",
    "**난이도:** 중\n",
    "\n",
    "**Q.** [GROQ ERROR] Error code: 401 - {'error': {'message': 'Invalid API Key', 'type': 'invalid_request_error', 'code': 'invalid_api_key'}}"
   ]
  },
  {
   "cell_type": "code",
   "execution_count": null,
   "id": "aca7c0e1",
   "metadata": {},
   "outputs": [],
   "source": [
    "import seaborn as sns\n",
    "import pandas as pd\n",
    "dataset = sns.load_dataset(\"iris\")\n",
    "dataset.head(1)"
   ]
  },
  {
   "cell_type": "markdown",
   "id": "6409d86c",
   "metadata": {},
   "source": [
    "# 🔧 Tool: SQL\n",
    "\n",
    "**Dataset:** iris\n",
    "**난이도:** 중\n",
    "\n",
    "**Q.** [GROQ ERROR] Error code: 401 - {'error': {'message': 'Invalid API Key', 'type': 'invalid_request_error', 'code': 'invalid_api_key'}}"
   ]
  },
  {
   "cell_type": "code",
   "execution_count": null,
   "id": "e0276403",
   "metadata": {},
   "outputs": [],
   "source": [
    "import seaborn as sns\n",
    "import pandas as pd\n",
    "dataset = sns.load_dataset(\"iris\")\n",
    "dataset.head(1)"
   ]
  },
  {
   "cell_type": "markdown",
   "id": "ad2b2ea4",
   "metadata": {},
   "source": [
    "# 🔧 Tool: SQL\n",
    "\n",
    "**Dataset:** tips\n",
    "**난이도:** 하\n",
    "\n",
    "**Q.** [GROQ ERROR] Error code: 401 - {'error': {'message': 'Invalid API Key', 'type': 'invalid_request_error', 'code': 'invalid_api_key'}}"
   ]
  },
  {
   "cell_type": "code",
   "execution_count": null,
   "id": "9eff0150",
   "metadata": {},
   "outputs": [],
   "source": [
    "import seaborn as sns\n",
    "import pandas as pd\n",
    "dataset = sns.load_dataset(\"tips\")\n",
    "dataset.head(1)"
   ]
  },
  {
   "cell_type": "markdown",
   "id": "552bc901",
   "metadata": {},
   "source": [
    "# 🔧 Tool: SQL\n",
    "\n",
    "**Dataset:** tips\n",
    "**난이도:** 하\n",
    "\n",
    "**Q.** [GROQ ERROR] Error code: 401 - {'error': {'message': 'Invalid API Key', 'type': 'invalid_request_error', 'code': 'invalid_api_key'}}"
   ]
  },
  {
   "cell_type": "code",
   "execution_count": null,
   "id": "6431215e",
   "metadata": {},
   "outputs": [],
   "source": [
    "import seaborn as sns\n",
    "import pandas as pd\n",
    "dataset = sns.load_dataset(\"tips\")\n",
    "dataset.head(1)"
   ]
  },
  {
   "cell_type": "markdown",
   "id": "a9af9377",
   "metadata": {},
   "source": [
    "# 🔧 Tool: SQL\n",
    "\n",
    "**Dataset:** diamonds\n",
    "**난이도:** 중하\n",
    "\n",
    "**Q.** [GROQ ERROR] Error code: 401 - {'error': {'message': 'Invalid API Key', 'type': 'invalid_request_error', 'code': 'invalid_api_key'}}"
   ]
  },
  {
   "cell_type": "code",
   "execution_count": null,
   "id": "3bdc52e8",
   "metadata": {},
   "outputs": [],
   "source": [
    "import seaborn as sns\n",
    "import pandas as pd\n",
    "dataset = sns.load_dataset(\"diamonds\")\n",
    "dataset.head(1)"
   ]
  },
  {
   "cell_type": "markdown",
   "id": "1337058f",
   "metadata": {},
   "source": [
    "# 🔧 Tool: SQL\n",
    "\n",
    "**Dataset:** tips\n",
    "**난이도:** 중하\n",
    "\n",
    "**Q.** [GROQ ERROR] Error code: 401 - {'error': {'message': 'Invalid API Key', 'type': 'invalid_request_error', 'code': 'invalid_api_key'}}"
   ]
  },
  {
   "cell_type": "code",
   "execution_count": null,
   "id": "35211201",
   "metadata": {},
   "outputs": [],
   "source": [
    "import seaborn as sns\n",
    "import pandas as pd\n",
    "dataset = sns.load_dataset(\"tips\")\n",
    "dataset.head(1)"
   ]
  },
  {
   "cell_type": "markdown",
   "id": "bec1f47e",
   "metadata": {},
   "source": [
    "# 🔧 Tool: SQL\n",
    "\n",
    "**Dataset:** mpg\n",
    "**난이도:** 중\n",
    "\n",
    "**Q.** [GROQ ERROR] Error code: 401 - {'error': {'message': 'Invalid API Key', 'type': 'invalid_request_error', 'code': 'invalid_api_key'}}"
   ]
  },
  {
   "cell_type": "code",
   "execution_count": null,
   "id": "00ac4a02",
   "metadata": {},
   "outputs": [],
   "source": [
    "import seaborn as sns\n",
    "import pandas as pd\n",
    "dataset = sns.load_dataset(\"mpg\")\n",
    "dataset.head(1)"
   ]
  },
  {
   "cell_type": "markdown",
   "id": "d93a7357",
   "metadata": {},
   "source": [
    "# 🔧 Tool: SQL\n",
    "\n",
    "**Dataset:** diamonds\n",
    "**난이도:** 중\n",
    "\n",
    "**Q.** [GROQ ERROR] Error code: 401 - {'error': {'message': 'Invalid API Key', 'type': 'invalid_request_error', 'code': 'invalid_api_key'}}"
   ]
  },
  {
   "cell_type": "code",
   "execution_count": null,
   "id": "dce0ad13",
   "metadata": {},
   "outputs": [],
   "source": [
    "import seaborn as sns\n",
    "import pandas as pd\n",
    "dataset = sns.load_dataset(\"diamonds\")\n",
    "dataset.head(1)"
   ]
  },
  {
   "cell_type": "markdown",
   "id": "5f3dd317",
   "metadata": {},
   "source": [
    "# 🔧 Tool: SQL\n",
    "\n",
    "**Dataset:** penguins\n",
    "**난이도:** 하\n",
    "\n",
    "**Q.** Here are two SQL problems suitable for learning, with a difficulty level of low to medium:"
   ]
  },
  {
   "cell_type": "code",
   "execution_count": null,
   "id": "a14d9326",
   "metadata": {},
   "outputs": [],
   "source": [
    "import seaborn as sns\n",
    "import pandas as pd\n",
    "dataset = sns.load_dataset(\"penguins\")\n",
    "dataset.head(1)"
   ]
  },
  {
   "cell_type": "markdown",
   "id": "4aca734e",
   "metadata": {},
   "source": [
    "# 🔧 Tool: SQL\n",
    "\n",
    "**Dataset:** penguins\n",
    "**난이도:** 하\n",
    "\n",
    "**Q.** **Problem 1: Low difficulty**"
   ]
  },
  {
   "cell_type": "code",
   "execution_count": null,
   "id": "1cf79c10",
   "metadata": {},
   "outputs": [],
   "source": [
    "import seaborn as sns\n",
    "import pandas as pd\n",
    "dataset = sns.load_dataset(\"penguins\")\n",
    "dataset.head(1)"
   ]
  },
  {
   "cell_type": "markdown",
   "id": "954f2d26",
   "metadata": {},
   "source": [
    "# 🔧 Tool: SQL\n",
    "\n",
    "**Dataset:** penguins\n",
    "**난이도:** 하\n",
    "\n",
    "**Q.** 🚗 `car_crashes` 테이블에서 2010년 이내의 사고 건수를 구하세요."
   ]
  },
  {
   "cell_type": "code",
   "execution_count": null,
   "id": "9a709196",
   "metadata": {},
   "outputs": [],
   "source": [
    "import seaborn as sns\n",
    "import pandas as pd\n",
    "dataset = sns.load_dataset(\"penguins\")\n",
    "dataset.head(1)"
   ]
  },
  {
   "cell_type": "markdown",
   "id": "a7969890",
   "metadata": {},
   "source": [
    "# 🔧 Tool: SQL\n",
    "\n",
    "**Dataset:** penguins\n",
    "**난이도:** 하\n",
    "\n",
    "**Q.** Translation: Retrieve the number of accidents that occurred within 2010 from the `car_crashes` table."
   ]
  },
  {
   "cell_type": "code",
   "execution_count": null,
   "id": "2cdf7624",
   "metadata": {},
   "outputs": [],
   "source": [
    "import seaborn as sns\n",
    "import pandas as pd\n",
    "dataset = sns.load_dataset(\"penguins\")\n",
    "dataset.head(1)"
   ]
  },
  {
   "cell_type": "markdown",
   "id": "00f59f5c",
   "metadata": {},
   "source": [
    "# 🔧 Tool: SQL\n",
    "\n",
    "**Dataset:** penguins\n",
    "**난이도:** 하\n",
    "\n",
    "**Q.** **Problem 2: Medium difficulty**"
   ]
  },
  {
   "cell_type": "code",
   "execution_count": null,
   "id": "a75e9e59",
   "metadata": {},
   "outputs": [],
   "source": [
    "import seaborn as sns\n",
    "import pandas as pd\n",
    "dataset = sns.load_dataset(\"penguins\")\n",
    "dataset.head(1)"
   ]
  },
  {
   "cell_type": "markdown",
   "id": "79877c54",
   "metadata": {},
   "source": [
    "# 🔧 Tool: SQL\n",
    "\n",
    "**Dataset:** penguins\n",
    "**난이도:** 하\n",
    "\n",
    "**Q.** 🐧 `penguins` 테이블에서 흰색 plumage를 가진 펭귄의 평균 몸무게를 구하세요. 또한, 이를 50kg 이상, 50kg 이하로 구분하여 결과를 출력하세요."
   ]
  },
  {
   "cell_type": "code",
   "execution_count": null,
   "id": "0116696a",
   "metadata": {},
   "outputs": [],
   "source": [
    "import seaborn as sns\n",
    "import pandas as pd\n",
    "dataset = sns.load_dataset(\"penguins\")\n",
    "dataset.head(1)"
   ]
  },
  {
   "cell_type": "markdown",
   "id": "f0c49e0e",
   "metadata": {},
   "source": [
    "# 🔧 Tool: SQL\n",
    "\n",
    "**Dataset:** penguins\n",
    "**난이도:** 하\n",
    "\n",
    "**Q.** Translation: Retrieve the average weight of penguins with white plumage from the `penguins` table. Additionally, group the results into two categories: those with a weight greater than 50kg and those with a weight less than 50kg."
   ]
  },
  {
   "cell_type": "code",
   "execution_count": null,
   "id": "3fdd7381",
   "metadata": {},
   "outputs": [],
   "source": [
    "import seaborn as sns\n",
    "import pandas as pd\n",
    "dataset = sns.load_dataset(\"penguins\")\n",
    "dataset.head(1)"
   ]
  },
  {
   "cell_type": "markdown",
   "id": "d1e3898d",
   "metadata": {},
   "source": [
    "# 🔧 Tool: SQL\n",
    "\n",
    "**Dataset:** penguins\n",
    "**난이도:** 하\n",
    "\n",
    "**Q.** Let me know if you'd like me to adjust the difficulty level or create more problems! 😊"
   ]
  },
  {
   "cell_type": "code",
   "execution_count": null,
   "id": "040338a9",
   "metadata": {},
   "outputs": [],
   "source": [
    "import seaborn as sns\n",
    "import pandas as pd\n",
    "dataset = sns.load_dataset(\"penguins\")\n",
    "dataset.head(1)"
   ]
  },
  {
   "cell_type": "markdown",
   "id": "52f3f38c",
   "metadata": {},
   "source": [
    "# 🔧 Tool: SQL\n",
    "\n",
    "**Dataset:** car_crashes\n",
    "**난이도:** 하\n",
    "\n",
    "**Q.** Here are two SQL problems suitable for learning SQL, using the given datasets and difficulty levels:"
   ]
  },
  {
   "cell_type": "code",
   "execution_count": null,
   "id": "efbc286b",
   "metadata": {},
   "outputs": [],
   "source": [
    "import seaborn as sns\n",
    "import pandas as pd\n",
    "dataset = sns.load_dataset(\"car_crashes\")\n",
    "dataset.head(1)"
   ]
  },
  {
   "cell_type": "markdown",
   "id": "8797b2c3",
   "metadata": {},
   "source": [
    "# 🔧 Tool: SQL\n",
    "\n",
    "**Dataset:** car_crashes\n",
    "**난이도:** 하\n",
    "\n",
    "**Q.** **Problem 1: 하 (Low)**"
   ]
  },
  {
   "cell_type": "code",
   "execution_count": null,
   "id": "4932c6a0",
   "metadata": {},
   "outputs": [],
   "source": [
    "import seaborn as sns\n",
    "import pandas as pd\n",
    "dataset = sns.load_dataset(\"car_crashes\")\n",
    "dataset.head(1)"
   ]
  },
  {
   "cell_type": "markdown",
   "id": "8ad7e6f4",
   "metadata": {},
   "source": [
    "# 🔧 Tool: SQL\n",
    "\n",
    "**Dataset:** car_crashes\n",
    "**난이도:** 하\n",
    "\n",
    "**Q.** 📍 car_crashes 테이블에서 2020년에 발생한 교통사고의 수를 구하세요."
   ]
  },
  {
   "cell_type": "code",
   "execution_count": null,
   "id": "5e1e389d",
   "metadata": {},
   "outputs": [],
   "source": [
    "import seaborn as sns\n",
    "import pandas as pd\n",
    "dataset = sns.load_dataset(\"car_crashes\")\n",
    "dataset.head(1)"
   ]
  },
  {
   "cell_type": "markdown",
   "id": "58da9995",
   "metadata": {},
   "source": [
    "# 🔧 Tool: SQL\n",
    "\n",
    "**Dataset:** car_crashes\n",
    "**난이도:** 하\n",
    "\n",
    "**Q.** Translation: Count the number of car crashes that occurred in 2020 in the car_crashes table."
   ]
  },
  {
   "cell_type": "code",
   "execution_count": null,
   "id": "f7e0740e",
   "metadata": {},
   "outputs": [],
   "source": [
    "import seaborn as sns\n",
    "import pandas as pd\n",
    "dataset = sns.load_dataset(\"car_crashes\")\n",
    "dataset.head(1)"
   ]
  },
  {
   "cell_type": "markdown",
   "id": "65ad598d",
   "metadata": {},
   "source": [
    "# 🔧 Tool: SQL\n",
    "\n",
    "**Dataset:** car_crashes\n",
    "**난이도:** 하\n",
    "\n",
    "**Q.** **Problem 2: 중 (Medium)**"
   ]
  },
  {
   "cell_type": "code",
   "execution_count": null,
   "id": "c4022b14",
   "metadata": {},
   "outputs": [],
   "source": [
    "import seaborn as sns\n",
    "import pandas as pd\n",
    "dataset = sns.load_dataset(\"car_crashes\")\n",
    "dataset.head(1)"
   ]
  },
  {
   "cell_type": "markdown",
   "id": "f7e10622",
   "metadata": {},
   "source": [
    "# 🔧 Tool: SQL\n",
    "\n",
    "**Dataset:** car_crashes\n",
    "**난이도:** 하\n",
    "\n",
    "**Q.** 📊 tips 테이블에서 5% 이상의 팁을 받은 주문 중, 가장 많은 팁을 받은 주문의 총액을 구하세요."
   ]
  },
  {
   "cell_type": "code",
   "execution_count": null,
   "id": "166b9fad",
   "metadata": {},
   "outputs": [],
   "source": [
    "import seaborn as sns\n",
    "import pandas as pd\n",
    "dataset = sns.load_dataset(\"car_crashes\")\n",
    "dataset.head(1)"
   ]
  },
  {
   "cell_type": "markdown",
   "id": "769a5796",
   "metadata": {},
   "source": [
    "# 🔧 Tool: SQL\n",
    "\n",
    "**Dataset:** car_crashes\n",
    "**난이도:** 하\n",
    "\n",
    "**Q.** Translation: Find the total amount of the largest tip received by an order that received a tip of 5% or more in the tips table."
   ]
  },
  {
   "cell_type": "code",
   "execution_count": null,
   "id": "e42f78be",
   "metadata": {},
   "outputs": [],
   "source": [
    "import seaborn as sns\n",
    "import pandas as pd\n",
    "dataset = sns.load_dataset(\"car_crashes\")\n",
    "dataset.head(1)"
   ]
  },
  {
   "cell_type": "markdown",
   "id": "94ed8106",
   "metadata": {},
   "source": [
    "# 🔧 Tool: SQL\n",
    "\n",
    "**Dataset:** car_crashes\n",
    "**난이도:** 하\n",
    "\n",
    "**Q.** Let me know if you need any modifications or additional problems! 😊"
   ]
  },
  {
   "cell_type": "code",
   "execution_count": null,
   "id": "8f2f09b7",
   "metadata": {},
   "outputs": [],
   "source": [
    "import seaborn as sns\n",
    "import pandas as pd\n",
    "dataset = sns.load_dataset(\"car_crashes\")\n",
    "dataset.head(1)"
   ]
  },
  {
   "cell_type": "markdown",
   "id": "2368ae6b",
   "metadata": {},
   "source": [
    "# 🔧 Tool: SQL\n",
    "\n",
    "**Dataset:** penguins\n",
    "**난이도:** 중하\n",
    "\n",
    "**Q.** Here are two SQL problems that fit the conditions:"
   ]
  },
  {
   "cell_type": "code",
   "execution_count": null,
   "id": "c7301973",
   "metadata": {},
   "outputs": [],
   "source": [
    "import seaborn as sns\n",
    "import pandas as pd\n",
    "dataset = sns.load_dataset(\"penguins\")\n",
    "dataset.head(1)"
   ]
  },
  {
   "cell_type": "markdown",
   "id": "4aac78df",
   "metadata": {},
   "source": [
    "# 🔧 Tool: SQL\n",
    "\n",
    "**Dataset:** penguins\n",
    "**난이도:** 중하\n",
    "\n",
    "**Q.** **Problem 1 (Easy, Low-Moderate difficulty)**"
   ]
  },
  {
   "cell_type": "code",
   "execution_count": null,
   "id": "db379e74",
   "metadata": {},
   "outputs": [],
   "source": [
    "import seaborn as sns\n",
    "import pandas as pd\n",
    "dataset = sns.load_dataset(\"penguins\")\n",
    "dataset.head(1)"
   ]
  },
  {
   "cell_type": "markdown",
   "id": "2120b2e6",
   "metadata": {},
   "source": [
    "# 🔧 Tool: SQL\n",
    "\n",
    "**Dataset:** penguins\n",
    "**난이도:** 중하\n",
    "\n",
    "**Q.** 🚗 자동차 충돌 사고 데이터에서 가장 빈번한 교차로 유형을 찾으세요."
   ]
  },
  {
   "cell_type": "code",
   "execution_count": null,
   "id": "86245f20",
   "metadata": {},
   "outputs": [],
   "source": [
    "import seaborn as sns\n",
    "import pandas as pd\n",
    "dataset = sns.load_dataset(\"penguins\")\n",
    "dataset.head(1)"
   ]
  },
  {
   "cell_type": "markdown",
   "id": "46ebd44c",
   "metadata": {},
   "source": [
    "# 🔧 Tool: SQL\n",
    "\n",
    "**Dataset:** penguins\n",
    "**난이도:** 중하\n",
    "\n",
    "**Q.** (Translation: Find the most frequent intersection types in the car crashes dataset.)"
   ]
  },
  {
   "cell_type": "code",
   "execution_count": null,
   "id": "583d77c2",
   "metadata": {},
   "outputs": [],
   "source": [
    "import seaborn as sns\n",
    "import pandas as pd\n",
    "dataset = sns.load_dataset(\"penguins\")\n",
    "dataset.head(1)"
   ]
  },
  {
   "cell_type": "markdown",
   "id": "b686fa56",
   "metadata": {},
   "source": [
    "# 🔧 Tool: SQL\n",
    "\n",
    "**Dataset:** penguins\n",
    "**난이도:** 중하\n",
    "\n",
    "**Q.** **Problem 2 (Moderate difficulty)**"
   ]
  },
  {
   "cell_type": "code",
   "execution_count": null,
   "id": "1832caa3",
   "metadata": {},
   "outputs": [],
   "source": [
    "import seaborn as sns\n",
    "import pandas as pd\n",
    "dataset = sns.load_dataset(\"penguins\")\n",
    "dataset.head(1)"
   ]
  },
  {
   "cell_type": "markdown",
   "id": "9501ca14",
   "metadata": {},
   "source": [
    "# 🔧 Tool: SQL\n",
    "\n",
    "**Dataset:** penguins\n",
    "**난이도:** 중하\n",
    "\n",
    "**Q.** 🐧 펭귄 데이터에서, 남성 펭귄의 평균 몸길이를 구하세요. 또한, 1m 이상의 몸길이를 가진 펭귄의 수를 구하세요."
   ]
  },
  {
   "cell_type": "code",
   "execution_count": null,
   "id": "fc8e0575",
   "metadata": {},
   "outputs": [],
   "source": [
    "import seaborn as sns\n",
    "import pandas as pd\n",
    "dataset = sns.load_dataset(\"penguins\")\n",
    "dataset.head(1)"
   ]
  },
  {
   "cell_type": "markdown",
   "id": "042f4344",
   "metadata": {},
   "source": [
    "# 🔧 Tool: SQL\n",
    "\n",
    "**Dataset:** penguins\n",
    "**난이도:** 중하\n",
    "\n",
    "**Q.** (Translation: Find the average body length of male penguins in the penguins dataset. Additionally, count the number of penguins with a body length of 1m or more.)"
   ]
  },
  {
   "cell_type": "code",
   "execution_count": null,
   "id": "7af9b1e2",
   "metadata": {},
   "outputs": [],
   "source": [
    "import seaborn as sns\n",
    "import pandas as pd\n",
    "dataset = sns.load_dataset(\"penguins\")\n",
    "dataset.head(1)"
   ]
  },
  {
   "cell_type": "markdown",
   "id": "45e8a30a",
   "metadata": {},
   "source": [
    "# 🔧 Tool: SQL\n",
    "\n",
    "**Dataset:** penguins\n",
    "**난이도:** 중하\n",
    "\n",
    "**Q.** Let me know if you'd like me to adjust the difficulty level or create new problems! 😊"
   ]
  },
  {
   "cell_type": "code",
   "execution_count": null,
   "id": "6eaee9a8",
   "metadata": {},
   "outputs": [],
   "source": [
    "import seaborn as sns\n",
    "import pandas as pd\n",
    "dataset = sns.load_dataset(\"penguins\")\n",
    "dataset.head(1)"
   ]
  },
  {
   "cell_type": "markdown",
   "id": "66527d09",
   "metadata": {},
   "source": [
    "# 🔧 Tool: SQL\n",
    "\n",
    "**Dataset:** penguins\n",
    "**난이도:** 중하\n",
    "\n",
    "**Q.** Here are two SQL problems for you to practice:"
   ]
  },
  {
   "cell_type": "code",
   "execution_count": null,
   "id": "12785b28",
   "metadata": {},
   "outputs": [],
   "source": [
    "import seaborn as sns\n",
    "import pandas as pd\n",
    "dataset = sns.load_dataset(\"penguins\")\n",
    "dataset.head(1)"
   ]
  },
  {
   "cell_type": "markdown",
   "id": "a83c1cbe",
   "metadata": {},
   "source": [
    "# 🔧 Tool: SQL\n",
    "\n",
    "**Dataset:** penguins\n",
    "**난이도:** 중하\n",
    "\n",
    "**Q.** **Problem 1: 하 (Low)**"
   ]
  },
  {
   "cell_type": "code",
   "execution_count": null,
   "id": "fbe1c814",
   "metadata": {},
   "outputs": [],
   "source": [
    "import seaborn as sns\n",
    "import pandas as pd\n",
    "dataset = sns.load_dataset(\"penguins\")\n",
    "dataset.head(1)"
   ]
  },
  {
   "cell_type": "markdown",
   "id": "fa7e8b7e",
   "metadata": {},
   "source": [
    "# 🔧 Tool: SQL\n",
    "\n",
    "**Dataset:** penguins\n",
    "**난이도:** 중하\n",
    "\n",
    "**Q.** 🚗  car_crashes 테이블에서 2020년 1월 1일부터 2020년 12월 31일까지의 데이터를 조회하세요."
   ]
  },
  {
   "cell_type": "code",
   "execution_count": null,
   "id": "100d80b8",
   "metadata": {},
   "outputs": [],
   "source": [
    "import seaborn as sns\n",
    "import pandas as pd\n",
    "dataset = sns.load_dataset(\"penguins\")\n",
    "dataset.head(1)"
   ]
  },
  {
   "cell_type": "markdown",
   "id": "f960c221",
   "metadata": {},
   "source": [
    "# 🔧 Tool: SQL\n",
    "\n",
    "**Dataset:** penguins\n",
    "**난이도:** 중하\n",
    "\n",
    "**Q.** **Problem 2: 중 (Medium)**"
   ]
  },
  {
   "cell_type": "code",
   "execution_count": null,
   "id": "50f37331",
   "metadata": {},
   "outputs": [],
   "source": [
    "import seaborn as sns\n",
    "import pandas as pd\n",
    "dataset = sns.load_dataset(\"penguins\")\n",
    "dataset.head(1)"
   ]
  },
  {
   "cell_type": "markdown",
   "id": "e6fae7ca",
   "metadata": {},
   "source": [
    "# 🔧 Tool: SQL\n",
    "\n",
    "**Dataset:** penguins\n",
    "**난이도:** 중하\n",
    "\n",
    "**Q.** ❓  tips 테이블에서 각 서버의 평균 팁액을 구하세요. 또한, 15% 이상 팁액을 주는 서버의 이름을 확인하세요."
   ]
  },
  {
   "cell_type": "code",
   "execution_count": null,
   "id": "6227f10c",
   "metadata": {},
   "outputs": [],
   "source": [
    "import seaborn as sns\n",
    "import pandas as pd\n",
    "dataset = sns.load_dataset(\"penguins\")\n",
    "dataset.head(1)"
   ]
  },
  {
   "cell_type": "markdown",
   "id": "b78f3964",
   "metadata": {},
   "source": [
    "# 🔧 Tool: SQL\n",
    "\n",
    "**Dataset:** penguins\n",
    "**난이도:** 중하\n",
    "\n",
    "**Q.** Let me know if you need any help solving these problems! 😊"
   ]
  },
  {
   "cell_type": "code",
   "execution_count": null,
   "id": "dfc1dcc1",
   "metadata": {},
   "outputs": [],
   "source": [
    "import seaborn as sns\n",
    "import pandas as pd\n",
    "dataset = sns.load_dataset(\"penguins\")\n",
    "dataset.head(1)"
   ]
  },
  {
   "cell_type": "markdown",
   "id": "bd3fb965",
   "metadata": {},
   "source": [
    "# 🔧 Tool: SQL\n",
    "\n",
    "**Dataset:** penguins\n",
    "**난이도:** 중\n",
    "\n",
    "**Q.** Here are two SQL problems that fit the conditions:"
   ]
  },
  {
   "cell_type": "code",
   "execution_count": null,
   "id": "8f137946",
   "metadata": {},
   "outputs": [],
   "source": [
    "import seaborn as sns\n",
    "import pandas as pd\n",
    "dataset = sns.load_dataset(\"penguins\")\n",
    "dataset.head(1)"
   ]
  },
  {
   "cell_type": "markdown",
   "id": "e8040e34",
   "metadata": {},
   "source": [
    "# 🔧 Tool: SQL\n",
    "\n",
    "**Dataset:** penguins\n",
    "**난이도:** 중\n",
    "\n",
    "**Q.** **Problem 1: 하 (Low)**"
   ]
  },
  {
   "cell_type": "code",
   "execution_count": null,
   "id": "718c5439",
   "metadata": {},
   "outputs": [],
   "source": [
    "import seaborn as sns\n",
    "import pandas as pd\n",
    "dataset = sns.load_dataset(\"penguins\")\n",
    "dataset.head(1)"
   ]
  },
  {
   "cell_type": "markdown",
   "id": "5d1197eb",
   "metadata": {},
   "source": [
    "# 🔧 Tool: SQL\n",
    "\n",
    "**Dataset:** penguins\n",
    "**난이도:** 중\n",
    "\n",
    "**Q.** 🚗 car_crashes 테이블에서 '도로면'이 'dry'인 데이터만 추출하세요."
   ]
  },
  {
   "cell_type": "code",
   "execution_count": null,
   "id": "295f57eb",
   "metadata": {},
   "outputs": [],
   "source": [
    "import seaborn as sns\n",
    "import pandas as pd\n",
    "dataset = sns.load_dataset(\"penguins\")\n",
    "dataset.head(1)"
   ]
  },
  {
   "cell_type": "markdown",
   "id": "51fb0fc5",
   "metadata": {},
   "source": [
    "# 🔧 Tool: SQL\n",
    "\n",
    "**Dataset:** penguins\n",
    "**난이도:** 중\n",
    "\n",
    "**Q.** (Translation: Extract the data from the car_crashes table where the 'surface' is 'dry'.)"
   ]
  },
  {
   "cell_type": "code",
   "execution_count": null,
   "id": "5fb16c5a",
   "metadata": {},
   "outputs": [],
   "source": [
    "import seaborn as sns\n",
    "import pandas as pd\n",
    "dataset = sns.load_dataset(\"penguins\")\n",
    "dataset.head(1)"
   ]
  },
  {
   "cell_type": "markdown",
   "id": "61cfbce6",
   "metadata": {},
   "source": [
    "# 🔧 Tool: SQL\n",
    "\n",
    "**Dataset:** penguins\n",
    "**난이도:** 중\n",
    "\n",
    "**Q.** **Problem 2: 중 (Medium)**"
   ]
  },
  {
   "cell_type": "code",
   "execution_count": null,
   "id": "e0e70c8a",
   "metadata": {},
   "outputs": [],
   "source": [
    "import seaborn as sns\n",
    "import pandas as pd\n",
    "dataset = sns.load_dataset(\"penguins\")\n",
    "dataset.head(1)"
   ]
  },
  {
   "cell_type": "markdown",
   "id": "47601cef",
   "metadata": {},
   "source": [
    "# 🔧 Tool: SQL\n",
    "\n",
    "**Dataset:** penguins\n",
    "**난이도:** 중\n",
    "\n",
    "**Q.** 🐧 penguins 테이블에서 'species'가 'Adelie'인 개체의 'bill_length_mm' 열의 평균 값을 구하세요. 그리고 'bill_length_mm' 열의 최댓값을 구하세요."
   ]
  },
  {
   "cell_type": "code",
   "execution_count": null,
   "id": "6a19ebf4",
   "metadata": {},
   "outputs": [],
   "source": [
    "import seaborn as sns\n",
    "import pandas as pd\n",
    "dataset = sns.load_dataset(\"penguins\")\n",
    "dataset.head(1)"
   ]
  },
  {
   "cell_type": "markdown",
   "id": "be24e8a7",
   "metadata": {},
   "source": [
    "# 🔧 Tool: SQL\n",
    "\n",
    "**Dataset:** penguins\n",
    "**난이도:** 중\n",
    "\n",
    "**Q.** (Translation: Calculate the average value of the 'bill_length_mm' column for the 'Adelie' species in the penguins table, and also find the maximum value in the same column.)"
   ]
  },
  {
   "cell_type": "code",
   "execution_count": null,
   "id": "f536d129",
   "metadata": {},
   "outputs": [],
   "source": [
    "import seaborn as sns\n",
    "import pandas as pd\n",
    "dataset = sns.load_dataset(\"penguins\")\n",
    "dataset.head(1)"
   ]
  },
  {
   "cell_type": "markdown",
   "id": "2cce5cd8",
   "metadata": {},
   "source": [
    "# 🔧 Tool: SQL\n",
    "\n",
    "**Dataset:** penguins\n",
    "**난이도:** 중\n",
    "\n",
    "**Q.** Let me know if you'd like me to adjust the difficulty level or create more problems! 😊"
   ]
  },
  {
   "cell_type": "code",
   "execution_count": null,
   "id": "fa1240f4",
   "metadata": {},
   "outputs": [],
   "source": [
    "import seaborn as sns\n",
    "import pandas as pd\n",
    "dataset = sns.load_dataset(\"penguins\")\n",
    "dataset.head(1)"
   ]
  },
  {
   "cell_type": "markdown",
   "id": "fd95ee47",
   "metadata": {},
   "source": [
    "# 🔧 Tool: SQL\n",
    "\n",
    "**Dataset:** car_crashes\n",
    "**난이도:** 중\n",
    "\n",
    "**Q.** Here are two SQL problems suitable for learning, with a difficulty level of low to medium:"
   ]
  },
  {
   "cell_type": "code",
   "execution_count": null,
   "id": "565d80ea",
   "metadata": {},
   "outputs": [],
   "source": [
    "import seaborn as sns\n",
    "import pandas as pd\n",
    "dataset = sns.load_dataset(\"car_crashes\")\n",
    "dataset.head(1)"
   ]
  },
  {
   "cell_type": "markdown",
   "id": "ab51351c",
   "metadata": {},
   "source": [
    "# 🔧 Tool: SQL\n",
    "\n",
    "**Dataset:** car_crashes\n",
    "**난이도:** 중\n",
    "\n",
    "**Q.** **Problem 1:**"
   ]
  },
  {
   "cell_type": "code",
   "execution_count": null,
   "id": "f100b3b5",
   "metadata": {},
   "outputs": [],
   "source": [
    "import seaborn as sns\n",
    "import pandas as pd\n",
    "dataset = sns.load_dataset(\"car_crashes\")\n",
    "dataset.head(1)"
   ]
  },
  {
   "cell_type": "markdown",
   "id": "ae07994b",
   "metadata": {},
   "source": [
    "# 🔧 Tool: SQL\n",
    "\n",
    "**Dataset:** car_crashes\n",
    "**난이도:** 중\n",
    "\n",
    "**Q.** 🚗 자동차 사고 데이터셋에서, 2015년부터 2018년까지의 데이터를 포함하여,"
   ]
  },
  {
   "cell_type": "code",
   "execution_count": null,
   "id": "e6d4c865",
   "metadata": {},
   "outputs": [],
   "source": [
    "import seaborn as sns\n",
    "import pandas as pd\n",
    "dataset = sns.load_dataset(\"car_crashes\")\n",
    "dataset.head(1)"
   ]
  },
  {
   "cell_type": "markdown",
   "id": "bd8c34dd",
   "metadata": {},
   "source": [
    "# 🔧 Tool: SQL\n",
    "\n",
    "**Dataset:** car_crashes\n",
    "**난이도:** 중\n",
    "\n",
    "**Q.** 사고가 발생한 도로의 길이(Length)가 1km 미만인 경우의 수를 구하세요."
   ]
  },
  {
   "cell_type": "code",
   "execution_count": null,
   "id": "9b2b9bae",
   "metadata": {},
   "outputs": [],
   "source": [
    "import seaborn as sns\n",
    "import pandas as pd\n",
    "dataset = sns.load_dataset(\"car_crashes\")\n",
    "dataset.head(1)"
   ]
  },
  {
   "cell_type": "markdown",
   "id": "c3bf3956",
   "metadata": {},
   "source": [
    "# 🔧 Tool: SQL\n",
    "\n",
    "**Dataset:** car_crashes\n",
    "**난이도:** 중\n",
    "\n",
    "**Q.** **Problem 2:**"
   ]
  },
  {
   "cell_type": "code",
   "execution_count": null,
   "id": "469ed3df",
   "metadata": {},
   "outputs": [],
   "source": [
    "import seaborn as sns\n",
    "import pandas as pd\n",
    "dataset = sns.load_dataset(\"car_crashes\")\n",
    "dataset.head(1)"
   ]
  },
  {
   "cell_type": "markdown",
   "id": "db142cdc",
   "metadata": {},
   "source": [
    "# 🔧 Tool: SQL\n",
    "\n",
    "**Dataset:** car_crashes\n",
    "**난이도:** 중\n",
    "\n",
    "**Q.** 🐧 펭귄 데이터셋에서, 'Adelie'와 'Chinstrap' 두 종의 펭귄의 중량(Average Weight)과 길이(Average Length)을 구하세요."
   ]
  },
  {
   "cell_type": "code",
   "execution_count": null,
   "id": "fae26c90",
   "metadata": {},
   "outputs": [],
   "source": [
    "import seaborn as sns\n",
    "import pandas as pd\n",
    "dataset = sns.load_dataset(\"car_crashes\")\n",
    "dataset.head(1)"
   ]
  },
  {
   "cell_type": "markdown",
   "id": "a9aa2084",
   "metadata": {},
   "source": [
    "# 🔧 Tool: SQL\n",
    "\n",
    "**Dataset:** car_crashes\n",
    "**난이도:** 중\n",
    "\n",
    "**Q.** Note: You can adjust the difficulty level and problem complexity to suit your needs. These problems are designed to be simple and easy to understand, while still requiring some basic SQL skills."
   ]
  },
  {
   "cell_type": "code",
   "execution_count": null,
   "id": "869935c7",
   "metadata": {},
   "outputs": [],
   "source": [
    "import seaborn as sns\n",
    "import pandas as pd\n",
    "dataset = sns.load_dataset(\"car_crashes\")\n",
    "dataset.head(1)"
   ]
  },
  {
   "cell_type": "markdown",
   "id": "d75ea3d4",
   "metadata": {},
   "source": [
    "# 🔧 Tool: SQL\n",
    "\n",
    "**Dataset:** penguins\n",
    "**난이도:** 하\n",
    "\n",
    "**Q.** **Problem 1: 하 (Easy)**"
   ]
  },
  {
   "cell_type": "code",
   "execution_count": null,
   "id": "5791a5ac",
   "metadata": {},
   "outputs": [],
   "source": [
    "import seaborn as sns\n",
    "import pandas as pd\n",
    "dataset = sns.load_dataset(\"penguins\")\n",
    "dataset.head(1)"
   ]
  },
  {
   "cell_type": "markdown",
   "id": "530a848c",
   "metadata": {},
   "source": [
    "# 🔧 Tool: SQL\n",
    "\n",
    "**Dataset:** penguins\n",
    "**난이도:** 하\n",
    "\n",
    "**Q.** `titanic` 데이터셋에서 생존자와 사망자의 수를 구하세요."
   ]
  },
  {
   "cell_type": "code",
   "execution_count": null,
   "id": "c997a9af",
   "metadata": {},
   "outputs": [],
   "source": [
    "import seaborn as sns\n",
    "import pandas as pd\n",
    "dataset = sns.load_dataset(\"penguins\")\n",
    "dataset.head(1)"
   ]
  },
  {
   "cell_type": "markdown",
   "id": "2db1814a",
   "metadata": {},
   "source": [
    "# 🔧 Tool: SQL\n",
    "\n",
    "**Dataset:** penguins\n",
    "**난이도:** 하\n",
    "\n",
    "**Q.** ```sql"
   ]
  },
  {
   "cell_type": "code",
   "execution_count": null,
   "id": "50c3d560",
   "metadata": {},
   "outputs": [],
   "source": [
    "import seaborn as sns\n",
    "import pandas as pd\n",
    "dataset = sns.load_dataset(\"penguins\")\n",
    "dataset.head(1)"
   ]
  },
  {
   "cell_type": "markdown",
   "id": "aac8e54f",
   "metadata": {},
   "source": [
    "# 🔧 Tool: SQL\n",
    "\n",
    "**Dataset:** penguins\n",
    "**난이도:** 하\n",
    "\n",
    "**Q.** ? ? ? ?"
   ]
  },
  {
   "cell_type": "code",
   "execution_count": null,
   "id": "e751223b",
   "metadata": {},
   "outputs": [],
   "source": [
    "import seaborn as sns\n",
    "import pandas as pd\n",
    "dataset = sns.load_dataset(\"penguins\")\n",
    "dataset.head(1)"
   ]
  },
  {
   "cell_type": "markdown",
   "id": "fd00853c",
   "metadata": {},
   "source": [
    "# 🔧 Tool: SQL\n",
    "\n",
    "**Dataset:** penguins\n",
    "**난이도:** 하\n",
    "\n",
    "**Q.** **Problem 2: 중 (Medium)**"
   ]
  },
  {
   "cell_type": "code",
   "execution_count": null,
   "id": "2db937e7",
   "metadata": {},
   "outputs": [],
   "source": [
    "import seaborn as sns\n",
    "import pandas as pd\n",
    "dataset = sns.load_dataset(\"penguins\")\n",
    "dataset.head(1)"
   ]
  },
  {
   "cell_type": "markdown",
   "id": "3f1e333b",
   "metadata": {},
   "source": [
    "# 🔧 Tool: SQL\n",
    "\n",
    "**Dataset:** penguins\n",
    "**난이도:** 하\n",
    "\n",
    "**Q.** `mpg` 데이터셋에서 30mpg 이상의 자동차의 평균 연비를 구하세요. 이 중에서 4륜구동車의 평균 연비는 얼마나 되나요?"
   ]
  },
  {
   "cell_type": "code",
   "execution_count": null,
   "id": "5817f8d4",
   "metadata": {},
   "outputs": [],
   "source": [
    "import seaborn as sns\n",
    "import pandas as pd\n",
    "dataset = sns.load_dataset(\"penguins\")\n",
    "dataset.head(1)"
   ]
  },
  {
   "cell_type": "markdown",
   "id": "4881cbca",
   "metadata": {},
   "source": [
    "# 🔧 Tool: SQL\n",
    "\n",
    "**Dataset:** penguins\n",
    "**난이도:** 하\n",
    "\n",
    "**Q.** ```sql"
   ]
  },
  {
   "cell_type": "code",
   "execution_count": null,
   "id": "4ace56d8",
   "metadata": {},
   "outputs": [],
   "source": [
    "import seaborn as sns\n",
    "import pandas as pd\n",
    "dataset = sns.load_dataset(\"penguins\")\n",
    "dataset.head(1)"
   ]
  },
  {
   "cell_type": "markdown",
   "id": "3e6325ba",
   "metadata": {},
   "source": [
    "# 🔧 Tool: SQL\n",
    "\n",
    "**Dataset:** penguins\n",
    "**난이도:** 하\n",
    "\n",
    "**Q.** ? ? ? ?"
   ]
  },
  {
   "cell_type": "code",
   "execution_count": null,
   "id": "edc1988e",
   "metadata": {},
   "outputs": [],
   "source": [
    "import seaborn as sns\n",
    "import pandas as pd\n",
    "dataset = sns.load_dataset(\"penguins\")\n",
    "dataset.head(1)"
   ]
  },
  {
   "cell_type": "markdown",
   "id": "14d47bb2",
   "metadata": {},
   "source": [
    "# 🔧 Tool: SQL\n",
    "\n",
    "**Dataset:** penguins\n",
    "**난이도:** 하\n",
    "\n",
    "**Q.** **Problem 1: 하 (Easy)**"
   ]
  },
  {
   "cell_type": "code",
   "execution_count": null,
   "id": "498b9cd4",
   "metadata": {},
   "outputs": [],
   "source": [
    "import seaborn as sns\n",
    "import pandas as pd\n",
    "dataset = sns.load_dataset(\"penguins\")\n",
    "dataset.head(1)"
   ]
  },
  {
   "cell_type": "markdown",
   "id": "bbb21b7a",
   "metadata": {},
   "source": [
    "# 🔧 Tool: SQL\n",
    "\n",
    "**Dataset:** penguins\n",
    "**난이도:** 하\n",
    "\n",
    "**Q.** SELECT COUNT(*) AS 생존자, COUNT(*) - COUNT(DISTINCT IF(Survived = 1, PassengerId, NULL)) AS 사망자"
   ]
  },
  {
   "cell_type": "code",
   "execution_count": null,
   "id": "31aab133",
   "metadata": {},
   "outputs": [],
   "source": [
    "import seaborn as sns\n",
    "import pandas as pd\n",
    "dataset = sns.load_dataset(\"penguins\")\n",
    "dataset.head(1)"
   ]
  },
  {
   "cell_type": "markdown",
   "id": "ffcee24f",
   "metadata": {},
   "source": [
    "# 🔧 Tool: SQL\n",
    "\n",
    "**Dataset:** penguins\n",
    "**난이도:** 하\n",
    "\n",
    "**Q.** FROM titanic;"
   ]
  },
  {
   "cell_type": "code",
   "execution_count": null,
   "id": "be0c4e6a",
   "metadata": {},
   "outputs": [],
   "source": [
    "import seaborn as sns\n",
    "import pandas as pd\n",
    "dataset = sns.load_dataset(\"penguins\")\n",
    "dataset.head(1)"
   ]
  },
  {
   "cell_type": "markdown",
   "id": "53cc1d77",
   "metadata": {},
   "source": [
    "# 🔧 Tool: SQL\n",
    "\n",
    "**Dataset:** penguins\n",
    "**난이도:** 하\n",
    "\n",
    "**Q.** **Problem 2: 중 (Medium)**"
   ]
  },
  {
   "cell_type": "code",
   "execution_count": null,
   "id": "6f0471b2",
   "metadata": {},
   "outputs": [],
   "source": [
    "import seaborn as sns\n",
    "import pandas as pd\n",
    "dataset = sns.load_dataset(\"penguins\")\n",
    "dataset.head(1)"
   ]
  },
  {
   "cell_type": "markdown",
   "id": "fb72aba9",
   "metadata": {},
   "source": [
    "# 🔧 Tool: SQL\n",
    "\n",
    "**Dataset:** penguins\n",
    "**난이도:** 하\n",
    "\n",
    "**Q.** SELECT AVG(CAST(hp AS FLOAT)) AS 30mpg以上의_평균_연비,"
   ]
  },
  {
   "cell_type": "code",
   "execution_count": null,
   "id": "c5ea8808",
   "metadata": {},
   "outputs": [],
   "source": [
    "import seaborn as sns\n",
    "import pandas as pd\n",
    "dataset = sns.load_dataset(\"penguins\")\n",
    "dataset.head(1)"
   ]
  },
  {
   "cell_type": "markdown",
   "id": "0183be7c",
   "metadata": {},
   "source": [
    "# 🔧 Tool: SQL\n",
    "\n",
    "**Dataset:** penguins\n",
    "**난이도:** 하\n",
    "\n",
    "**Q.** AVG(CAST(hp AS FLOAT)) FILTER (WHERE cylinders = 4) AS 4륜구동車의_평균_연비"
   ]
  },
  {
   "cell_type": "code",
   "execution_count": null,
   "id": "49f1ecff",
   "metadata": {},
   "outputs": [],
   "source": [
    "import seaborn as sns\n",
    "import pandas as pd\n",
    "dataset = sns.load_dataset(\"penguins\")\n",
    "dataset.head(1)"
   ]
  },
  {
   "cell_type": "markdown",
   "id": "12ff9353",
   "metadata": {},
   "source": [
    "# 🔧 Tool: SQL\n",
    "\n",
    "**Dataset:** penguins\n",
    "**난이도:** 하\n",
    "\n",
    "**Q.** FROM mpg"
   ]
  },
  {
   "cell_type": "code",
   "execution_count": null,
   "id": "bcda909d",
   "metadata": {},
   "outputs": [],
   "source": [
    "import seaborn as sns\n",
    "import pandas as pd\n",
    "dataset = sns.load_dataset(\"penguins\")\n",
    "dataset.head(1)"
   ]
  },
  {
   "cell_type": "markdown",
   "id": "dc906528",
   "metadata": {},
   "source": [
    "# 🔧 Tool: SQL\n",
    "\n",
    "**Dataset:** penguins\n",
    "**난이도:** 하\n",
    "\n",
    "**Q.** WHERE mpg >= 30;"
   ]
  },
  {
   "cell_type": "code",
   "execution_count": null,
   "id": "1183f93e",
   "metadata": {},
   "outputs": [],
   "source": [
    "import seaborn as sns\n",
    "import pandas as pd\n",
    "dataset = sns.load_dataset(\"penguins\")\n",
    "dataset.head(1)"
   ]
  },
  {
   "cell_type": "markdown",
   "id": "a7d1942b",
   "metadata": {},
   "source": [
    "# 🔧 Tool: SQL\n",
    "\n",
    "**Dataset:** titanic\n",
    "**난이도:** 하\n",
    "\n",
    "**Q.** **Problem 1: 하 (Easy)**"
   ]
  },
  {
   "cell_type": "code",
   "execution_count": null,
   "id": "74a2d34e",
   "metadata": {},
   "outputs": [],
   "source": [
    "import seaborn as sns\n",
    "import pandas as pd\n",
    "dataset = sns.load_dataset(\"titanic\")\n",
    "dataset.head(1)"
   ]
  },
  {
   "cell_type": "markdown",
   "id": "6d653f55",
   "metadata": {},
   "source": [
    "# 🔧 Tool: SQL\n",
    "\n",
    "**Dataset:** titanic\n",
    "**난이도:** 하\n",
    "\n",
    "**Q.** `titanic` 데이터셋에서 생존자와 사망자의 수를 구하세요."
   ]
  },
  {
   "cell_type": "code",
   "execution_count": null,
   "id": "7d006375",
   "metadata": {},
   "outputs": [],
   "source": [
    "import seaborn as sns\n",
    "import pandas as pd\n",
    "dataset = sns.load_dataset(\"titanic\")\n",
    "dataset.head(1)"
   ]
  },
  {
   "cell_type": "markdown",
   "id": "8cb0ed35",
   "metadata": {},
   "source": [
    "# 🔧 Tool: SQL\n",
    "\n",
    "**Dataset:** titanic\n",
    "**난이도:** 하\n",
    "\n",
    "**Q.** (한글 문제)"
   ]
  },
  {
   "cell_type": "code",
   "execution_count": null,
   "id": "50f4bc63",
   "metadata": {},
   "outputs": [],
   "source": [
    "import seaborn as sns\n",
    "import pandas as pd\n",
    "dataset = sns.load_dataset(\"titanic\")\n",
    "dataset.head(1)"
   ]
  },
  {
   "cell_type": "markdown",
   "id": "dfa60e7c",
   "metadata": {},
   "source": [
    "# 🔧 Tool: SQL\n",
    "\n",
    "**Dataset:** titanic\n",
    "**난이도:** 하\n",
    "\n",
    "**Q.** `titanic` 데이터셋에서 생존자와 사망자의 수를 구하세요. 생존자와 사망자의 수가 각각 얼마나 되나요?"
   ]
  },
  {
   "cell_type": "code",
   "execution_count": null,
   "id": "50f7a30d",
   "metadata": {},
   "outputs": [],
   "source": [
    "import seaborn as sns\n",
    "import pandas as pd\n",
    "dataset = sns.load_dataset(\"titanic\")\n",
    "dataset.head(1)"
   ]
  },
  {
   "cell_type": "markdown",
   "id": "9d1b9b80",
   "metadata": {},
   "source": [
    "# 🔧 Tool: SQL\n",
    "\n",
    "**Dataset:** titanic\n",
    "**난이도:** 하\n",
    "\n",
    "**Q.** **Problem 2: 중 (Medium)**"
   ]
  },
  {
   "cell_type": "code",
   "execution_count": null,
   "id": "52974bc6",
   "metadata": {},
   "outputs": [],
   "source": [
    "import seaborn as sns\n",
    "import pandas as pd\n",
    "dataset = sns.load_dataset(\"titanic\")\n",
    "dataset.head(1)"
   ]
  },
  {
   "cell_type": "markdown",
   "id": "5f6a2d24",
   "metadata": {},
   "source": [
    "# 🔧 Tool: SQL\n",
    "\n",
    "**Dataset:** titanic\n",
    "**난이도:** 하\n",
    "\n",
    "**Q.** `mpg` 데이터셋에서 30mpg 이상의 자동차의 평균 연비를 구하세요. 이 중에서 4륜구동車의 평균 연비는 얼마나 되나요?"
   ]
  },
  {
   "cell_type": "code",
   "execution_count": null,
   "id": "8b27dc62",
   "metadata": {},
   "outputs": [],
   "source": [
    "import seaborn as sns\n",
    "import pandas as pd\n",
    "dataset = sns.load_dataset(\"titanic\")\n",
    "dataset.head(1)"
   ]
  },
  {
   "cell_type": "markdown",
   "id": "e45ec7c3",
   "metadata": {},
   "source": [
    "# 🔧 Tool: SQL\n",
    "\n",
    "**Dataset:** titanic\n",
    "**난이도:** 하\n",
    "\n",
    "**Q.** (한글 문제)"
   ]
  },
  {
   "cell_type": "code",
   "execution_count": null,
   "id": "afb74e1c",
   "metadata": {},
   "outputs": [],
   "source": [
    "import seaborn as sns\n",
    "import pandas as pd\n",
    "dataset = sns.load_dataset(\"titanic\")\n",
    "dataset.head(1)"
   ]
  },
  {
   "cell_type": "markdown",
   "id": "6c9e2306",
   "metadata": {},
   "source": [
    "# 🔧 Tool: SQL\n",
    "\n",
    "**Dataset:** titanic\n",
    "**난이도:** 하\n",
    "\n",
    "**Q.** `mpg` 데이터셋에서 30mpg 이상의 자동차의 평균 연비를 구하세요. 또한, 이 중에서 4륜구동車의 평균 연비는 얼마나 되나요?"
   ]
  },
  {
   "cell_type": "code",
   "execution_count": null,
   "id": "403967ac",
   "metadata": {},
   "outputs": [],
   "source": [
    "import seaborn as sns\n",
    "import pandas as pd\n",
    "dataset = sns.load_dataset(\"titanic\")\n",
    "dataset.head(1)"
   ]
  },
  {
   "cell_type": "markdown",
   "id": "8730c814",
   "metadata": {},
   "source": [
    "# 🔧 Tool: SQL\n",
    "\n",
    "**Dataset:** titanic\n",
    "**난이도:** 하\n",
    "\n",
    "**Q.** **Problem 1: Easy**"
   ]
  },
  {
   "cell_type": "code",
   "execution_count": null,
   "id": "b0b4ede7",
   "metadata": {},
   "outputs": [],
   "source": [
    "import seaborn as sns\n",
    "import pandas as pd\n",
    "dataset = sns.load_dataset(\"titanic\")\n",
    "dataset.head(1)"
   ]
  },
  {
   "cell_type": "markdown",
   "id": "1a8adf5a",
   "metadata": {},
   "source": [
    "# 🔧 Tool: SQL\n",
    "\n",
    "**Dataset:** titanic\n",
    "**난이도:** 하\n",
    "\n",
    "**Q.** Count the number of survivors and deceased passengers in the `titanic` dataset. What are the numbers of survivors and deceased passengers?"
   ]
  },
  {
   "cell_type": "code",
   "execution_count": null,
   "id": "540df508",
   "metadata": {},
   "outputs": [],
   "source": [
    "import seaborn as sns\n",
    "import pandas as pd\n",
    "dataset = sns.load_dataset(\"titanic\")\n",
    "dataset.head(1)"
   ]
  },
  {
   "cell_type": "markdown",
   "id": "b32aece2",
   "metadata": {},
   "source": [
    "# 🔧 Tool: SQL\n",
    "\n",
    "**Dataset:** titanic\n",
    "**난이도:** 하\n",
    "\n",
    "**Q.** **Problem 2: Medium**"
   ]
  },
  {
   "cell_type": "code",
   "execution_count": null,
   "id": "5bf56225",
   "metadata": {},
   "outputs": [],
   "source": [
    "import seaborn as sns\n",
    "import pandas as pd\n",
    "dataset = sns.load_dataset(\"titanic\")\n",
    "dataset.head(1)"
   ]
  },
  {
   "cell_type": "markdown",
   "id": "ac338636",
   "metadata": {},
   "source": [
    "# 🔧 Tool: SQL\n",
    "\n",
    "**Dataset:** titanic\n",
    "**난이도:** 하\n",
    "\n",
    "**Q.** Calculate the average miles per gallon for cars with a mileage of 30mpg or more in the `mpg` dataset. What is the average miles per gallon for 4-wheel drive cars among them?"
   ]
  },
  {
   "cell_type": "code",
   "execution_count": null,
   "id": "31ddaeb2",
   "metadata": {},
   "outputs": [],
   "source": [
    "import seaborn as sns\n",
    "import pandas as pd\n",
    "dataset = sns.load_dataset(\"titanic\")\n",
    "dataset.head(1)"
   ]
  },
  {
   "cell_type": "markdown",
   "id": "7d12f61f",
   "metadata": {},
   "source": [
    "# 🔧 Tool: SQL\n",
    "\n",
    "**Dataset:** mpg\n",
    "**난이도:** 중하\n",
    "\n",
    "**Q.** **Problem 1: 하 (Easy)**"
   ]
  },
  {
   "cell_type": "code",
   "execution_count": null,
   "id": "77a10212",
   "metadata": {},
   "outputs": [],
   "source": [
    "import seaborn as sns\n",
    "import pandas as pd\n",
    "dataset = sns.load_dataset(\"mpg\")\n",
    "dataset.head(1)"
   ]
  },
  {
   "cell_type": "markdown",
   "id": "a350cc78",
   "metadata": {},
   "source": [
    "# 🔧 Tool: SQL\n",
    "\n",
    "**Dataset:** mpg\n",
    "**난이도:** 중하\n",
    "\n",
    "**Q.** `titanic` 데이터셋에서 생존자와 사망자의 수를 구하세요."
   ]
  },
  {
   "cell_type": "code",
   "execution_count": null,
   "id": "486854c9",
   "metadata": {},
   "outputs": [],
   "source": [
    "import seaborn as sns\n",
    "import pandas as pd\n",
    "dataset = sns.load_dataset(\"mpg\")\n",
    "dataset.head(1)"
   ]
  },
  {
   "cell_type": "markdown",
   "id": "f37296c9",
   "metadata": {},
   "source": [
    "# 🔧 Tool: SQL\n",
    "\n",
    "**Dataset:** mpg\n",
    "**난이도:** 중하\n",
    "\n",
    "**Q.** SQL 문제:"
   ]
  },
  {
   "cell_type": "code",
   "execution_count": null,
   "id": "2d917ddc",
   "metadata": {},
   "outputs": [],
   "source": [
    "import seaborn as sns\n",
    "import pandas as pd\n",
    "dataset = sns.load_dataset(\"mpg\")\n",
    "dataset.head(1)"
   ]
  },
  {
   "cell_type": "markdown",
   "id": "60a86071",
   "metadata": {},
   "source": [
    "# 🔧 Tool: SQL\n",
    "\n",
    "**Dataset:** mpg\n",
    "**난이도:** 중하\n",
    "\n",
    "**Q.** SELECT COUNT(*) AS 생존자, COUNT(CASE WHEN survived = 'yes' THEN 1 ELSE NULL END) AS 사망자"
   ]
  },
  {
   "cell_type": "code",
   "execution_count": null,
   "id": "535c0a4e",
   "metadata": {},
   "outputs": [],
   "source": [
    "import seaborn as sns\n",
    "import pandas as pd\n",
    "dataset = sns.load_dataset(\"mpg\")\n",
    "dataset.head(1)"
   ]
  },
  {
   "cell_type": "markdown",
   "id": "7ade8387",
   "metadata": {},
   "source": [
    "# 🔧 Tool: SQL\n",
    "\n",
    "**Dataset:** mpg\n",
    "**난이도:** 중하\n",
    "\n",
    "**Q.** FROM titanic;"
   ]
  },
  {
   "cell_type": "code",
   "execution_count": null,
   "id": "56994905",
   "metadata": {},
   "outputs": [],
   "source": [
    "import seaborn as sns\n",
    "import pandas as pd\n",
    "dataset = sns.load_dataset(\"mpg\")\n",
    "dataset.head(1)"
   ]
  },
  {
   "cell_type": "markdown",
   "id": "29d0ff81",
   "metadata": {},
   "source": [
    "# 🔧 Tool: SQL\n",
    "\n",
    "**Dataset:** mpg\n",
    "**난이도:** 중하\n",
    "\n",
    "**Q.** **Problem 2: 중 (Medium)**"
   ]
  },
  {
   "cell_type": "code",
   "execution_count": null,
   "id": "8ef16e3f",
   "metadata": {},
   "outputs": [],
   "source": [
    "import seaborn as sns\n",
    "import pandas as pd\n",
    "dataset = sns.load_dataset(\"mpg\")\n",
    "dataset.head(1)"
   ]
  },
  {
   "cell_type": "markdown",
   "id": "90164024",
   "metadata": {},
   "source": [
    "# 🔧 Tool: SQL\n",
    "\n",
    "**Dataset:** mpg\n",
    "**난이도:** 중하\n",
    "\n",
    "**Q.** `mpg` 데이터셋에서 30mpg 이상의 자동차의 평균 연비를 구하세요. 이 중에서 4륜구동車의 평균 연비는 얼마나 되나요?"
   ]
  },
  {
   "cell_type": "code",
   "execution_count": null,
   "id": "aa33fc6c",
   "metadata": {},
   "outputs": [],
   "source": [
    "import seaborn as sns\n",
    "import pandas as pd\n",
    "dataset = sns.load_dataset(\"mpg\")\n",
    "dataset.head(1)"
   ]
  },
  {
   "cell_type": "markdown",
   "id": "c461f278",
   "metadata": {},
   "source": [
    "# 🔧 Tool: SQL\n",
    "\n",
    "**Dataset:** mpg\n",
    "**난이도:** 중하\n",
    "\n",
    "**Q.** SQL 문제:"
   ]
  },
  {
   "cell_type": "code",
   "execution_count": null,
   "id": "02b3b6ad",
   "metadata": {},
   "outputs": [],
   "source": [
    "import seaborn as sns\n",
    "import pandas as pd\n",
    "dataset = sns.load_dataset(\"mpg\")\n",
    "dataset.head(1)"
   ]
  },
  {
   "cell_type": "markdown",
   "id": "1d692066",
   "metadata": {},
   "source": [
    "# 🔧 Tool: SQL\n",
    "\n",
    "**Dataset:** mpg\n",
    "**난이도:** 중하\n",
    "\n",
    "**Q.** SELECT"
   ]
  },
  {
   "cell_type": "code",
   "execution_count": null,
   "id": "726c6cdf",
   "metadata": {},
   "outputs": [],
   "source": [
    "import seaborn as sns\n",
    "import pandas as pd\n",
    "dataset = sns.load_dataset(\"mpg\")\n",
    "dataset.head(1)"
   ]
  },
  {
   "cell_type": "markdown",
   "id": "2b0cf75c",
   "metadata": {},
   "source": [
    "# 🔧 Tool: SQL\n",
    "\n",
    "**Dataset:** mpg\n",
    "**난이도:** 중하\n",
    "\n",
    "**Q.** AVG(cty) AS 평균_연비,"
   ]
  },
  {
   "cell_type": "code",
   "execution_count": null,
   "id": "062d0eda",
   "metadata": {},
   "outputs": [],
   "source": [
    "import seaborn as sns\n",
    "import pandas as pd\n",
    "dataset = sns.load_dataset(\"mpg\")\n",
    "dataset.head(1)"
   ]
  },
  {
   "cell_type": "markdown",
   "id": "a09155f7",
   "metadata": {},
   "source": [
    "# 🔧 Tool: SQL\n",
    "\n",
    "**Dataset:** mpg\n",
    "**난이도:** 중하\n",
    "\n",
    "**Q.** AVG(cty) FILTER (WHERE cty = '4wd') AS 4륜구동_평균_연비"
   ]
  },
  {
   "cell_type": "code",
   "execution_count": null,
   "id": "27c766e0",
   "metadata": {},
   "outputs": [],
   "source": [
    "import seaborn as sns\n",
    "import pandas as pd\n",
    "dataset = sns.load_dataset(\"mpg\")\n",
    "dataset.head(1)"
   ]
  },
  {
   "cell_type": "markdown",
   "id": "517dc199",
   "metadata": {},
   "source": [
    "# 🔧 Tool: SQL\n",
    "\n",
    "**Dataset:** mpg\n",
    "**난이도:** 중하\n",
    "\n",
    "**Q.** WHERE"
   ]
  },
  {
   "cell_type": "code",
   "execution_count": null,
   "id": "e2d11208",
   "metadata": {},
   "outputs": [],
   "source": [
    "import seaborn as sns\n",
    "import pandas as pd\n",
    "dataset = sns.load_dataset(\"mpg\")\n",
    "dataset.head(1)"
   ]
  },
  {
   "cell_type": "markdown",
   "id": "2f9578f0",
   "metadata": {},
   "source": [
    "# 🔧 Tool: SQL\n",
    "\n",
    "**Dataset:** mpg\n",
    "**난이도:** 중하\n",
    "\n",
    "**Q.** hwy >= 30;"
   ]
  },
  {
   "cell_type": "code",
   "execution_count": null,
   "id": "ddea3453",
   "metadata": {},
   "outputs": [],
   "source": [
    "import seaborn as sns\n",
    "import pandas as pd\n",
    "dataset = sns.load_dataset(\"mpg\")\n",
    "dataset.head(1)"
   ]
  },
  {
   "cell_type": "markdown",
   "id": "97fd0382",
   "metadata": {},
   "source": [
    "# 🔧 Tool: SQL\n",
    "\n",
    "**Dataset:** mpg\n",
    "**난이도:** 중하\n",
    "\n",
    "**Q.** Note: The `FILTER` clause is used to calculate the average cty value for 4wd vehicles only, and the `WHERE` clause is used to filter the data to only include vehicles with a highway mpg value of 30 or higher."
   ]
  },
  {
   "cell_type": "code",
   "execution_count": null,
   "id": "098d9d13",
   "metadata": {},
   "outputs": [],
   "source": [
    "import seaborn as sns\n",
    "import pandas as pd\n",
    "dataset = sns.load_dataset(\"mpg\")\n",
    "dataset.head(1)"
   ]
  },
  {
   "cell_type": "markdown",
   "id": "84643c58",
   "metadata": {},
   "source": [
    "# 🔧 Tool: SQL\n",
    "\n",
    "**Dataset:** mpg\n",
    "**난이도:** 중하\n",
    "\n",
    "**Q.** **Problem 1: 하 (Easy)**"
   ]
  },
  {
   "cell_type": "code",
   "execution_count": null,
   "id": "79319be6",
   "metadata": {},
   "outputs": [],
   "source": [
    "import seaborn as sns\n",
    "import pandas as pd\n",
    "dataset = sns.load_dataset(\"mpg\")\n",
    "dataset.head(1)"
   ]
  },
  {
   "cell_type": "markdown",
   "id": "d54ab74a",
   "metadata": {},
   "source": [
    "# 🔧 Tool: SQL\n",
    "\n",
    "**Dataset:** mpg\n",
    "**난이도:** 중하\n",
    "\n",
    "**Q.** `titanic` 데이터셋에서 생존자와 사망자의 수를 구하세요."
   ]
  },
  {
   "cell_type": "code",
   "execution_count": null,
   "id": "79e4965e",
   "metadata": {},
   "outputs": [],
   "source": [
    "import seaborn as sns\n",
    "import pandas as pd\n",
    "dataset = sns.load_dataset(\"mpg\")\n",
    "dataset.head(1)"
   ]
  },
  {
   "cell_type": "markdown",
   "id": "28c90ea9",
   "metadata": {},
   "source": [
    "# 🔧 Tool: SQL\n",
    "\n",
    "**Dataset:** mpg\n",
    "**난이도:** 중하\n",
    "\n",
    "**Q.** 해결 방안:"
   ]
  },
  {
   "cell_type": "code",
   "execution_count": null,
   "id": "11edcc69",
   "metadata": {},
   "outputs": [],
   "source": [
    "import seaborn as sns\n",
    "import pandas as pd\n",
    "dataset = sns.load_dataset(\"mpg\")\n",
    "dataset.head(1)"
   ]
  },
  {
   "cell_type": "markdown",
   "id": "87721012",
   "metadata": {},
   "source": [
    "# 🔧 Tool: SQL\n",
    "\n",
    "**Dataset:** mpg\n",
    "**난이도:** 중하\n",
    "\n",
    "**Q.** SELECT COUNT(*) AS 생존자수, COUNT(CASE WHEN survived = 'no' THEN 1 END) AS 사망자수"
   ]
  },
  {
   "cell_type": "code",
   "execution_count": null,
   "id": "22f89e47",
   "metadata": {},
   "outputs": [],
   "source": [
    "import seaborn as sns\n",
    "import pandas as pd\n",
    "dataset = sns.load_dataset(\"mpg\")\n",
    "dataset.head(1)"
   ]
  },
  {
   "cell_type": "markdown",
   "id": "99096cd3",
   "metadata": {},
   "source": [
    "# 🔧 Tool: SQL\n",
    "\n",
    "**Dataset:** mpg\n",
    "**난이도:** 중하\n",
    "\n",
    "**Q.** FROM titanic;"
   ]
  },
  {
   "cell_type": "code",
   "execution_count": null,
   "id": "552b9f34",
   "metadata": {},
   "outputs": [],
   "source": [
    "import seaborn as sns\n",
    "import pandas as pd\n",
    "dataset = sns.load_dataset(\"mpg\")\n",
    "dataset.head(1)"
   ]
  },
  {
   "cell_type": "markdown",
   "id": "23b894ce",
   "metadata": {},
   "source": [
    "# 🔧 Tool: SQL\n",
    "\n",
    "**Dataset:** mpg\n",
    "**난이도:** 중하\n",
    "\n",
    "**Q.** **Problem 2: 중 (Medium)**"
   ]
  },
  {
   "cell_type": "code",
   "execution_count": null,
   "id": "59db3b44",
   "metadata": {},
   "outputs": [],
   "source": [
    "import seaborn as sns\n",
    "import pandas as pd\n",
    "dataset = sns.load_dataset(\"mpg\")\n",
    "dataset.head(1)"
   ]
  },
  {
   "cell_type": "markdown",
   "id": "5a9dd771",
   "metadata": {},
   "source": [
    "# 🔧 Tool: SQL\n",
    "\n",
    "**Dataset:** mpg\n",
    "**난이도:** 중하\n",
    "\n",
    "**Q.** `mpg` 데이터셋에서 30mpg 이상의 자동차의 평균 연비를 구하세요. 이 중에서 4륜구동車의 평균 연비는 얼마나 되나요?"
   ]
  },
  {
   "cell_type": "code",
   "execution_count": null,
   "id": "20d10394",
   "metadata": {},
   "outputs": [],
   "source": [
    "import seaborn as sns\n",
    "import pandas as pd\n",
    "dataset = sns.load_dataset(\"mpg\")\n",
    "dataset.head(1)"
   ]
  },
  {
   "cell_type": "markdown",
   "id": "4ab51500",
   "metadata": {},
   "source": [
    "# 🔧 Tool: SQL\n",
    "\n",
    "**Dataset:** mpg\n",
    "**난이도:** 중하\n",
    "\n",
    "**Q.** 해결 방안:"
   ]
  },
  {
   "cell_type": "code",
   "execution_count": null,
   "id": "29a8eae8",
   "metadata": {},
   "outputs": [],
   "source": [
    "import seaborn as sns\n",
    "import pandas as pd\n",
    "dataset = sns.load_dataset(\"mpg\")\n",
    "dataset.head(1)"
   ]
  },
  {
   "cell_type": "markdown",
   "id": "abe33445",
   "metadata": {},
   "source": [
    "# 🔧 Tool: SQL\n",
    "\n",
    "**Dataset:** mpg\n",
    "**난이도:** 중하\n",
    "\n",
    "**Q.** SELECT AVG(cylinders) AS 4륜구동車_평균연비, AVG(mpg) AS 30mpg이상_평균연비"
   ]
  },
  {
   "cell_type": "code",
   "execution_count": null,
   "id": "8f48ae1d",
   "metadata": {},
   "outputs": [],
   "source": [
    "import seaborn as sns\n",
    "import pandas as pd\n",
    "dataset = sns.load_dataset(\"mpg\")\n",
    "dataset.head(1)"
   ]
  },
  {
   "cell_type": "markdown",
   "id": "37f8978a",
   "metadata": {},
   "source": [
    "# 🔧 Tool: SQL\n",
    "\n",
    "**Dataset:** mpg\n",
    "**난이도:** 중하\n",
    "\n",
    "**Q.** FROM mpg"
   ]
  },
  {
   "cell_type": "code",
   "execution_count": null,
   "id": "6d318586",
   "metadata": {},
   "outputs": [],
   "source": [
    "import seaborn as sns\n",
    "import pandas as pd\n",
    "dataset = sns.load_dataset(\"mpg\")\n",
    "dataset.head(1)"
   ]
  },
  {
   "cell_type": "markdown",
   "id": "7385af9a",
   "metadata": {},
   "source": [
    "# 🔧 Tool: SQL\n",
    "\n",
    "**Dataset:** mpg\n",
    "**난이도:** 중하\n",
    "\n",
    "**Q.** WHERE mpg >= 30 AND drive LIKE '%4wd%';"
   ]
  },
  {
   "cell_type": "code",
   "execution_count": null,
   "id": "c64cad1c",
   "metadata": {},
   "outputs": [],
   "source": [
    "import seaborn as sns\n",
    "import pandas as pd\n",
    "dataset = sns.load_dataset(\"mpg\")\n",
    "dataset.head(1)"
   ]
  },
  {
   "cell_type": "markdown",
   "id": "3892b816",
   "metadata": {},
   "source": [
    "# 🔧 Tool: SQL\n",
    "\n",
    "**Dataset:** mpg\n",
    "**난이도:** 중하\n",
    "\n",
    "**Q.** Note: The problem is designed to assess the student's understanding of basic SQL syntax, such as COUNT, AVG, and WHERE clauses, as well as their ability to filter data and calculate aggregate values."
   ]
  },
  {
   "cell_type": "code",
   "execution_count": null,
   "id": "1ba83edb",
   "metadata": {},
   "outputs": [],
   "source": [
    "import seaborn as sns\n",
    "import pandas as pd\n",
    "dataset = sns.load_dataset(\"mpg\")\n",
    "dataset.head(1)"
   ]
  },
  {
   "cell_type": "markdown",
   "id": "b66ca7b8",
   "metadata": {},
   "source": [
    "# 🔧 Tool: SQL\n",
    "\n",
    "**Dataset:** penguins\n",
    "**난이도:** 중\n",
    "\n",
    "**Q.** **Problem 1: 하 (Easy)**"
   ]
  },
  {
   "cell_type": "code",
   "execution_count": null,
   "id": "14f38bd2",
   "metadata": {},
   "outputs": [],
   "source": [
    "import seaborn as sns\n",
    "import pandas as pd\n",
    "dataset = sns.load_dataset(\"penguins\")\n",
    "dataset.head(1)"
   ]
  },
  {
   "cell_type": "markdown",
   "id": "066ee1e2",
   "metadata": {},
   "source": [
    "# 🔧 Tool: SQL\n",
    "\n",
    "**Dataset:** penguins\n",
    "**난이도:** 중\n",
    "\n",
    "**Q.** `titanic` 데이터셋에서 생존자와 사망자의 수를 구하세요."
   ]
  },
  {
   "cell_type": "code",
   "execution_count": null,
   "id": "45582cc1",
   "metadata": {},
   "outputs": [],
   "source": [
    "import seaborn as sns\n",
    "import pandas as pd\n",
    "dataset = sns.load_dataset(\"penguins\")\n",
    "dataset.head(1)"
   ]
  },
  {
   "cell_type": "markdown",
   "id": "fb005e79",
   "metadata": {},
   "source": [
    "# 🔧 Tool: SQL\n",
    "\n",
    "**Dataset:** penguins\n",
    "**난이도:** 중\n",
    "\n",
    "**Q.** SELECT COUNT(*) AS 생존자, COUNT(CASE WHEN survived = 'yes' THEN 1 ELSE NULL END) AS 사망자"
   ]
  },
  {
   "cell_type": "code",
   "execution_count": null,
   "id": "4ab2f675",
   "metadata": {},
   "outputs": [],
   "source": [
    "import seaborn as sns\n",
    "import pandas as pd\n",
    "dataset = sns.load_dataset(\"penguins\")\n",
    "dataset.head(1)"
   ]
  },
  {
   "cell_type": "markdown",
   "id": "a597adbd",
   "metadata": {},
   "source": [
    "# 🔧 Tool: SQL\n",
    "\n",
    "**Dataset:** penguins\n",
    "**난이도:** 중\n",
    "\n",
    "**Q.** FROM titanic;"
   ]
  },
  {
   "cell_type": "code",
   "execution_count": null,
   "id": "d32e391a",
   "metadata": {},
   "outputs": [],
   "source": [
    "import seaborn as sns\n",
    "import pandas as pd\n",
    "dataset = sns.load_dataset(\"penguins\")\n",
    "dataset.head(1)"
   ]
  },
  {
   "cell_type": "markdown",
   "id": "387da672",
   "metadata": {},
   "source": [
    "# 🔧 Tool: SQL\n",
    "\n",
    "**Dataset:** penguins\n",
    "**난이도:** 중\n",
    "\n",
    "**Q.** **Problem 2: 중 (Medium)**"
   ]
  },
  {
   "cell_type": "code",
   "execution_count": null,
   "id": "1b45bdd6",
   "metadata": {},
   "outputs": [],
   "source": [
    "import seaborn as sns\n",
    "import pandas as pd\n",
    "dataset = sns.load_dataset(\"penguins\")\n",
    "dataset.head(1)"
   ]
  },
  {
   "cell_type": "markdown",
   "id": "4b361ebd",
   "metadata": {},
   "source": [
    "# 🔧 Tool: SQL\n",
    "\n",
    "**Dataset:** penguins\n",
    "**난이도:** 중\n",
    "\n",
    "**Q.** `mpg` 데이터셋에서 30mpg 이상의 자동차의 평균 연비를 구하세요. 이 중에서 4륜구동車의 평균 연비는 얼마나 되나요?"
   ]
  },
  {
   "cell_type": "code",
   "execution_count": null,
   "id": "2c114fe6",
   "metadata": {},
   "outputs": [],
   "source": [
    "import seaborn as sns\n",
    "import pandas as pd\n",
    "dataset = sns.load_dataset(\"penguins\")\n",
    "dataset.head(1)"
   ]
  },
  {
   "cell_type": "markdown",
   "id": "33bccfab",
   "metadata": {},
   "source": [
    "# 🔧 Tool: SQL\n",
    "\n",
    "**Dataset:** penguins\n",
    "**난이도:** 중\n",
    "\n",
    "**Q.** SELECT"
   ]
  },
  {
   "cell_type": "code",
   "execution_count": null,
   "id": "7f1a62cb",
   "metadata": {},
   "outputs": [],
   "source": [
    "import seaborn as sns\n",
    "import pandas as pd\n",
    "dataset = sns.load_dataset(\"penguins\")\n",
    "dataset.head(1)"
   ]
  },
  {
   "cell_type": "markdown",
   "id": "bc3ec987",
   "metadata": {},
   "source": [
    "# 🔧 Tool: SQL\n",
    "\n",
    "**Dataset:** penguins\n",
    "**난이도:** 중\n",
    "\n",
    "**Q.** AVG(cty) AS 평균_연비,"
   ]
  },
  {
   "cell_type": "code",
   "execution_count": null,
   "id": "e6370d86",
   "metadata": {},
   "outputs": [],
   "source": [
    "import seaborn as sns\n",
    "import pandas as pd\n",
    "dataset = sns.load_dataset(\"penguins\")\n",
    "dataset.head(1)"
   ]
  },
  {
   "cell_type": "markdown",
   "id": "176dec1c",
   "metadata": {},
   "source": [
    "# 🔧 Tool: SQL\n",
    "\n",
    "**Dataset:** penguins\n",
    "**난이도:** 중\n",
    "\n",
    "**Q.** AVG(cty) FILTER (WHERE cty > 30 AND fourwheeldrive = 'yes') AS 4륜구동_평균_연비"
   ]
  },
  {
   "cell_type": "code",
   "execution_count": null,
   "id": "495d6c5a",
   "metadata": {},
   "outputs": [],
   "source": [
    "import seaborn as sns\n",
    "import pandas as pd\n",
    "dataset = sns.load_dataset(\"penguins\")\n",
    "dataset.head(1)"
   ]
  },
  {
   "cell_type": "markdown",
   "id": "00f1d80e",
   "metadata": {},
   "source": [
    "# 🔧 Tool: SQL\n",
    "\n",
    "**Dataset:** penguins\n",
    "**난이도:** 중\n",
    "\n",
    "**Q.** WHERE"
   ]
  },
  {
   "cell_type": "code",
   "execution_count": null,
   "id": "1fa3e6ab",
   "metadata": {},
   "outputs": [],
   "source": [
    "import seaborn as sns\n",
    "import pandas as pd\n",
    "dataset = sns.load_dataset(\"penguins\")\n",
    "dataset.head(1)"
   ]
  },
  {
   "cell_type": "markdown",
   "id": "bf3cc84e",
   "metadata": {},
   "source": [
    "# 🔧 Tool: SQL\n",
    "\n",
    "**Dataset:** penguins\n",
    "**난이도:** 중\n",
    "\n",
    "**Q.** cty > 30;"
   ]
  },
  {
   "cell_type": "code",
   "execution_count": null,
   "id": "ec3f83be",
   "metadata": {},
   "outputs": [],
   "source": [
    "import seaborn as sns\n",
    "import pandas as pd\n",
    "dataset = sns.load_dataset(\"penguins\")\n",
    "dataset.head(1)"
   ]
  },
  {
   "cell_type": "markdown",
   "id": "a4ac8580",
   "metadata": {},
   "source": [
    "# 🔧 Tool: SQL\n",
    "\n",
    "**Dataset:** penguins\n",
    "**난이도:** 중\n",
    "\n",
    "**Q.** Note: The `FILTER` clause is used in the second problem to filter the results for 4-wheel drive vehicles with a city mileage greater than 30mpg."
   ]
  },
  {
   "cell_type": "code",
   "execution_count": null,
   "id": "ac5ccd43",
   "metadata": {},
   "outputs": [],
   "source": [
    "import seaborn as sns\n",
    "import pandas as pd\n",
    "dataset = sns.load_dataset(\"penguins\")\n",
    "dataset.head(1)"
   ]
  },
  {
   "cell_type": "markdown",
   "id": "559e4e6b",
   "metadata": {},
   "source": [
    "# 🔧 Tool: SQL\n",
    "\n",
    "**Dataset:** mpg\n",
    "**난이도:** 중\n",
    "\n",
    "**Q.** **Problem 1: 하 (Easy)**"
   ]
  },
  {
   "cell_type": "code",
   "execution_count": null,
   "id": "ad5b4be4",
   "metadata": {},
   "outputs": [],
   "source": [
    "import seaborn as sns\n",
    "import pandas as pd\n",
    "dataset = sns.load_dataset(\"mpg\")\n",
    "dataset.head(1)"
   ]
  },
  {
   "cell_type": "markdown",
   "id": "1e27b09c",
   "metadata": {},
   "source": [
    "# 🔧 Tool: SQL\n",
    "\n",
    "**Dataset:** mpg\n",
    "**난이도:** 중\n",
    "\n",
    "**Q.** `titanic` 데이터셋에서 생존자와 사망자의 수를 구하세요."
   ]
  },
  {
   "cell_type": "code",
   "execution_count": null,
   "id": "3bfd6c80",
   "metadata": {},
   "outputs": [],
   "source": [
    "import seaborn as sns\n",
    "import pandas as pd\n",
    "dataset = sns.load_dataset(\"mpg\")\n",
    "dataset.head(1)"
   ]
  },
  {
   "cell_type": "markdown",
   "id": "88b3deb8",
   "metadata": {},
   "source": [
    "# 🔧 Tool: SQL\n",
    "\n",
    "**Dataset:** mpg\n",
    "**난이도:** 중\n",
    "\n",
    "**Q.** SELECT COUNT(*) AS 생존자, COUNT(CASE WHEN survival = '1' THEN 1 ELSE NULL END) AS 사망자"
   ]
  },
  {
   "cell_type": "code",
   "execution_count": null,
   "id": "c9a42cc2",
   "metadata": {},
   "outputs": [],
   "source": [
    "import seaborn as sns\n",
    "import pandas as pd\n",
    "dataset = sns.load_dataset(\"mpg\")\n",
    "dataset.head(1)"
   ]
  },
  {
   "cell_type": "markdown",
   "id": "1ec5f119",
   "metadata": {},
   "source": [
    "# 🔧 Tool: SQL\n",
    "\n",
    "**Dataset:** mpg\n",
    "**난이도:** 중\n",
    "\n",
    "**Q.** FROM titanic;"
   ]
  },
  {
   "cell_type": "code",
   "execution_count": null,
   "id": "afeafded",
   "metadata": {},
   "outputs": [],
   "source": [
    "import seaborn as sns\n",
    "import pandas as pd\n",
    "dataset = sns.load_dataset(\"mpg\")\n",
    "dataset.head(1)"
   ]
  },
  {
   "cell_type": "markdown",
   "id": "6adb31ed",
   "metadata": {},
   "source": [
    "# 🔧 Tool: SQL\n",
    "\n",
    "**Dataset:** mpg\n",
    "**난이도:** 중\n",
    "\n",
    "**Q.** **Problem 2: 중 (Medium)**"
   ]
  },
  {
   "cell_type": "code",
   "execution_count": null,
   "id": "638f01f8",
   "metadata": {},
   "outputs": [],
   "source": [
    "import seaborn as sns\n",
    "import pandas as pd\n",
    "dataset = sns.load_dataset(\"mpg\")\n",
    "dataset.head(1)"
   ]
  },
  {
   "cell_type": "markdown",
   "id": "93cc55df",
   "metadata": {},
   "source": [
    "# 🔧 Tool: SQL\n",
    "\n",
    "**Dataset:** mpg\n",
    "**난이도:** 중\n",
    "\n",
    "**Q.** `mpg` 데이터셋에서 30mpg 이상의 자동차의 평균 연비를 구하세요. 이 중에서 4륜구동車의 평균 연비는 얼마나 되나요?"
   ]
  },
  {
   "cell_type": "code",
   "execution_count": null,
   "id": "9ce9a9be",
   "metadata": {},
   "outputs": [],
   "source": [
    "import seaborn as sns\n",
    "import pandas as pd\n",
    "dataset = sns.load_dataset(\"mpg\")\n",
    "dataset.head(1)"
   ]
  },
  {
   "cell_type": "markdown",
   "id": "98d2c5df",
   "metadata": {},
   "source": [
    "# 🔧 Tool: SQL\n",
    "\n",
    "**Dataset:** mpg\n",
    "**난이도:** 중\n",
    "\n",
    "**Q.** SELECT"
   ]
  },
  {
   "cell_type": "code",
   "execution_count": null,
   "id": "fc136321",
   "metadata": {},
   "outputs": [],
   "source": [
    "import seaborn as sns\n",
    "import pandas as pd\n",
    "dataset = sns.load_dataset(\"mpg\")\n",
    "dataset.head(1)"
   ]
  },
  {
   "cell_type": "markdown",
   "id": "e6c77fa1",
   "metadata": {},
   "source": [
    "# 🔧 Tool: SQL\n",
    "\n",
    "**Dataset:** mpg\n",
    "**난이도:** 중\n",
    "\n",
    "**Q.** AVG(cty) AS 평균연비,"
   ]
  },
  {
   "cell_type": "code",
   "execution_count": null,
   "id": "64e2af27",
   "metadata": {},
   "outputs": [],
   "source": [
    "import seaborn as sns\n",
    "import pandas as pd\n",
    "dataset = sns.load_dataset(\"mpg\")\n",
    "dataset.head(1)"
   ]
  },
  {
   "cell_type": "markdown",
   "id": "0c662b76",
   "metadata": {},
   "source": [
    "# 🔧 Tool: SQL\n",
    "\n",
    "**Dataset:** mpg\n",
    "**난이도:** 중\n",
    "\n",
    "**Q.** AVG(CASE WHEN fl == '4wd' THEN cty ELSE NULL END) AS 4륜구동車평균연비"
   ]
  },
  {
   "cell_type": "code",
   "execution_count": null,
   "id": "6728a223",
   "metadata": {},
   "outputs": [],
   "source": [
    "import seaborn as sns\n",
    "import pandas as pd\n",
    "dataset = sns.load_dataset(\"mpg\")\n",
    "dataset.head(1)"
   ]
  },
  {
   "cell_type": "markdown",
   "id": "9579be3e",
   "metadata": {},
   "source": [
    "# 🔧 Tool: SQL\n",
    "\n",
    "**Dataset:** mpg\n",
    "**난이도:** 중\n",
    "\n",
    "**Q.** FROM mpg"
   ]
  },
  {
   "cell_type": "code",
   "execution_count": null,
   "id": "a193984d",
   "metadata": {},
   "outputs": [],
   "source": [
    "import seaborn as sns\n",
    "import pandas as pd\n",
    "dataset = sns.load_dataset(\"mpg\")\n",
    "dataset.head(1)"
   ]
  },
  {
   "cell_type": "markdown",
   "id": "6a1954e5",
   "metadata": {},
   "source": [
    "# 🔧 Tool: SQL\n",
    "\n",
    "**Dataset:** mpg\n",
    "**난이도:** 중\n",
    "\n",
    "**Q.** WHERE cty >= 30;"
   ]
  },
  {
   "cell_type": "code",
   "execution_count": null,
   "id": "eb95d87d",
   "metadata": {},
   "outputs": [],
   "source": [
    "import seaborn as sns\n",
    "import pandas as pd\n",
    "dataset = sns.load_dataset(\"mpg\")\n",
    "dataset.head(1)"
   ]
  },
  {
   "cell_type": "markdown",
   "id": "1cd2bec5",
   "metadata": {},
   "source": [
    "# 🔧 Tool: SQL\n",
    "\n",
    "**Dataset:** mpg\n",
    "**난이도:** 중\n",
    "\n",
    "**Q.** Note: I used the `cty` column to represent the city driving mileage and the `fl` column to represent the type of transmission (4wd or not). Let me know if you need any changes! 😊"
   ]
  },
  {
   "cell_type": "code",
   "execution_count": null,
   "id": "85d3bc8f",
   "metadata": {},
   "outputs": [],
   "source": [
    "import seaborn as sns\n",
    "import pandas as pd\n",
    "dataset = sns.load_dataset(\"mpg\")\n",
    "dataset.head(1)"
   ]
  },
  {
   "cell_type": "markdown",
   "id": "27dd9566",
   "metadata": {},
   "source": [
    "# 🔧 Tool: SQL\n",
    "\n",
    "**Dataset:** flights\n",
    "**난이도:** 하\n",
    "\n",
    "**Q.** **Problem 1: Low Difficulty**"
   ]
  },
  {
   "cell_type": "code",
   "execution_count": null,
   "id": "b6a80ab3",
   "metadata": {},
   "outputs": [],
   "source": [
    "import seaborn as sns\n",
    "import pandas as pd\n",
    "dataset = sns.load_dataset(\"flights\")\n",
    "dataset.head(1)"
   ]
  },
  {
   "cell_type": "markdown",
   "id": "5377e86d",
   "metadata": {},
   "source": [
    "# 🔧 Tool: SQL\n",
    "\n",
    "**Dataset:** flights\n",
    "**난이도:** 하\n",
    "\n",
    "**Q.** 🌼 irises dataset"
   ]
  },
  {
   "cell_type": "code",
   "execution_count": null,
   "id": "a6f4f6df",
   "metadata": {},
   "outputs": [],
   "source": [
    "import seaborn as sns\n",
    "import pandas as pd\n",
    "dataset = sns.load_dataset(\"flights\")\n",
    "dataset.head(1)"
   ]
  },
  {
   "cell_type": "markdown",
   "id": "774efdc1",
   "metadata": {},
   "source": [
    "# 🔧 Tool: SQL\n",
    "\n",
    "**Dataset:** flights\n",
    "**난이도:** 하\n",
    "\n",
    "**Q.** **질문:** iris 데이터셋에서 Sepal Length가 가장 긴 꽃을 찾고, 평균 Sepal Width를 구하라."
   ]
  },
  {
   "cell_type": "code",
   "execution_count": null,
   "id": "856f6ba6",
   "metadata": {},
   "outputs": [],
   "source": [
    "import seaborn as sns\n",
    "import pandas as pd\n",
    "dataset = sns.load_dataset(\"flights\")\n",
    "dataset.head(1)"
   ]
  },
  {
   "cell_type": "markdown",
   "id": "3f62af98",
   "metadata": {},
   "source": [
    "# 🔧 Tool: SQL\n",
    "\n",
    "**Dataset:** flights\n",
    "**난이도:** 하\n",
    "\n",
    "**Q.** ** Hint:** Use the `MAX` and `AVG` aggregation functions, and filter the dataset to get the desired result."
   ]
  },
  {
   "cell_type": "code",
   "execution_count": null,
   "id": "ffee4867",
   "metadata": {},
   "outputs": [],
   "source": [
    "import seaborn as sns\n",
    "import pandas as pd\n",
    "dataset = sns.load_dataset(\"flights\")\n",
    "dataset.head(1)"
   ]
  },
  {
   "cell_type": "markdown",
   "id": "588b589c",
   "metadata": {},
   "source": [
    "# 🔧 Tool: SQL\n",
    "\n",
    "**Dataset:** flights\n",
    "**난이도:** 하\n",
    "\n",
    "**Q.** **Solution:**"
   ]
  },
  {
   "cell_type": "code",
   "execution_count": null,
   "id": "3330f60a",
   "metadata": {},
   "outputs": [],
   "source": [
    "import seaborn as sns\n",
    "import pandas as pd\n",
    "dataset = sns.load_dataset(\"flights\")\n",
    "dataset.head(1)"
   ]
  },
  {
   "cell_type": "markdown",
   "id": "38ba4482",
   "metadata": {},
   "source": [
    "# 🔧 Tool: SQL\n",
    "\n",
    "**Dataset:** flights\n",
    "**난이도:** 하\n",
    "\n",
    "**Q.** SELECT AVG(sw) AS 평균SepalWidth"
   ]
  },
  {
   "cell_type": "code",
   "execution_count": null,
   "id": "dc51a554",
   "metadata": {},
   "outputs": [],
   "source": [
    "import seaborn as sns\n",
    "import pandas as pd\n",
    "dataset = sns.load_dataset(\"flights\")\n",
    "dataset.head(1)"
   ]
  },
  {
   "cell_type": "markdown",
   "id": "4921ef32",
   "metadata": {},
   "source": [
    "# 🔧 Tool: SQL\n",
    "\n",
    "**Dataset:** flights\n",
    "**난이도:** 하\n",
    "\n",
    "**Q.** FROM iris"
   ]
  },
  {
   "cell_type": "code",
   "execution_count": null,
   "id": "62fd0c76",
   "metadata": {},
   "outputs": [],
   "source": [
    "import seaborn as sns\n",
    "import pandas as pd\n",
    "dataset = sns.load_dataset(\"flights\")\n",
    "dataset.head(1)"
   ]
  },
  {
   "cell_type": "markdown",
   "id": "4c04168c",
   "metadata": {},
   "source": [
    "# 🔧 Tool: SQL\n",
    "\n",
    "**Dataset:** flights\n",
    "**난이도:** 하\n",
    "\n",
    "**Q.** WHERE sl = (SELECT MAX(sl) FROM iris);"
   ]
  },
  {
   "cell_type": "code",
   "execution_count": null,
   "id": "04dc39d6",
   "metadata": {},
   "outputs": [],
   "source": [
    "import seaborn as sns\n",
    "import pandas as pd\n",
    "dataset = sns.load_dataset(\"flights\")\n",
    "dataset.head(1)"
   ]
  },
  {
   "cell_type": "markdown",
   "id": "de416ca3",
   "metadata": {},
   "source": [
    "# 🔧 Tool: SQL\n",
    "\n",
    "**Dataset:** flights\n",
    "**난이도:** 하\n",
    "\n",
    "**Q.** **Problem 2: Medium Difficulty**"
   ]
  },
  {
   "cell_type": "code",
   "execution_count": null,
   "id": "35267517",
   "metadata": {},
   "outputs": [],
   "source": [
    "import seaborn as sns\n",
    "import pandas as pd\n",
    "dataset = sns.load_dataset(\"flights\")\n",
    "dataset.head(1)"
   ]
  },
  {
   "cell_type": "markdown",
   "id": "88180640",
   "metadata": {},
   "source": [
    "# 🔧 Tool: SQL\n",
    "\n",
    "**Dataset:** flights\n",
    "**난이도:** 하\n",
    "\n",
    "**Q.** 🛬 flights dataset"
   ]
  },
  {
   "cell_type": "code",
   "execution_count": null,
   "id": "72a7edbd",
   "metadata": {},
   "outputs": [],
   "source": [
    "import seaborn as sns\n",
    "import pandas as pd\n",
    "dataset = sns.load_dataset(\"flights\")\n",
    "dataset.head(1)"
   ]
  },
  {
   "cell_type": "markdown",
   "id": "302ae8cc",
   "metadata": {},
   "source": [
    "# 🔧 Tool: SQL\n",
    "\n",
    "**Dataset:** flights\n",
    "**난이도:** 하\n",
    "\n",
    "**Q.** **질문:** flights 데이터셋에서 2020년 1월 1일부터 2020년 1월 31일까지의 항공편에서 가장 높은 탑승률을 기록한 항공편을 찾고, 평균 탑승률을 구하라."
   ]
  },
  {
   "cell_type": "code",
   "execution_count": null,
   "id": "2684d613",
   "metadata": {},
   "outputs": [],
   "source": [
    "import seaborn as sns\n",
    "import pandas as pd\n",
    "dataset = sns.load_dataset(\"flights\")\n",
    "dataset.head(1)"
   ]
  },
  {
   "cell_type": "markdown",
   "id": "8c4742b8",
   "metadata": {},
   "source": [
    "# 🔧 Tool: SQL\n",
    "\n",
    "**Dataset:** flights\n",
    "**난이도:** 하\n",
    "\n",
    "**Q.** **Hint:** Use the `DATE_TRUNC` function to extract the month and year from the `departure_time` column, and then filter the dataset to get the desired result."
   ]
  },
  {
   "cell_type": "code",
   "execution_count": null,
   "id": "1fe4bf70",
   "metadata": {},
   "outputs": [],
   "source": [
    "import seaborn as sns\n",
    "import pandas as pd\n",
    "dataset = sns.load_dataset(\"flights\")\n",
    "dataset.head(1)"
   ]
  },
  {
   "cell_type": "markdown",
   "id": "fac3159c",
   "metadata": {},
   "source": [
    "# 🔧 Tool: SQL\n",
    "\n",
    "**Dataset:** flights\n",
    "**난이도:** 하\n",
    "\n",
    "**Q.** **Solution:**"
   ]
  },
  {
   "cell_type": "code",
   "execution_count": null,
   "id": "294fc5d7",
   "metadata": {},
   "outputs": [],
   "source": [
    "import seaborn as sns\n",
    "import pandas as pd\n",
    "dataset = sns.load_dataset(\"flights\")\n",
    "dataset.head(1)"
   ]
  },
  {
   "cell_type": "markdown",
   "id": "f7a2a0bd",
   "metadata": {},
   "source": [
    "# 🔧 Tool: SQL\n",
    "\n",
    "**Dataset:** flights\n",
    "**난이도:** 하\n",
    "\n",
    "**Q.** SELECT AVG(pax) AS 평균탑승률"
   ]
  },
  {
   "cell_type": "code",
   "execution_count": null,
   "id": "e0b1c9e4",
   "metadata": {},
   "outputs": [],
   "source": [
    "import seaborn as sns\n",
    "import pandas as pd\n",
    "dataset = sns.load_dataset(\"flights\")\n",
    "dataset.head(1)"
   ]
  },
  {
   "cell_type": "markdown",
   "id": "8a70df9e",
   "metadata": {},
   "source": [
    "# 🔧 Tool: SQL\n",
    "\n",
    "**Dataset:** flights\n",
    "**난이도:** 하\n",
    "\n",
    "**Q.** FROM flights"
   ]
  },
  {
   "cell_type": "code",
   "execution_count": null,
   "id": "110d2287",
   "metadata": {},
   "outputs": [],
   "source": [
    "import seaborn as sns\n",
    "import pandas as pd\n",
    "dataset = sns.load_dataset(\"flights\")\n",
    "dataset.head(1)"
   ]
  },
  {
   "cell_type": "markdown",
   "id": "db3450b9",
   "metadata": {},
   "source": [
    "# 🔧 Tool: SQL\n",
    "\n",
    "**Dataset:** flights\n",
    "**난이도:** 하\n",
    "\n",
    "**Q.** WHERE DATE_TRUNC('month', departure_time) BETWEEN '2020-01-01' AND '2020-01-31'"
   ]
  },
  {
   "cell_type": "code",
   "execution_count": null,
   "id": "c63d958f",
   "metadata": {},
   "outputs": [],
   "source": [
    "import seaborn as sns\n",
    "import pandas as pd\n",
    "dataset = sns.load_dataset(\"flights\")\n",
    "dataset.head(1)"
   ]
  },
  {
   "cell_type": "markdown",
   "id": "bac88bef",
   "metadata": {},
   "source": [
    "# 🔧 Tool: SQL\n",
    "\n",
    "**Dataset:** flights\n",
    "**난이도:** 하\n",
    "\n",
    "**Q.** ORDER BY pax DESC"
   ]
  },
  {
   "cell_type": "code",
   "execution_count": null,
   "id": "53bb7081",
   "metadata": {},
   "outputs": [],
   "source": [
    "import seaborn as sns\n",
    "import pandas as pd\n",
    "dataset = sns.load_dataset(\"flights\")\n",
    "dataset.head(1)"
   ]
  },
  {
   "cell_type": "markdown",
   "id": "01b2edc7",
   "metadata": {},
   "source": [
    "# 🔧 Tool: SQL\n",
    "\n",
    "**Dataset:** flights\n",
    "**난이도:** 하\n",
    "\n",
    "**Q.** LIMIT 1;"
   ]
  },
  {
   "cell_type": "code",
   "execution_count": null,
   "id": "9027c41e",
   "metadata": {},
   "outputs": [],
   "source": [
    "import seaborn as sns\n",
    "import pandas as pd\n",
    "dataset = sns.load_dataset(\"flights\")\n",
    "dataset.head(1)"
   ]
  },
  {
   "cell_type": "markdown",
   "id": "0e138c7b",
   "metadata": {},
   "source": [
    "# 🔧 Tool: SQL\n",
    "\n",
    "**Dataset:** flights\n",
    "**난이도:** 하\n",
    "\n",
    "**Q.** Let me know if you need any changes or modifications! 😊"
   ]
  },
  {
   "cell_type": "code",
   "execution_count": null,
   "id": "c3061433",
   "metadata": {},
   "outputs": [],
   "source": [
    "import seaborn as sns\n",
    "import pandas as pd\n",
    "dataset = sns.load_dataset(\"flights\")\n",
    "dataset.head(1)"
   ]
  },
  {
   "cell_type": "markdown",
   "id": "a6c66a49",
   "metadata": {},
   "source": [
    "# 🔧 Tool: SQL\n",
    "\n",
    "**Dataset:** iris\n",
    "**난이도:** 하\n",
    "\n",
    "**Q.** **Problem 1: 중하 (Medium-Low)**"
   ]
  },
  {
   "cell_type": "code",
   "execution_count": null,
   "id": "faaaab21",
   "metadata": {},
   "outputs": [],
   "source": [
    "import seaborn as sns\n",
    "import pandas as pd\n",
    "dataset = sns.load_dataset(\"iris\")\n",
    "dataset.head(1)"
   ]
  },
  {
   "cell_type": "markdown",
   "id": "0d9800a6",
   "metadata": {},
   "source": [
    "# 🔧 Tool: SQL\n",
    "\n",
    "**Dataset:** iris\n",
    "**난이도:** 하\n",
    "\n",
    "**Q.** 이리스 데이터셋에서, 세 개의 꽃 종류(petal length, petal width, sepal length) 중 가장 긴 꽃의 평균 길이를 구하세요."
   ]
  },
  {
   "cell_type": "code",
   "execution_count": null,
   "id": "b9ba0917",
   "metadata": {},
   "outputs": [],
   "source": [
    "import seaborn as sns\n",
    "import pandas as pd\n",
    "dataset = sns.load_dataset(\"iris\")\n",
    "dataset.head(1)"
   ]
  },
  {
   "cell_type": "markdown",
   "id": "316af41e",
   "metadata": {},
   "source": [
    "# 🔧 Tool: SQL\n",
    "\n",
    "**Dataset:** iris\n",
    "**난이도:** 하\n",
    "\n",
    "**Q.** (Note: You can use the `iris` dataset, which contains information about three types of iris flowers. You need to find the average length of the longest flower among the three types.)"
   ]
  },
  {
   "cell_type": "code",
   "execution_count": null,
   "id": "eb075930",
   "metadata": {},
   "outputs": [],
   "source": [
    "import seaborn as sns\n",
    "import pandas as pd\n",
    "dataset = sns.load_dataset(\"iris\")\n",
    "dataset.head(1)"
   ]
  },
  {
   "cell_type": "markdown",
   "id": "71e9c13e",
   "metadata": {},
   "source": [
    "# 🔧 Tool: SQL\n",
    "\n",
    "**Dataset:** iris\n",
    "**난이도:** 하\n",
    "\n",
    "**Q.** **Problem 2: 중 (Medium)**"
   ]
  },
  {
   "cell_type": "code",
   "execution_count": null,
   "id": "97ae6379",
   "metadata": {},
   "outputs": [],
   "source": [
    "import seaborn as sns\n",
    "import pandas as pd\n",
    "dataset = sns.load_dataset(\"iris\")\n",
    "dataset.head(1)"
   ]
  },
  {
   "cell_type": "markdown",
   "id": "6650fe23",
   "metadata": {},
   "source": [
    "# 🔧 Tool: SQL\n",
    "\n",
    "**Dataset:** iris\n",
    "**난이도:** 하\n",
    "\n",
    "**Q.** 항공편 데이터셋에서, 2020년에 출발한 항공편의 평균 대기 시간을 구하세요. 이 때, 대기 시간은 15분 단위로 집계되어 있습니다."
   ]
  },
  {
   "cell_type": "code",
   "execution_count": null,
   "id": "fc38afd0",
   "metadata": {},
   "outputs": [],
   "source": [
    "import seaborn as sns\n",
    "import pandas as pd\n",
    "dataset = sns.load_dataset(\"iris\")\n",
    "dataset.head(1)"
   ]
  },
  {
   "cell_type": "markdown",
   "id": "c03bf602",
   "metadata": {},
   "source": [
    "# 🔧 Tool: SQL\n",
    "\n",
    "**Dataset:** iris\n",
    "**난이도:** 하\n",
    "\n",
    "**Q.** (Note: You can use the `flights` dataset, which contains information about flights. You need to find the average delay time of flights that departed in 2020, considering the delay time is aggregated in 15-minute units.)"
   ]
  },
  {
   "cell_type": "code",
   "execution_count": null,
   "id": "57337826",
   "metadata": {},
   "outputs": [],
   "source": [
    "import seaborn as sns\n",
    "import pandas as pd\n",
    "dataset = sns.load_dataset(\"iris\")\n",
    "dataset.head(1)"
   ]
  },
  {
   "cell_type": "markdown",
   "id": "b293d828",
   "metadata": {},
   "source": [
    "# 🔧 Tool: SQL\n",
    "\n",
    "**Dataset:** iris\n",
    "**난이도:** 하\n",
    "\n",
    "**Q.** Let me know if you need any changes! 😊"
   ]
  },
  {
   "cell_type": "code",
   "execution_count": null,
   "id": "d2df693d",
   "metadata": {},
   "outputs": [],
   "source": [
    "import seaborn as sns\n",
    "import pandas as pd\n",
    "dataset = sns.load_dataset(\"iris\")\n",
    "dataset.head(1)"
   ]
  },
  {
   "cell_type": "markdown",
   "id": "3e671d6d",
   "metadata": {},
   "source": [
    "# 🔧 Tool: SQL\n",
    "\n",
    "**Dataset:** iris\n",
    "**난이도:** 중하\n",
    "\n",
    "**Q.** **Problem 1: 하 (Low)**"
   ]
  },
  {
   "cell_type": "code",
   "execution_count": null,
   "id": "4815d2af",
   "metadata": {},
   "outputs": [],
   "source": [
    "import seaborn as sns\n",
    "import pandas as pd\n",
    "dataset = sns.load_dataset(\"iris\")\n",
    "dataset.head(1)"
   ]
  },
  {
   "cell_type": "markdown",
   "id": "f0ce519f",
   "metadata": {},
   "source": [
    "# 🔧 Tool: SQL\n",
    "\n",
    "**Dataset:** iris\n",
    "**난이도:** 중하\n",
    "\n",
    "**Q.** 🌼 iris 데이터셋에서 Sepal Length의 평균을 구하세요."
   ]
  },
  {
   "cell_type": "code",
   "execution_count": null,
   "id": "af6af17e",
   "metadata": {},
   "outputs": [],
   "source": [
    "import seaborn as sns\n",
    "import pandas as pd\n",
    "dataset = sns.load_dataset(\"iris\")\n",
    "dataset.head(1)"
   ]
  },
  {
   "cell_type": "markdown",
   "id": "572ca3d9",
   "metadata": {},
   "source": [
    "# 🔧 Tool: SQL\n",
    "\n",
    "**Dataset:** iris\n",
    "**난이도:** 중하\n",
    "\n",
    "**Q.** (Hint: Use the `AVG` function to find the average Sepal Length in the iris dataset.)"
   ]
  },
  {
   "cell_type": "code",
   "execution_count": null,
   "id": "45f6b87c",
   "metadata": {},
   "outputs": [],
   "source": [
    "import seaborn as sns\n",
    "import pandas as pd\n",
    "dataset = sns.load_dataset(\"iris\")\n",
    "dataset.head(1)"
   ]
  },
  {
   "cell_type": "markdown",
   "id": "026d2e1f",
   "metadata": {},
   "source": [
    "# 🔧 Tool: SQL\n",
    "\n",
    "**Dataset:** iris\n",
    "**난이도:** 중하\n",
    "\n",
    "**Q.** **Problem 2: 중하 (Mid-Low)**"
   ]
  },
  {
   "cell_type": "code",
   "execution_count": null,
   "id": "d479c3f0",
   "metadata": {},
   "outputs": [],
   "source": [
    "import seaborn as sns\n",
    "import pandas as pd\n",
    "dataset = sns.load_dataset(\"iris\")\n",
    "dataset.head(1)"
   ]
  },
  {
   "cell_type": "markdown",
   "id": "5bf1e6d8",
   "metadata": {},
   "source": [
    "# 🔧 Tool: SQL\n",
    "\n",
    "**Dataset:** iris\n",
    "**난이도:** 중하\n",
    "\n",
    "**Q.** 🛬 flights 데이터셋에서 Departure Delay의 평균을 구하세요. 또한, Departure Delay가 15분 이상인 항공편의 비율을 구하세요."
   ]
  },
  {
   "cell_type": "code",
   "execution_count": null,
   "id": "c9927e49",
   "metadata": {},
   "outputs": [],
   "source": [
    "import seaborn as sns\n",
    "import pandas as pd\n",
    "dataset = sns.load_dataset(\"iris\")\n",
    "dataset.head(1)"
   ]
  },
  {
   "cell_type": "markdown",
   "id": "66b2f2e0",
   "metadata": {},
   "source": [
    "# 🔧 Tool: SQL\n",
    "\n",
    "**Dataset:** iris\n",
    "**난이도:** 중하\n",
    "\n",
    "**Q.** (Hint: Use the `AVG` function to find the average Departure Delay in the flights dataset. For the second part, use a `CASE` statement to count the number of flights with a Departure Delay of 15 minutes or more.)"
   ]
  },
  {
   "cell_type": "code",
   "execution_count": null,
   "id": "ec3b8a8f",
   "metadata": {},
   "outputs": [],
   "source": [
    "import seaborn as sns\n",
    "import pandas as pd\n",
    "dataset = sns.load_dataset(\"iris\")\n",
    "dataset.head(1)"
   ]
  },
  {
   "cell_type": "markdown",
   "id": "c1f0ac23",
   "metadata": {},
   "source": [
    "# 🔧 Tool: SQL\n",
    "\n",
    "**Dataset:** iris\n",
    "**난이도:** 중하\n",
    "\n",
    "**Q.** Let me know if you need any changes or if you'd like me to generate more problems! 😊"
   ]
  },
  {
   "cell_type": "code",
   "execution_count": null,
   "id": "7ab1e817",
   "metadata": {},
   "outputs": [],
   "source": [
    "import seaborn as sns\n",
    "import pandas as pd\n",
    "dataset = sns.load_dataset(\"iris\")\n",
    "dataset.head(1)"
   ]
  },
  {
   "cell_type": "markdown",
   "id": "4675e2d7",
   "metadata": {},
   "source": [
    "# 🔧 Tool: SQL\n",
    "\n",
    "**Dataset:** penguins\n",
    "**난이도:** 중하\n",
    "\n",
    "**Q.** **Problem 1: Low difficulty**"
   ]
  },
  {
   "cell_type": "code",
   "execution_count": null,
   "id": "51158a4e",
   "metadata": {},
   "outputs": [],
   "source": [
    "import seaborn as sns\n",
    "import pandas as pd\n",
    "dataset = sns.load_dataset(\"penguins\")\n",
    "dataset.head(1)"
   ]
  },
  {
   "cell_type": "markdown",
   "id": "e385d573",
   "metadata": {},
   "source": [
    "# 🔧 Tool: SQL\n",
    "\n",
    "**Dataset:** penguins\n",
    "**난이도:** 중하\n",
    "\n",
    "**Q.** 🌼 `iris` 데이터셋에서 Sepal Length가 가장 긴 꽃의 평균 Sepal Width를 구하세요."
   ]
  },
  {
   "cell_type": "code",
   "execution_count": null,
   "id": "e334076d",
   "metadata": {},
   "outputs": [],
   "source": [
    "import seaborn as sns\n",
    "import pandas as pd\n",
    "dataset = sns.load_dataset(\"penguins\")\n",
    "dataset.head(1)"
   ]
  },
  {
   "cell_type": "markdown",
   "id": "5a349473",
   "metadata": {},
   "source": [
    "# 🔧 Tool: SQL\n",
    "\n",
    "**Dataset:** penguins\n",
    "**난이도:** 중하\n",
    "\n",
    "**Q.** **Problem 2: Medium difficulty**"
   ]
  },
  {
   "cell_type": "code",
   "execution_count": null,
   "id": "fadafde8",
   "metadata": {},
   "outputs": [],
   "source": [
    "import seaborn as sns\n",
    "import pandas as pd\n",
    "dataset = sns.load_dataset(\"penguins\")\n",
    "dataset.head(1)"
   ]
  },
  {
   "cell_type": "markdown",
   "id": "e67ff526",
   "metadata": {},
   "source": [
    "# 🔧 Tool: SQL\n",
    "\n",
    "**Dataset:** penguins\n",
    "**난이도:** 중하\n",
    "\n",
    "**Q.** 🛬 `flights` 데이터셋에서 2020년 1월 1일부터 2020년 1월 31일까지의 항공편의 평균 탑승객 수를 구하세요. 또한, 평균 탑승객 수가 가장 많은 항공편의 Carrier를 구하세요."
   ]
  },
  {
   "cell_type": "code",
   "execution_count": null,
   "id": "21896cdb",
   "metadata": {},
   "outputs": [],
   "source": [
    "import seaborn as sns\n",
    "import pandas as pd\n",
    "dataset = sns.load_dataset(\"penguins\")\n",
    "dataset.head(1)"
   ]
  },
  {
   "cell_type": "markdown",
   "id": "4d79e4a9",
   "metadata": {},
   "source": [
    "# 🔧 Tool: SQL\n",
    "\n",
    "**Dataset:** penguins\n",
    "**난이도:** 중\n",
    "\n",
    "**Q.** **Problem 1: 중하난이도**"
   ]
  },
  {
   "cell_type": "code",
   "execution_count": null,
   "id": "235374f9",
   "metadata": {},
   "outputs": [],
   "source": [
    "import seaborn as sns\n",
    "import pandas as pd\n",
    "dataset = sns.load_dataset(\"penguins\")\n",
    "dataset.head(1)"
   ]
  },
  {
   "cell_type": "markdown",
   "id": "9a0c6e28",
   "metadata": {},
   "source": [
    "# 🔧 Tool: SQL\n",
    "\n",
    "**Dataset:** penguins\n",
    "**난이도:** 중\n",
    "\n",
    "**Q.** 🌼 iris 데이터셋에서 평균 꽃잎 길이를 구하세요. 필요한 경우에는 필요한 열만 선택하세요."
   ]
  },
  {
   "cell_type": "code",
   "execution_count": null,
   "id": "d021e0bf",
   "metadata": {},
   "outputs": [],
   "source": [
    "import seaborn as sns\n",
    "import pandas as pd\n",
    "dataset = sns.load_dataset(\"penguins\")\n",
    "dataset.head(1)"
   ]
  },
  {
   "cell_type": "markdown",
   "id": "e6111455",
   "metadata": {},
   "source": [
    "# 🔧 Tool: SQL\n",
    "\n",
    "**Dataset:** penguins\n",
    "**난이도:** 중\n",
    "\n",
    "**Q.** **Problem 2: 중난이도**"
   ]
  },
  {
   "cell_type": "code",
   "execution_count": null,
   "id": "9d4e6423",
   "metadata": {},
   "outputs": [],
   "source": [
    "import seaborn as sns\n",
    "import pandas as pd\n",
    "dataset = sns.load_dataset(\"penguins\")\n",
    "dataset.head(1)"
   ]
  },
  {
   "cell_type": "markdown",
   "id": "3f70873c",
   "metadata": {},
   "source": [
    "# 🔧 Tool: SQL\n",
    "\n",
    "**Dataset:** penguins\n",
    "**난이도:** 중\n",
    "\n",
    "**Q.** 🛬 flights 데이터셋에서 2019년 3월에 출발한 모든 항공편의 평균 항속 시간을 구하세요. 필요한 경우에는 필요한 열만 선택하세요."
   ]
  },
  {
   "cell_type": "code",
   "execution_count": null,
   "id": "37d9fbe6",
   "metadata": {},
   "outputs": [],
   "source": [
    "import seaborn as sns\n",
    "import pandas as pd\n",
    "dataset = sns.load_dataset(\"penguins\")\n",
    "dataset.head(1)"
   ]
  },
  {
   "cell_type": "markdown",
   "id": "0a8f48e3",
   "metadata": {},
   "source": [
    "# 🔧 Tool: SQL\n",
    "\n",
    "**Dataset:** penguins\n",
    "**난이도:** 중\n",
    "\n",
    "**Q.** I hope these problems meet your requirements! 😊"
   ]
  },
  {
   "cell_type": "code",
   "execution_count": null,
   "id": "64864691",
   "metadata": {},
   "outputs": [],
   "source": [
    "import seaborn as sns\n",
    "import pandas as pd\n",
    "dataset = sns.load_dataset(\"penguins\")\n",
    "dataset.head(1)"
   ]
  },
  {
   "cell_type": "markdown",
   "id": "0b89b650",
   "metadata": {},
   "source": [
    "# 🔧 Tool: SQL\n",
    "\n",
    "**Dataset:** flights\n",
    "**난이도:** 중\n",
    "\n",
    "**Q.** **Problem 1 (하, Low Difficulty)**"
   ]
  },
  {
   "cell_type": "code",
   "execution_count": null,
   "id": "9ea06a39",
   "metadata": {},
   "outputs": [],
   "source": [
    "import seaborn as sns\n",
    "import pandas as pd\n",
    "dataset = sns.load_dataset(\"flights\")\n",
    "dataset.head(1)"
   ]
  },
  {
   "cell_type": "markdown",
   "id": "9f1fe38e",
   "metadata": {},
   "source": [
    "# 🔧 Tool: SQL\n",
    "\n",
    "**Dataset:** flights\n",
    "**난이도:** 중\n",
    "\n",
    "**Q.** `iris` 데이터셋에서 Sepal Length가 가장 긴 3종의 꽃의 평균 Sepal Length를 구하세요."
   ]
  },
  {
   "cell_type": "code",
   "execution_count": null,
   "id": "78fe7419",
   "metadata": {},
   "outputs": [],
   "source": [
    "import seaborn as sns\n",
    "import pandas as pd\n",
    "dataset = sns.load_dataset(\"flights\")\n",
    "dataset.head(1)"
   ]
  },
  {
   "cell_type": "markdown",
   "id": "02816cfc",
   "metadata": {},
   "source": [
    "# 🔧 Tool: SQL\n",
    "\n",
    "**Dataset:** flights\n",
    "**난이도:** 중\n",
    "\n",
    "**Q.** **Problem 2 (중, Medium Difficulty)**"
   ]
  },
  {
   "cell_type": "code",
   "execution_count": null,
   "id": "a19e225c",
   "metadata": {},
   "outputs": [],
   "source": [
    "import seaborn as sns\n",
    "import pandas as pd\n",
    "dataset = sns.load_dataset(\"flights\")\n",
    "dataset.head(1)"
   ]
  },
  {
   "cell_type": "markdown",
   "id": "10da228f",
   "metadata": {},
   "source": [
    "# 🔧 Tool: SQL\n",
    "\n",
    "**Dataset:** flights\n",
    "**난이도:** 중\n",
    "\n",
    "**Q.** `flights` 데이터셋에서 2020년에 출발한 항공편의 평균 도착지 지리적 위도(latitude)를 구하세요. 또한, 2020년에 출발한 항공편 중 가장 높은 도착지 지리적 위도를 가진 항공편은 어디였나요?"
   ]
  },
  {
   "cell_type": "code",
   "execution_count": null,
   "id": "6abe80b2",
   "metadata": {},
   "outputs": [],
   "source": [
    "import seaborn as sns\n",
    "import pandas as pd\n",
    "dataset = sns.load_dataset(\"flights\")\n",
    "dataset.head(1)"
   ]
  },
  {
   "cell_type": "markdown",
   "id": "aadcd3f5",
   "metadata": {},
   "source": [
    "# 🔧 Tool: SQL\n",
    "\n",
    "**Dataset:** flights\n",
    "**난이도:** 중\n",
    "\n",
    "**Q.** Let me know if you'd like me to adjust the difficulty level or provide more problems! 😊"
   ]
  },
  {
   "cell_type": "code",
   "execution_count": null,
   "id": "1b29578d",
   "metadata": {},
   "outputs": [],
   "source": [
    "import seaborn as sns\n",
    "import pandas as pd\n",
    "dataset = sns.load_dataset(\"flights\")\n",
    "dataset.head(1)"
   ]
  },
  {
   "cell_type": "markdown",
   "id": "2a41a351",
   "metadata": {},
   "source": [
    "# 🔧 Tool: SQL\n",
    "\n",
    "**Dataset:** flights\n",
    "**난이도:** 하\n",
    "\n",
    "**Q.** **Problem 1 (하, Low Difficulty)**"
   ]
  },
  {
   "cell_type": "code",
   "execution_count": null,
   "id": "b4e368e8",
   "metadata": {},
   "outputs": [],
   "source": [
    "import seaborn as sns\n",
    "import pandas as pd\n",
    "dataset = sns.load_dataset(\"flights\")\n",
    "dataset.head(1)"
   ]
  },
  {
   "cell_type": "markdown",
   "id": "efa53e09",
   "metadata": {},
   "source": [
    "# 🔧 Tool: SQL\n",
    "\n",
    "**Dataset:** flights\n",
    "**난이도:** 하\n",
    "\n",
    "**Q.** `penguins` 데이터셋에서 Adelie, Chinstrap, Gentoo 세 종의 펭귄의 평균 몸길이를 구하세요. 또한, 이 세 종의 펭귄 중 가장 긴 몸길이를 가진 펭귄은 어디였나요?"
   ]
  },
  {
   "cell_type": "code",
   "execution_count": null,
   "id": "7f206898",
   "metadata": {},
   "outputs": [],
   "source": [
    "import seaborn as sns\n",
    "import pandas as pd\n",
    "dataset = sns.load_dataset(\"flights\")\n",
    "dataset.head(1)"
   ]
  },
  {
   "cell_type": "markdown",
   "id": "3d58006c",
   "metadata": {},
   "source": [
    "# 🔧 Tool: SQL\n",
    "\n",
    "**Dataset:** flights\n",
    "**난이도:** 하\n",
    "\n",
    "**Q.** **Problem 2 (중, Medium Difficulty)**"
   ]
  },
  {
   "cell_type": "code",
   "execution_count": null,
   "id": "481185d8",
   "metadata": {},
   "outputs": [],
   "source": [
    "import seaborn as sns\n",
    "import pandas as pd\n",
    "dataset = sns.load_dataset(\"flights\")\n",
    "dataset.head(1)"
   ]
  },
  {
   "cell_type": "markdown",
   "id": "22f836e9",
   "metadata": {},
   "source": [
    "# 🔧 Tool: SQL\n",
    "\n",
    "**Dataset:** flights\n",
    "**난이도:** 하\n",
    "\n",
    "**Q.** `car_crashes` 데이터셋에서 2019년에 발생한 교통사고의 평균 피해액을 구하세요. 또한, 2019년에 발생한 교통사고 중 가장 큰 피해액을 가진 교통사고는 어디였나요? (Hint: You may need to use a subquery or a join operation to solve this problem.)"
   ]
  },
  {
   "cell_type": "code",
   "execution_count": null,
   "id": "b248708e",
   "metadata": {},
   "outputs": [],
   "source": [
    "import seaborn as sns\n",
    "import pandas as pd\n",
    "dataset = sns.load_dataset(\"flights\")\n",
    "dataset.head(1)"
   ]
  },
  {
   "cell_type": "markdown",
   "id": "4f5b8db6",
   "metadata": {},
   "source": [
    "# 🔧 Tool: SQL\n",
    "\n",
    "**Dataset:** flights\n",
    "**난이도:** 하\n",
    "\n",
    "**Q.** Let me know if you'd like me to adjust the difficulty level or provide more problems! 😊"
   ]
  },
  {
   "cell_type": "code",
   "execution_count": null,
   "id": "6ae86185",
   "metadata": {},
   "outputs": [],
   "source": [
    "import seaborn as sns\n",
    "import pandas as pd\n",
    "dataset = sns.load_dataset(\"flights\")\n",
    "dataset.head(1)"
   ]
  },
  {
   "cell_type": "markdown",
   "id": "b77570ce",
   "metadata": {},
   "source": [
    "# 🔧 Tool: SQL\n",
    "\n",
    "**Dataset:** flights\n",
    "**난이도:** 하\n",
    "\n",
    "**Q.** **Problem 1 (하, Low Difficulty)**"
   ]
  },
  {
   "cell_type": "code",
   "execution_count": null,
   "id": "11ddb66c",
   "metadata": {},
   "outputs": [],
   "source": [
    "import seaborn as sns\n",
    "import pandas as pd\n",
    "dataset = sns.load_dataset(\"flights\")\n",
    "dataset.head(1)"
   ]
  },
  {
   "cell_type": "markdown",
   "id": "2b939317",
   "metadata": {},
   "source": [
    "# 🔧 Tool: SQL\n",
    "\n",
    "**Dataset:** flights\n",
    "**난이도:** 하\n",
    "\n",
    "**Q.** `penguins` 데이터셋에서 가장 긴 날개의 길이를 가진 3종의 펭귄의 평균 날개의 길이를 구하세요."
   ]
  },
  {
   "cell_type": "code",
   "execution_count": null,
   "id": "6085fd68",
   "metadata": {},
   "outputs": [],
   "source": [
    "import seaborn as sns\n",
    "import pandas as pd\n",
    "dataset = sns.load_dataset(\"flights\")\n",
    "dataset.head(1)"
   ]
  },
  {
   "cell_type": "markdown",
   "id": "299a6461",
   "metadata": {},
   "source": [
    "# 🔧 Tool: SQL\n",
    "\n",
    "**Dataset:** flights\n",
    "**난이도:** 하\n",
    "\n",
    "**Q.** **Problem 2 (중, Medium Difficulty)**"
   ]
  },
  {
   "cell_type": "code",
   "execution_count": null,
   "id": "98f52642",
   "metadata": {},
   "outputs": [],
   "source": [
    "import seaborn as sns\n",
    "import pandas as pd\n",
    "dataset = sns.load_dataset(\"flights\")\n",
    "dataset.head(1)"
   ]
  },
  {
   "cell_type": "markdown",
   "id": "6a71f330",
   "metadata": {},
   "source": [
    "# 🔧 Tool: SQL\n",
    "\n",
    "**Dataset:** flights\n",
    "**난이도:** 하\n",
    "\n",
    "**Q.** `car_crashes` 데이터셋에서 2020년에 발생한 자동차 충돌 사고의 평균 속도를 구하세요. 또한, 2020년에 발생한 자동차 충돌 사고 중 가장 높은 속도를 가진 사고는 어디서 일어났나요? ( Hint: 속도는 km/h 로 표시됩니다.)"
   ]
  },
  {
   "cell_type": "code",
   "execution_count": null,
   "id": "0b7d2d17",
   "metadata": {},
   "outputs": [],
   "source": [
    "import seaborn as sns\n",
    "import pandas as pd\n",
    "dataset = sns.load_dataset(\"flights\")\n",
    "dataset.head(1)"
   ]
  },
  {
   "cell_type": "markdown",
   "id": "bbf287f6",
   "metadata": {},
   "source": [
    "# 🔧 Tool: SQL\n",
    "\n",
    "**Dataset:** flights\n",
    "**난이도:** 하\n",
    "\n",
    "**Q.** Let me know if you'd like me to adjust the difficulty level or provide more problems! 😊"
   ]
  },
  {
   "cell_type": "code",
   "execution_count": null,
   "id": "029bfaf6",
   "metadata": {},
   "outputs": [],
   "source": [
    "import seaborn as sns\n",
    "import pandas as pd\n",
    "dataset = sns.load_dataset(\"flights\")\n",
    "dataset.head(1)"
   ]
  },
  {
   "cell_type": "markdown",
   "id": "801869f4",
   "metadata": {},
   "source": [
    "# 🔧 Tool: SQL\n",
    "\n",
    "**Dataset:** car_crashes\n",
    "**난이도:** 중하\n",
    "\n",
    "**Q.** **Problem 1 (하, Low Difficulty)**"
   ]
  },
  {
   "cell_type": "code",
   "execution_count": null,
   "id": "6b371579",
   "metadata": {},
   "outputs": [],
   "source": [
    "import seaborn as sns\n",
    "import pandas as pd\n",
    "dataset = sns.load_dataset(\"car_crashes\")\n",
    "dataset.head(1)"
   ]
  },
  {
   "cell_type": "markdown",
   "id": "24372f0c",
   "metadata": {},
   "source": [
    "# 🔧 Tool: SQL\n",
    "\n",
    "**Dataset:** car_crashes\n",
    "**난이도:** 중하\n",
    "\n",
    "**Q.** `penguins` 데이터셋에서 가장 큰 두 종의 펭귄의 평균 몸길이를 구하세요."
   ]
  },
  {
   "cell_type": "code",
   "execution_count": null,
   "id": "18b8a33e",
   "metadata": {},
   "outputs": [],
   "source": [
    "import seaborn as sns\n",
    "import pandas as pd\n",
    "dataset = sns.load_dataset(\"car_crashes\")\n",
    "dataset.head(1)"
   ]
  },
  {
   "cell_type": "markdown",
   "id": "e9d276f1",
   "metadata": {},
   "source": [
    "# 🔧 Tool: SQL\n",
    "\n",
    "**Dataset:** car_crashes\n",
    "**난이도:** 중하\n",
    "\n",
    "**Q.** **Problem 2 (중, Medium Difficulty)**"
   ]
  },
  {
   "cell_type": "code",
   "execution_count": null,
   "id": "16824b34",
   "metadata": {},
   "outputs": [],
   "source": [
    "import seaborn as sns\n",
    "import pandas as pd\n",
    "dataset = sns.load_dataset(\"car_crashes\")\n",
    "dataset.head(1)"
   ]
  },
  {
   "cell_type": "markdown",
   "id": "f92940b9",
   "metadata": {},
   "source": [
    "# 🔧 Tool: SQL\n",
    "\n",
    "**Dataset:** car_crashes\n",
    "**난이도:** 중하\n",
    "\n",
    "**Q.** `car_crashes` 데이터셋에서 2019년에 발생한 교통사고의 평균 속도(speed)를 구하세요. 또한, 2019년에 발생한 교통사고 중 가장 높은 속도를 가진 교통사고는 어디에서 발생했나요?"
   ]
  },
  {
   "cell_type": "code",
   "execution_count": null,
   "id": "b3d5a7df",
   "metadata": {},
   "outputs": [],
   "source": [
    "import seaborn as sns\n",
    "import pandas as pd\n",
    "dataset = sns.load_dataset(\"car_crashes\")\n",
    "dataset.head(1)"
   ]
  },
  {
   "cell_type": "markdown",
   "id": "3eca7e17",
   "metadata": {},
   "source": [
    "# 🔧 Tool: SQL\n",
    "\n",
    "**Dataset:** car_crashes\n",
    "**난이도:** 중하\n",
    "\n",
    "**Q.** Let me know if these problems meet your requirements or if you'd like me to adjust the difficulty level or provide more problems! 😊"
   ]
  },
  {
   "cell_type": "code",
   "execution_count": null,
   "id": "e2baca74",
   "metadata": {},
   "outputs": [],
   "source": [
    "import seaborn as sns\n",
    "import pandas as pd\n",
    "dataset = sns.load_dataset(\"car_crashes\")\n",
    "dataset.head(1)"
   ]
  },
  {
   "cell_type": "markdown",
   "id": "205b77be",
   "metadata": {},
   "source": [
    "# 🔧 Tool: SQL\n",
    "\n",
    "**Dataset:** flights\n",
    "**난이도:** 중하\n",
    "\n",
    "**Q.** **Problem 1 (하, Low Difficulty)**"
   ]
  },
  {
   "cell_type": "code",
   "execution_count": null,
   "id": "8fa1abdb",
   "metadata": {},
   "outputs": [],
   "source": [
    "import seaborn as sns\n",
    "import pandas as pd\n",
    "dataset = sns.load_dataset(\"flights\")\n",
    "dataset.head(1)"
   ]
  },
  {
   "cell_type": "markdown",
   "id": "d72b221e",
   "metadata": {},
   "source": [
    "# 🔧 Tool: SQL\n",
    "\n",
    "**Dataset:** flights\n",
    "**난이도:** 중하\n",
    "\n",
    "**Q.** `penguins` 데이터셋에서 Adelie, Chinstrap, Gentoo 3종의 펭귄의 평균 Body Mass를 구하세요."
   ]
  },
  {
   "cell_type": "code",
   "execution_count": null,
   "id": "d9483b8b",
   "metadata": {},
   "outputs": [],
   "source": [
    "import seaborn as sns\n",
    "import pandas as pd\n",
    "dataset = sns.load_dataset(\"flights\")\n",
    "dataset.head(1)"
   ]
  },
  {
   "cell_type": "markdown",
   "id": "4335160b",
   "metadata": {},
   "source": [
    "# 🔧 Tool: SQL\n",
    "\n",
    "**Dataset:** flights\n",
    "**난이도:** 중하\n",
    "\n",
    "**Q.** **Problem 2 (중, Medium Difficulty)**"
   ]
  },
  {
   "cell_type": "code",
   "execution_count": null,
   "id": "f1db28b1",
   "metadata": {},
   "outputs": [],
   "source": [
    "import seaborn as sns\n",
    "import pandas as pd\n",
    "dataset = sns.load_dataset(\"flights\")\n",
    "dataset.head(1)"
   ]
  },
  {
   "cell_type": "markdown",
   "id": "67540294",
   "metadata": {},
   "source": [
    "# 🔧 Tool: SQL\n",
    "\n",
    "**Dataset:** flights\n",
    "**난이도:** 중하\n",
    "\n",
    "**Q.** `car_crashes` 데이터셋에서 2015년에 발생한 교통사고의 평균 속도(speed)와 사망자 수를 구하세요. 또한, 2015년에 발생한 교통사고 중 가장 많은 사망자를 발생시킨 교통사고의 속도는 얼마였나요?"
   ]
  },
  {
   "cell_type": "code",
   "execution_count": null,
   "id": "6c1a19f1",
   "metadata": {},
   "outputs": [],
   "source": [
    "import seaborn as sns\n",
    "import pandas as pd\n",
    "dataset = sns.load_dataset(\"flights\")\n",
    "dataset.head(1)"
   ]
  },
  {
   "cell_type": "markdown",
   "id": "7f50fde0",
   "metadata": {},
   "source": [
    "# 🔧 Tool: SQL\n",
    "\n",
    "**Dataset:** flights\n",
    "**난이도:** 중하\n",
    "\n",
    "**Q.** Let me know if you'd like me to adjust the difficulty level or provide more problems! 😊"
   ]
  },
  {
   "cell_type": "code",
   "execution_count": null,
   "id": "7c7f4712",
   "metadata": {},
   "outputs": [],
   "source": [
    "import seaborn as sns\n",
    "import pandas as pd\n",
    "dataset = sns.load_dataset(\"flights\")\n",
    "dataset.head(1)"
   ]
  },
  {
   "cell_type": "markdown",
   "id": "414c1cd5",
   "metadata": {},
   "source": [
    "# 🔧 Tool: SQL\n",
    "\n",
    "**Dataset:** car_crashes\n",
    "**난이도:** 중\n",
    "\n",
    "**Q.** **Problem 1 (하, Low Difficulty)**"
   ]
  },
  {
   "cell_type": "code",
   "execution_count": null,
   "id": "3b5abe1b",
   "metadata": {},
   "outputs": [],
   "source": [
    "import seaborn as sns\n",
    "import pandas as pd\n",
    "dataset = sns.load_dataset(\"car_crashes\")\n",
    "dataset.head(1)"
   ]
  },
  {
   "cell_type": "markdown",
   "id": "539b63c4",
   "metadata": {},
   "source": [
    "# 🔧 Tool: SQL\n",
    "\n",
    "**Dataset:** car_crashes\n",
    "**난이도:** 중\n",
    "\n",
    "**Q.** `penguins` 데이터셋에서 Adelie, Chinstrap, Gentoo 3종의 펭귄의 평균 몸길이를 구하세요."
   ]
  },
  {
   "cell_type": "code",
   "execution_count": null,
   "id": "ec60cd79",
   "metadata": {},
   "outputs": [],
   "source": [
    "import seaborn as sns\n",
    "import pandas as pd\n",
    "dataset = sns.load_dataset(\"car_crashes\")\n",
    "dataset.head(1)"
   ]
  },
  {
   "cell_type": "markdown",
   "id": "60972492",
   "metadata": {},
   "source": [
    "# 🔧 Tool: SQL\n",
    "\n",
    "**Dataset:** car_crashes\n",
    "**난이도:** 중\n",
    "\n",
    "**Q.** **Hint:** Use the `AVG` function and filter the data by species."
   ]
  },
  {
   "cell_type": "code",
   "execution_count": null,
   "id": "a6c2d350",
   "metadata": {},
   "outputs": [],
   "source": [
    "import seaborn as sns\n",
    "import pandas as pd\n",
    "dataset = sns.load_dataset(\"car_crashes\")\n",
    "dataset.head(1)"
   ]
  },
  {
   "cell_type": "markdown",
   "id": "9902d970",
   "metadata": {},
   "source": [
    "# 🔧 Tool: SQL\n",
    "\n",
    "**Dataset:** car_crashes\n",
    "**난이도:** 중\n",
    "\n",
    "**Q.** **Problem 2 (중하, Medium-Low Difficulty)**"
   ]
  },
  {
   "cell_type": "code",
   "execution_count": null,
   "id": "5de97d64",
   "metadata": {},
   "outputs": [],
   "source": [
    "import seaborn as sns\n",
    "import pandas as pd\n",
    "dataset = sns.load_dataset(\"car_crashes\")\n",
    "dataset.head(1)"
   ]
  },
  {
   "cell_type": "markdown",
   "id": "6e93a023",
   "metadata": {},
   "source": [
    "# 🔧 Tool: SQL\n",
    "\n",
    "**Dataset:** car_crashes\n",
    "**난이도:** 중\n",
    "\n",
    "**Q.** `car_crashes` 데이터셋에서 2019년에 발생한 교통사고 중_fatal( chết 인) 사고의 수를 구하세요. 또한, 2019년에 발생한 fatal 사고 중 가장 많은 사망자를 초래한 도시 이름은 무엇입니까?"
   ]
  },
  {
   "cell_type": "code",
   "execution_count": null,
   "id": "edf3ab99",
   "metadata": {},
   "outputs": [],
   "source": [
    "import seaborn as sns\n",
    "import pandas as pd\n",
    "dataset = sns.load_dataset(\"car_crashes\")\n",
    "dataset.head(1)"
   ]
  },
  {
   "cell_type": "markdown",
   "id": "bc751abe",
   "metadata": {},
   "source": [
    "# 🔧 Tool: SQL\n",
    "\n",
    "**Dataset:** car_crashes\n",
    "**난이도:** 중\n",
    "\n",
    "**Q.** **Hint:** Use the `COUNT` function and filter the data by year and severity."
   ]
  },
  {
   "cell_type": "code",
   "execution_count": null,
   "id": "6e8d4f16",
   "metadata": {},
   "outputs": [],
   "source": [
    "import seaborn as sns\n",
    "import pandas as pd\n",
    "dataset = sns.load_dataset(\"car_crashes\")\n",
    "dataset.head(1)"
   ]
  },
  {
   "cell_type": "markdown",
   "id": "6d9319a5",
   "metadata": {},
   "source": [
    "# 🔧 Tool: SQL\n",
    "\n",
    "**Dataset:** car_crashes\n",
    "**난이도:** 중\n",
    "\n",
    "**Q.** **Problem 3 (중, Medium Difficulty)**"
   ]
  },
  {
   "cell_type": "code",
   "execution_count": null,
   "id": "a1354841",
   "metadata": {},
   "outputs": [],
   "source": [
    "import seaborn as sns\n",
    "import pandas as pd\n",
    "dataset = sns.load_dataset(\"car_crashes\")\n",
    "dataset.head(1)"
   ]
  },
  {
   "cell_type": "markdown",
   "id": "984ca61a",
   "metadata": {},
   "source": [
    "# 🔧 Tool: SQL\n",
    "\n",
    "**Dataset:** car_crashes\n",
    "**난이도:** 중\n",
    "\n",
    "**Q.** `flights` 데이터셋에서 2020년에 출발한 항공편의 평균 도착지 지리적 위도(latitude)를 구하세요. 또한, 2020년에 출발한 항공편 중 가장 높은 도착지 지리적 위도를 가진 항공편은 어디였나요?"
   ]
  },
  {
   "cell_type": "code",
   "execution_count": null,
   "id": "3cbf7c89",
   "metadata": {},
   "outputs": [],
   "source": [
    "import seaborn as sns\n",
    "import pandas as pd\n",
    "dataset = sns.load_dataset(\"car_crashes\")\n",
    "dataset.head(1)"
   ]
  },
  {
   "cell_type": "markdown",
   "id": "1a30aee5",
   "metadata": {},
   "source": [
    "# 🔧 Tool: SQL\n",
    "\n",
    "**Dataset:** car_crashes\n",
    "**난이도:** 중\n",
    "\n",
    "**Q.** **Hint:** Use the `AVG` function and filter the data by year. For the second part, use the `MAX` function and filter the data by year."
   ]
  },
  {
   "cell_type": "code",
   "execution_count": null,
   "id": "62f64e5f",
   "metadata": {},
   "outputs": [],
   "source": [
    "import seaborn as sns\n",
    "import pandas as pd\n",
    "dataset = sns.load_dataset(\"car_crashes\")\n",
    "dataset.head(1)"
   ]
  },
  {
   "cell_type": "markdown",
   "id": "37e06f44",
   "metadata": {},
   "source": [
    "# 🔧 Tool: SQL\n",
    "\n",
    "**Dataset:** car_crashes\n",
    "**난이도:** 중\n",
    "\n",
    "**Q.** Let me know if you'd like me to adjust the difficulty level or provide more problems! 😊"
   ]
  },
  {
   "cell_type": "code",
   "execution_count": null,
   "id": "b6ecaf98",
   "metadata": {},
   "outputs": [],
   "source": [
    "import seaborn as sns\n",
    "import pandas as pd\n",
    "dataset = sns.load_dataset(\"car_crashes\")\n",
    "dataset.head(1)"
   ]
  },
  {
   "cell_type": "markdown",
   "id": "a3686e0c",
   "metadata": {},
   "source": [
    "# 🔧 Tool: SQL\n",
    "\n",
    "**Dataset:** flights\n",
    "**난이도:** 중\n",
    "\n",
    "**Q.** **Problem 1 (하, Low Difficulty)**"
   ]
  },
  {
   "cell_type": "code",
   "execution_count": null,
   "id": "3c81a9c5",
   "metadata": {},
   "outputs": [],
   "source": [
    "import seaborn as sns\n",
    "import pandas as pd\n",
    "dataset = sns.load_dataset(\"flights\")\n",
    "dataset.head(1)"
   ]
  },
  {
   "cell_type": "markdown",
   "id": "08cd38cd",
   "metadata": {},
   "source": [
    "# 🔧 Tool: SQL\n",
    "\n",
    "**Dataset:** flights\n",
    "**난이도:** 중\n",
    "\n",
    "**Q.** `penguins` 데이터셋에서 Flipper Length가 가장 긴 3마리의 펭귄의 Flipper Length를 구하세요."
   ]
  },
  {
   "cell_type": "code",
   "execution_count": null,
   "id": "972fc369",
   "metadata": {},
   "outputs": [],
   "source": [
    "import seaborn as sns\n",
    "import pandas as pd\n",
    "dataset = sns.load_dataset(\"flights\")\n",
    "dataset.head(1)"
   ]
  },
  {
   "cell_type": "markdown",
   "id": "58103095",
   "metadata": {},
   "source": [
    "# 🔧 Tool: SQL\n",
    "\n",
    "**Dataset:** flights\n",
    "**난이도:** 중\n",
    "\n",
    "**Q.** **Problem 2 (중하, Medium-Low Difficulty)**"
   ]
  },
  {
   "cell_type": "code",
   "execution_count": null,
   "id": "70ec1299",
   "metadata": {},
   "outputs": [],
   "source": [
    "import seaborn as sns\n",
    "import pandas as pd\n",
    "dataset = sns.load_dataset(\"flights\")\n",
    "dataset.head(1)"
   ]
  },
  {
   "cell_type": "markdown",
   "id": "b885fac0",
   "metadata": {},
   "source": [
    "# 🔧 Tool: SQL\n",
    "\n",
    "**Dataset:** flights\n",
    "**난이도:** 중\n",
    "\n",
    "**Q.** `car_crashes` 데이터셋에서 2015년에 발생한 교통사고에서 사망자가 있었던 경우의 평균 속도(speed)를 구하세요. 또한, 2015년에 발생한 교통사고에서 사망자가 있었던 경우 중 가장 높은 속도를 가진 교통사고는 어디였나요?"
   ]
  },
  {
   "cell_type": "code",
   "execution_count": null,
   "id": "9343c1e6",
   "metadata": {},
   "outputs": [],
   "source": [
    "import seaborn as sns\n",
    "import pandas as pd\n",
    "dataset = sns.load_dataset(\"flights\")\n",
    "dataset.head(1)"
   ]
  },
  {
   "cell_type": "markdown",
   "id": "5783b909",
   "metadata": {},
   "source": [
    "# 🔧 Tool: SQL\n",
    "\n",
    "**Dataset:** flights\n",
    "**난이도:** 중\n",
    "\n",
    "**Q.** Let me know if you'd like me to adjust the difficulty level or provide more problems! 😊"
   ]
  },
  {
   "cell_type": "code",
   "execution_count": null,
   "id": "026c354c",
   "metadata": {},
   "outputs": [],
   "source": [
    "import seaborn as sns\n",
    "import pandas as pd\n",
    "dataset = sns.load_dataset(\"flights\")\n",
    "dataset.head(1)"
   ]
  },
  {
   "cell_type": "markdown",
   "id": "caff2094",
   "metadata": {},
   "source": [
    "# 🔧 Tool: SQL\n",
    "\n",
    "**Dataset:** car_crashes\n",
    "**난이도:** 하\n",
    "\n",
    "**Q.** **Problem 1 (하, Low Difficulty)**"
   ]
  },
  {
   "cell_type": "code",
   "execution_count": null,
   "id": "14f50674",
   "metadata": {},
   "outputs": [],
   "source": [
    "import seaborn as sns\n",
    "import pandas as pd\n",
    "dataset = sns.load_dataset(\"car_crashes\")\n",
    "dataset.head(1)"
   ]
  },
  {
   "cell_type": "markdown",
   "id": "9ffd7168",
   "metadata": {},
   "source": [
    "# 🔧 Tool: SQL\n",
    "\n",
    "**Dataset:** car_crashes\n",
    "**난이도:** 하\n",
    "\n",
    "**Q.** `car_crashes` 데이터셋에서 2018년 기준으로 가장 많은 교통사고가 발생한 도시의 이름을 구하세요. 또한, 그 도시에서 발생한 교통사고의 총 수를 구하세요."
   ]
  },
  {
   "cell_type": "code",
   "execution_count": null,
   "id": "5b32ebb0",
   "metadata": {},
   "outputs": [],
   "source": [
    "import seaborn as sns\n",
    "import pandas as pd\n",
    "dataset = sns.load_dataset(\"car_crashes\")\n",
    "dataset.head(1)"
   ]
  },
  {
   "cell_type": "markdown",
   "id": "6236d5a1",
   "metadata": {},
   "source": [
    "# 🔧 Tool: SQL\n",
    "\n",
    "**Dataset:** car_crashes\n",
    "**난이도:** 하\n",
    "\n",
    "**Q.** **Problem 2 (중하, Medium-Low Difficulty)**"
   ]
  },
  {
   "cell_type": "code",
   "execution_count": null,
   "id": "bc5c95db",
   "metadata": {},
   "outputs": [],
   "source": [
    "import seaborn as sns\n",
    "import pandas as pd\n",
    "dataset = sns.load_dataset(\"car_crashes\")\n",
    "dataset.head(1)"
   ]
  },
  {
   "cell_type": "markdown",
   "id": "fb8e5c8f",
   "metadata": {},
   "source": [
    "# 🔧 Tool: SQL\n",
    "\n",
    "**Dataset:** car_crashes\n",
    "**난이도:** 하\n",
    "\n",
    "**Q.** `tips` 데이터셋에서 2019년에 제공된 팁의 평균 값을 구하세요. 또한, 2019년에 가장 많은 팁을 제공한 직원은 누구였나요? (Hint: You may need to join two tables)"
   ]
  },
  {
   "cell_type": "code",
   "execution_count": null,
   "id": "cc774031",
   "metadata": {},
   "outputs": [],
   "source": [
    "import seaborn as sns\n",
    "import pandas as pd\n",
    "dataset = sns.load_dataset(\"car_crashes\")\n",
    "dataset.head(1)"
   ]
  },
  {
   "cell_type": "markdown",
   "id": "84cfdf07",
   "metadata": {},
   "source": [
    "# 🔧 Tool: SQL\n",
    "\n",
    "**Dataset:** car_crashes\n",
    "**난이도:** 하\n",
    "\n",
    "**Q.** Let me know if you'd like me to adjust the difficulty level or provide more problems! 😊"
   ]
  },
  {
   "cell_type": "code",
   "execution_count": null,
   "id": "9f8b8866",
   "metadata": {},
   "outputs": [],
   "source": [
    "import seaborn as sns\n",
    "import pandas as pd\n",
    "dataset = sns.load_dataset(\"car_crashes\")\n",
    "dataset.head(1)"
   ]
  },
  {
   "cell_type": "markdown",
   "id": "8c986105",
   "metadata": {},
   "source": [
    "# 🔧 Tool: SQL\n",
    "\n",
    "**Dataset:** car_crashes\n",
    "**난이도:** 하\n",
    "\n",
    "**Q.** **Problem 1 (하, Low Difficulty)**"
   ]
  },
  {
   "cell_type": "code",
   "execution_count": null,
   "id": "3641702e",
   "metadata": {},
   "outputs": [],
   "source": [
    "import seaborn as sns\n",
    "import pandas as pd\n",
    "dataset = sns.load_dataset(\"car_crashes\")\n",
    "dataset.head(1)"
   ]
  },
  {
   "cell_type": "markdown",
   "id": "0f38c29a",
   "metadata": {},
   "source": [
    "# 🔧 Tool: SQL\n",
    "\n",
    "**Dataset:** car_crashes\n",
    "**난이도:** 하\n",
    "\n",
    "**Q.** `flights` 데이터셋에서 \"Delta\" 항공사의 평균 도착지 지리적 위도를 구하세요."
   ]
  },
  {
   "cell_type": "code",
   "execution_count": null,
   "id": "44c5880a",
   "metadata": {},
   "outputs": [],
   "source": [
    "import seaborn as sns\n",
    "import pandas as pd\n",
    "dataset = sns.load_dataset(\"car_crashes\")\n",
    "dataset.head(1)"
   ]
  },
  {
   "cell_type": "markdown",
   "id": "0d3ed038",
   "metadata": {},
   "source": [
    "# 🔧 Tool: SQL\n",
    "\n",
    "**Dataset:** car_crashes\n",
    "**난이도:** 하\n",
    "\n",
    "**Q.** **Problem 2 (중, Medium Difficulty)**"
   ]
  },
  {
   "cell_type": "code",
   "execution_count": null,
   "id": "dbf816f5",
   "metadata": {},
   "outputs": [],
   "source": [
    "import seaborn as sns\n",
    "import pandas as pd\n",
    "dataset = sns.load_dataset(\"car_crashes\")\n",
    "dataset.head(1)"
   ]
  },
  {
   "cell_type": "markdown",
   "id": "65cc8ed7",
   "metadata": {},
   "source": [
    "# 🔧 Tool: SQL\n",
    "\n",
    "**Dataset:** car_crashes\n",
    "**난이도:** 하\n",
    "\n",
    "**Q.** `car_crashes` 데이터셋에서 2018년에 발생한 교통사고의 경우, 18-24세의 운전자와 25-34세의 운전자의 사고율을 비교하여, 더 높은 사고율을 가진 연령층은 어디였나요? 또한, 2018년에 발생한 교통사고 중 가장 많은 사고가 발생한 날은 언제였나요?"
   ]
  },
  {
   "cell_type": "code",
   "execution_count": null,
   "id": "aa64bedc",
   "metadata": {},
   "outputs": [],
   "source": [
    "import seaborn as sns\n",
    "import pandas as pd\n",
    "dataset = sns.load_dataset(\"car_crashes\")\n",
    "dataset.head(1)"
   ]
  },
  {
   "cell_type": "markdown",
   "id": "6cf5d7b7",
   "metadata": {},
   "source": [
    "# 🔧 Tool: SQL\n",
    "\n",
    "**Dataset:** car_crashes\n",
    "**난이도:** 하\n",
    "\n",
    "**Q.** Let me know if you'd like me to adjust the difficulty level or provide more problems! 😊"
   ]
  },
  {
   "cell_type": "code",
   "execution_count": null,
   "id": "004f27a4",
   "metadata": {},
   "outputs": [],
   "source": [
    "import seaborn as sns\n",
    "import pandas as pd\n",
    "dataset = sns.load_dataset(\"car_crashes\")\n",
    "dataset.head(1)"
   ]
  },
  {
   "cell_type": "markdown",
   "id": "2b2c61b2",
   "metadata": {},
   "source": [
    "# 🔧 Tool: SQL\n",
    "\n",
    "**Dataset:** car_crashes\n",
    "**난이도:** 중하\n",
    "\n",
    "**Q.** **Problem 1 (하, Low Difficulty)**"
   ]
  },
  {
   "cell_type": "code",
   "execution_count": null,
   "id": "703c65ec",
   "metadata": {},
   "outputs": [],
   "source": [
    "import seaborn as sns\n",
    "import pandas as pd\n",
    "dataset = sns.load_dataset(\"car_crashes\")\n",
    "dataset.head(1)"
   ]
  },
  {
   "cell_type": "markdown",
   "id": "98d4785d",
   "metadata": {},
   "source": [
    "# 🔧 Tool: SQL\n",
    "\n",
    "**Dataset:** car_crashes\n",
    "**난이도:** 중하\n",
    "\n",
    "**Q.** `car_crashes` 데이터셋에서 2019년에 발생한 교통사고의 피해자수는 얼마였나요? 또한, 2019년에 발생한 교통사고 중 가장 많은 피해자가 발생한 날은 언제였나요?"
   ]
  },
  {
   "cell_type": "code",
   "execution_count": null,
   "id": "dc2c269b",
   "metadata": {},
   "outputs": [],
   "source": [
    "import seaborn as sns\n",
    "import pandas as pd\n",
    "dataset = sns.load_dataset(\"car_crashes\")\n",
    "dataset.head(1)"
   ]
  },
  {
   "cell_type": "markdown",
   "id": "fe6f5c19",
   "metadata": {},
   "source": [
    "# 🔧 Tool: SQL\n",
    "\n",
    "**Dataset:** car_crashes\n",
    "**난이도:** 중하\n",
    "\n",
    "**Q.** **Problem 2 (중, Medium Difficulty)**"
   ]
  },
  {
   "cell_type": "code",
   "execution_count": null,
   "id": "13a196a3",
   "metadata": {},
   "outputs": [],
   "source": [
    "import seaborn as sns\n",
    "import pandas as pd\n",
    "dataset = sns.load_dataset(\"car_crashes\")\n",
    "dataset.head(1)"
   ]
  },
  {
   "cell_type": "markdown",
   "id": "758717ce",
   "metadata": {},
   "source": [
    "# 🔧 Tool: SQL\n",
    "\n",
    "**Dataset:** car_crashes\n",
    "**난이도:** 중하\n",
    "\n",
    "**Q.** `tips` 데이터셋에서 2020년에 제공된 팁의 평균 금액은 얼마였나요? 또한, 2020년에 제공된 팁 중 가장 큰 팁은 어디에서 제공되었나요?"
   ]
  },
  {
   "cell_type": "code",
   "execution_count": null,
   "id": "581199a5",
   "metadata": {},
   "outputs": [],
   "source": [
    "import seaborn as sns\n",
    "import pandas as pd\n",
    "dataset = sns.load_dataset(\"car_crashes\")\n",
    "dataset.head(1)"
   ]
  },
  {
   "cell_type": "markdown",
   "id": "9ec42c01",
   "metadata": {},
   "source": [
    "# 🔧 Tool: SQL\n",
    "\n",
    "**Dataset:** car_crashes\n",
    "**난이도:** 중하\n",
    "\n",
    "**Q.** Let me know if you'd like me to adjust the difficulty level or provide more problems! 😊"
   ]
  },
  {
   "cell_type": "code",
   "execution_count": null,
   "id": "2b54469b",
   "metadata": {},
   "outputs": [],
   "source": [
    "import seaborn as sns\n",
    "import pandas as pd\n",
    "dataset = sns.load_dataset(\"car_crashes\")\n",
    "dataset.head(1)"
   ]
  },
  {
   "cell_type": "markdown",
   "id": "99e95650",
   "metadata": {},
   "source": [
    "# 🔧 Tool: SQL\n",
    "\n",
    "**Dataset:** tips\n",
    "**난이도:** 중하\n",
    "\n",
    "**Q.** **Problem 1 (하, Low Difficulty)**"
   ]
  },
  {
   "cell_type": "code",
   "execution_count": null,
   "id": "a3390b86",
   "metadata": {},
   "outputs": [],
   "source": [
    "import seaborn as sns\n",
    "import pandas as pd\n",
    "dataset = sns.load_dataset(\"tips\")\n",
    "dataset.head(1)"
   ]
  },
  {
   "cell_type": "markdown",
   "id": "1f3f100c",
   "metadata": {},
   "source": [
    "# 🔧 Tool: SQL\n",
    "\n",
    "**Dataset:** tips\n",
    "**난이도:** 중하\n",
    "\n",
    "**Q.** `flights` 데이터셋에서 2020년에 출발한 항공편의 평균 도착지 도시 이름을 구하세요."
   ]
  },
  {
   "cell_type": "code",
   "execution_count": null,
   "id": "2566e77e",
   "metadata": {},
   "outputs": [],
   "source": [
    "import seaborn as sns\n",
    "import pandas as pd\n",
    "dataset = sns.load_dataset(\"tips\")\n",
    "dataset.head(1)"
   ]
  },
  {
   "cell_type": "markdown",
   "id": "6fb4f622",
   "metadata": {},
   "source": [
    "# 🔧 Tool: SQL\n",
    "\n",
    "**Dataset:** tips\n",
    "**난이도:** 중하\n",
    "\n",
    "**Q.** **Problem 2 (중하, Medium-Low Difficulty)**"
   ]
  },
  {
   "cell_type": "code",
   "execution_count": null,
   "id": "f3b2fd5b",
   "metadata": {},
   "outputs": [],
   "source": [
    "import seaborn as sns\n",
    "import pandas as pd\n",
    "dataset = sns.load_dataset(\"tips\")\n",
    "dataset.head(1)"
   ]
  },
  {
   "cell_type": "markdown",
   "id": "cce7de56",
   "metadata": {},
   "source": [
    "# 🔧 Tool: SQL\n",
    "\n",
    "**Dataset:** tips\n",
    "**난이도:** 중하\n",
    "\n",
    "**Q.** `car_crashes` 데이터셋에서 2019년에 발생한 교통사고의 평균 속도 속도를 구하세요. 또한, 2019년에 발생한 교통사고 중 가장 높은 속도를 기록한 사고는 어디였나요? ( Hint: You may need to use a subquery or join with another table.)"
   ]
  },
  {
   "cell_type": "code",
   "execution_count": null,
   "id": "5982ab08",
   "metadata": {},
   "outputs": [],
   "source": [
    "import seaborn as sns\n",
    "import pandas as pd\n",
    "dataset = sns.load_dataset(\"tips\")\n",
    "dataset.head(1)"
   ]
  },
  {
   "cell_type": "markdown",
   "id": "8778cdf6",
   "metadata": {},
   "source": [
    "# 🔧 Tool: SQL\n",
    "\n",
    "**Dataset:** tips\n",
    "**난이도:** 중하\n",
    "\n",
    "**Q.** Let me know if you'd like me to adjust the difficulty level or provide more problems! 😊"
   ]
  },
  {
   "cell_type": "code",
   "execution_count": null,
   "id": "bcc5b720",
   "metadata": {},
   "outputs": [],
   "source": [
    "import seaborn as sns\n",
    "import pandas as pd\n",
    "dataset = sns.load_dataset(\"tips\")\n",
    "dataset.head(1)"
   ]
  },
  {
   "cell_type": "markdown",
   "id": "881e9d4e",
   "metadata": {},
   "source": [
    "# 🔧 Tool: SQL\n",
    "\n",
    "**Dataset:** flights\n",
    "**난이도:** 중\n",
    "\n",
    "**Q.** **Problem 1 (하, Low Difficulty)**"
   ]
  },
  {
   "cell_type": "code",
   "execution_count": null,
   "id": "4785f488",
   "metadata": {},
   "outputs": [],
   "source": [
    "import seaborn as sns\n",
    "import pandas as pd\n",
    "dataset = sns.load_dataset(\"flights\")\n",
    "dataset.head(1)"
   ]
  },
  {
   "cell_type": "markdown",
   "id": "6726aa2d",
   "metadata": {},
   "source": [
    "# 🔧 Tool: SQL\n",
    "\n",
    "**Dataset:** flights\n",
    "**난이도:** 중\n",
    "\n",
    "**Q.** `car_crashes` 데이터셋에서 2019년에 발생한 교통사고의 총 수를 구하세요."
   ]
  },
  {
   "cell_type": "code",
   "execution_count": null,
   "id": "a65016b1",
   "metadata": {},
   "outputs": [],
   "source": [
    "import seaborn as sns\n",
    "import pandas as pd\n",
    "dataset = sns.load_dataset(\"flights\")\n",
    "dataset.head(1)"
   ]
  },
  {
   "cell_type": "markdown",
   "id": "60afff36",
   "metadata": {},
   "source": [
    "# 🔧 Tool: SQL\n",
    "\n",
    "**Dataset:** flights\n",
    "**난이도:** 중\n",
    "\n",
    "**Q.** **Problem 2 (중, Medium Difficulty)**"
   ]
  },
  {
   "cell_type": "code",
   "execution_count": null,
   "id": "360e6c4f",
   "metadata": {},
   "outputs": [],
   "source": [
    "import seaborn as sns\n",
    "import pandas as pd\n",
    "dataset = sns.load_dataset(\"flights\")\n",
    "dataset.head(1)"
   ]
  },
  {
   "cell_type": "markdown",
   "id": "6f276228",
   "metadata": {},
   "source": [
    "# 🔧 Tool: SQL\n",
    "\n",
    "**Dataset:** flights\n",
    "**난이도:** 중\n",
    "\n",
    "**Q.** `flights` 데이터셋에서 2019년에 출발한 항공편의 평균 도착지 지리적 위도(latitude)를 구하세요. 또한, 2019년에 출발한 항공편 중 가장 많은 승객을 태운 항공편은 어디였나요?"
   ]
  },
  {
   "cell_type": "code",
   "execution_count": null,
   "id": "cf94cbb8",
   "metadata": {},
   "outputs": [],
   "source": [
    "import seaborn as sns\n",
    "import pandas as pd\n",
    "dataset = sns.load_dataset(\"flights\")\n",
    "dataset.head(1)"
   ]
  },
  {
   "cell_type": "markdown",
   "id": "fa35ea6f",
   "metadata": {},
   "source": [
    "# 🔧 Tool: SQL\n",
    "\n",
    "**Dataset:** tips\n",
    "**난이도:** 중\n",
    "\n",
    "**Q.** **Problem 1 (하, Low Difficulty)**"
   ]
  },
  {
   "cell_type": "code",
   "execution_count": null,
   "id": "e7f2f80e",
   "metadata": {},
   "outputs": [],
   "source": [
    "import seaborn as sns\n",
    "import pandas as pd\n",
    "dataset = sns.load_dataset(\"tips\")\n",
    "dataset.head(1)"
   ]
  },
  {
   "cell_type": "markdown",
   "id": "06332a67",
   "metadata": {},
   "source": [
    "# 🔧 Tool: SQL\n",
    "\n",
    "**Dataset:** tips\n",
    "**난이도:** 중\n",
    "\n",
    "**Q.** `flights` 데이터셋에서 2020년에 출발한 항공편 중 가장 많은 도착지 도시를 구하세요."
   ]
  },
  {
   "cell_type": "code",
   "execution_count": null,
   "id": "a1c94502",
   "metadata": {},
   "outputs": [],
   "source": [
    "import seaborn as sns\n",
    "import pandas as pd\n",
    "dataset = sns.load_dataset(\"tips\")\n",
    "dataset.head(1)"
   ]
  },
  {
   "cell_type": "markdown",
   "id": "b223c357",
   "metadata": {},
   "source": [
    "# 🔧 Tool: SQL\n",
    "\n",
    "**Dataset:** tips\n",
    "**난이도:** 중\n",
    "\n",
    "**Q.** **Problem 2 (중하, Medium-Low Difficulty)**"
   ]
  },
  {
   "cell_type": "code",
   "execution_count": null,
   "id": "5482d974",
   "metadata": {},
   "outputs": [],
   "source": [
    "import seaborn as sns\n",
    "import pandas as pd\n",
    "dataset = sns.load_dataset(\"tips\")\n",
    "dataset.head(1)"
   ]
  },
  {
   "cell_type": "markdown",
   "id": "d36b4a8c",
   "metadata": {},
   "source": [
    "# 🔧 Tool: SQL\n",
    "\n",
    "**Dataset:** tips\n",
    "**난이도:** 중\n",
    "\n",
    "**Q.** `car_crashes` 데이터셋에서 2019년에 발생한 교통사고 중, 20대 연령대에 해당하는 주민이 가장 많이 발생한 도로 형태를 구하세요. 또한, 20대 연령대에 해당하는 주민이 가장 많이 발생한 교통사고의 최빈 도시를 구하세요."
   ]
  },
  {
   "cell_type": "code",
   "execution_count": null,
   "id": "f115aafd",
   "metadata": {},
   "outputs": [],
   "source": [
    "import seaborn as sns\n",
    "import pandas as pd\n",
    "dataset = sns.load_dataset(\"tips\")\n",
    "dataset.head(1)"
   ]
  },
  {
   "cell_type": "markdown",
   "id": "ac6298cf",
   "metadata": {},
   "source": [
    "# 🔧 Tool: SQL\n",
    "\n",
    "**Dataset:** tips\n",
    "**난이도:** 중\n",
    "\n",
    "**Q.** Let me know if you'd like me to adjust the difficulty level or provide more problems! 😊"
   ]
  },
  {
   "cell_type": "code",
   "execution_count": null,
   "id": "2ec789be",
   "metadata": {},
   "outputs": [],
   "source": [
    "import seaborn as sns\n",
    "import pandas as pd\n",
    "dataset = sns.load_dataset(\"tips\")\n",
    "dataset.head(1)"
   ]
  }
 ],
 "metadata": {},
 "nbformat": 4,
 "nbformat_minor": 5
}
