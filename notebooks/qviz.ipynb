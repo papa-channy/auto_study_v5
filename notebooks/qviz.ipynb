{
 "cells": [
  {
   "cell_type": "markdown",
   "id": "67da07ac",
   "metadata": {},
   "source": [
    "# 🔧 Tool: viz\n",
    "\n",
    "**Dataset:** 카테고리\n",
    "**난이도:** 하\n",
    "\n",
    "**Q.** 성별을 확인한 후, 각 성별에 해당하는 생존자와 사망자의 수를 카운트하세요."
   ]
  },
  {
   "cell_type": "code",
   "execution_count": null,
   "id": "65fffbce",
   "metadata": {},
   "outputs": [],
   "source": [
    "import seaborn as sns\n",
    "import pandas as pd\n",
    "dataset = sns.load_dataset(\"카테고리\")\n",
    "dataset.head(1)"
   ]
  },
  {
   "cell_type": "markdown",
   "id": "a65a4fe6",
   "metadata": {},
   "source": [
    "# 🔧 Tool: viz\n",
    "\n",
    "**Dataset:** 요약 통계\n",
    "**난이도:** 중상\n",
    "\n",
    "**Q.** Survived와 Pclass에 따라 승객의 수를 구하세요."
   ]
  },
  {
   "cell_type": "code",
   "execution_count": null,
   "id": "c9393432",
   "metadata": {},
   "outputs": [],
   "source": [
    "import seaborn as sns\n",
    "import pandas as pd\n",
    "dataset = sns.load_dataset(\"요약 통계\")\n",
    "dataset.head(1)"
   ]
  },
  {
   "cell_type": "markdown",
   "id": "c43c2ed3",
   "metadata": {},
   "source": [
    "# 🔧 Tool: viz\n",
    "\n",
    "**Dataset:** tips\n",
    "**난이도:** 하\n",
    "\n",
    "**Q.** 결측값이 있는 행을 제거하세요."
   ]
  },
  {
   "cell_type": "code",
   "execution_count": null,
   "id": "0baf9565",
   "metadata": {},
   "outputs": [],
   "source": [
    "import seaborn as sns\n",
    "import pandas as pd\n",
    "dataset = sns.load_dataset(\"tips\")\n",
    "dataset.head(1)"
   ]
  },
  {
   "cell_type": "markdown",
   "id": "09d9916b",
   "metadata": {},
   "source": [
    "# 🔧 Tool: viz\n",
    "\n",
    "**Dataset:** tips\n",
    "**난이도:** 중상\n",
    "\n",
    "**Q.** 성별별 생존율을 구하세요."
   ]
  },
  {
   "cell_type": "code",
   "execution_count": null,
   "id": "a0abb492",
   "metadata": {},
   "outputs": [],
   "source": [
    "import seaborn as sns\n",
    "import pandas as pd\n",
    "dataset = sns.load_dataset(\"tips\")\n",
    "dataset.head(1)"
   ]
  },
  {
   "cell_type": "markdown",
   "id": "1c17d617",
   "metadata": {},
   "source": [
    "# 🔧 Tool: viz\n",
    "\n",
    "**Dataset:** tips\n",
    "**난이도:** 하\n",
    "\n",
    "**Q.** 결측값이 있는 행을 제거하세요."
   ]
  },
  {
   "cell_type": "code",
   "execution_count": null,
   "id": "2a93ec59",
   "metadata": {},
   "outputs": [],
   "source": [
    "import seaborn as sns\n",
    "import pandas as pd\n",
    "dataset = sns.load_dataset(\"tips\")\n",
    "dataset.head(1)"
   ]
  },
  {
   "cell_type": "markdown",
   "id": "c1836b15",
   "metadata": {},
   "source": [
    "# 🔧 Tool: viz\n",
    "\n",
    "**Dataset:** tips\n",
    "**난이도:** 상\n",
    "\n",
    "**Q.** 성별별 평균 팁 금액을 구하세요."
   ]
  },
  {
   "cell_type": "code",
   "execution_count": null,
   "id": "ea1c1a36",
   "metadata": {},
   "outputs": [],
   "source": [
    "import seaborn as sns\n",
    "import pandas as pd\n",
    "dataset = sns.load_dataset(\"tips\")\n",
    "dataset.head(1)"
   ]
  },
  {
   "cell_type": "markdown",
   "id": "98fb02aa",
   "metadata": {},
   "source": [
    "# 🔧 Tool: viz\n",
    "\n",
    "**Dataset:** penguins\n",
    "**난이도:** 하\n",
    "\n",
    "**Q.** 아델리펭귄, 왕펭귄, 갈가리펭귄 등의 스펭스종별 인구 분포를 분석하여, 가장 풍부한 스펭스종을 구하세요."
   ]
  },
  {
   "cell_type": "code",
   "execution_count": null,
   "id": "47c88c59",
   "metadata": {},
   "outputs": [],
   "source": [
    "import seaborn as sns\n",
    "import pandas as pd\n",
    "dataset = sns.load_dataset(\"penguins\")\n",
    "dataset.head(1)"
   ]
  },
  {
   "cell_type": "markdown",
   "id": "5ba4ad5f",
   "metadata": {},
   "source": [
    "# 🔧 Tool: viz\n",
    "\n",
    "**Dataset:** penguins\n",
    "**난이도:** 중상\n",
    "\n",
    "**Q.** 펭귄의 몸무게,翼Span, 비둘기 등 3개의 변수에 대한 상관관계 분석을 수행하여, 가장 강한 상관관계를 보여주는 변수를 구하세요. 추가적으로, 이 변수와 관련된 펭귄의 특징을 설명해주세요."
   ]
  },
  {
   "cell_type": "code",
   "execution_count": null,
   "id": "4443e36a",
   "metadata": {},
   "outputs": [],
   "source": [
    "import seaborn as sns\n",
    "import pandas as pd\n",
    "dataset = sns.load_dataset(\"penguins\")\n",
    "dataset.head(1)"
   ]
  },
  {
   "cell_type": "markdown",
   "id": "20e1d740",
   "metadata": {},
   "source": [
    "# 🔧 Tool: viz\n",
    "\n",
    "**Dataset:** tips\n",
    "**난이도:** 하\n",
    "\n",
    "**Q.** What is the relationship between the total bill and tip percentage in the tips dataset?"
   ]
  },
  {
   "cell_type": "code",
   "execution_count": null,
   "id": "008861ec",
   "metadata": {},
   "outputs": [],
   "source": [
    "import seaborn as sns\n",
    "import pandas as pd\n",
    "dataset = sns.load_dataset(\"tips\")\n",
    "dataset.head(1)"
   ]
  },
  {
   "cell_type": "markdown",
   "id": "8bfa1707",
   "metadata": {},
   "source": [
    "# 🔧 Tool: viz\n",
    "\n",
    "**Dataset:** tips\n",
    "**난이도:** 중하\n",
    "\n",
    "**Q.** What factors contribute to the likelihood of a customer leaving a large tip (≥ 20%) in the tips dataset?"
   ]
  },
  {
   "cell_type": "code",
   "execution_count": null,
   "id": "1a8fad3a",
   "metadata": {},
   "outputs": [],
   "source": [
    "import seaborn as sns\n",
    "import pandas as pd\n",
    "dataset = sns.load_dataset(\"tips\")\n",
    "dataset.head(1)"
   ]
  },
  {
   "cell_type": "markdown",
   "id": "a7dcc369",
   "metadata": {},
   "source": [
    "# 🔧 Tool: viz\n",
    "\n",
    "**Dataset:** \n",
    "**난이도:** `). I also mapped the difficulty level in the correct order (하, 중하, 중상).\n",
    "\n",
    "**Q.** "
   ]
  },
  {
   "cell_type": "code",
   "execution_count": null,
   "id": "a90c5eed",
   "metadata": {},
   "outputs": [],
   "source": [
    "import seaborn as sns\n",
    "import pandas as pd\n",
    "dataset = sns.load_dataset(\"\")\n",
    "dataset.head(1)"
   ]
  },
  {
   "cell_type": "markdown",
   "id": "ec534302",
   "metadata": {},
   "source": [
    "# 🔧 Tool: 시각화\n",
    "\n",
    "**Dataset:** iris\n",
    "**난이도:** 하\n",
    "\n",
    "**Q.** [GROQ ERROR] Error code: 401 - {'error': {'message': 'Invalid API Key', 'type': 'invalid_request_error', 'code': 'invalid_api_key'}}"
   ]
  },
  {
   "cell_type": "code",
   "execution_count": null,
   "id": "8d55f9b1",
   "metadata": {},
   "outputs": [],
   "source": [
    "import seaborn as sns\n",
    "import pandas as pd\n",
    "dataset = sns.load_dataset(\"iris\")\n",
    "dataset.head(1)"
   ]
  },
  {
   "cell_type": "markdown",
   "id": "5106f2dd",
   "metadata": {},
   "source": [
    "# 🔧 Tool: 시각화\n",
    "\n",
    "**Dataset:** mpg\n",
    "**난이도:** 하\n",
    "\n",
    "**Q.** [GROQ ERROR] Error code: 401 - {'error': {'message': 'Invalid API Key', 'type': 'invalid_request_error', 'code': 'invalid_api_key'}}"
   ]
  },
  {
   "cell_type": "code",
   "execution_count": null,
   "id": "9702dde3",
   "metadata": {},
   "outputs": [],
   "source": [
    "import seaborn as sns\n",
    "import pandas as pd\n",
    "dataset = sns.load_dataset(\"mpg\")\n",
    "dataset.head(1)"
   ]
  },
  {
   "cell_type": "markdown",
   "id": "39931d3e",
   "metadata": {},
   "source": [
    "# 🔧 Tool: 시각화\n",
    "\n",
    "**Dataset:** penguins\n",
    "**난이도:** 중하\n",
    "\n",
    "**Q.** [GROQ ERROR] Error code: 401 - {'error': {'message': 'Invalid API Key', 'type': 'invalid_request_error', 'code': 'invalid_api_key'}}"
   ]
  },
  {
   "cell_type": "code",
   "execution_count": null,
   "id": "1eb2fdf2",
   "metadata": {},
   "outputs": [],
   "source": [
    "import seaborn as sns\n",
    "import pandas as pd\n",
    "dataset = sns.load_dataset(\"penguins\")\n",
    "dataset.head(1)"
   ]
  },
  {
   "cell_type": "markdown",
   "id": "87aa3394",
   "metadata": {},
   "source": [
    "# 🔧 Tool: 시각화\n",
    "\n",
    "**Dataset:** iris\n",
    "**난이도:** 중하\n",
    "\n",
    "**Q.** [GROQ ERROR] Error code: 401 - {'error': {'message': 'Invalid API Key', 'type': 'invalid_request_error', 'code': 'invalid_api_key'}}"
   ]
  },
  {
   "cell_type": "code",
   "execution_count": null,
   "id": "6187c6d1",
   "metadata": {},
   "outputs": [],
   "source": [
    "import seaborn as sns\n",
    "import pandas as pd\n",
    "dataset = sns.load_dataset(\"iris\")\n",
    "dataset.head(1)"
   ]
  },
  {
   "cell_type": "markdown",
   "id": "131df8c6",
   "metadata": {},
   "source": [
    "# 🔧 Tool: 시각화\n",
    "\n",
    "**Dataset:** iris\n",
    "**난이도:** 중상\n",
    "\n",
    "**Q.** [GROQ ERROR] Error code: 401 - {'error': {'message': 'Invalid API Key', 'type': 'invalid_request_error', 'code': 'invalid_api_key'}}"
   ]
  },
  {
   "cell_type": "code",
   "execution_count": null,
   "id": "e8394a00",
   "metadata": {},
   "outputs": [],
   "source": [
    "import seaborn as sns\n",
    "import pandas as pd\n",
    "dataset = sns.load_dataset(\"iris\")\n",
    "dataset.head(1)"
   ]
  },
  {
   "cell_type": "markdown",
   "id": "0a689eca",
   "metadata": {},
   "source": [
    "# 🔧 Tool: 시각화\n",
    "\n",
    "**Dataset:** penguins\n",
    "**난이도:** 중상\n",
    "\n",
    "**Q.** [GROQ ERROR] Error code: 401 - {'error': {'message': 'Invalid API Key', 'type': 'invalid_request_error', 'code': 'invalid_api_key'}}"
   ]
  },
  {
   "cell_type": "code",
   "execution_count": null,
   "id": "6ccbadf0",
   "metadata": {},
   "outputs": [],
   "source": [
    "import seaborn as sns\n",
    "import pandas as pd\n",
    "dataset = sns.load_dataset(\"penguins\")\n",
    "dataset.head(1)"
   ]
  },
  {
   "cell_type": "markdown",
   "id": "679808ab",
   "metadata": {},
   "source": [
    "# 🔧 Tool: 시각화\n",
    "\n",
    "**Dataset:** mpg\n",
    "**난이도:** 하\n",
    "\n",
    "**Q.** [GROQ ERROR] Error code: 401 - {'error': {'message': 'Invalid API Key', 'type': 'invalid_request_error', 'code': 'invalid_api_key'}}"
   ]
  },
  {
   "cell_type": "code",
   "execution_count": null,
   "id": "79bb80e7",
   "metadata": {},
   "outputs": [],
   "source": [
    "import seaborn as sns\n",
    "import pandas as pd\n",
    "dataset = sns.load_dataset(\"mpg\")\n",
    "dataset.head(1)"
   ]
  },
  {
   "cell_type": "markdown",
   "id": "9663d180",
   "metadata": {},
   "source": [
    "# 🔧 Tool: 시각화\n",
    "\n",
    "**Dataset:** iris\n",
    "**난이도:** 하\n",
    "\n",
    "**Q.** [GROQ ERROR] Error code: 401 - {'error': {'message': 'Invalid API Key', 'type': 'invalid_request_error', 'code': 'invalid_api_key'}}"
   ]
  },
  {
   "cell_type": "code",
   "execution_count": null,
   "id": "1d72259d",
   "metadata": {},
   "outputs": [],
   "source": [
    "import seaborn as sns\n",
    "import pandas as pd\n",
    "dataset = sns.load_dataset(\"iris\")\n",
    "dataset.head(1)"
   ]
  },
  {
   "cell_type": "markdown",
   "id": "01091be3",
   "metadata": {},
   "source": [
    "# 🔧 Tool: 시각화\n",
    "\n",
    "**Dataset:** tips\n",
    "**난이도:** 중하\n",
    "\n",
    "**Q.** [GROQ ERROR] Error code: 401 - {'error': {'message': 'Invalid API Key', 'type': 'invalid_request_error', 'code': 'invalid_api_key'}}"
   ]
  },
  {
   "cell_type": "code",
   "execution_count": null,
   "id": "e9aacaec",
   "metadata": {},
   "outputs": [],
   "source": [
    "import seaborn as sns\n",
    "import pandas as pd\n",
    "dataset = sns.load_dataset(\"tips\")\n",
    "dataset.head(1)"
   ]
  },
  {
   "cell_type": "markdown",
   "id": "4bed77c1",
   "metadata": {},
   "source": [
    "# 🔧 Tool: 시각화\n",
    "\n",
    "**Dataset:** mpg\n",
    "**난이도:** 중하\n",
    "\n",
    "**Q.** [GROQ ERROR] Error code: 401 - {'error': {'message': 'Invalid API Key', 'type': 'invalid_request_error', 'code': 'invalid_api_key'}}"
   ]
  },
  {
   "cell_type": "code",
   "execution_count": null,
   "id": "c3d92ed2",
   "metadata": {},
   "outputs": [],
   "source": [
    "import seaborn as sns\n",
    "import pandas as pd\n",
    "dataset = sns.load_dataset(\"mpg\")\n",
    "dataset.head(1)"
   ]
  },
  {
   "cell_type": "markdown",
   "id": "36f21302",
   "metadata": {},
   "source": [
    "# 🔧 Tool: 시각화\n",
    "\n",
    "**Dataset:** iris\n",
    "**난이도:** 중상\n",
    "\n",
    "**Q.** [GROQ ERROR] Error code: 401 - {'error': {'message': 'Invalid API Key', 'type': 'invalid_request_error', 'code': 'invalid_api_key'}}"
   ]
  },
  {
   "cell_type": "code",
   "execution_count": null,
   "id": "1f0d9f27",
   "metadata": {},
   "outputs": [],
   "source": [
    "import seaborn as sns\n",
    "import pandas as pd\n",
    "dataset = sns.load_dataset(\"iris\")\n",
    "dataset.head(1)"
   ]
  },
  {
   "cell_type": "markdown",
   "id": "80f7aa7d",
   "metadata": {},
   "source": [
    "# 🔧 Tool: 시각화\n",
    "\n",
    "**Dataset:** mpg\n",
    "**난이도:** 중상\n",
    "\n",
    "**Q.** [GROQ ERROR] Error code: 401 - {'error': {'message': 'Invalid API Key', 'type': 'invalid_request_error', 'code': 'invalid_api_key'}}"
   ]
  },
  {
   "cell_type": "code",
   "execution_count": null,
   "id": "1ad78b6d",
   "metadata": {},
   "outputs": [],
   "source": [
    "import seaborn as sns\n",
    "import pandas as pd\n",
    "dataset = sns.load_dataset(\"mpg\")\n",
    "dataset.head(1)"
   ]
  },
  {
   "cell_type": "markdown",
   "id": "fdf644fa",
   "metadata": {},
   "source": [
    "# 🔧 Tool: 시각화\n",
    "\n",
    "**Dataset:** mpg\n",
    "**난이도:** 하\n",
    "\n",
    "**Q.** [GROQ ERROR] Error code: 401 - {'error': {'message': 'Invalid API Key', 'type': 'invalid_request_error', 'code': 'invalid_api_key'}}"
   ]
  },
  {
   "cell_type": "code",
   "execution_count": null,
   "id": "86c162ed",
   "metadata": {},
   "outputs": [],
   "source": [
    "import seaborn as sns\n",
    "import pandas as pd\n",
    "dataset = sns.load_dataset(\"mpg\")\n",
    "dataset.head(1)"
   ]
  },
  {
   "cell_type": "markdown",
   "id": "892d4d89",
   "metadata": {},
   "source": [
    "# 🔧 Tool: 시각화\n",
    "\n",
    "**Dataset:** tips\n",
    "**난이도:** 하\n",
    "\n",
    "**Q.** [GROQ ERROR] Error code: 401 - {'error': {'message': 'Invalid API Key', 'type': 'invalid_request_error', 'code': 'invalid_api_key'}}"
   ]
  },
  {
   "cell_type": "code",
   "execution_count": null,
   "id": "63ccba53",
   "metadata": {},
   "outputs": [],
   "source": [
    "import seaborn as sns\n",
    "import pandas as pd\n",
    "dataset = sns.load_dataset(\"tips\")\n",
    "dataset.head(1)"
   ]
  },
  {
   "cell_type": "markdown",
   "id": "f9805165",
   "metadata": {},
   "source": [
    "# 🔧 Tool: 시각화\n",
    "\n",
    "**Dataset:** mpg\n",
    "**난이도:** 중하\n",
    "\n",
    "**Q.** [GROQ ERROR] Error code: 401 - {'error': {'message': 'Invalid API Key', 'type': 'invalid_request_error', 'code': 'invalid_api_key'}}"
   ]
  },
  {
   "cell_type": "code",
   "execution_count": null,
   "id": "599e6b89",
   "metadata": {},
   "outputs": [],
   "source": [
    "import seaborn as sns\n",
    "import pandas as pd\n",
    "dataset = sns.load_dataset(\"mpg\")\n",
    "dataset.head(1)"
   ]
  },
  {
   "cell_type": "markdown",
   "id": "4990fa12",
   "metadata": {},
   "source": [
    "# 🔧 Tool: 시각화\n",
    "\n",
    "**Dataset:** tips\n",
    "**난이도:** 중하\n",
    "\n",
    "**Q.** [GROQ ERROR] Error code: 401 - {'error': {'message': 'Invalid API Key', 'type': 'invalid_request_error', 'code': 'invalid_api_key'}}"
   ]
  },
  {
   "cell_type": "code",
   "execution_count": null,
   "id": "1ad54640",
   "metadata": {},
   "outputs": [],
   "source": [
    "import seaborn as sns\n",
    "import pandas as pd\n",
    "dataset = sns.load_dataset(\"tips\")\n",
    "dataset.head(1)"
   ]
  },
  {
   "cell_type": "markdown",
   "id": "d4be5f80",
   "metadata": {},
   "source": [
    "# 🔧 Tool: 시각화\n",
    "\n",
    "**Dataset:** mpg\n",
    "**난이도:** 중상\n",
    "\n",
    "**Q.** [GROQ ERROR] Error code: 401 - {'error': {'message': 'Invalid API Key', 'type': 'invalid_request_error', 'code': 'invalid_api_key'}}"
   ]
  },
  {
   "cell_type": "code",
   "execution_count": null,
   "id": "e3195d4c",
   "metadata": {},
   "outputs": [],
   "source": [
    "import seaborn as sns\n",
    "import pandas as pd\n",
    "dataset = sns.load_dataset(\"mpg\")\n",
    "dataset.head(1)"
   ]
  },
  {
   "cell_type": "markdown",
   "id": "1a7ca976",
   "metadata": {},
   "source": [
    "# 🔧 Tool: 시각화\n",
    "\n",
    "**Dataset:** mpg\n",
    "**난이도:** 중상\n",
    "\n",
    "**Q.** [GROQ ERROR] Error code: 401 - {'error': {'message': 'Invalid API Key', 'type': 'invalid_request_error', 'code': 'invalid_api_key'}}"
   ]
  },
  {
   "cell_type": "code",
   "execution_count": null,
   "id": "9c404c76",
   "metadata": {},
   "outputs": [],
   "source": [
    "import seaborn as sns\n",
    "import pandas as pd\n",
    "dataset = sns.load_dataset(\"mpg\")\n",
    "dataset.head(1)"
   ]
  },
  {
   "cell_type": "markdown",
   "id": "57dabf63",
   "metadata": {},
   "source": [
    "# 🔧 Tool: 시각화\n",
    "\n",
    "**Dataset:** tips\n",
    "**난이도:** 하\n",
    "\n",
    "**Q.** Here are two visualization problems suitable for the given dataset and difficulty range:"
   ]
  },
  {
   "cell_type": "code",
   "execution_count": null,
   "id": "b42e8a5a",
   "metadata": {},
   "outputs": [],
   "source": [
    "import seaborn as sns\n",
    "import pandas as pd\n",
    "dataset = sns.load_dataset(\"tips\")\n",
    "dataset.head(1)"
   ]
  },
  {
   "cell_type": "markdown",
   "id": "82b303ab",
   "metadata": {},
   "source": [
    "# 🔧 Tool: 시각화\n",
    "\n",
    "**Dataset:** tips\n",
    "**난이도:** 하\n",
    "\n",
    "**Q.** **Problem 1:**"
   ]
  },
  {
   "cell_type": "code",
   "execution_count": null,
   "id": "15813a8d",
   "metadata": {},
   "outputs": [],
   "source": [
    "import seaborn as sns\n",
    "import pandas as pd\n",
    "dataset = sns.load_dataset(\"tips\")\n",
    "dataset.head(1)"
   ]
  },
  {
   "cell_type": "markdown",
   "id": "fc9480af",
   "metadata": {},
   "source": [
    "# 🔧 Tool: 시각화\n",
    "\n",
    "**Dataset:** tips\n",
    "**난이도:** 하\n",
    "\n",
    "**Q.** 하단의 문제를 해결하여, \"연령대별 자동차 사고 수\"를 시각화하세요."
   ]
  },
  {
   "cell_type": "code",
   "execution_count": null,
   "id": "1bd03538",
   "metadata": {},
   "outputs": [],
   "source": [
    "import seaborn as sns\n",
    "import pandas as pd\n",
    "dataset = sns.load_dataset(\"tips\")\n",
    "dataset.head(1)"
   ]
  },
  {
   "cell_type": "markdown",
   "id": "43884cc1",
   "metadata": {},
   "source": [
    "# 🔧 Tool: 시각화\n",
    "\n",
    "**Dataset:** tips\n",
    "**난이도:** 하\n",
    "\n",
    "**Q.** (The problem is to visualize the \"number of car crashes by age group.\")"
   ]
  },
  {
   "cell_type": "code",
   "execution_count": null,
   "id": "3566855e",
   "metadata": {},
   "outputs": [],
   "source": [
    "import seaborn as sns\n",
    "import pandas as pd\n",
    "dataset = sns.load_dataset(\"tips\")\n",
    "dataset.head(1)"
   ]
  },
  {
   "cell_type": "markdown",
   "id": "70adc944",
   "metadata": {},
   "source": [
    "# 🔧 Tool: 시각화\n",
    "\n",
    "**Dataset:** tips\n",
    "**난이도:** 하\n",
    "\n",
    "**Q.** **Problem 2:**"
   ]
  },
  {
   "cell_type": "code",
   "execution_count": null,
   "id": "4ecbf3d1",
   "metadata": {},
   "outputs": [],
   "source": [
    "import seaborn as sns\n",
    "import pandas as pd\n",
    "dataset = sns.load_dataset(\"tips\")\n",
    "dataset.head(1)"
   ]
  },
  {
   "cell_type": "markdown",
   "id": "9de4cf5c",
   "metadata": {},
   "source": [
    "# 🔧 Tool: 시각화\n",
    "\n",
    "**Dataset:** tips\n",
    "**난이도:** 하\n",
    "\n",
    "**Q.** 고유의 특징을 고려하여, \"펭귄의 길이와 몸무게 간의 상관관계\"를 시각화하세요."
   ]
  },
  {
   "cell_type": "code",
   "execution_count": null,
   "id": "827d08ed",
   "metadata": {},
   "outputs": [],
   "source": [
    "import seaborn as sns\n",
    "import pandas as pd\n",
    "dataset = sns.load_dataset(\"tips\")\n",
    "dataset.head(1)"
   ]
  },
  {
   "cell_type": "markdown",
   "id": "97f1522a",
   "metadata": {},
   "source": [
    "# 🔧 Tool: 시각화\n",
    "\n",
    "**Dataset:** tips\n",
    "**난이도:** 하\n",
    "\n",
    "**Q.** (The problem is to visualize the \"correlation between penguin length and weight, considering their unique characteristics.\")"
   ]
  },
  {
   "cell_type": "code",
   "execution_count": null,
   "id": "b6ee6bc2",
   "metadata": {},
   "outputs": [],
   "source": [
    "import seaborn as sns\n",
    "import pandas as pd\n",
    "dataset = sns.load_dataset(\"tips\")\n",
    "dataset.head(1)"
   ]
  },
  {
   "cell_type": "markdown",
   "id": "667753ff",
   "metadata": {},
   "source": [
    "# 🔧 Tool: 시각화\n",
    "\n",
    "**Dataset:** tips\n",
    "**난이도:** 하\n",
    "\n",
    "**Q.** These problems aim to challenge the user to create visualizations that reveal insights from the given datasets, while keeping the difficulty level moderate to challenging."
   ]
  },
  {
   "cell_type": "code",
   "execution_count": null,
   "id": "8e53f1df",
   "metadata": {},
   "outputs": [],
   "source": [
    "import seaborn as sns\n",
    "import pandas as pd\n",
    "dataset = sns.load_dataset(\"tips\")\n",
    "dataset.head(1)"
   ]
  },
  {
   "cell_type": "markdown",
   "id": "a2bd7fb9",
   "metadata": {},
   "source": [
    "# 🔧 Tool: 시각화\n",
    "\n",
    "**Dataset:** car_crashes\n",
    "**난이도:** 하\n",
    "\n",
    "**Q.** Here are two visualization problems suitable for the given dataset and difficulty range:"
   ]
  },
  {
   "cell_type": "code",
   "execution_count": null,
   "id": "8db90030",
   "metadata": {},
   "outputs": [],
   "source": [
    "import seaborn as sns\n",
    "import pandas as pd\n",
    "dataset = sns.load_dataset(\"car_crashes\")\n",
    "dataset.head(1)"
   ]
  },
  {
   "cell_type": "markdown",
   "id": "ec0c16c9",
   "metadata": {},
   "source": [
    "# 🔧 Tool: 시각화\n",
    "\n",
    "**Dataset:** car_crashes\n",
    "**난이도:** 하\n",
    "\n",
    "**Q.** **Problem 1:** (하, low difficulty)"
   ]
  },
  {
   "cell_type": "code",
   "execution_count": null,
   "id": "b64be512",
   "metadata": {},
   "outputs": [],
   "source": [
    "import seaborn as sns\n",
    "import pandas as pd\n",
    "dataset = sns.load_dataset(\"car_crashes\")\n",
    "dataset.head(1)"
   ]
  },
  {
   "cell_type": "markdown",
   "id": "2c072aae",
   "metadata": {},
   "source": [
    "# 🔧 Tool: 시각화\n",
    "\n",
    "**Dataset:** car_crashes\n",
    "**난이도:** 하\n",
    "\n",
    "**Q.** 🚗 자동차 사고의 지역별 분포를 지도 위에 시각화하세요. (Visualize the distribution of car crashes by region on a map)"
   ]
  },
  {
   "cell_type": "code",
   "execution_count": null,
   "id": "8371e082",
   "metadata": {},
   "outputs": [],
   "source": [
    "import seaborn as sns\n",
    "import pandas as pd\n",
    "dataset = sns.load_dataset(\"car_crashes\")\n",
    "dataset.head(1)"
   ]
  },
  {
   "cell_type": "markdown",
   "id": "a09978b4",
   "metadata": {},
   "source": [
    "# 🔧 Tool: 시각화\n",
    "\n",
    "**Dataset:** car_crashes\n",
    "**난이도:** 하\n",
    "\n",
    "**Q.** This problem is suitable for the car_crashes dataset and is relatively easy to visualize using a map."
   ]
  },
  {
   "cell_type": "code",
   "execution_count": null,
   "id": "fa8120f4",
   "metadata": {},
   "outputs": [],
   "source": [
    "import seaborn as sns\n",
    "import pandas as pd\n",
    "dataset = sns.load_dataset(\"car_crashes\")\n",
    "dataset.head(1)"
   ]
  },
  {
   "cell_type": "markdown",
   "id": "e5a6ed30",
   "metadata": {},
   "source": [
    "# 🔧 Tool: 시각화\n",
    "\n",
    "**Dataset:** car_crashes\n",
    "**난이도:** 하\n",
    "\n",
    "**Q.** **Problem 2:** (중상, medium-high difficulty)"
   ]
  },
  {
   "cell_type": "code",
   "execution_count": null,
   "id": "d5a3bbbd",
   "metadata": {},
   "outputs": [],
   "source": [
    "import seaborn as sns\n",
    "import pandas as pd\n",
    "dataset = sns.load_dataset(\"car_crashes\")\n",
    "dataset.head(1)"
   ]
  },
  {
   "cell_type": "markdown",
   "id": "e6563bc8",
   "metadata": {},
   "source": [
    "# 🔧 Tool: 시각화\n",
    "\n",
    "**Dataset:** car_crashes\n",
    "**난이도:** 하\n",
    "\n",
    "**Q.** 🐧 เพนギュ의 성별과 종의 분포를 함께 시각화하세요. 또한, 각 종의 평균 몸무게와 날갯짓 속도 간의 관계를 추가적으로 시각화하세요. (Visualize the distribution of penguin species and sex, and also the relationship between average body weight and flight speed)"
   ]
  },
  {
   "cell_type": "code",
   "execution_count": null,
   "id": "2882cd0f",
   "metadata": {},
   "outputs": [],
   "source": [
    "import seaborn as sns\n",
    "import pandas as pd\n",
    "dataset = sns.load_dataset(\"car_crashes\")\n",
    "dataset.head(1)"
   ]
  },
  {
   "cell_type": "markdown",
   "id": "ce8a51ac",
   "metadata": {},
   "source": [
    "# 🔧 Tool: 시각화\n",
    "\n",
    "**Dataset:** car_crashes\n",
    "**난이도:** 하\n",
    "\n",
    "**Q.** This problem is suitable for the penguins dataset and requires more complex visualization, such as combining categorical and numerical variables, and creating a scatter plot to show the relationship between two numerical variables."
   ]
  },
  {
   "cell_type": "code",
   "execution_count": null,
   "id": "8db6c45e",
   "metadata": {},
   "outputs": [],
   "source": [
    "import seaborn as sns\n",
    "import pandas as pd\n",
    "dataset = sns.load_dataset(\"car_crashes\")\n",
    "dataset.head(1)"
   ]
  },
  {
   "cell_type": "markdown",
   "id": "7a222213",
   "metadata": {},
   "source": [
    "# 🔧 Tool: 시각화\n",
    "\n",
    "**Dataset:** car_crashes\n",
    "**난이도:** 중하\n",
    "\n",
    "**Q.** Here are two visualization problems that fit the condition:"
   ]
  },
  {
   "cell_type": "code",
   "execution_count": null,
   "id": "38b4c43f",
   "metadata": {},
   "outputs": [],
   "source": [
    "import seaborn as sns\n",
    "import pandas as pd\n",
    "dataset = sns.load_dataset(\"car_crashes\")\n",
    "dataset.head(1)"
   ]
  },
  {
   "cell_type": "markdown",
   "id": "a5fa767c",
   "metadata": {},
   "source": [
    "# 🔧 Tool: 시각화\n",
    "\n",
    "**Dataset:** car_crashes\n",
    "**난이도:** 중하\n",
    "\n",
    "**Q.** **Problem 1:**"
   ]
  },
  {
   "cell_type": "code",
   "execution_count": null,
   "id": "59aac760",
   "metadata": {},
   "outputs": [],
   "source": [
    "import seaborn as sns\n",
    "import pandas as pd\n",
    "dataset = sns.load_dataset(\"car_crashes\")\n",
    "dataset.head(1)"
   ]
  },
  {
   "cell_type": "markdown",
   "id": "3ab5cdfc",
   "metadata": {},
   "source": [
    "# 🔧 Tool: 시각화\n",
    "\n",
    "**Dataset:** car_crashes\n",
    "**난이도:** 중하\n",
    "\n",
    "**Q.** 🚗 \"사고 수와 날씨 간의 관계를 시각화하세요.\" (Visualize the relationship between the number of car crashes and weather)"
   ]
  },
  {
   "cell_type": "code",
   "execution_count": null,
   "id": "9fc8217e",
   "metadata": {},
   "outputs": [],
   "source": [
    "import seaborn as sns\n",
    "import pandas as pd\n",
    "dataset = sns.load_dataset(\"car_crashes\")\n",
    "dataset.head(1)"
   ]
  },
  {
   "cell_type": "markdown",
   "id": "70d224e2",
   "metadata": {},
   "source": [
    "# 🔧 Tool: 시각화\n",
    "\n",
    "**Dataset:** car_crashes\n",
    "**난이도:** 중하\n",
    "\n",
    "**Q.** This problem is suitable for a beginner to intermediate level, as it requires basic visualization skills to create a scatter plot or bar chart to show the correlation between the two variables. The dataset \"car_crashes\" provides a good opportunity to explore this relationship."
   ]
  },
  {
   "cell_type": "code",
   "execution_count": null,
   "id": "63756905",
   "metadata": {},
   "outputs": [],
   "source": [
    "import seaborn as sns\n",
    "import pandas as pd\n",
    "dataset = sns.load_dataset(\"car_crashes\")\n",
    "dataset.head(1)"
   ]
  },
  {
   "cell_type": "markdown",
   "id": "ff0e2ec0",
   "metadata": {},
   "source": [
    "# 🔧 Tool: 시각화\n",
    "\n",
    "**Dataset:** car_crashes\n",
    "**난이도:** 중하\n",
    "\n",
    "**Q.** **Problem 2:**"
   ]
  },
  {
   "cell_type": "code",
   "execution_count": null,
   "id": "8547acf0",
   "metadata": {},
   "outputs": [],
   "source": [
    "import seaborn as sns\n",
    "import pandas as pd\n",
    "dataset = sns.load_dataset(\"car_crashes\")\n",
    "dataset.head(1)"
   ]
  },
  {
   "cell_type": "markdown",
   "id": "496c72f7",
   "metadata": {},
   "source": [
    "# 🔧 Tool: 시각화\n",
    "\n",
    "**Dataset:** car_crashes\n",
    "**난이도:** 중하\n",
    "\n",
    "**Q.** 🐧 \"펭귄의 알의 크기와 생존률 간의 관계를 시각화하세요.\" (Visualize the relationship between the size of penguin eggs and their survival rate)"
   ]
  },
  {
   "cell_type": "code",
   "execution_count": null,
   "id": "9b511917",
   "metadata": {},
   "outputs": [],
   "source": [
    "import seaborn as sns\n",
    "import pandas as pd\n",
    "dataset = sns.load_dataset(\"car_crashes\")\n",
    "dataset.head(1)"
   ]
  },
  {
   "cell_type": "markdown",
   "id": "2a70691f",
   "metadata": {},
   "source": [
    "# 🔧 Tool: 시각화\n",
    "\n",
    "**Dataset:** car_crashes\n",
    "**난이도:** 중하\n",
    "\n",
    "**Q.** This problem is suitable for an intermediate to advanced level, as it requires more advanced visualization skills to create a scatter plot or heatmap to show the correlation between the two variables. The dataset \"penguins\" provides a good opportunity to explore this relationship, which can be useful for understanding the factors that affect penguin survival."
   ]
  },
  {
   "cell_type": "code",
   "execution_count": null,
   "id": "a2999bd8",
   "metadata": {},
   "outputs": [],
   "source": [
    "import seaborn as sns\n",
    "import pandas as pd\n",
    "dataset = sns.load_dataset(\"car_crashes\")\n",
    "dataset.head(1)"
   ]
  },
  {
   "cell_type": "markdown",
   "id": "b626903c",
   "metadata": {},
   "source": [
    "# 🔧 Tool: 시각화\n",
    "\n",
    "**Dataset:** car_crashes\n",
    "**난이도:** 중하\n",
    "\n",
    "**Q.** Both problems are written in Korean and are designed to be realistic and relevant to real-world scenarios."
   ]
  },
  {
   "cell_type": "code",
   "execution_count": null,
   "id": "c9c4a542",
   "metadata": {},
   "outputs": [],
   "source": [
    "import seaborn as sns\n",
    "import pandas as pd\n",
    "dataset = sns.load_dataset(\"car_crashes\")\n",
    "dataset.head(1)"
   ]
  },
  {
   "cell_type": "markdown",
   "id": "11e3695a",
   "metadata": {},
   "source": [
    "# 🔧 Tool: 시각화\n",
    "\n",
    "**Dataset:** penguins\n",
    "**난이도:** 중하\n",
    "\n",
    "**Q.** Here are two visualization problems suitable for a beginner to intermediate level, using the provided datasets:"
   ]
  },
  {
   "cell_type": "code",
   "execution_count": null,
   "id": "f43063f0",
   "metadata": {},
   "outputs": [],
   "source": [
    "import seaborn as sns\n",
    "import pandas as pd\n",
    "dataset = sns.load_dataset(\"penguins\")\n",
    "dataset.head(1)"
   ]
  },
  {
   "cell_type": "markdown",
   "id": "d1c117f4",
   "metadata": {},
   "source": [
    "# 🔧 Tool: 시각화\n",
    "\n",
    "**Dataset:** penguins\n",
    "**난이도:** 중하\n",
    "\n",
    "**Q.** **Problem 1:**"
   ]
  },
  {
   "cell_type": "code",
   "execution_count": null,
   "id": "cb7c7ccf",
   "metadata": {},
   "outputs": [],
   "source": [
    "import seaborn as sns\n",
    "import pandas as pd\n",
    "dataset = sns.load_dataset(\"penguins\")\n",
    "dataset.head(1)"
   ]
  },
  {
   "cell_type": "markdown",
   "id": "1f2f70fa",
   "metadata": {},
   "source": [
    "# 🔧 Tool: 시각화\n",
    "\n",
    "**Dataset:** penguins\n",
    "**난이도:** 중하\n",
    "\n",
    "**Q.** 🚗 \"요일별 자동차 사고 수를 시각화하세요.\""
   ]
  },
  {
   "cell_type": "code",
   "execution_count": null,
   "id": "5035c99c",
   "metadata": {},
   "outputs": [],
   "source": [
    "import seaborn as sns\n",
    "import pandas as pd\n",
    "dataset = sns.load_dataset(\"penguins\")\n",
    "dataset.head(1)"
   ]
  },
  {
   "cell_type": "markdown",
   "id": "5d973193",
   "metadata": {},
   "source": [
    "# 🔧 Tool: 시각화\n",
    "\n",
    "**Dataset:** penguins\n",
    "**난이도:** 중하\n",
    "\n",
    "**Q.** Using the car_crashes dataset, visualize the average number of car crashes per day of the week. How does the frequency of car crashes vary across different days of the week?"
   ]
  },
  {
   "cell_type": "code",
   "execution_count": null,
   "id": "2c9e2ca3",
   "metadata": {},
   "outputs": [],
   "source": [
    "import seaborn as sns\n",
    "import pandas as pd\n",
    "dataset = sns.load_dataset(\"penguins\")\n",
    "dataset.head(1)"
   ]
  },
  {
   "cell_type": "markdown",
   "id": "512ffb42",
   "metadata": {},
   "source": [
    "# 🔧 Tool: 시각화\n",
    "\n",
    "**Dataset:** penguins\n",
    "**난이도:** 중하\n",
    "\n",
    "**Q.** **Problem 2:**"
   ]
  },
  {
   "cell_type": "code",
   "execution_count": null,
   "id": "a26b981f",
   "metadata": {},
   "outputs": [],
   "source": [
    "import seaborn as sns\n",
    "import pandas as pd\n",
    "dataset = sns.load_dataset(\"penguins\")\n",
    "dataset.head(1)"
   ]
  },
  {
   "cell_type": "markdown",
   "id": "b0d735d7",
   "metadata": {},
   "source": [
    "# 🔧 Tool: 시각화\n",
    "\n",
    "**Dataset:** penguins\n",
    "**난이도:** 중하\n",
    "\n",
    "**Q.** 🐧 \"펭귄의 성별에 따른 몸무게 분포를 시각화하세요.\""
   ]
  },
  {
   "cell_type": "code",
   "execution_count": null,
   "id": "86ccbd3e",
   "metadata": {},
   "outputs": [],
   "source": [
    "import seaborn as sns\n",
    "import pandas as pd\n",
    "dataset = sns.load_dataset(\"penguins\")\n",
    "dataset.head(1)"
   ]
  },
  {
   "cell_type": "markdown",
   "id": "2aa44323",
   "metadata": {},
   "source": [
    "# 🔧 Tool: 시각화\n",
    "\n",
    "**Dataset:** penguins\n",
    "**난이도:** 중하\n",
    "\n",
    "**Q.** Using the penguins dataset, create a histogram to show the distribution of body weights for male and female penguins. Are there any noticeable differences in body weight between the two genders?"
   ]
  },
  {
   "cell_type": "code",
   "execution_count": null,
   "id": "933880c4",
   "metadata": {},
   "outputs": [],
   "source": [
    "import seaborn as sns\n",
    "import pandas as pd\n",
    "dataset = sns.load_dataset(\"penguins\")\n",
    "dataset.head(1)"
   ]
  },
  {
   "cell_type": "markdown",
   "id": "7ee83a4d",
   "metadata": {},
   "source": [
    "# 🔧 Tool: 시각화\n",
    "\n",
    "**Dataset:** penguins\n",
    "**난이도:** 중하\n",
    "\n",
    "**Q.** These problems are designed to be accessible to those with basic knowledge of visualization and data analysis, while still providing a fun and challenging task to practice their skills."
   ]
  },
  {
   "cell_type": "code",
   "execution_count": null,
   "id": "ec8a1daf",
   "metadata": {},
   "outputs": [],
   "source": [
    "import seaborn as sns\n",
    "import pandas as pd\n",
    "dataset = sns.load_dataset(\"penguins\")\n",
    "dataset.head(1)"
   ]
  },
  {
   "cell_type": "markdown",
   "id": "442eedb4",
   "metadata": {},
   "source": [
    "# 🔧 Tool: 시각화\n",
    "\n",
    "**Dataset:** penguins\n",
    "**난이도:** 중상\n",
    "\n",
    "**Q.** Here are two new problems that fit the conditions:"
   ]
  },
  {
   "cell_type": "code",
   "execution_count": null,
   "id": "9c6855e1",
   "metadata": {},
   "outputs": [],
   "source": [
    "import seaborn as sns\n",
    "import pandas as pd\n",
    "dataset = sns.load_dataset(\"penguins\")\n",
    "dataset.head(1)"
   ]
  },
  {
   "cell_type": "markdown",
   "id": "d48d71be",
   "metadata": {},
   "source": [
    "# 🔧 Tool: 시각화\n",
    "\n",
    "**Dataset:** penguins\n",
    "**난이도:** 중상\n",
    "\n",
    "**Q.** **Problem 1 (하, low difficulty)**"
   ]
  },
  {
   "cell_type": "code",
   "execution_count": null,
   "id": "0b6dadb7",
   "metadata": {},
   "outputs": [],
   "source": [
    "import seaborn as sns\n",
    "import pandas as pd\n",
    "dataset = sns.load_dataset(\"penguins\")\n",
    "dataset.head(1)"
   ]
  },
  {
   "cell_type": "markdown",
   "id": "9d3dc421",
   "metadata": {},
   "source": [
    "# 🔧 Tool: 시각화\n",
    "\n",
    "**Dataset:** penguins\n",
    "**난이도:** 중상\n",
    "\n",
    "**Q.** 🚗 자동차 사고의 지역별 분포를 지도에 표시하세요. 데이터셋: car_crashes"
   ]
  },
  {
   "cell_type": "code",
   "execution_count": null,
   "id": "aecf20a5",
   "metadata": {},
   "outputs": [],
   "source": [
    "import seaborn as sns\n",
    "import pandas as pd\n",
    "dataset = sns.load_dataset(\"penguins\")\n",
    "dataset.head(1)"
   ]
  },
  {
   "cell_type": "markdown",
   "id": "3e035d4a",
   "metadata": {},
   "source": [
    "# 🔧 Tool: 시각화\n",
    "\n",
    "**Dataset:** penguins\n",
    "**난이도:** 중상\n",
    "\n",
    "**Q.** **Problem 2 (중상, intermediate difficulty)**"
   ]
  },
  {
   "cell_type": "code",
   "execution_count": null,
   "id": "2cb708e4",
   "metadata": {},
   "outputs": [],
   "source": [
    "import seaborn as sns\n",
    "import pandas as pd\n",
    "dataset = sns.load_dataset(\"penguins\")\n",
    "dataset.head(1)"
   ]
  },
  {
   "cell_type": "markdown",
   "id": "7dc83249",
   "metadata": {},
   "source": [
    "# 🔧 Tool: 시각화\n",
    "\n",
    "**Dataset:** penguins\n",
    "**난이도:** 중상\n",
    "\n",
    "**Q.** 🐧 펭귄의 성별과 두개골 길이 간의 관계를 상관관계 그래프로 시각화하세요. 데이터셋: penguins"
   ]
  },
  {
   "cell_type": "code",
   "execution_count": null,
   "id": "ec87918f",
   "metadata": {},
   "outputs": [],
   "source": [
    "import seaborn as sns\n",
    "import pandas as pd\n",
    "dataset = sns.load_dataset(\"penguins\")\n",
    "dataset.head(1)"
   ]
  },
  {
   "cell_type": "markdown",
   "id": "b3e2b529",
   "metadata": {},
   "source": [
    "# 🔧 Tool: 시각화\n",
    "\n",
    "**Dataset:** penguins\n",
    "**난이도:** 중상\n",
    "\n",
    "**Q.** These problems are designed to be practical and relevant to real-world scenarios, and are suitable for visualizing data in a way that is easy to understand. Let me know if you'd like me to adjust the difficulty level or create more problems! 😊"
   ]
  },
  {
   "cell_type": "code",
   "execution_count": null,
   "id": "7ec89bda",
   "metadata": {},
   "outputs": [],
   "source": [
    "import seaborn as sns\n",
    "import pandas as pd\n",
    "dataset = sns.load_dataset(\"penguins\")\n",
    "dataset.head(1)"
   ]
  },
  {
   "cell_type": "markdown",
   "id": "64ccb3d2",
   "metadata": {},
   "source": [
    "# 🔧 Tool: 시각화\n",
    "\n",
    "**Dataset:** car_crashes\n",
    "**난이도:** 중상\n",
    "\n",
    "**Q.** Here are two visualization problems suitable for the given dataset and difficulty range:"
   ]
  },
  {
   "cell_type": "code",
   "execution_count": null,
   "id": "287099c3",
   "metadata": {},
   "outputs": [],
   "source": [
    "import seaborn as sns\n",
    "import pandas as pd\n",
    "dataset = sns.load_dataset(\"car_crashes\")\n",
    "dataset.head(1)"
   ]
  },
  {
   "cell_type": "markdown",
   "id": "6204c3de",
   "metadata": {},
   "source": [
    "# 🔧 Tool: 시각화\n",
    "\n",
    "**Dataset:** car_crashes\n",
    "**난이도:** 중상\n",
    "\n",
    "**Q.** **Problem 1:**"
   ]
  },
  {
   "cell_type": "code",
   "execution_count": null,
   "id": "1177d263",
   "metadata": {},
   "outputs": [],
   "source": [
    "import seaborn as sns\n",
    "import pandas as pd\n",
    "dataset = sns.load_dataset(\"car_crashes\")\n",
    "dataset.head(1)"
   ]
  },
  {
   "cell_type": "markdown",
   "id": "99095f2f",
   "metadata": {},
   "source": [
    "# 🔧 Tool: 시각화\n",
    "\n",
    "**Dataset:** car_crashes\n",
    "**난이도:** 중상\n",
    "\n",
    "**Q.** 하-난이도"
   ]
  },
  {
   "cell_type": "code",
   "execution_count": null,
   "id": "5ef44da6",
   "metadata": {},
   "outputs": [],
   "source": [
    "import seaborn as sns\n",
    "import pandas as pd\n",
    "dataset = sns.load_dataset(\"car_crashes\")\n",
    "dataset.head(1)"
   ]
  },
  {
   "cell_type": "markdown",
   "id": "8345fbf6",
   "metadata": {},
   "source": [
    "# 🔧 Tool: 시각화\n",
    "\n",
    "**Dataset:** car_crashes\n",
    "**난이도:** 중상\n",
    "\n",
    "**Q.** 🚗 어떤 자동차 브랜드가 가장 많은 사고를 일으키는지 시각화하세요."
   ]
  },
  {
   "cell_type": "code",
   "execution_count": null,
   "id": "239157e2",
   "metadata": {},
   "outputs": [],
   "source": [
    "import seaborn as sns\n",
    "import pandas as pd\n",
    "dataset = sns.load_dataset(\"car_crashes\")\n",
    "dataset.head(1)"
   ]
  },
  {
   "cell_type": "markdown",
   "id": "337c5343",
   "metadata": {},
   "source": [
    "# 🔧 Tool: 시각화\n",
    "\n",
    "**Dataset:** car_crashes\n",
    "**난이도:** 중상\n",
    "\n",
    "**Q.** (This problem is suitable for the \"car_crashes\" dataset and is relatively easy to solve. It requires creating a bar chart or pie chart to show the top car brands with the most accidents.)"
   ]
  },
  {
   "cell_type": "code",
   "execution_count": null,
   "id": "2e2ad2c5",
   "metadata": {},
   "outputs": [],
   "source": [
    "import seaborn as sns\n",
    "import pandas as pd\n",
    "dataset = sns.load_dataset(\"car_crashes\")\n",
    "dataset.head(1)"
   ]
  },
  {
   "cell_type": "markdown",
   "id": "bb287b08",
   "metadata": {},
   "source": [
    "# 🔧 Tool: 시각화\n",
    "\n",
    "**Dataset:** car_crashes\n",
    "**난이도:** 중상\n",
    "\n",
    "**Q.** **Problem 2:**"
   ]
  },
  {
   "cell_type": "code",
   "execution_count": null,
   "id": "bef2d389",
   "metadata": {},
   "outputs": [],
   "source": [
    "import seaborn as sns\n",
    "import pandas as pd\n",
    "dataset = sns.load_dataset(\"car_crashes\")\n",
    "dataset.head(1)"
   ]
  },
  {
   "cell_type": "markdown",
   "id": "997f504a",
   "metadata": {},
   "source": [
    "# 🔧 Tool: 시각화\n",
    "\n",
    "**Dataset:** car_crashes\n",
    "**난이도:** 중상\n",
    "\n",
    "**Q.** 중상-난이도"
   ]
  },
  {
   "cell_type": "code",
   "execution_count": null,
   "id": "e9e83c7d",
   "metadata": {},
   "outputs": [],
   "source": [
    "import seaborn as sns\n",
    "import pandas as pd\n",
    "dataset = sns.load_dataset(\"car_crashes\")\n",
    "dataset.head(1)"
   ]
  },
  {
   "cell_type": "markdown",
   "id": "fb0e9875",
   "metadata": {},
   "source": [
    "# 🔧 Tool: 시각화\n",
    "\n",
    "**Dataset:** car_crashes\n",
    "**난이도:** 중상\n",
    "\n",
    "**Q.** 🐧 회색펭귄의 분포를 지도에서 시각화하세요. 또한, 회색펭귄의 수와 해안선 길이 간의 관계를 조사하여 시각화하세요."
   ]
  },
  {
   "cell_type": "code",
   "execution_count": null,
   "id": "a175c03e",
   "metadata": {},
   "outputs": [],
   "source": [
    "import seaborn as sns\n",
    "import pandas as pd\n",
    "dataset = sns.load_dataset(\"car_crashes\")\n",
    "dataset.head(1)"
   ]
  },
  {
   "cell_type": "markdown",
   "id": "b2ca947f",
   "metadata": {},
   "source": [
    "# 🔧 Tool: 시각화\n",
    "\n",
    "**Dataset:** car_crashes\n",
    "**난이도:** 중상\n",
    "\n",
    "**Q.** (This problem is suitable for the \"penguins\" dataset and requires a higher level of difficulty. It involves creating a map visualization to show the distribution of Adélie penguins and then exploring the relationship between the number of penguins and the coastline length, which can be visualized using a scatter plot or regression line.)"
   ]
  },
  {
   "cell_type": "code",
   "execution_count": null,
   "id": "c46ca06c",
   "metadata": {},
   "outputs": [],
   "source": [
    "import seaborn as sns\n",
    "import pandas as pd\n",
    "dataset = sns.load_dataset(\"car_crashes\")\n",
    "dataset.head(1)"
   ]
  },
  {
   "cell_type": "markdown",
   "id": "1ba2c5bd",
   "metadata": {},
   "source": [
    "# 🔧 Tool: 시각화\n",
    "\n",
    "**Dataset:** titanic\n",
    "**난이도:** 하\n",
    "\n",
    "**Q.** **Problem 1:**"
   ]
  },
  {
   "cell_type": "code",
   "execution_count": null,
   "id": "de5f22ac",
   "metadata": {},
   "outputs": [],
   "source": [
    "import seaborn as sns\n",
    "import pandas as pd\n",
    "dataset = sns.load_dataset(\"titanic\")\n",
    "dataset.head(1)"
   ]
  },
  {
   "cell_type": "markdown",
   "id": "e0927ff6",
   "metadata": {},
   "source": [
    "# 🔧 Tool: 시각화\n",
    "\n",
    "**Dataset:** titanic\n",
    "**난이도:** 하\n",
    "\n",
    "**Q.** 🌊 \"펭귄의 성별에 따라 깃털의 길이를 스페셜 플롯으로 나타내세요. 또한, 각각의 성별에 해당하는 깃털의 길이의 평균을 계산하세요.\""
   ]
  },
  {
   "cell_type": "code",
   "execution_count": null,
   "id": "d51f2d37",
   "metadata": {},
   "outputs": [],
   "source": [
    "import seaborn as sns\n",
    "import pandas as pd\n",
    "dataset = sns.load_dataset(\"titanic\")\n",
    "dataset.head(1)"
   ]
  },
  {
   "cell_type": "markdown",
   "id": "d7360d61",
   "metadata": {},
   "source": [
    "# 🔧 Tool: 시각화\n",
    "\n",
    "**Dataset:** titanic\n",
    "**난이도:** 하\n",
    "\n",
    "**Q.** This problem is suitable for a beginner level, as it requires basic visualization skills to create a special plot (e.g. violin plot) showing the distribution of feather length by gender, and calculating the average feather length for each gender."
   ]
  },
  {
   "cell_type": "code",
   "execution_count": null,
   "id": "fc39a4ea",
   "metadata": {},
   "outputs": [],
   "source": [
    "import seaborn as sns\n",
    "import pandas as pd\n",
    "dataset = sns.load_dataset(\"titanic\")\n",
    "dataset.head(1)"
   ]
  },
  {
   "cell_type": "markdown",
   "id": "d49a8bad",
   "metadata": {},
   "source": [
    "# 🔧 Tool: 시각화\n",
    "\n",
    "**Dataset:** titanic\n",
    "**난이도:** 하\n",
    "\n",
    "**Q.** **Problem 2:**"
   ]
  },
  {
   "cell_type": "code",
   "execution_count": null,
   "id": "d3e4d996",
   "metadata": {},
   "outputs": [],
   "source": [
    "import seaborn as sns\n",
    "import pandas as pd\n",
    "dataset = sns.load_dataset(\"titanic\")\n",
    "dataset.head(1)"
   ]
  },
  {
   "cell_type": "markdown",
   "id": "93deb970",
   "metadata": {},
   "source": [
    "# 🔧 Tool: 시각화\n",
    "\n",
    "**Dataset:** titanic\n",
    "**난이도:** 하\n",
    "\n",
    "**Q.** 🛳️ \"타이타닉의 생존자와 사망자의 나이 분포를 히스토그램으로 나타내세요. 또한, 특정 나이대에 해당하는 생존률을 식별하세요.\""
   ]
  },
  {
   "cell_type": "code",
   "execution_count": null,
   "id": "636e2eba",
   "metadata": {},
   "outputs": [],
   "source": [
    "import seaborn as sns\n",
    "import pandas as pd\n",
    "dataset = sns.load_dataset(\"titanic\")\n",
    "dataset.head(1)"
   ]
  },
  {
   "cell_type": "markdown",
   "id": "c10444a3",
   "metadata": {},
   "source": [
    "# 🔧 Tool: 시각화\n",
    "\n",
    "**Dataset:** titanic\n",
    "**난이도:** 하\n",
    "\n",
    "**Q.** This problem is suitable for an intermediate level, as it requires more advanced visualization skills to create a histogram showing the distribution of age by survival status, and identifying specific patterns in the data (e.g. peak survival rates for certain age groups)."
   ]
  },
  {
   "cell_type": "code",
   "execution_count": null,
   "id": "2b479722",
   "metadata": {},
   "outputs": [],
   "source": [
    "import seaborn as sns\n",
    "import pandas as pd\n",
    "dataset = sns.load_dataset(\"titanic\")\n",
    "dataset.head(1)"
   ]
  },
  {
   "cell_type": "markdown",
   "id": "e5e1a255",
   "metadata": {},
   "source": [
    "# 🔧 Tool: 시각화\n",
    "\n",
    "**Dataset:** titanic\n",
    "**난이도:** 하\n",
    "\n",
    "**Q.** Let me know if you'd like me to adjust the difficulty level or create more problems! 😊"
   ]
  },
  {
   "cell_type": "code",
   "execution_count": null,
   "id": "b9231754",
   "metadata": {},
   "outputs": [],
   "source": [
    "import seaborn as sns\n",
    "import pandas as pd\n",
    "dataset = sns.load_dataset(\"titanic\")\n",
    "dataset.head(1)"
   ]
  },
  {
   "cell_type": "markdown",
   "id": "14d91143",
   "metadata": {},
   "source": [
    "# 🔧 Tool: 시각화\n",
    "\n",
    "**Dataset:** titanic\n",
    "**난이도:** 하\n",
    "\n",
    "**Q.** **Problem 1:**"
   ]
  },
  {
   "cell_type": "code",
   "execution_count": null,
   "id": "fec9a139",
   "metadata": {},
   "outputs": [],
   "source": [
    "import seaborn as sns\n",
    "import pandas as pd\n",
    "dataset = sns.load_dataset(\"titanic\")\n",
    "dataset.head(1)"
   ]
  },
  {
   "cell_type": "markdown",
   "id": "65428d77",
   "metadata": {},
   "source": [
    "# 🔧 Tool: 시각화\n",
    "\n",
    "**Dataset:** titanic\n",
    "**난이도:** 하\n",
    "\n",
    "**Q.** 😊 \"mpg 데이터셋에서 자동차의 연비와 엔진 크기를 scatter plot으로 나타내세요. 이 그래프에서 연비가 가장 높은 자동차와 가장 낮은 자동차를 식별하세요.\""
   ]
  },
  {
   "cell_type": "code",
   "execution_count": null,
   "id": "62253f9d",
   "metadata": {},
   "outputs": [],
   "source": [
    "import seaborn as sns\n",
    "import pandas as pd\n",
    "dataset = sns.load_dataset(\"titanic\")\n",
    "dataset.head(1)"
   ]
  },
  {
   "cell_type": "markdown",
   "id": "fd1b77b9",
   "metadata": {},
   "source": [
    "# 🔧 Tool: 시각화\n",
    "\n",
    "**Dataset:** titanic\n",
    "**난이도:** 하\n",
    "\n",
    "**Q.** This problem is suitable for a beginner level, as it requires basic visualization skills to create a scatter plot and identify patterns in the data."
   ]
  },
  {
   "cell_type": "code",
   "execution_count": null,
   "id": "70ef4000",
   "metadata": {},
   "outputs": [],
   "source": [
    "import seaborn as sns\n",
    "import pandas as pd\n",
    "dataset = sns.load_dataset(\"titanic\")\n",
    "dataset.head(1)"
   ]
  },
  {
   "cell_type": "markdown",
   "id": "7e0276bf",
   "metadata": {},
   "source": [
    "# 🔧 Tool: 시각화\n",
    "\n",
    "**Dataset:** titanic\n",
    "**난이도:** 하\n",
    "\n",
    "**Q.** **Problem 2:**"
   ]
  },
  {
   "cell_type": "code",
   "execution_count": null,
   "id": "2130a28e",
   "metadata": {},
   "outputs": [],
   "source": [
    "import seaborn as sns\n",
    "import pandas as pd\n",
    "dataset = sns.load_dataset(\"titanic\")\n",
    "dataset.head(1)"
   ]
  },
  {
   "cell_type": "markdown",
   "id": "b61d7dd3",
   "metadata": {},
   "source": [
    "# 🔧 Tool: 시각화\n",
    "\n",
    "**Dataset:** titanic\n",
    "**난이도:** 하\n",
    "\n",
    "**Q.** 🐧 \"펭귄의 몸무게와 날개를 길게 하는 기관 사이의 관계를 bar chart으로 나타내세요. 또한, 몸무게가 가장 큰 펭귄과 가장 작은 펭귄을 식별하세요.\""
   ]
  },
  {
   "cell_type": "code",
   "execution_count": null,
   "id": "fdac3d8e",
   "metadata": {},
   "outputs": [],
   "source": [
    "import seaborn as sns\n",
    "import pandas as pd\n",
    "dataset = sns.load_dataset(\"titanic\")\n",
    "dataset.head(1)"
   ]
  },
  {
   "cell_type": "markdown",
   "id": "5e323ab8",
   "metadata": {},
   "source": [
    "# 🔧 Tool: 시각화\n",
    "\n",
    "**Dataset:** titanic\n",
    "**난이도:** 하\n",
    "\n",
    "**Q.** This problem is suitable for an intermediate level, as it requires more advanced visualization skills to create a bar chart and identify specific patterns in the data."
   ]
  },
  {
   "cell_type": "code",
   "execution_count": null,
   "id": "4230f0d5",
   "metadata": {},
   "outputs": [],
   "source": [
    "import seaborn as sns\n",
    "import pandas as pd\n",
    "dataset = sns.load_dataset(\"titanic\")\n",
    "dataset.head(1)"
   ]
  },
  {
   "cell_type": "markdown",
   "id": "2b565997",
   "metadata": {},
   "source": [
    "# 🔧 Tool: 시각화\n",
    "\n",
    "**Dataset:** titanic\n",
    "**난이도:** 하\n",
    "\n",
    "**Q.** Let me know if you'd like me to adjust the difficulty level or create more problems! 😊"
   ]
  },
  {
   "cell_type": "code",
   "execution_count": null,
   "id": "6eae6241",
   "metadata": {},
   "outputs": [],
   "source": [
    "import seaborn as sns\n",
    "import pandas as pd\n",
    "dataset = sns.load_dataset(\"titanic\")\n",
    "dataset.head(1)"
   ]
  },
  {
   "cell_type": "markdown",
   "id": "c5a44e6d",
   "metadata": {},
   "source": [
    "# 🔧 Tool: 시각화\n",
    "\n",
    "**Dataset:** titanic\n",
    "**난이도:** 중하\n",
    "\n",
    "**Q.** **Problem 1:**"
   ]
  },
  {
   "cell_type": "code",
   "execution_count": null,
   "id": "76b11ff8",
   "metadata": {},
   "outputs": [],
   "source": [
    "import seaborn as sns\n",
    "import pandas as pd\n",
    "dataset = sns.load_dataset(\"titanic\")\n",
    "dataset.head(1)"
   ]
  },
  {
   "cell_type": "markdown",
   "id": "7412354f",
   "metadata": {},
   "source": [
    "# 🔧 Tool: 시각화\n",
    "\n",
    "**Dataset:** titanic\n",
    "**난이도:** 중하\n",
    "\n",
    "**Q.** \"mpg 데이터셋에서 자동차의 연비와 엔진 사이즈 간의 관계를 scatter plot으로 나타내세요. 또한, 연비가 가장 좋은 자동차 모델을 식별하세요.\""
   ]
  },
  {
   "cell_type": "code",
   "execution_count": null,
   "id": "d9f84100",
   "metadata": {},
   "outputs": [],
   "source": [
    "import seaborn as sns\n",
    "import pandas as pd\n",
    "dataset = sns.load_dataset(\"titanic\")\n",
    "dataset.head(1)"
   ]
  },
  {
   "cell_type": "markdown",
   "id": "4326bae6",
   "metadata": {},
   "source": [
    "# 🔧 Tool: 시각화\n",
    "\n",
    "**Dataset:** titanic\n",
    "**난이도:** 중하\n",
    "\n",
    "**Q.** This problem is suitable for a beginner level, as it requires basic visualization skills to create a scatter plot and identify a pattern in the data."
   ]
  },
  {
   "cell_type": "code",
   "execution_count": null,
   "id": "843bc7a2",
   "metadata": {},
   "outputs": [],
   "source": [
    "import seaborn as sns\n",
    "import pandas as pd\n",
    "dataset = sns.load_dataset(\"titanic\")\n",
    "dataset.head(1)"
   ]
  },
  {
   "cell_type": "markdown",
   "id": "bc7f0963",
   "metadata": {},
   "source": [
    "# 🔧 Tool: 시각화\n",
    "\n",
    "**Dataset:** titanic\n",
    "**난이도:** 중하\n",
    "\n",
    "**Q.** **Problem 2:**"
   ]
  },
  {
   "cell_type": "code",
   "execution_count": null,
   "id": "63821632",
   "metadata": {},
   "outputs": [],
   "source": [
    "import seaborn as sns\n",
    "import pandas as pd\n",
    "dataset = sns.load_dataset(\"titanic\")\n",
    "dataset.head(1)"
   ]
  },
  {
   "cell_type": "markdown",
   "id": "05dee417",
   "metadata": {},
   "source": [
    "# 🔧 Tool: 시각화\n",
    "\n",
    "**Dataset:** titanic\n",
    "**난이도:** 중하\n",
    "\n",
    "**Q.** \"펭귄 데이터셋에서 각 종의 몸무게와 날개의 길이 간의 관계를 bar chart으로 나타내세요. 또한, 가장 큰 몸무게를 가진 펭귄 종을 식별하세요. 또한, 날개의 길이가 가장 긴 펭귄 종을 식별하세요.\""
   ]
  },
  {
   "cell_type": "code",
   "execution_count": null,
   "id": "2860a4dc",
   "metadata": {},
   "outputs": [],
   "source": [
    "import seaborn as sns\n",
    "import pandas as pd\n",
    "dataset = sns.load_dataset(\"titanic\")\n",
    "dataset.head(1)"
   ]
  },
  {
   "cell_type": "markdown",
   "id": "9fb3940f",
   "metadata": {},
   "source": [
    "# 🔧 Tool: 시각화\n",
    "\n",
    "**Dataset:** titanic\n",
    "**난이도:** 중하\n",
    "\n",
    "**Q.** This problem is suitable for an intermediate level, as it requires more advanced visualization skills to create a bar chart and identify specific patterns in the data."
   ]
  },
  {
   "cell_type": "code",
   "execution_count": null,
   "id": "328ff093",
   "metadata": {},
   "outputs": [],
   "source": [
    "import seaborn as sns\n",
    "import pandas as pd\n",
    "dataset = sns.load_dataset(\"titanic\")\n",
    "dataset.head(1)"
   ]
  },
  {
   "cell_type": "markdown",
   "id": "54a2108a",
   "metadata": {},
   "source": [
    "# 🔧 Tool: 시각화\n",
    "\n",
    "**Dataset:** titanic\n",
    "**난이도:** 중하\n",
    "\n",
    "**Q.** Let me know if you'd like me to adjust the difficulty level or create more problems! 😊"
   ]
  },
  {
   "cell_type": "code",
   "execution_count": null,
   "id": "c7f57a70",
   "metadata": {},
   "outputs": [],
   "source": [
    "import seaborn as sns\n",
    "import pandas as pd\n",
    "dataset = sns.load_dataset(\"titanic\")\n",
    "dataset.head(1)"
   ]
  },
  {
   "cell_type": "markdown",
   "id": "65e7a0d0",
   "metadata": {},
   "source": [
    "# 🔧 Tool: 시각화\n",
    "\n",
    "**Dataset:** titanic\n",
    "**난이도:** 중하\n",
    "\n",
    "**Q.** **Problem 1:**"
   ]
  },
  {
   "cell_type": "code",
   "execution_count": null,
   "id": "984089c5",
   "metadata": {},
   "outputs": [],
   "source": [
    "import seaborn as sns\n",
    "import pandas as pd\n",
    "dataset = sns.load_dataset(\"titanic\")\n",
    "dataset.head(1)"
   ]
  },
  {
   "cell_type": "markdown",
   "id": "323b7730",
   "metadata": {},
   "source": [
    "# 🔧 Tool: 시각화\n",
    "\n",
    "**Dataset:** titanic\n",
    "**난이도:** 중하\n",
    "\n",
    "**Q.** 🌊 \"펭귄의 몸무게에 따라 wingspan이 어떻게 변화하는지 scatter plot을 사용하여 시각화하세요.\""
   ]
  },
  {
   "cell_type": "code",
   "execution_count": null,
   "id": "b3c957ec",
   "metadata": {},
   "outputs": [],
   "source": [
    "import seaborn as sns\n",
    "import pandas as pd\n",
    "dataset = sns.load_dataset(\"titanic\")\n",
    "dataset.head(1)"
   ]
  },
  {
   "cell_type": "markdown",
   "id": "9a47b83e",
   "metadata": {},
   "source": [
    "# 🔧 Tool: 시각화\n",
    "\n",
    "**Dataset:** titanic\n",
    "**난이도:** 중하\n",
    "\n",
    "**Q.** This problem is suitable for a beginner level, as it requires basic visualization skills to create a scatter plot showing the relationship between the penguin's body mass and wingspan."
   ]
  },
  {
   "cell_type": "code",
   "execution_count": null,
   "id": "251bf16f",
   "metadata": {},
   "outputs": [],
   "source": [
    "import seaborn as sns\n",
    "import pandas as pd\n",
    "dataset = sns.load_dataset(\"titanic\")\n",
    "dataset.head(1)"
   ]
  },
  {
   "cell_type": "markdown",
   "id": "39c0d071",
   "metadata": {},
   "source": [
    "# 🔧 Tool: 시각화\n",
    "\n",
    "**Dataset:** titanic\n",
    "**난이도:** 중하\n",
    "\n",
    "**Q.** **Problem 2:**"
   ]
  },
  {
   "cell_type": "code",
   "execution_count": null,
   "id": "ebdf4605",
   "metadata": {},
   "outputs": [],
   "source": [
    "import seaborn as sns\n",
    "import pandas as pd\n",
    "dataset = sns.load_dataset(\"titanic\")\n",
    "dataset.head(1)"
   ]
  },
  {
   "cell_type": "markdown",
   "id": "23e9c8c1",
   "metadata": {},
   "source": [
    "# 🔧 Tool: 시각화\n",
    "\n",
    "**Dataset:** titanic\n",
    "**난이도:** 중하\n",
    "\n",
    "**Q.** 🚣‍♀️ \"타이타닉호의 승객수에 따라 생존률과 사망률의 분포를 bar chart으로 나타내세요. 또한, 생존률이 가장 높은/낮은 승객수를 식별하세요.\""
   ]
  },
  {
   "cell_type": "code",
   "execution_count": null,
   "id": "3efdd50f",
   "metadata": {},
   "outputs": [],
   "source": [
    "import seaborn as sns\n",
    "import pandas as pd\n",
    "dataset = sns.load_dataset(\"titanic\")\n",
    "dataset.head(1)"
   ]
  },
  {
   "cell_type": "markdown",
   "id": "133d44b2",
   "metadata": {},
   "source": [
    "# 🔧 Tool: 시각화\n",
    "\n",
    "**Dataset:** titanic\n",
    "**난이도:** 중하\n",
    "\n",
    "**Q.** This problem is suitable for an intermediate level, as it requires more advanced visualization skills to create a bar chart and identify specific patterns in the data."
   ]
  },
  {
   "cell_type": "code",
   "execution_count": null,
   "id": "6fe76d5b",
   "metadata": {},
   "outputs": [],
   "source": [
    "import seaborn as sns\n",
    "import pandas as pd\n",
    "dataset = sns.load_dataset(\"titanic\")\n",
    "dataset.head(1)"
   ]
  },
  {
   "cell_type": "markdown",
   "id": "fa33abcf",
   "metadata": {},
   "source": [
    "# 🔧 Tool: 시각화\n",
    "\n",
    "**Dataset:** titanic\n",
    "**난이도:** 중하\n",
    "\n",
    "**Q.** Let me know if you'd like me to adjust the difficulty level or create more problems! 😊"
   ]
  },
  {
   "cell_type": "code",
   "execution_count": null,
   "id": "254d3a10",
   "metadata": {},
   "outputs": [],
   "source": [
    "import seaborn as sns\n",
    "import pandas as pd\n",
    "dataset = sns.load_dataset(\"titanic\")\n",
    "dataset.head(1)"
   ]
  },
  {
   "cell_type": "markdown",
   "id": "7a79e580",
   "metadata": {},
   "source": [
    "# 🔧 Tool: 시각화\n",
    "\n",
    "**Dataset:** penguins\n",
    "**난이도:** 중상\n",
    "\n",
    "**Q.** **Problem 1:**"
   ]
  },
  {
   "cell_type": "code",
   "execution_count": null,
   "id": "2b6a3559",
   "metadata": {},
   "outputs": [],
   "source": [
    "import seaborn as sns\n",
    "import pandas as pd\n",
    "dataset = sns.load_dataset(\"penguins\")\n",
    "dataset.head(1)"
   ]
  },
  {
   "cell_type": "markdown",
   "id": "a1613cd4",
   "metadata": {},
   "source": [
    "# 🔧 Tool: 시각화\n",
    "\n",
    "**Dataset:** penguins\n",
    "**난이도:** 중상\n",
    "\n",
    "**Q.** 🚗 \"mpg 데이터셋에서 자동차의 연비가 제일 높은 5대와 가장 낮은 5대를 비교하여 수치를 시각화하세요.\""
   ]
  },
  {
   "cell_type": "code",
   "execution_count": null,
   "id": "c683e4b7",
   "metadata": {},
   "outputs": [],
   "source": [
    "import seaborn as sns\n",
    "import pandas as pd\n",
    "dataset = sns.load_dataset(\"penguins\")\n",
    "dataset.head(1)"
   ]
  },
  {
   "cell_type": "markdown",
   "id": "1cd9d62a",
   "metadata": {},
   "source": [
    "# 🔧 Tool: 시각화\n",
    "\n",
    "**Dataset:** penguins\n",
    "**난이도:** 중상\n",
    "\n",
    "**Q.** This problem is suitable for a beginner level, as it requires basic visualization skills to create a bar chart or scatter plot comparing the top 5 and bottom 5 cars by MPG."
   ]
  },
  {
   "cell_type": "code",
   "execution_count": null,
   "id": "49052f9c",
   "metadata": {},
   "outputs": [],
   "source": [
    "import seaborn as sns\n",
    "import pandas as pd\n",
    "dataset = sns.load_dataset(\"penguins\")\n",
    "dataset.head(1)"
   ]
  },
  {
   "cell_type": "markdown",
   "id": "951aaa7b",
   "metadata": {},
   "source": [
    "# 🔧 Tool: 시각화\n",
    "\n",
    "**Dataset:** penguins\n",
    "**난이도:** 중상\n",
    "\n",
    "**Q.** **Problem 2:**"
   ]
  },
  {
   "cell_type": "code",
   "execution_count": null,
   "id": "d53bdd9f",
   "metadata": {},
   "outputs": [],
   "source": [
    "import seaborn as sns\n",
    "import pandas as pd\n",
    "dataset = sns.load_dataset(\"penguins\")\n",
    "dataset.head(1)"
   ]
  },
  {
   "cell_type": "markdown",
   "id": "6ce4b787",
   "metadata": {},
   "source": [
    "# 🔧 Tool: 시각화\n",
    "\n",
    "**Dataset:** penguins\n",
    "**난이도:** 중상\n",
    "\n",
    "**Q.** 🐧 \"펭귄 데이터셋에서 특정 종의 펭귄의 평균 몸길이와 몸무게 간의 상관관계를 시각화하여 설명하세요. 또한, 특정 몸무게 범위에 해당하는 펭귄의 평균 몸길이를 식별하세요.\""
   ]
  },
  {
   "cell_type": "code",
   "execution_count": null,
   "id": "05dfb047",
   "metadata": {},
   "outputs": [],
   "source": [
    "import seaborn as sns\n",
    "import pandas as pd\n",
    "dataset = sns.load_dataset(\"penguins\")\n",
    "dataset.head(1)"
   ]
  },
  {
   "cell_type": "markdown",
   "id": "33f35c84",
   "metadata": {},
   "source": [
    "# 🔧 Tool: 시각화\n",
    "\n",
    "**Dataset:** penguins\n",
    "**난이도:** 중상\n",
    "\n",
    "**Q.** This problem is suitable for an intermediate level, as it requires more advanced visualization skills to create a scatter plot and identify specific patterns in the data, such as the correlation between body length and body mass, as well as the average body length for a specific body mass range."
   ]
  },
  {
   "cell_type": "code",
   "execution_count": null,
   "id": "3ae97960",
   "metadata": {},
   "outputs": [],
   "source": [
    "import seaborn as sns\n",
    "import pandas as pd\n",
    "dataset = sns.load_dataset(\"penguins\")\n",
    "dataset.head(1)"
   ]
  },
  {
   "cell_type": "markdown",
   "id": "527deca3",
   "metadata": {},
   "source": [
    "# 🔧 Tool: 시각화\n",
    "\n",
    "**Dataset:** penguins\n",
    "**난이도:** 중상\n",
    "\n",
    "**Q.** **Problem 1:**"
   ]
  },
  {
   "cell_type": "code",
   "execution_count": null,
   "id": "82999d38",
   "metadata": {},
   "outputs": [],
   "source": [
    "import seaborn as sns\n",
    "import pandas as pd\n",
    "dataset = sns.load_dataset(\"penguins\")\n",
    "dataset.head(1)"
   ]
  },
  {
   "cell_type": "markdown",
   "id": "edab078a",
   "metadata": {},
   "source": [
    "# 🔧 Tool: 시각화\n",
    "\n",
    "**Dataset:** penguins\n",
    "**난이도:** 중상\n",
    "\n",
    "**Q.** 🌊 \"펭귄의 몸무게에 따라 날개 길이의 분포를 막대 그래프로 나타내세요. 또한, 특정 몸무게에 해당하는 날개 길이의 평균을 구하세요.\""
   ]
  },
  {
   "cell_type": "code",
   "execution_count": null,
   "id": "085973ef",
   "metadata": {},
   "outputs": [],
   "source": [
    "import seaborn as sns\n",
    "import pandas as pd\n",
    "dataset = sns.load_dataset(\"penguins\")\n",
    "dataset.head(1)"
   ]
  },
  {
   "cell_type": "markdown",
   "id": "0865d399",
   "metadata": {},
   "source": [
    "# 🔧 Tool: 시각화\n",
    "\n",
    "**Dataset:** penguins\n",
    "**난이도:** 중상\n",
    "\n",
    "**Q.** This problem is suitable for a beginner level, as it requires basic visualization skills to create a bar chart showing the relationship between penguin body weight and wing length."
   ]
  },
  {
   "cell_type": "code",
   "execution_count": null,
   "id": "246c0c6b",
   "metadata": {},
   "outputs": [],
   "source": [
    "import seaborn as sns\n",
    "import pandas as pd\n",
    "dataset = sns.load_dataset(\"penguins\")\n",
    "dataset.head(1)"
   ]
  },
  {
   "cell_type": "markdown",
   "id": "0a7c2a30",
   "metadata": {},
   "source": [
    "# 🔧 Tool: 시각화\n",
    "\n",
    "**Dataset:** penguins\n",
    "**난이도:** 중상\n",
    "\n",
    "**Q.** **Problem 2:**"
   ]
  },
  {
   "cell_type": "code",
   "execution_count": null,
   "id": "515eec68",
   "metadata": {},
   "outputs": [],
   "source": [
    "import seaborn as sns\n",
    "import pandas as pd\n",
    "dataset = sns.load_dataset(\"penguins\")\n",
    "dataset.head(1)"
   ]
  },
  {
   "cell_type": "markdown",
   "id": "f6244c05",
   "metadata": {},
   "source": [
    "# 🔧 Tool: 시각화\n",
    "\n",
    "**Dataset:** penguins\n",
    "**난이도:** 중상\n",
    "\n",
    "**Q.** 🚣‍♀️ \"타이타닉号의 승객 수에 따라 생존율의 분포를 스톡플로트으로 나타내세요. 또한, 특정 생존율에 해당하는 승객 수의 하위 집단을 식별하세요.\""
   ]
  },
  {
   "cell_type": "code",
   "execution_count": null,
   "id": "030a41c7",
   "metadata": {},
   "outputs": [],
   "source": [
    "import seaborn as sns\n",
    "import pandas as pd\n",
    "dataset = sns.load_dataset(\"penguins\")\n",
    "dataset.head(1)"
   ]
  },
  {
   "cell_type": "markdown",
   "id": "11f4e182",
   "metadata": {},
   "source": [
    "# 🔧 Tool: 시각화\n",
    "\n",
    "**Dataset:** penguins\n",
    "**난이도:** 중상\n",
    "\n",
    "**Q.** This problem is suitable for an intermediate level, as it requires more advanced visualization skills to create a scatter plot and identify specific patterns in the data."
   ]
  },
  {
   "cell_type": "code",
   "execution_count": null,
   "id": "44e2fc87",
   "metadata": {},
   "outputs": [],
   "source": [
    "import seaborn as sns\n",
    "import pandas as pd\n",
    "dataset = sns.load_dataset(\"penguins\")\n",
    "dataset.head(1)"
   ]
  },
  {
   "cell_type": "markdown",
   "id": "a085c2ec",
   "metadata": {},
   "source": [
    "# 🔧 Tool: 시각화\n",
    "\n",
    "**Dataset:** penguins\n",
    "**난이도:** 중상\n",
    "\n",
    "**Q.** Let me know if you'd like me to adjust the difficulty level or create more problems! 😊"
   ]
  },
  {
   "cell_type": "code",
   "execution_count": null,
   "id": "4d79918b",
   "metadata": {},
   "outputs": [],
   "source": [
    "import seaborn as sns\n",
    "import pandas as pd\n",
    "dataset = sns.load_dataset(\"penguins\")\n",
    "dataset.head(1)"
   ]
  },
  {
   "cell_type": "markdown",
   "id": "ae76486f",
   "metadata": {},
   "source": [
    "# 🔧 Tool: 시각화\n",
    "\n",
    "**Dataset:** iris\n",
    "**난이도:** 하\n",
    "\n",
    "**Q.** **Problem 1:**"
   ]
  },
  {
   "cell_type": "code",
   "execution_count": null,
   "id": "09fa38ec",
   "metadata": {},
   "outputs": [],
   "source": [
    "import seaborn as sns\n",
    "import pandas as pd\n",
    "dataset = sns.load_dataset(\"iris\")\n",
    "dataset.head(1)"
   ]
  },
  {
   "cell_type": "markdown",
   "id": "83dd8190",
   "metadata": {},
   "source": [
    "# 🔧 Tool: 시각화\n",
    "\n",
    "**Dataset:** iris\n",
    "**난이도:** 하\n",
    "\n",
    "**Q.** 🌼 \"iris꽃의 4가지 품종에 따라 Sepal Length와 Sepal Width의 상관관계를 히스토그램으로 나타내세요.\""
   ]
  },
  {
   "cell_type": "code",
   "execution_count": null,
   "id": "d42a6285",
   "metadata": {},
   "outputs": [],
   "source": [
    "import seaborn as sns\n",
    "import pandas as pd\n",
    "dataset = sns.load_dataset(\"iris\")\n",
    "dataset.head(1)"
   ]
  },
  {
   "cell_type": "markdown",
   "id": "c3eb768b",
   "metadata": {},
   "source": [
    "# 🔧 Tool: 시각화\n",
    "\n",
    "**Dataset:** iris\n",
    "**난이도:** 하\n",
    "\n",
    "**Q.** This problem is suitable for a beginner level, as it requires basic visualization skills to create a histogram showing the relationship between Sepal Length and Sepal Width for each iris species."
   ]
  },
  {
   "cell_type": "code",
   "execution_count": null,
   "id": "8a7fe23d",
   "metadata": {},
   "outputs": [],
   "source": [
    "import seaborn as sns\n",
    "import pandas as pd\n",
    "dataset = sns.load_dataset(\"iris\")\n",
    "dataset.head(1)"
   ]
  },
  {
   "cell_type": "markdown",
   "id": "ab7c0a94",
   "metadata": {},
   "source": [
    "# 🔧 Tool: 시각화\n",
    "\n",
    "**Dataset:** iris\n",
    "**난이도:** 하\n",
    "\n",
    "**Q.** **Problem 2:**"
   ]
  },
  {
   "cell_type": "code",
   "execution_count": null,
   "id": "75876a4e",
   "metadata": {},
   "outputs": [],
   "source": [
    "import seaborn as sns\n",
    "import pandas as pd\n",
    "dataset = sns.load_dataset(\"iris\")\n",
    "dataset.head(1)"
   ]
  },
  {
   "cell_type": "markdown",
   "id": "90b83cc0",
   "metadata": {},
   "source": [
    "# 🔧 Tool: 시각화\n",
    "\n",
    "**Dataset:** iris\n",
    "**난이도:** 하\n",
    "\n",
    "**Q.** 🛬 \"2019년 12월에 미국에서 이륙한 항공편의 평균 비용과 항공편의 길이를 Scatter Plot으로 나타내세요. 또한, 평균 비용이 1000달러 내외인 항공편의 하위 집단을 식별하세요.\""
   ]
  },
  {
   "cell_type": "code",
   "execution_count": null,
   "id": "e4f69740",
   "metadata": {},
   "outputs": [],
   "source": [
    "import seaborn as sns\n",
    "import pandas as pd\n",
    "dataset = sns.load_dataset(\"iris\")\n",
    "dataset.head(1)"
   ]
  },
  {
   "cell_type": "markdown",
   "id": "f4438707",
   "metadata": {},
   "source": [
    "# 🔧 Tool: 시각화\n",
    "\n",
    "**Dataset:** iris\n",
    "**난이도:** 하\n",
    "\n",
    "**Q.** This problem is suitable for an intermediate level, as it requires more advanced visualization skills to create a scatter plot and identify specific patterns in the data."
   ]
  },
  {
   "cell_type": "code",
   "execution_count": null,
   "id": "3466adca",
   "metadata": {},
   "outputs": [],
   "source": [
    "import seaborn as sns\n",
    "import pandas as pd\n",
    "dataset = sns.load_dataset(\"iris\")\n",
    "dataset.head(1)"
   ]
  },
  {
   "cell_type": "markdown",
   "id": "abee2cc3",
   "metadata": {},
   "source": [
    "# 🔧 Tool: 시각화\n",
    "\n",
    "**Dataset:** iris\n",
    "**난이도:** 하\n",
    "\n",
    "**Q.** Let me know if you'd like me to adjust the difficulty level or create more problems! 😊"
   ]
  },
  {
   "cell_type": "code",
   "execution_count": null,
   "id": "65aa7372",
   "metadata": {},
   "outputs": [],
   "source": [
    "import seaborn as sns\n",
    "import pandas as pd\n",
    "dataset = sns.load_dataset(\"iris\")\n",
    "dataset.head(1)"
   ]
  },
  {
   "cell_type": "markdown",
   "id": "a0769874",
   "metadata": {},
   "source": [
    "# 🔧 Tool: 시각화\n",
    "\n",
    "**Dataset:** penguins\n",
    "**난이도:** 하\n",
    "\n",
    "**Q.** **Problem 1:**"
   ]
  },
  {
   "cell_type": "code",
   "execution_count": null,
   "id": "2ed85ff2",
   "metadata": {},
   "outputs": [],
   "source": [
    "import seaborn as sns\n",
    "import pandas as pd\n",
    "dataset = sns.load_dataset(\"penguins\")\n",
    "dataset.head(1)"
   ]
  },
  {
   "cell_type": "markdown",
   "id": "a29d1445",
   "metadata": {},
   "source": [
    "# 🔧 Tool: 시각화\n",
    "\n",
    "**Dataset:** penguins\n",
    "**난이도:** 하\n",
    "\n",
    "**Q.** 🌼 \"iris dataset에서 각 꽃종의 Sepal Length와 Petal Length의 관계를 히스토그램으로 나타내세요. 또한, 각 꽃종의 평균 Sepal Length과 Petal Length을 함께 표시하세요.\""
   ]
  },
  {
   "cell_type": "code",
   "execution_count": null,
   "id": "61ead696",
   "metadata": {},
   "outputs": [],
   "source": [
    "import seaborn as sns\n",
    "import pandas as pd\n",
    "dataset = sns.load_dataset(\"penguins\")\n",
    "dataset.head(1)"
   ]
  },
  {
   "cell_type": "markdown",
   "id": "ac4b0068",
   "metadata": {},
   "source": [
    "# 🔧 Tool: 시각화\n",
    "\n",
    "**Dataset:** penguins\n",
    "**난이도:** 하\n",
    "\n",
    "**Q.** This problem is suitable for a beginner level, as it requires basic visualization skills to create a histogram showing the relationship between two variables."
   ]
  },
  {
   "cell_type": "code",
   "execution_count": null,
   "id": "e76c3d7d",
   "metadata": {},
   "outputs": [],
   "source": [
    "import seaborn as sns\n",
    "import pandas as pd\n",
    "dataset = sns.load_dataset(\"penguins\")\n",
    "dataset.head(1)"
   ]
  },
  {
   "cell_type": "markdown",
   "id": "82d9513b",
   "metadata": {},
   "source": [
    "# 🔧 Tool: 시각화\n",
    "\n",
    "**Dataset:** penguins\n",
    "**난이도:** 하\n",
    "\n",
    "**Q.** **Problem 2:**"
   ]
  },
  {
   "cell_type": "code",
   "execution_count": null,
   "id": "c67521e3",
   "metadata": {},
   "outputs": [],
   "source": [
    "import seaborn as sns\n",
    "import pandas as pd\n",
    "dataset = sns.load_dataset(\"penguins\")\n",
    "dataset.head(1)"
   ]
  },
  {
   "cell_type": "markdown",
   "id": "b157d2c4",
   "metadata": {},
   "source": [
    "# 🔧 Tool: 시각화\n",
    "\n",
    "**Dataset:** penguins\n",
    "**난이도:** 하\n",
    "\n",
    "**Q.** 🛬 \"flights dataset에서 2019년 1월 1일부터 31일까지의 항공편의 출발지와 도착지의 분포를 지도를 사용하여 나타내세요. 또한, 특정 지역의 항공편 수가 가장 많은지 확인하세요.\""
   ]
  },
  {
   "cell_type": "code",
   "execution_count": null,
   "id": "335a1f1c",
   "metadata": {},
   "outputs": [],
   "source": [
    "import seaborn as sns\n",
    "import pandas as pd\n",
    "dataset = sns.load_dataset(\"penguins\")\n",
    "dataset.head(1)"
   ]
  },
  {
   "cell_type": "markdown",
   "id": "a3c643f1",
   "metadata": {},
   "source": [
    "# 🔧 Tool: 시각화\n",
    "\n",
    "**Dataset:** penguins\n",
    "**난이도:** 하\n",
    "\n",
    "**Q.** This problem is suitable for an intermediate level, as it requires more advanced visualization skills to create a map and identify specific patterns in the data."
   ]
  },
  {
   "cell_type": "code",
   "execution_count": null,
   "id": "05857501",
   "metadata": {},
   "outputs": [],
   "source": [
    "import seaborn as sns\n",
    "import pandas as pd\n",
    "dataset = sns.load_dataset(\"penguins\")\n",
    "dataset.head(1)"
   ]
  },
  {
   "cell_type": "markdown",
   "id": "b1600d82",
   "metadata": {},
   "source": [
    "# 🔧 Tool: 시각화\n",
    "\n",
    "**Dataset:** penguins\n",
    "**난이도:** 하\n",
    "\n",
    "**Q.** Let me know if you'd like me to adjust the difficulty level or create more problems! 😊"
   ]
  },
  {
   "cell_type": "code",
   "execution_count": null,
   "id": "49086912",
   "metadata": {},
   "outputs": [],
   "source": [
    "import seaborn as sns\n",
    "import pandas as pd\n",
    "dataset = sns.load_dataset(\"penguins\")\n",
    "dataset.head(1)"
   ]
  },
  {
   "cell_type": "markdown",
   "id": "bbbfe079",
   "metadata": {},
   "source": [
    "# 🔧 Tool: 시각화\n",
    "\n",
    "**Dataset:** penguins\n",
    "**난이도:** 중하\n",
    "\n",
    "**Q.** **Problem 1:**"
   ]
  },
  {
   "cell_type": "code",
   "execution_count": null,
   "id": "1f951c1c",
   "metadata": {},
   "outputs": [],
   "source": [
    "import seaborn as sns\n",
    "import pandas as pd\n",
    "dataset = sns.load_dataset(\"penguins\")\n",
    "dataset.head(1)"
   ]
  },
  {
   "cell_type": "markdown",
   "id": "27985b72",
   "metadata": {},
   "source": [
    "# 🔧 Tool: 시각화\n",
    "\n",
    "**Dataset:** penguins\n",
    "**난이도:** 중하\n",
    "\n",
    "**Q.** 🏞️ \"이리스꽃의 세 가지 품종별로 평균 꽃 길이를 비교하는 막대 그래프를 만들어보세요.\""
   ]
  },
  {
   "cell_type": "code",
   "execution_count": null,
   "id": "4c4c5487",
   "metadata": {},
   "outputs": [],
   "source": [
    "import seaborn as sns\n",
    "import pandas as pd\n",
    "dataset = sns.load_dataset(\"penguins\")\n",
    "dataset.head(1)"
   ]
  },
  {
   "cell_type": "markdown",
   "id": "3bb4af16",
   "metadata": {},
   "source": [
    "# 🔧 Tool: 시각화\n",
    "\n",
    "**Dataset:** penguins\n",
    "**난이도:** 중하\n",
    "\n",
    "**Q.** This problem is suitable for a beginner level, as it requires basic visualization skills to create a bar chart comparing the average sepal length of three iris species."
   ]
  },
  {
   "cell_type": "code",
   "execution_count": null,
   "id": "01c63c01",
   "metadata": {},
   "outputs": [],
   "source": [
    "import seaborn as sns\n",
    "import pandas as pd\n",
    "dataset = sns.load_dataset(\"penguins\")\n",
    "dataset.head(1)"
   ]
  },
  {
   "cell_type": "markdown",
   "id": "2591e0a3",
   "metadata": {},
   "source": [
    "# 🔧 Tool: 시각화\n",
    "\n",
    "**Dataset:** penguins\n",
    "**난이도:** 중하\n",
    "\n",
    "**Q.** **Problem 2:**"
   ]
  },
  {
   "cell_type": "code",
   "execution_count": null,
   "id": "61458d12",
   "metadata": {},
   "outputs": [],
   "source": [
    "import seaborn as sns\n",
    "import pandas as pd\n",
    "dataset = sns.load_dataset(\"penguins\")\n",
    "dataset.head(1)"
   ]
  },
  {
   "cell_type": "markdown",
   "id": "233864e0",
   "metadata": {},
   "source": [
    "# 🔧 Tool: 시각화\n",
    "\n",
    "**Dataset:** penguins\n",
    "**난이도:** 중하\n",
    "\n",
    "**Q.** 🛬 \"도시와 공항 간의 평균 항속 거리를 지도에 표시하여, 가장 먼 항속 거리를 보이는 도시를 식별하세요. 또한, 항속 거리가 가장 긴 3개의 도시를 확인하세요.\""
   ]
  },
  {
   "cell_type": "code",
   "execution_count": null,
   "id": "934b17f2",
   "metadata": {},
   "outputs": [],
   "source": [
    "import seaborn as sns\n",
    "import pandas as pd\n",
    "dataset = sns.load_dataset(\"penguins\")\n",
    "dataset.head(1)"
   ]
  },
  {
   "cell_type": "markdown",
   "id": "168f94ee",
   "metadata": {},
   "source": [
    "# 🔧 Tool: 시각화\n",
    "\n",
    "**Dataset:** penguins\n",
    "**난이도:** 중하\n",
    "\n",
    "**Q.** This problem is suitable for an intermediate level, as it requires more advanced visualization skills to create a map and identify specific patterns in the data."
   ]
  },
  {
   "cell_type": "code",
   "execution_count": null,
   "id": "8d232b99",
   "metadata": {},
   "outputs": [],
   "source": [
    "import seaborn as sns\n",
    "import pandas as pd\n",
    "dataset = sns.load_dataset(\"penguins\")\n",
    "dataset.head(1)"
   ]
  },
  {
   "cell_type": "markdown",
   "id": "515a8a9e",
   "metadata": {},
   "source": [
    "# 🔧 Tool: 시각화\n",
    "\n",
    "**Dataset:** penguins\n",
    "**난이도:** 중하\n",
    "\n",
    "**Q.** Let me know if you'd like me to adjust the difficulty level or create more problems! 😊"
   ]
  },
  {
   "cell_type": "code",
   "execution_count": null,
   "id": "91cb6cc3",
   "metadata": {},
   "outputs": [],
   "source": [
    "import seaborn as sns\n",
    "import pandas as pd\n",
    "dataset = sns.load_dataset(\"penguins\")\n",
    "dataset.head(1)"
   ]
  },
  {
   "cell_type": "markdown",
   "id": "2b7a6d6c",
   "metadata": {},
   "source": [
    "# 🔧 Tool: 시각화\n",
    "\n",
    "**Dataset:** iris\n",
    "**난이도:** 중하\n",
    "\n",
    "**Q.** **Problem 1:**"
   ]
  },
  {
   "cell_type": "code",
   "execution_count": null,
   "id": "a83a2b23",
   "metadata": {},
   "outputs": [],
   "source": [
    "import seaborn as sns\n",
    "import pandas as pd\n",
    "dataset = sns.load_dataset(\"iris\")\n",
    "dataset.head(1)"
   ]
  },
  {
   "cell_type": "markdown",
   "id": "e7d281c3",
   "metadata": {},
   "source": [
    "# 🔧 Tool: 시각화\n",
    "\n",
    "**Dataset:** iris\n",
    "**난이도:** 중하\n",
    "\n",
    "**Q.** 🌼 \"이리스 꽃의 품종별Sepal Length의 분포를 히스토그램으로 나타내세요. 또한, 각 품종의 Sepal Length의 평균을 구하세요.\""
   ]
  },
  {
   "cell_type": "code",
   "execution_count": null,
   "id": "8473c9ad",
   "metadata": {},
   "outputs": [],
   "source": [
    "import seaborn as sns\n",
    "import pandas as pd\n",
    "dataset = sns.load_dataset(\"iris\")\n",
    "dataset.head(1)"
   ]
  },
  {
   "cell_type": "markdown",
   "id": "85a2c696",
   "metadata": {},
   "source": [
    "# 🔧 Tool: 시각화\n",
    "\n",
    "**Dataset:** iris\n",
    "**난이도:** 중하\n",
    "\n",
    "**Q.** This problem is suitable for a beginner level, as it requires basic visualization skills to create a histogram showing the distribution of Sepal Length across different iris species."
   ]
  },
  {
   "cell_type": "code",
   "execution_count": null,
   "id": "09a20dc8",
   "metadata": {},
   "outputs": [],
   "source": [
    "import seaborn as sns\n",
    "import pandas as pd\n",
    "dataset = sns.load_dataset(\"iris\")\n",
    "dataset.head(1)"
   ]
  },
  {
   "cell_type": "markdown",
   "id": "0a812153",
   "metadata": {},
   "source": [
    "# 🔧 Tool: 시각화\n",
    "\n",
    "**Dataset:** iris\n",
    "**난이도:** 중하\n",
    "\n",
    "**Q.** **Problem 2:**"
   ]
  },
  {
   "cell_type": "code",
   "execution_count": null,
   "id": "07735398",
   "metadata": {},
   "outputs": [],
   "source": [
    "import seaborn as sns\n",
    "import pandas as pd\n",
    "dataset = sns.load_dataset(\"iris\")\n",
    "dataset.head(1)"
   ]
  },
  {
   "cell_type": "markdown",
   "id": "1326a9e5",
   "metadata": {},
   "source": [
    "# 🔧 Tool: 시각화\n",
    "\n",
    "**Dataset:** iris\n",
    "**난이도:** 중하\n",
    "\n",
    "**Q.** 🛬 \"뉴욕 JFK 공항에서 출발한 전세기편의 평균 비용을 구하세요. 또한, 비용을 10,000달러 단위로 구분하여 막대 그래프를 만들어주세요. 또한, 특정 비용 구간의 전세기편의 수를 확인하세요.\""
   ]
  },
  {
   "cell_type": "code",
   "execution_count": null,
   "id": "c8a99281",
   "metadata": {},
   "outputs": [],
   "source": [
    "import seaborn as sns\n",
    "import pandas as pd\n",
    "dataset = sns.load_dataset(\"iris\")\n",
    "dataset.head(1)"
   ]
  },
  {
   "cell_type": "markdown",
   "id": "4c1a124f",
   "metadata": {},
   "source": [
    "# 🔧 Tool: 시각화\n",
    "\n",
    "**Dataset:** iris\n",
    "**난이도:** 중하\n",
    "\n",
    "**Q.** This problem is suitable for an intermediate level, as it requires more advanced visualization skills to create a bar chart showing the average cost of flights departing from JFK, identify patterns in the data, and calculate specific statistics."
   ]
  },
  {
   "cell_type": "code",
   "execution_count": null,
   "id": "999df1bf",
   "metadata": {},
   "outputs": [],
   "source": [
    "import seaborn as sns\n",
    "import pandas as pd\n",
    "dataset = sns.load_dataset(\"iris\")\n",
    "dataset.head(1)"
   ]
  },
  {
   "cell_type": "markdown",
   "id": "3e3916d0",
   "metadata": {},
   "source": [
    "# 🔧 Tool: 시각화\n",
    "\n",
    "**Dataset:** iris\n",
    "**난이도:** 중하\n",
    "\n",
    "**Q.** Let me know if you'd like me to adjust the difficulty level or create more problems! 😊"
   ]
  },
  {
   "cell_type": "code",
   "execution_count": null,
   "id": "78923659",
   "metadata": {},
   "outputs": [],
   "source": [
    "import seaborn as sns\n",
    "import pandas as pd\n",
    "dataset = sns.load_dataset(\"iris\")\n",
    "dataset.head(1)"
   ]
  },
  {
   "cell_type": "markdown",
   "id": "28a56fe9",
   "metadata": {},
   "source": [
    "# 🔧 Tool: 시각화\n",
    "\n",
    "**Dataset:** penguins\n",
    "**난이도:** 중상\n",
    "\n",
    "**Q.** **Problem 1:**"
   ]
  },
  {
   "cell_type": "code",
   "execution_count": null,
   "id": "6462b1b9",
   "metadata": {},
   "outputs": [],
   "source": [
    "import seaborn as sns\n",
    "import pandas as pd\n",
    "dataset = sns.load_dataset(\"penguins\")\n",
    "dataset.head(1)"
   ]
  },
  {
   "cell_type": "markdown",
   "id": "c6b5ae9e",
   "metadata": {},
   "source": [
    "# 🔧 Tool: 시각화\n",
    "\n",
    "**Dataset:** penguins\n",
    "**난이도:** 중상\n",
    "\n",
    "**Q.** 🌼 \"이리스 꽃들의 품종별로 Sepal Length 분포를 히스토그램으로 나타내세요. 또한, 품종별로 가장 큰 Sepal Length를 나타내는 꽃을 찾아보세요.\""
   ]
  },
  {
   "cell_type": "code",
   "execution_count": null,
   "id": "588fddf1",
   "metadata": {},
   "outputs": [],
   "source": [
    "import seaborn as sns\n",
    "import pandas as pd\n",
    "dataset = sns.load_dataset(\"penguins\")\n",
    "dataset.head(1)"
   ]
  },
  {
   "cell_type": "markdown",
   "id": "1be6abbd",
   "metadata": {},
   "source": [
    "# 🔧 Tool: 시각화\n",
    "\n",
    "**Dataset:** penguins\n",
    "**난이도:** 중상\n",
    "\n",
    "**Q.** This problem is suitable for a beginner level, as it requires basic visualization skills to create a histogram and identify the most common values."
   ]
  },
  {
   "cell_type": "code",
   "execution_count": null,
   "id": "9dadb44f",
   "metadata": {},
   "outputs": [],
   "source": [
    "import seaborn as sns\n",
    "import pandas as pd\n",
    "dataset = sns.load_dataset(\"penguins\")\n",
    "dataset.head(1)"
   ]
  },
  {
   "cell_type": "markdown",
   "id": "0f9e58d5",
   "metadata": {},
   "source": [
    "# 🔧 Tool: 시각화\n",
    "\n",
    "**Dataset:** penguins\n",
    "**난이도:** 중상\n",
    "\n",
    "**Q.** **Problem 2:**"
   ]
  },
  {
   "cell_type": "code",
   "execution_count": null,
   "id": "578623cd",
   "metadata": {},
   "outputs": [],
   "source": [
    "import seaborn as sns\n",
    "import pandas as pd\n",
    "dataset = sns.load_dataset(\"penguins\")\n",
    "dataset.head(1)"
   ]
  },
  {
   "cell_type": "markdown",
   "id": "bab2dd74",
   "metadata": {},
   "source": [
    "# 🔧 Tool: 시각화\n",
    "\n",
    "**Dataset:** penguins\n",
    "**난이도:** 중상\n",
    "\n",
    "**Q.** 🛬 \"출발 도시와 도착 도시 간의 항공편 수를 보여주는 heatmap을 생성하세요. 또한, 특정 출발 도시에서 가장 많이 도착하는 도시를 찾아보세요.\""
   ]
  },
  {
   "cell_type": "code",
   "execution_count": null,
   "id": "b96e3f83",
   "metadata": {},
   "outputs": [],
   "source": [
    "import seaborn as sns\n",
    "import pandas as pd\n",
    "dataset = sns.load_dataset(\"penguins\")\n",
    "dataset.head(1)"
   ]
  },
  {
   "cell_type": "markdown",
   "id": "ba3c5d77",
   "metadata": {},
   "source": [
    "# 🔧 Tool: 시각화\n",
    "\n",
    "**Dataset:** penguins\n",
    "**난이도:** 중상\n",
    "\n",
    "**Q.** This problem is suitable for an intermediate level, as it requires more advanced visualization skills to create a heatmap and identify specific patterns in the data."
   ]
  },
  {
   "cell_type": "code",
   "execution_count": null,
   "id": "95aa9345",
   "metadata": {},
   "outputs": [],
   "source": [
    "import seaborn as sns\n",
    "import pandas as pd\n",
    "dataset = sns.load_dataset(\"penguins\")\n",
    "dataset.head(1)"
   ]
  },
  {
   "cell_type": "markdown",
   "id": "bfa2cab2",
   "metadata": {},
   "source": [
    "# 🔧 Tool: 시각화\n",
    "\n",
    "**Dataset:** penguins\n",
    "**난이도:** 중상\n",
    "\n",
    "**Q.** Let me know if you'd like me to adjust the difficulty level or create more problems! 😊"
   ]
  },
  {
   "cell_type": "code",
   "execution_count": null,
   "id": "0180e628",
   "metadata": {},
   "outputs": [],
   "source": [
    "import seaborn as sns\n",
    "import pandas as pd\n",
    "dataset = sns.load_dataset(\"penguins\")\n",
    "dataset.head(1)"
   ]
  },
  {
   "cell_type": "markdown",
   "id": "0b12c1d1",
   "metadata": {},
   "source": [
    "# 🔧 Tool: 시각화\n",
    "\n",
    "**Dataset:** penguins\n",
    "**난이도:** 중상\n",
    "\n",
    "**Q.** 📊 **Problem 1:**"
   ]
  },
  {
   "cell_type": "code",
   "execution_count": null,
   "id": "85c3b97a",
   "metadata": {},
   "outputs": [],
   "source": [
    "import seaborn as sns\n",
    "import pandas as pd\n",
    "dataset = sns.load_dataset(\"penguins\")\n",
    "dataset.head(1)"
   ]
  },
  {
   "cell_type": "markdown",
   "id": "82a4da76",
   "metadata": {},
   "source": [
    "# 🔧 Tool: 시각화\n",
    "\n",
    "**Dataset:** penguins\n",
    "**난이도:** 중상\n",
    "\n",
    "**Q.** 🌼 \"iris 꽃의 3가지 종류에 따라Sepal Length와 Petal Length의 평균을 비교하여 스타일 플롯으로 나타내세요. 또한, Sepal Length가 6.5 이상인 경우의 꽃 종류를 식별하세요.\""
   ]
  },
  {
   "cell_type": "code",
   "execution_count": null,
   "id": "bddf4813",
   "metadata": {},
   "outputs": [],
   "source": [
    "import seaborn as sns\n",
    "import pandas as pd\n",
    "dataset = sns.load_dataset(\"penguins\")\n",
    "dataset.head(1)"
   ]
  },
  {
   "cell_type": "markdown",
   "id": "c6fdfc8f",
   "metadata": {},
   "source": [
    "# 🔧 Tool: 시각화\n",
    "\n",
    "**Dataset:** penguins\n",
    "**난이도:** 중상\n",
    "\n",
    "**Q.** This problem is suitable for a beginner level, as it requires basic visualization skills to create a simple plot comparing the mean values of Sepal Length and Petal Length for different iris species."
   ]
  },
  {
   "cell_type": "code",
   "execution_count": null,
   "id": "ef6f9664",
   "metadata": {},
   "outputs": [],
   "source": [
    "import seaborn as sns\n",
    "import pandas as pd\n",
    "dataset = sns.load_dataset(\"penguins\")\n",
    "dataset.head(1)"
   ]
  },
  {
   "cell_type": "markdown",
   "id": "b81211c8",
   "metadata": {},
   "source": [
    "# 🔧 Tool: 시각화\n",
    "\n",
    "**Dataset:** penguins\n",
    "**난이도:** 중상\n",
    "\n",
    "**Q.** 📊 **Problem 2:**"
   ]
  },
  {
   "cell_type": "code",
   "execution_count": null,
   "id": "671bb5d8",
   "metadata": {},
   "outputs": [],
   "source": [
    "import seaborn as sns\n",
    "import pandas as pd\n",
    "dataset = sns.load_dataset(\"penguins\")\n",
    "dataset.head(1)"
   ]
  },
  {
   "cell_type": "markdown",
   "id": "4c410a3a",
   "metadata": {},
   "source": [
    "# 🔧 Tool: 시각화\n",
    "\n",
    "**Dataset:** penguins\n",
    "**난이도:** 중상\n",
    "\n",
    "**Q.** 🛬 \"시애틀에서 출발한 항공편의 수송 중인 5가지 항공사에 따라 출발지, 도착지, 탑승객 수, 비용을 그래프로 나타내세요. 또한, 비용이 가장 높은 항공사와 가장 낮은 항공사 사이의 차이를 식별하세요.\""
   ]
  },
  {
   "cell_type": "code",
   "execution_count": null,
   "id": "d0ca94c4",
   "metadata": {},
   "outputs": [],
   "source": [
    "import seaborn as sns\n",
    "import pandas as pd\n",
    "dataset = sns.load_dataset(\"penguins\")\n",
    "dataset.head(1)"
   ]
  },
  {
   "cell_type": "markdown",
   "id": "dbefd2cc",
   "metadata": {},
   "source": [
    "# 🔧 Tool: 시각화\n",
    "\n",
    "**Dataset:** penguins\n",
    "**난이도:** 중상\n",
    "\n",
    "**Q.** This problem is suitable for an intermediate level, as it requires more advanced visualization skills to create a graph that combines multiple variables and identifies patterns in the data."
   ]
  },
  {
   "cell_type": "code",
   "execution_count": null,
   "id": "bce048eb",
   "metadata": {},
   "outputs": [],
   "source": [
    "import seaborn as sns\n",
    "import pandas as pd\n",
    "dataset = sns.load_dataset(\"penguins\")\n",
    "dataset.head(1)"
   ]
  },
  {
   "cell_type": "markdown",
   "id": "1c566a71",
   "metadata": {},
   "source": [
    "# 🔧 Tool: 시각화\n",
    "\n",
    "**Dataset:** penguins\n",
    "**난이도:** 중상\n",
    "\n",
    "**Q.** Let me know if you'd like me to adjust the difficulty level or create more problems! 😊"
   ]
  },
  {
   "cell_type": "code",
   "execution_count": null,
   "id": "fb124d02",
   "metadata": {},
   "outputs": [],
   "source": [
    "import seaborn as sns\n",
    "import pandas as pd\n",
    "dataset = sns.load_dataset(\"penguins\")\n",
    "dataset.head(1)"
   ]
  },
  {
   "cell_type": "markdown",
   "id": "7c196982",
   "metadata": {},
   "source": [
    "# 🔧 Tool: 시각화\n",
    "\n",
    "**Dataset:** car_crashes\n",
    "**난이도:** 하\n",
    "\n",
    "**Q.** **Problem 1:**"
   ]
  },
  {
   "cell_type": "code",
   "execution_count": null,
   "id": "bcf1c0ab",
   "metadata": {},
   "outputs": [],
   "source": [
    "import seaborn as sns\n",
    "import pandas as pd\n",
    "dataset = sns.load_dataset(\"car_crashes\")\n",
    "dataset.head(1)"
   ]
  },
  {
   "cell_type": "markdown",
   "id": "691f614e",
   "metadata": {},
   "source": [
    "# 🔧 Tool: 시각화\n",
    "\n",
    "**Dataset:** car_crashes\n",
    "**난이도:** 하\n",
    "\n",
    "**Q.** 🐧 \"펭귄의 두 마리의 성별에 따라 몸무게와 날개 길이를 비교 그래프로 나타내세요. 또한, 성별 간의 차이를 식별하세요.\""
   ]
  },
  {
   "cell_type": "code",
   "execution_count": null,
   "id": "f94094af",
   "metadata": {},
   "outputs": [],
   "source": [
    "import seaborn as sns\n",
    "import pandas as pd\n",
    "dataset = sns.load_dataset(\"car_crashes\")\n",
    "dataset.head(1)"
   ]
  },
  {
   "cell_type": "markdown",
   "id": "981f1f66",
   "metadata": {},
   "source": [
    "# 🔧 Tool: 시각화\n",
    "\n",
    "**Dataset:** car_crashes\n",
    "**난이도:** 하\n",
    "\n",
    "**Q.** This problem is suitable for a beginner level, as it requires basic visualization skills to create a simple plot comparing the mean values of two variables for different groups."
   ]
  },
  {
   "cell_type": "code",
   "execution_count": null,
   "id": "1be4244a",
   "metadata": {},
   "outputs": [],
   "source": [
    "import seaborn as sns\n",
    "import pandas as pd\n",
    "dataset = sns.load_dataset(\"car_crashes\")\n",
    "dataset.head(1)"
   ]
  },
  {
   "cell_type": "markdown",
   "id": "f7766dbf",
   "metadata": {},
   "source": [
    "# 🔧 Tool: 시각화\n",
    "\n",
    "**Dataset:** car_crashes\n",
    "**난이도:** 하\n",
    "\n",
    "**Q.** **Problem 2:**"
   ]
  },
  {
   "cell_type": "code",
   "execution_count": null,
   "id": "6ed49570",
   "metadata": {},
   "outputs": [],
   "source": [
    "import seaborn as sns\n",
    "import pandas as pd\n",
    "dataset = sns.load_dataset(\"car_crashes\")\n",
    "dataset.head(1)"
   ]
  },
  {
   "cell_type": "markdown",
   "id": "67d51b89",
   "metadata": {},
   "source": [
    "# 🔧 Tool: 시각화\n",
    "\n",
    "**Dataset:** car_crashes\n",
    "**난이도:** 하\n",
    "\n",
    "**Q.** 🚗 \"자동차사고 데이터에서 5가지 주어진 변수(월, 주간, 일자, 사망자수, 부상자수)로 구성된 3D scatter plot을 생성하여, 사망자수와 부상자수의 관계를 분석하세요. 또한, 변수 간의 상관관계를 식별하세요.\""
   ]
  },
  {
   "cell_type": "code",
   "execution_count": null,
   "id": "46740427",
   "metadata": {},
   "outputs": [],
   "source": [
    "import seaborn as sns\n",
    "import pandas as pd\n",
    "dataset = sns.load_dataset(\"car_crashes\")\n",
    "dataset.head(1)"
   ]
  },
  {
   "cell_type": "markdown",
   "id": "62669056",
   "metadata": {},
   "source": [
    "# 🔧 Tool: 시각화\n",
    "\n",
    "**Dataset:** car_crashes\n",
    "**난이도:** 하\n",
    "\n",
    "**Q.** This problem is suitable for an intermediate level, as it requires more advanced visualization skills to create a 3D scatter plot that combines multiple variables and identifies patterns in the data."
   ]
  },
  {
   "cell_type": "code",
   "execution_count": null,
   "id": "11b73731",
   "metadata": {},
   "outputs": [],
   "source": [
    "import seaborn as sns\n",
    "import pandas as pd\n",
    "dataset = sns.load_dataset(\"car_crashes\")\n",
    "dataset.head(1)"
   ]
  },
  {
   "cell_type": "markdown",
   "id": "262ffdc0",
   "metadata": {},
   "source": [
    "# 🔧 Tool: 시각화\n",
    "\n",
    "**Dataset:** car_crashes\n",
    "**난이도:** 하\n",
    "\n",
    "**Q.** Let me know if you'd like me to adjust the difficulty level or create more problems! 😊"
   ]
  },
  {
   "cell_type": "code",
   "execution_count": null,
   "id": "f868162d",
   "metadata": {},
   "outputs": [],
   "source": [
    "import seaborn as sns\n",
    "import pandas as pd\n",
    "dataset = sns.load_dataset(\"car_crashes\")\n",
    "dataset.head(1)"
   ]
  },
  {
   "cell_type": "markdown",
   "id": "ac0ba4e6",
   "metadata": {},
   "source": [
    "# 🔧 Tool: 시각화\n",
    "\n",
    "**Dataset:** car_crashes\n",
    "**난이도:** 하\n",
    "\n",
    "**Q.** **Problem 1:**"
   ]
  },
  {
   "cell_type": "code",
   "execution_count": null,
   "id": "60cea94e",
   "metadata": {},
   "outputs": [],
   "source": [
    "import seaborn as sns\n",
    "import pandas as pd\n",
    "dataset = sns.load_dataset(\"car_crashes\")\n",
    "dataset.head(1)"
   ]
  },
  {
   "cell_type": "markdown",
   "id": "39eb6192",
   "metadata": {},
   "source": [
    "# 🔧 Tool: 시각화\n",
    "\n",
    "**Dataset:** car_crashes\n",
    "**난이도:** 하\n",
    "\n",
    "**Q.** 🐧 \"펭귄의 몸무게, 날개 길이, 피부 길이를 그래프로 나타내세요. 또한, 펭귄의 몸무게가 가장 큰 종과 가장 작은 종 사이의 차이를 식별하세요.\""
   ]
  },
  {
   "cell_type": "code",
   "execution_count": null,
   "id": "b87e8e8a",
   "metadata": {},
   "outputs": [],
   "source": [
    "import seaborn as sns\n",
    "import pandas as pd\n",
    "dataset = sns.load_dataset(\"car_crashes\")\n",
    "dataset.head(1)"
   ]
  },
  {
   "cell_type": "markdown",
   "id": "c733a7cf",
   "metadata": {},
   "source": [
    "# 🔧 Tool: 시각화\n",
    "\n",
    "**Dataset:** car_crashes\n",
    "**난이도:** 하\n",
    "\n",
    "**Q.** This problem is suitable for a beginner level, as it requires basic visualization skills to create a simple plot comparing the three variables."
   ]
  },
  {
   "cell_type": "code",
   "execution_count": null,
   "id": "44c0fc07",
   "metadata": {},
   "outputs": [],
   "source": [
    "import seaborn as sns\n",
    "import pandas as pd\n",
    "dataset = sns.load_dataset(\"car_crashes\")\n",
    "dataset.head(1)"
   ]
  },
  {
   "cell_type": "markdown",
   "id": "24d85c2f",
   "metadata": {},
   "source": [
    "# 🔧 Tool: 시각화\n",
    "\n",
    "**Dataset:** car_crashes\n",
    "**난이도:** 하\n",
    "\n",
    "**Q.** **Problem 2:**"
   ]
  },
  {
   "cell_type": "code",
   "execution_count": null,
   "id": "e9d83c96",
   "metadata": {},
   "outputs": [],
   "source": [
    "import seaborn as sns\n",
    "import pandas as pd\n",
    "dataset = sns.load_dataset(\"car_crashes\")\n",
    "dataset.head(1)"
   ]
  },
  {
   "cell_type": "markdown",
   "id": "b1c96aef",
   "metadata": {},
   "source": [
    "# 🔧 Tool: 시각화\n",
    "\n",
    "**Dataset:** car_crashes\n",
    "**난이도:** 하\n",
    "\n",
    "**Q.** 🚗 \"차량 충돌사고의 지역, 날짜, 시간, 부상자 수, 사망자 수를 그래프로 나타내세요. 또한, 지역별로 부상자 수가 가장 높은 지역과 가장 낮은 지역 사이의 차이를 식별하세요.\""
   ]
  },
  {
   "cell_type": "code",
   "execution_count": null,
   "id": "a3aca302",
   "metadata": {},
   "outputs": [],
   "source": [
    "import seaborn as sns\n",
    "import pandas as pd\n",
    "dataset = sns.load_dataset(\"car_crashes\")\n",
    "dataset.head(1)"
   ]
  },
  {
   "cell_type": "markdown",
   "id": "17fd4248",
   "metadata": {},
   "source": [
    "# 🔧 Tool: 시각화\n",
    "\n",
    "**Dataset:** car_crashes\n",
    "**난이도:** 하\n",
    "\n",
    "**Q.** This problem is suitable for an intermediate level, as it requires more advanced visualization skills to create a graph that combines multiple variables and identifies patterns in the data."
   ]
  },
  {
   "cell_type": "code",
   "execution_count": null,
   "id": "43aae543",
   "metadata": {},
   "outputs": [],
   "source": [
    "import seaborn as sns\n",
    "import pandas as pd\n",
    "dataset = sns.load_dataset(\"car_crashes\")\n",
    "dataset.head(1)"
   ]
  },
  {
   "cell_type": "markdown",
   "id": "f7fe70fe",
   "metadata": {},
   "source": [
    "# 🔧 Tool: 시각화\n",
    "\n",
    "**Dataset:** car_crashes\n",
    "**난이도:** 하\n",
    "\n",
    "**Q.** Let me know if you'd like me to adjust the difficulty level or create more problems! 😊"
   ]
  },
  {
   "cell_type": "code",
   "execution_count": null,
   "id": "b86bfd47",
   "metadata": {},
   "outputs": [],
   "source": [
    "import seaborn as sns\n",
    "import pandas as pd\n",
    "dataset = sns.load_dataset(\"car_crashes\")\n",
    "dataset.head(1)"
   ]
  },
  {
   "cell_type": "markdown",
   "id": "86e5dedf",
   "metadata": {},
   "source": [
    "# 🔧 Tool: 시각화\n",
    "\n",
    "**Dataset:** flights\n",
    "**난이도:** 중하\n",
    "\n",
    "**Q.** 📊 **Problem 1:**"
   ]
  },
  {
   "cell_type": "code",
   "execution_count": null,
   "id": "230ac5e3",
   "metadata": {},
   "outputs": [],
   "source": [
    "import seaborn as sns\n",
    "import pandas as pd\n",
    "dataset = sns.load_dataset(\"flights\")\n",
    "dataset.head(1)"
   ]
  },
  {
   "cell_type": "markdown",
   "id": "5c3de887",
   "metadata": {},
   "source": [
    "# 🔧 Tool: 시각화\n",
    "\n",
    "**Dataset:** flights\n",
    "**난이도:** 중하\n",
    "\n",
    "**Q.** 🐧 \"펭귄의 몸길이, 날개길이, 몸무게에 따라 3가지 종을 분류하여 그래프로 나타내세요. 또한, 각 종의 평균 몸길이를 확인하세요.\""
   ]
  },
  {
   "cell_type": "code",
   "execution_count": null,
   "id": "393e77d9",
   "metadata": {},
   "outputs": [],
   "source": [
    "import seaborn as sns\n",
    "import pandas as pd\n",
    "dataset = sns.load_dataset(\"flights\")\n",
    "dataset.head(1)"
   ]
  },
  {
   "cell_type": "markdown",
   "id": "771fdcd1",
   "metadata": {},
   "source": [
    "# 🔧 Tool: 시각화\n",
    "\n",
    "**Dataset:** flights\n",
    "**난이도:** 중하\n",
    "\n",
    "**Q.** This problem is suitable for a beginner level, as it requires basic visualization skills to create a simple plot comparing the mean values of different variables for different categories."
   ]
  },
  {
   "cell_type": "code",
   "execution_count": null,
   "id": "ae53e073",
   "metadata": {},
   "outputs": [],
   "source": [
    "import seaborn as sns\n",
    "import pandas as pd\n",
    "dataset = sns.load_dataset(\"flights\")\n",
    "dataset.head(1)"
   ]
  },
  {
   "cell_type": "markdown",
   "id": "5c08d44b",
   "metadata": {},
   "source": [
    "# 🔧 Tool: 시각화\n",
    "\n",
    "**Dataset:** flights\n",
    "**난이도:** 중하\n",
    "\n",
    "**Q.** 📊 **Problem 2:**"
   ]
  },
  {
   "cell_type": "code",
   "execution_count": null,
   "id": "3501bfe8",
   "metadata": {},
   "outputs": [],
   "source": [
    "import seaborn as sns\n",
    "import pandas as pd\n",
    "dataset = sns.load_dataset(\"flights\")\n",
    "dataset.head(1)"
   ]
  },
  {
   "cell_type": "markdown",
   "id": "3d36cb63",
   "metadata": {},
   "source": [
    "# 🔧 Tool: 시각화\n",
    "\n",
    "**Dataset:** flights\n",
    "**난이도:** 중하\n",
    "\n",
    "**Q.** 🚗 \"자동차 충돌 사고의 경우, 도로 형태, 교통속도, 날씨, 피해 정도에 따라 그래프로 나타내세요. 또한, 가장 위험한 조합을 식별하세요.\""
   ]
  },
  {
   "cell_type": "code",
   "execution_count": null,
   "id": "1090cba5",
   "metadata": {},
   "outputs": [],
   "source": [
    "import seaborn as sns\n",
    "import pandas as pd\n",
    "dataset = sns.load_dataset(\"flights\")\n",
    "dataset.head(1)"
   ]
  },
  {
   "cell_type": "markdown",
   "id": "6e30c9fb",
   "metadata": {},
   "source": [
    "# 🔧 Tool: 시각화\n",
    "\n",
    "**Dataset:** flights\n",
    "**난이도:** 중하\n",
    "\n",
    "**Q.** This problem is suitable for an intermediate level, as it requires more advanced visualization skills to create a graph that combines multiple variables and identifies patterns in the data."
   ]
  },
  {
   "cell_type": "code",
   "execution_count": null,
   "id": "fa8d8c17",
   "metadata": {},
   "outputs": [],
   "source": [
    "import seaborn as sns\n",
    "import pandas as pd\n",
    "dataset = sns.load_dataset(\"flights\")\n",
    "dataset.head(1)"
   ]
  },
  {
   "cell_type": "markdown",
   "id": "0e847ab2",
   "metadata": {},
   "source": [
    "# 🔧 Tool: 시각화\n",
    "\n",
    "**Dataset:** flights\n",
    "**난이도:** 중하\n",
    "\n",
    "**Q.** Let me know if you'd like me to adjust the difficulty level or create more problems! 😊"
   ]
  },
  {
   "cell_type": "code",
   "execution_count": null,
   "id": "44acddb8",
   "metadata": {},
   "outputs": [],
   "source": [
    "import seaborn as sns\n",
    "import pandas as pd\n",
    "dataset = sns.load_dataset(\"flights\")\n",
    "dataset.head(1)"
   ]
  },
  {
   "cell_type": "markdown",
   "id": "5c5a81fd",
   "metadata": {},
   "source": [
    "# 🔧 Tool: 시각화\n",
    "\n",
    "**Dataset:** car_crashes\n",
    "**난이도:** 중하\n",
    "\n",
    "**Q.** 📊 **Problem 1:**"
   ]
  },
  {
   "cell_type": "code",
   "execution_count": null,
   "id": "b3a7bacd",
   "metadata": {},
   "outputs": [],
   "source": [
    "import seaborn as sns\n",
    "import pandas as pd\n",
    "dataset = sns.load_dataset(\"car_crashes\")\n",
    "dataset.head(1)"
   ]
  },
  {
   "cell_type": "markdown",
   "id": "35126be9",
   "metadata": {},
   "source": [
    "# 🔧 Tool: 시각화\n",
    "\n",
    "**Dataset:** car_crashes\n",
    "**난이도:** 중하\n",
    "\n",
    "**Q.** \"펭귄의 몸무게와 날개길이를 비교하여, 몸무게가 3000g 이하/초과인 펭귄의 날개길이를 그래프로 나타내세요. 또한, 몸무게가 3000g 이하/초과인 펭귄의 날개길이 평균을 계산하세요.\""
   ]
  },
  {
   "cell_type": "code",
   "execution_count": null,
   "id": "bf8d876d",
   "metadata": {},
   "outputs": [],
   "source": [
    "import seaborn as sns\n",
    "import pandas as pd\n",
    "dataset = sns.load_dataset(\"car_crashes\")\n",
    "dataset.head(1)"
   ]
  },
  {
   "cell_type": "markdown",
   "id": "93b1f39b",
   "metadata": {},
   "source": [
    "# 🔧 Tool: 시각화\n",
    "\n",
    "**Dataset:** car_crashes\n",
    "**난이도:** 중하\n",
    "\n",
    "**Q.** This problem is suitable for a low-intermediate level, as it requires basic visualization skills to create a simple plot and calculate mean values."
   ]
  },
  {
   "cell_type": "code",
   "execution_count": null,
   "id": "09d351a2",
   "metadata": {},
   "outputs": [],
   "source": [
    "import seaborn as sns\n",
    "import pandas as pd\n",
    "dataset = sns.load_dataset(\"car_crashes\")\n",
    "dataset.head(1)"
   ]
  },
  {
   "cell_type": "markdown",
   "id": "0a992012",
   "metadata": {},
   "source": [
    "# 🔧 Tool: 시각화\n",
    "\n",
    "**Dataset:** car_crashes\n",
    "**난이도:** 중하\n",
    "\n",
    "**Q.** 📊 **Problem 2:**"
   ]
  },
  {
   "cell_type": "code",
   "execution_count": null,
   "id": "4ec1266b",
   "metadata": {},
   "outputs": [],
   "source": [
    "import seaborn as sns\n",
    "import pandas as pd\n",
    "dataset = sns.load_dataset(\"car_crashes\")\n",
    "dataset.head(1)"
   ]
  },
  {
   "cell_type": "markdown",
   "id": "424b2ed7",
   "metadata": {},
   "source": [
    "# 🔧 Tool: 시각화\n",
    "\n",
    "**Dataset:** car_crashes\n",
    "**난이도:** 중하\n",
    "\n",
    "**Q.** \"자동차 교통사고의 지역별 발생 빈도를 분석하여, 가장 교통사고가 많은 지역과 가장 교통사고가 적은 지역을 식별하세요. 또한, 교통사고의 발생 빈도를 지역별로 그래프로 나타내세요.\""
   ]
  },
  {
   "cell_type": "code",
   "execution_count": null,
   "id": "74130ff4",
   "metadata": {},
   "outputs": [],
   "source": [
    "import seaborn as sns\n",
    "import pandas as pd\n",
    "dataset = sns.load_dataset(\"car_crashes\")\n",
    "dataset.head(1)"
   ]
  },
  {
   "cell_type": "markdown",
   "id": "9e3dddb3",
   "metadata": {},
   "source": [
    "# 🔧 Tool: 시각화\n",
    "\n",
    "**Dataset:** car_crashes\n",
    "**난이도:** 중하\n",
    "\n",
    "**Q.** This problem is suitable for a medium-high level, as it requires more advanced visualization skills to create a graph that combines spatial and categorical data, and identifies patterns in the data."
   ]
  },
  {
   "cell_type": "code",
   "execution_count": null,
   "id": "acdcd454",
   "metadata": {},
   "outputs": [],
   "source": [
    "import seaborn as sns\n",
    "import pandas as pd\n",
    "dataset = sns.load_dataset(\"car_crashes\")\n",
    "dataset.head(1)"
   ]
  },
  {
   "cell_type": "markdown",
   "id": "6f2f1dbf",
   "metadata": {},
   "source": [
    "# 🔧 Tool: 시각화\n",
    "\n",
    "**Dataset:** car_crashes\n",
    "**난이도:** 중하\n",
    "\n",
    "**Q.** Let me know if you'd like me to adjust the difficulty level or create more problems! 😊"
   ]
  },
  {
   "cell_type": "code",
   "execution_count": null,
   "id": "b30fd1fb",
   "metadata": {},
   "outputs": [],
   "source": [
    "import seaborn as sns\n",
    "import pandas as pd\n",
    "dataset = sns.load_dataset(\"car_crashes\")\n",
    "dataset.head(1)"
   ]
  },
  {
   "cell_type": "markdown",
   "id": "7ef10598",
   "metadata": {},
   "source": [
    "# 🔧 Tool: 시각화\n",
    "\n",
    "**Dataset:** car_crashes\n",
    "**난이도:** 중상\n",
    "\n",
    "**Q.** **Problem 1:**"
   ]
  },
  {
   "cell_type": "code",
   "execution_count": null,
   "id": "ecec2221",
   "metadata": {},
   "outputs": [],
   "source": [
    "import seaborn as sns\n",
    "import pandas as pd\n",
    "dataset = sns.load_dataset(\"car_crashes\")\n",
    "dataset.head(1)"
   ]
  },
  {
   "cell_type": "markdown",
   "id": "78cd6383",
   "metadata": {},
   "source": [
    "# 🔧 Tool: 시각화\n",
    "\n",
    "**Dataset:** car_crashes\n",
    "**난이도:** 중상\n",
    "\n",
    "**Q.** 🐧 \"펭귄의 두 종에 따라 몸무게, 날개 길이, 피부색을 비교 그래프로 나타내세요. 또한, 각종의 특징을 분석하여 가장 큰 차이를 보이는 특징을 식별하세요.\""
   ]
  },
  {
   "cell_type": "code",
   "execution_count": null,
   "id": "4d1eda86",
   "metadata": {},
   "outputs": [],
   "source": [
    "import seaborn as sns\n",
    "import pandas as pd\n",
    "dataset = sns.load_dataset(\"car_crashes\")\n",
    "dataset.head(1)"
   ]
  },
  {
   "cell_type": "markdown",
   "id": "88f53519",
   "metadata": {},
   "source": [
    "# 🔧 Tool: 시각화\n",
    "\n",
    "**Dataset:** car_crashes\n",
    "**난이도:** 중상\n",
    "\n",
    "**Q.** This problem is suitable for a beginner level, as it requires basic visualization skills to create a simple plot comparing the characteristics of two penguin species."
   ]
  },
  {
   "cell_type": "code",
   "execution_count": null,
   "id": "f8c4df61",
   "metadata": {},
   "outputs": [],
   "source": [
    "import seaborn as sns\n",
    "import pandas as pd\n",
    "dataset = sns.load_dataset(\"car_crashes\")\n",
    "dataset.head(1)"
   ]
  },
  {
   "cell_type": "markdown",
   "id": "f97104d7",
   "metadata": {},
   "source": [
    "# 🔧 Tool: 시각화\n",
    "\n",
    "**Dataset:** car_crashes\n",
    "**난이도:** 중상\n",
    "\n",
    "**Q.** **Problem 2:**"
   ]
  },
  {
   "cell_type": "code",
   "execution_count": null,
   "id": "915ca06b",
   "metadata": {},
   "outputs": [],
   "source": [
    "import seaborn as sns\n",
    "import pandas as pd\n",
    "dataset = sns.load_dataset(\"car_crashes\")\n",
    "dataset.head(1)"
   ]
  },
  {
   "cell_type": "markdown",
   "id": "ca13f519",
   "metadata": {},
   "source": [
    "# 🔧 Tool: 시각화\n",
    "\n",
    "**Dataset:** car_crashes\n",
    "**난이도:** 중상\n",
    "\n",
    "**Q.** 🚗 \"자동차 충돌 사고의 5가지 요인(운전자의 나이, 성별, 속도, 날씨,道路 조건)에 따라 사고의 빈도수를 그래프로 나타내세요. 또한, 가장 큰 영향을 미치는 요인을 식별하고, 이를 통해 사고 예방을 위한策略를 제안하세요.\""
   ]
  },
  {
   "cell_type": "code",
   "execution_count": null,
   "id": "fefb0042",
   "metadata": {},
   "outputs": [],
   "source": [
    "import seaborn as sns\n",
    "import pandas as pd\n",
    "dataset = sns.load_dataset(\"car_crashes\")\n",
    "dataset.head(1)"
   ]
  },
  {
   "cell_type": "markdown",
   "id": "243e604a",
   "metadata": {},
   "source": [
    "# 🔧 Tool: 시각화\n",
    "\n",
    "**Dataset:** car_crashes\n",
    "**난이도:** 중상\n",
    "\n",
    "**Q.** This problem is suitable for an intermediate level, as it requires more advanced visualization skills to create a graph that combines multiple variables and identifies patterns in the data to inform strategies for preventing car crashes."
   ]
  },
  {
   "cell_type": "code",
   "execution_count": null,
   "id": "f76edfae",
   "metadata": {},
   "outputs": [],
   "source": [
    "import seaborn as sns\n",
    "import pandas as pd\n",
    "dataset = sns.load_dataset(\"car_crashes\")\n",
    "dataset.head(1)"
   ]
  },
  {
   "cell_type": "markdown",
   "id": "31ad3431",
   "metadata": {},
   "source": [
    "# 🔧 Tool: 시각화\n",
    "\n",
    "**Dataset:** flights\n",
    "**난이도:** 중상\n",
    "\n",
    "**Q.** 📊 **Problem 1:**"
   ]
  },
  {
   "cell_type": "code",
   "execution_count": null,
   "id": "80b689ea",
   "metadata": {},
   "outputs": [],
   "source": [
    "import seaborn as sns\n",
    "import pandas as pd\n",
    "dataset = sns.load_dataset(\"flights\")\n",
    "dataset.head(1)"
   ]
  },
  {
   "cell_type": "markdown",
   "id": "548a94ae",
   "metadata": {},
   "source": [
    "# 🔧 Tool: 시각화\n",
    "\n",
    "**Dataset:** flights\n",
    "**난이도:** 중상\n",
    "\n",
    "**Q.** 🐧 \"펭귄의 몸길이, 몸무게, 날개길이에 따라 3종의 펭귄을 분류하세요. 또한, 각 종의 특징을 보여주는 그래프를 생성하여 펭귄의 특성을 분석하세요.\""
   ]
  },
  {
   "cell_type": "code",
   "execution_count": null,
   "id": "40eddf96",
   "metadata": {},
   "outputs": [],
   "source": [
    "import seaborn as sns\n",
    "import pandas as pd\n",
    "dataset = sns.load_dataset(\"flights\")\n",
    "dataset.head(1)"
   ]
  },
  {
   "cell_type": "markdown",
   "id": "aa1339e6",
   "metadata": {},
   "source": [
    "# 🔧 Tool: 시각화\n",
    "\n",
    "**Dataset:** flights\n",
    "**난이도:** 중상\n",
    "\n",
    "**Q.** This problem is suitable for a beginner level, as it requires basic visualization skills to create a simple plot comparing the distributions of the three penguin species."
   ]
  },
  {
   "cell_type": "code",
   "execution_count": null,
   "id": "14b6e024",
   "metadata": {},
   "outputs": [],
   "source": [
    "import seaborn as sns\n",
    "import pandas as pd\n",
    "dataset = sns.load_dataset(\"flights\")\n",
    "dataset.head(1)"
   ]
  },
  {
   "cell_type": "markdown",
   "id": "be357af8",
   "metadata": {},
   "source": [
    "# 🔧 Tool: 시각화\n",
    "\n",
    "**Dataset:** flights\n",
    "**난이도:** 중상\n",
    "\n",
    "**Q.** 📊 **Problem 2:**"
   ]
  },
  {
   "cell_type": "code",
   "execution_count": null,
   "id": "5785d27f",
   "metadata": {},
   "outputs": [],
   "source": [
    "import seaborn as sns\n",
    "import pandas as pd\n",
    "dataset = sns.load_dataset(\"flights\")\n",
    "dataset.head(1)"
   ]
  },
  {
   "cell_type": "markdown",
   "id": "759274f9",
   "metadata": {},
   "source": [
    "# 🔧 Tool: 시각화\n",
    "\n",
    "**Dataset:** flights\n",
    "**난이도:** 중상\n",
    "\n",
    "**Q.** 🚗 \"자동차 충돌 사고의 지역, 속도, gender, age에 따라 4가지 변수를 그래프로 나타내세요. 또한, 충돌 사고의 빈도를 가장 높은 지역과 가장 낮은 지역 사이의 차이를 식별하세요.\""
   ]
  },
  {
   "cell_type": "code",
   "execution_count": null,
   "id": "65c7b8b0",
   "metadata": {},
   "outputs": [],
   "source": [
    "import seaborn as sns\n",
    "import pandas as pd\n",
    "dataset = sns.load_dataset(\"flights\")\n",
    "dataset.head(1)"
   ]
  },
  {
   "cell_type": "markdown",
   "id": "707e2a72",
   "metadata": {},
   "source": [
    "# 🔧 Tool: 시각화\n",
    "\n",
    "**Dataset:** flights\n",
    "**난이도:** 중상\n",
    "\n",
    "**Q.** This problem is suitable for an intermediate level, as it requires more advanced visualization skills to create a graph that combines multiple variables and identifies patterns in the data."
   ]
  },
  {
   "cell_type": "code",
   "execution_count": null,
   "id": "a8b08de2",
   "metadata": {},
   "outputs": [],
   "source": [
    "import seaborn as sns\n",
    "import pandas as pd\n",
    "dataset = sns.load_dataset(\"flights\")\n",
    "dataset.head(1)"
   ]
  },
  {
   "cell_type": "markdown",
   "id": "144df0a7",
   "metadata": {},
   "source": [
    "# 🔧 Tool: 시각화\n",
    "\n",
    "**Dataset:** flights\n",
    "**난이도:** 중상\n",
    "\n",
    "**Q.** Let me know if you'd like me to adjust the difficulty level or create more problems! 😊"
   ]
  },
  {
   "cell_type": "code",
   "execution_count": null,
   "id": "767a2827",
   "metadata": {},
   "outputs": [],
   "source": [
    "import seaborn as sns\n",
    "import pandas as pd\n",
    "dataset = sns.load_dataset(\"flights\")\n",
    "dataset.head(1)"
   ]
  },
  {
   "cell_type": "markdown",
   "id": "6613dcc7",
   "metadata": {},
   "source": [
    "# 🔧 Tool: 시각화\n",
    "\n",
    "**Dataset:** car_crashes\n",
    "**난이도:** 하\n",
    "\n",
    "**Q.** 📊 **Problem 1:**"
   ]
  },
  {
   "cell_type": "code",
   "execution_count": null,
   "id": "f8ef7e77",
   "metadata": {},
   "outputs": [],
   "source": [
    "import seaborn as sns\n",
    "import pandas as pd\n",
    "dataset = sns.load_dataset(\"car_crashes\")\n",
    "dataset.head(1)"
   ]
  },
  {
   "cell_type": "markdown",
   "id": "4e88ff1e",
   "metadata": {},
   "source": [
    "# 🔧 Tool: 시각화\n",
    "\n",
    "**Dataset:** car_crashes\n",
    "**난이도:** 하\n",
    "\n",
    "**Q.** \"하루 중에 교통사고가 가장多하게 되는 시간대를 확인하세요. 'car_crashes' 데이터셋을 사용하여, 교통사고가 발생한 시간대별로 분포를 그래프로 나타내세요. 또한, 가장_BUSY한 시간대와 가장 비BUSY한 시간대를 식별하세요.\""
   ]
  },
  {
   "cell_type": "code",
   "execution_count": null,
   "id": "33b81d9d",
   "metadata": {},
   "outputs": [],
   "source": [
    "import seaborn as sns\n",
    "import pandas as pd\n",
    "dataset = sns.load_dataset(\"car_crashes\")\n",
    "dataset.head(1)"
   ]
  },
  {
   "cell_type": "markdown",
   "id": "a706158b",
   "metadata": {},
   "source": [
    "# 🔧 Tool: 시각화\n",
    "\n",
    "**Dataset:** car_crashes\n",
    "**난이도:** 하\n",
    "\n",
    "**Q.** This problem is suitable for a beginner level, as it requires basic visualization skills to create a simple plot comparing the distribution of car crashes by hour of the day."
   ]
  },
  {
   "cell_type": "code",
   "execution_count": null,
   "id": "1c5e9fd8",
   "metadata": {},
   "outputs": [],
   "source": [
    "import seaborn as sns\n",
    "import pandas as pd\n",
    "dataset = sns.load_dataset(\"car_crashes\")\n",
    "dataset.head(1)"
   ]
  },
  {
   "cell_type": "markdown",
   "id": "623955f9",
   "metadata": {},
   "source": [
    "# 🔧 Tool: 시각화\n",
    "\n",
    "**Dataset:** car_crashes\n",
    "**난이도:** 하\n",
    "\n",
    "**Q.** 📊 **Problem 2:**"
   ]
  },
  {
   "cell_type": "code",
   "execution_count": null,
   "id": "dc86bfeb",
   "metadata": {},
   "outputs": [],
   "source": [
    "import seaborn as sns\n",
    "import pandas as pd\n",
    "dataset = sns.load_dataset(\"car_crashes\")\n",
    "dataset.head(1)"
   ]
  },
  {
   "cell_type": "markdown",
   "id": "2a09a9c1",
   "metadata": {},
   "source": [
    "# 🔧 Tool: 시각화\n",
    "\n",
    "**Dataset:** car_crashes\n",
    "**난이도:** 하\n",
    "\n",
    "**Q.** \"음식점에서 서비스를 제공하는 직원의 팁을 분석하세요. 'tips' 데이터셋을 사용하여, 직원의 성별, 경력, 서비스 기간별 팁의 평균을 그래프로 나타내세요. 또한, 이러한 변수에 따라 팁의 평균이 가장 높은 직원과 가장 낮은 직원 사이의 차이를 식별하세요.\""
   ]
  },
  {
   "cell_type": "code",
   "execution_count": null,
   "id": "afc425c9",
   "metadata": {},
   "outputs": [],
   "source": [
    "import seaborn as sns\n",
    "import pandas as pd\n",
    "dataset = sns.load_dataset(\"car_crashes\")\n",
    "dataset.head(1)"
   ]
  },
  {
   "cell_type": "markdown",
   "id": "b004c353",
   "metadata": {},
   "source": [
    "# 🔧 Tool: 시각화\n",
    "\n",
    "**Dataset:** car_crashes\n",
    "**난이도:** 하\n",
    "\n",
    "**Q.** This problem is suitable for an intermediate level, as it requires more advanced visualization skills to create a graph that combines multiple variables and identifies patterns in the data."
   ]
  },
  {
   "cell_type": "code",
   "execution_count": null,
   "id": "5157cf6d",
   "metadata": {},
   "outputs": [],
   "source": [
    "import seaborn as sns\n",
    "import pandas as pd\n",
    "dataset = sns.load_dataset(\"car_crashes\")\n",
    "dataset.head(1)"
   ]
  },
  {
   "cell_type": "markdown",
   "id": "c27f393f",
   "metadata": {},
   "source": [
    "# 🔧 Tool: 시각화\n",
    "\n",
    "**Dataset:** car_crashes\n",
    "**난이도:** 하\n",
    "\n",
    "**Q.** Let me know if you'd like me to adjust the difficulty level or create more problems! 😊"
   ]
  },
  {
   "cell_type": "code",
   "execution_count": null,
   "id": "d233d4ca",
   "metadata": {},
   "outputs": [],
   "source": [
    "import seaborn as sns\n",
    "import pandas as pd\n",
    "dataset = sns.load_dataset(\"car_crashes\")\n",
    "dataset.head(1)"
   ]
  },
  {
   "cell_type": "markdown",
   "id": "2ec793c2",
   "metadata": {},
   "source": [
    "# 🔧 Tool: 시각화\n",
    "\n",
    "**Dataset:** flights\n",
    "**난이도:** 하\n",
    "\n",
    "**Q.** **Problem 1:**"
   ]
  },
  {
   "cell_type": "code",
   "execution_count": null,
   "id": "4d7a75cd",
   "metadata": {},
   "outputs": [],
   "source": [
    "import seaborn as sns\n",
    "import pandas as pd\n",
    "dataset = sns.load_dataset(\"flights\")\n",
    "dataset.head(1)"
   ]
  },
  {
   "cell_type": "markdown",
   "id": "113d0083",
   "metadata": {},
   "source": [
    "# 🔧 Tool: 시각화\n",
    "\n",
    "**Dataset:** flights\n",
    "**난이도:** 하\n",
    "\n",
    "**Q.** 🚗 \"자동차 충돌사고의 빈도를 나타내는 지도에서, 2010년부터 2019년까지의 데이터를 사용하여 도시별 충돌사고 빈도를 비교하세요. 또한, 도시별 충돌사고 빈도를 가장 높은 도시와 가장 낮은 도시 사이의 차이를 식별하세요.\""
   ]
  },
  {
   "cell_type": "code",
   "execution_count": null,
   "id": "3a1e3625",
   "metadata": {},
   "outputs": [],
   "source": [
    "import seaborn as sns\n",
    "import pandas as pd\n",
    "dataset = sns.load_dataset(\"flights\")\n",
    "dataset.head(1)"
   ]
  },
  {
   "cell_type": "markdown",
   "id": "55be50c4",
   "metadata": {},
   "source": [
    "# 🔧 Tool: 시각화\n",
    "\n",
    "**Dataset:** flights\n",
    "**난이도:** 하\n",
    "\n",
    "**Q.** This problem is suitable for a beginner level, as it requires basic visualization skills to create a map that displays the frequency of car crashes in different cities over a period of time."
   ]
  },
  {
   "cell_type": "code",
   "execution_count": null,
   "id": "dff6d15d",
   "metadata": {},
   "outputs": [],
   "source": [
    "import seaborn as sns\n",
    "import pandas as pd\n",
    "dataset = sns.load_dataset(\"flights\")\n",
    "dataset.head(1)"
   ]
  },
  {
   "cell_type": "markdown",
   "id": "8b4c8519",
   "metadata": {},
   "source": [
    "# 🔧 Tool: 시각화\n",
    "\n",
    "**Dataset:** flights\n",
    "**난이도:** 하\n",
    "\n",
    "**Q.** **Problem 2:**"
   ]
  },
  {
   "cell_type": "code",
   "execution_count": null,
   "id": "458ce8d8",
   "metadata": {},
   "outputs": [],
   "source": [
    "import seaborn as sns\n",
    "import pandas as pd\n",
    "dataset = sns.load_dataset(\"flights\")\n",
    "dataset.head(1)"
   ]
  },
  {
   "cell_type": "markdown",
   "id": "a0744edb",
   "metadata": {},
   "source": [
    "# 🔧 Tool: 시각화\n",
    "\n",
    "**Dataset:** flights\n",
    "**난이도:** 하\n",
    "\n",
    "**Q.** 🍴 \"요리 가이드에서 제공하는 요리 Tip의 평균점수를 나타내는 히트맵에서, 특정 요리 카테고리별 Tip의 평균점수를 비교하세요. 또한, 요리 카테고리별 Tip의 평균점수를 가장 높은 카테고리와 가장 낮은 카테고리 사이의 차이를 식별하세요.\""
   ]
  },
  {
   "cell_type": "code",
   "execution_count": null,
   "id": "f3df3abe",
   "metadata": {},
   "outputs": [],
   "source": [
    "import seaborn as sns\n",
    "import pandas as pd\n",
    "dataset = sns.load_dataset(\"flights\")\n",
    "dataset.head(1)"
   ]
  },
  {
   "cell_type": "markdown",
   "id": "6d43f0f7",
   "metadata": {},
   "source": [
    "# 🔧 Tool: 시각화\n",
    "\n",
    "**Dataset:** flights\n",
    "**난이도:** 하\n",
    "\n",
    "**Q.** This problem is suitable for an intermediate level, as it requires more advanced visualization skills to create a heat map that combines multiple variables and identifies patterns in the data."
   ]
  },
  {
   "cell_type": "code",
   "execution_count": null,
   "id": "27f38d87",
   "metadata": {},
   "outputs": [],
   "source": [
    "import seaborn as sns\n",
    "import pandas as pd\n",
    "dataset = sns.load_dataset(\"flights\")\n",
    "dataset.head(1)"
   ]
  },
  {
   "cell_type": "markdown",
   "id": "7156fec5",
   "metadata": {},
   "source": [
    "# 🔧 Tool: 시각화\n",
    "\n",
    "**Dataset:** flights\n",
    "**난이도:** 하\n",
    "\n",
    "**Q.** Let me know if you'd like me to adjust the difficulty level or create more problems! 😊"
   ]
  },
  {
   "cell_type": "code",
   "execution_count": null,
   "id": "bf6d8e77",
   "metadata": {},
   "outputs": [],
   "source": [
    "import seaborn as sns\n",
    "import pandas as pd\n",
    "dataset = sns.load_dataset(\"flights\")\n",
    "dataset.head(1)"
   ]
  },
  {
   "cell_type": "markdown",
   "id": "185e2b65",
   "metadata": {},
   "source": [
    "# 🔧 Tool: 시각화\n",
    "\n",
    "**Dataset:** car_crashes\n",
    "**난이도:** 중하\n",
    "\n",
    "**Q.** 📊 **Problem 1:**"
   ]
  },
  {
   "cell_type": "code",
   "execution_count": null,
   "id": "841215d1",
   "metadata": {},
   "outputs": [],
   "source": [
    "import seaborn as sns\n",
    "import pandas as pd\n",
    "dataset = sns.load_dataset(\"car_crashes\")\n",
    "dataset.head(1)"
   ]
  },
  {
   "cell_type": "markdown",
   "id": "c7a4d6eb",
   "metadata": {},
   "source": [
    "# 🔧 Tool: 시각화\n",
    "\n",
    "**Dataset:** car_crashes\n",
    "**난이도:** 중하\n",
    "\n",
    "**Q.** 🚗 \"고속도로 사고 현황을 분석하여, 사고가 가장 많이 발생하는 도로 구간을 확인하세요. 또한, 이 도로 구간에서 사고가 발생하는 시간을 분석하여 Peak Hour를 식별하세요.\""
   ]
  },
  {
   "cell_type": "code",
   "execution_count": null,
   "id": "bb088251",
   "metadata": {},
   "outputs": [],
   "source": [
    "import seaborn as sns\n",
    "import pandas as pd\n",
    "dataset = sns.load_dataset(\"car_crashes\")\n",
    "dataset.head(1)"
   ]
  },
  {
   "cell_type": "markdown",
   "id": "443a9677",
   "metadata": {},
   "source": [
    "# 🔧 Tool: 시각화\n",
    "\n",
    "**Dataset:** car_crashes\n",
    "**난이도:** 중하\n",
    "\n",
    "**Q.** This problem is suitable for a beginner level, as it requires basic visualization skills to create a simple plot comparing the frequency of accidents on different road segments and identifying patterns in the data."
   ]
  },
  {
   "cell_type": "code",
   "execution_count": null,
   "id": "6674180a",
   "metadata": {},
   "outputs": [],
   "source": [
    "import seaborn as sns\n",
    "import pandas as pd\n",
    "dataset = sns.load_dataset(\"car_crashes\")\n",
    "dataset.head(1)"
   ]
  },
  {
   "cell_type": "markdown",
   "id": "1273f27f",
   "metadata": {},
   "source": [
    "# 🔧 Tool: 시각화\n",
    "\n",
    "**Dataset:** car_crashes\n",
    "**난이도:** 중하\n",
    "\n",
    "**Q.** 📊 **Problem 2:**"
   ]
  },
  {
   "cell_type": "code",
   "execution_count": null,
   "id": "ead2f7e0",
   "metadata": {},
   "outputs": [],
   "source": [
    "import seaborn as sns\n",
    "import pandas as pd\n",
    "dataset = sns.load_dataset(\"car_crashes\")\n",
    "dataset.head(1)"
   ]
  },
  {
   "cell_type": "markdown",
   "id": "a025baa4",
   "metadata": {},
   "source": [
    "# 🔧 Tool: 시각화\n",
    "\n",
    "**Dataset:** car_crashes\n",
    "**난이도:** 중하\n",
    "\n",
    "**Q.** 🏨 \"이벤트에 참석한 고객의 성별, 연령, 예상 수입 등에 따라 예상 수입을 예측하는 모델을 개발하세요. 또한, 모델의 성능을 평가하고, 성별에 따라 예상 수입의 차이를 분석하세요.\""
   ]
  },
  {
   "cell_type": "code",
   "execution_count": null,
   "id": "c2420a7c",
   "metadata": {},
   "outputs": [],
   "source": [
    "import seaborn as sns\n",
    "import pandas as pd\n",
    "dataset = sns.load_dataset(\"car_crashes\")\n",
    "dataset.head(1)"
   ]
  },
  {
   "cell_type": "markdown",
   "id": "f046dede",
   "metadata": {},
   "source": [
    "# 🔧 Tool: 시각화\n",
    "\n",
    "**Dataset:** car_crashes\n",
    "**난이도:** 중하\n",
    "\n",
    "**Q.** This problem is suitable for an intermediate level, as it requires more advanced visualization skills to create a graph that combines multiple variables and evaluates the performance of a predictive model."
   ]
  },
  {
   "cell_type": "code",
   "execution_count": null,
   "id": "819baa56",
   "metadata": {},
   "outputs": [],
   "source": [
    "import seaborn as sns\n",
    "import pandas as pd\n",
    "dataset = sns.load_dataset(\"car_crashes\")\n",
    "dataset.head(1)"
   ]
  },
  {
   "cell_type": "markdown",
   "id": "4588cb89",
   "metadata": {},
   "source": [
    "# 🔧 Tool: 시각화\n",
    "\n",
    "**Dataset:** car_crashes\n",
    "**난이도:** 중하\n",
    "\n",
    "**Q.** **Problem 1:**"
   ]
  },
  {
   "cell_type": "code",
   "execution_count": null,
   "id": "73d90f97",
   "metadata": {},
   "outputs": [],
   "source": [
    "import seaborn as sns\n",
    "import pandas as pd\n",
    "dataset = sns.load_dataset(\"car_crashes\")\n",
    "dataset.head(1)"
   ]
  },
  {
   "cell_type": "markdown",
   "id": "7b6e81ea",
   "metadata": {},
   "source": [
    "# 🔧 Tool: 시각화\n",
    "\n",
    "**Dataset:** car_crashes\n",
    "**난이도:** 중하\n",
    "\n",
    "**Q.** 🚗 \"시카고에서 발생한 교통사고의 5가지 유형에 따라 사망자 수, 부상자 수, 피해액을 막대 그래프로 나타내세요. 또한, 사망자 수와 부상자 수가 가장 높은 유형을 식별하세요.\""
   ]
  },
  {
   "cell_type": "code",
   "execution_count": null,
   "id": "fb758936",
   "metadata": {},
   "outputs": [],
   "source": [
    "import seaborn as sns\n",
    "import pandas as pd\n",
    "dataset = sns.load_dataset(\"car_crashes\")\n",
    "dataset.head(1)"
   ]
  },
  {
   "cell_type": "markdown",
   "id": "1167db1c",
   "metadata": {},
   "source": [
    "# 🔧 Tool: 시각화\n",
    "\n",
    "**Dataset:** car_crashes\n",
    "**난이도:** 중하\n",
    "\n",
    "**Q.** This problem is suitable for a beginner level, as it requires basic visualization skills to create a simple bar chart comparing categorical data."
   ]
  },
  {
   "cell_type": "code",
   "execution_count": null,
   "id": "fe4e3ad0",
   "metadata": {},
   "outputs": [],
   "source": [
    "import seaborn as sns\n",
    "import pandas as pd\n",
    "dataset = sns.load_dataset(\"car_crashes\")\n",
    "dataset.head(1)"
   ]
  },
  {
   "cell_type": "markdown",
   "id": "5cb43b2a",
   "metadata": {},
   "source": [
    "# 🔧 Tool: 시각화\n",
    "\n",
    "**Dataset:** car_crashes\n",
    "**난이도:** 중하\n",
    "\n",
    "**Q.** **Problem 2:**"
   ]
  },
  {
   "cell_type": "code",
   "execution_count": null,
   "id": "85cb97f0",
   "metadata": {},
   "outputs": [],
   "source": [
    "import seaborn as sns\n",
    "import pandas as pd\n",
    "dataset = sns.load_dataset(\"car_crashes\")\n",
    "dataset.head(1)"
   ]
  },
  {
   "cell_type": "markdown",
   "id": "def1eeba",
   "metadata": {},
   "source": [
    "# 🔧 Tool: 시각화\n",
    "\n",
    "**Dataset:** car_crashes\n",
    "**난이도:** 중하\n",
    "\n",
    "**Q.** 💸 \"미국에서 제공하는 항공편의 탑승객 수, 평균 비용, 평균 지연 시간을 scatter plot으로 나타내세요. 또한, 탑승객 수가 가장 많은 항공편과 지연 시간이 가장 짧은 항공편의 비용을 비교하세요.\""
   ]
  },
  {
   "cell_type": "code",
   "execution_count": null,
   "id": "cad5d15b",
   "metadata": {},
   "outputs": [],
   "source": [
    "import seaborn as sns\n",
    "import pandas as pd\n",
    "dataset = sns.load_dataset(\"car_crashes\")\n",
    "dataset.head(1)"
   ]
  },
  {
   "cell_type": "markdown",
   "id": "097ad5b5",
   "metadata": {},
   "source": [
    "# 🔧 Tool: 시각화\n",
    "\n",
    "**Dataset:** car_crashes\n",
    "**난이도:** 중하\n",
    "\n",
    "**Q.** This problem is suitable for an intermediate level, as it requires more advanced visualization skills to create a scatter plot that combines multiple continuous variables and identifies patterns in the data."
   ]
  },
  {
   "cell_type": "code",
   "execution_count": null,
   "id": "b64c896a",
   "metadata": {},
   "outputs": [],
   "source": [
    "import seaborn as sns\n",
    "import pandas as pd\n",
    "dataset = sns.load_dataset(\"car_crashes\")\n",
    "dataset.head(1)"
   ]
  },
  {
   "cell_type": "markdown",
   "id": "4fafe2dd",
   "metadata": {},
   "source": [
    "# 🔧 Tool: 시각화\n",
    "\n",
    "**Dataset:** tips\n",
    "**난이도:** 중상\n",
    "\n",
    "**Q.** **Problem 1:**"
   ]
  },
  {
   "cell_type": "code",
   "execution_count": null,
   "id": "d8b2eb87",
   "metadata": {},
   "outputs": [],
   "source": [
    "import seaborn as sns\n",
    "import pandas as pd\n",
    "dataset = sns.load_dataset(\"tips\")\n",
    "dataset.head(1)"
   ]
  },
  {
   "cell_type": "markdown",
   "id": "a147113c",
   "metadata": {},
   "source": [
    "# 🔧 Tool: 시각화\n",
    "\n",
    "**Dataset:** tips\n",
    "**난이도:** 중상\n",
    "\n",
    "**Q.** 🚗 \"차량 사고 현황에 따라, 사망자 수, 부상자 수, 총 사고 수를 그래프로 나타내세요. 또한, 사망자 수와 부상자 수 사이의 관계를 분석하세요.\""
   ]
  },
  {
   "cell_type": "code",
   "execution_count": null,
   "id": "15bd7b1e",
   "metadata": {},
   "outputs": [],
   "source": [
    "import seaborn as sns\n",
    "import pandas as pd\n",
    "dataset = sns.load_dataset(\"tips\")\n",
    "dataset.head(1)"
   ]
  },
  {
   "cell_type": "markdown",
   "id": "cc557e7a",
   "metadata": {},
   "source": [
    "# 🔧 Tool: 시각화\n",
    "\n",
    "**Dataset:** tips\n",
    "**난이도:** 중상\n",
    "\n",
    "**Q.** This problem is suitable for a beginner level, as it requires basic visualization skills to create a simple plot comparing the mean values of three variables."
   ]
  },
  {
   "cell_type": "code",
   "execution_count": null,
   "id": "33a1525a",
   "metadata": {},
   "outputs": [],
   "source": [
    "import seaborn as sns\n",
    "import pandas as pd\n",
    "dataset = sns.load_dataset(\"tips\")\n",
    "dataset.head(1)"
   ]
  },
  {
   "cell_type": "markdown",
   "id": "f0322d40",
   "metadata": {},
   "source": [
    "# 🔧 Tool: 시각화\n",
    "\n",
    "**Dataset:** tips\n",
    "**난이도:** 중상\n",
    "\n",
    "**Q.** **Problem 2:**"
   ]
  },
  {
   "cell_type": "code",
   "execution_count": null,
   "id": "d69b0dc7",
   "metadata": {},
   "outputs": [],
   "source": [
    "import seaborn as sns\n",
    "import pandas as pd\n",
    "dataset = sns.load_dataset(\"tips\")\n",
    "dataset.head(1)"
   ]
  },
  {
   "cell_type": "markdown",
   "id": "d6780df9",
   "metadata": {},
   "source": [
    "# 🔧 Tool: 시각화\n",
    "\n",
    "**Dataset:** tips\n",
    "**난이도:** 중상\n",
    "\n",
    "**Q.** 🍴 \"레스토랑에서 제공하는 팁의 평균 액수를 분석하여, 팁의 액수가 가장 높은 레스토랑과 가장 낮은 레스토랑 사이의 차이를 식별하세요. 또한, 팁의 액수가 높은 레스토랑과 낮은 레스토랑의 서비스 품질을 비교하세요.\""
   ]
  },
  {
   "cell_type": "code",
   "execution_count": null,
   "id": "0c4d5dcb",
   "metadata": {},
   "outputs": [],
   "source": [
    "import seaborn as sns\n",
    "import pandas as pd\n",
    "dataset = sns.load_dataset(\"tips\")\n",
    "dataset.head(1)"
   ]
  },
  {
   "cell_type": "markdown",
   "id": "30e54781",
   "metadata": {},
   "source": [
    "# 🔧 Tool: 시각화\n",
    "\n",
    "**Dataset:** tips\n",
    "**난이도:** 중상\n",
    "\n",
    "**Q.** This problem is suitable for an intermediate level, as it requires more advanced visualization skills to create a graph that combines multiple variables and identifies patterns in the data, and also requires analysis and comparison of the results."
   ]
  },
  {
   "cell_type": "code",
   "execution_count": null,
   "id": "fb1bf16e",
   "metadata": {},
   "outputs": [],
   "source": [
    "import seaborn as sns\n",
    "import pandas as pd\n",
    "dataset = sns.load_dataset(\"tips\")\n",
    "dataset.head(1)"
   ]
  },
  {
   "cell_type": "markdown",
   "id": "76e7f01c",
   "metadata": {},
   "source": [
    "# 🔧 Tool: 시각화\n",
    "\n",
    "**Dataset:** tips\n",
    "**난이도:** 중상\n",
    "\n",
    "**Q.** Let me know if you'd like me to adjust the difficulty level or create more problems! 😊"
   ]
  },
  {
   "cell_type": "code",
   "execution_count": null,
   "id": "de8ee9fc",
   "metadata": {},
   "outputs": [],
   "source": [
    "import seaborn as sns\n",
    "import pandas as pd\n",
    "dataset = sns.load_dataset(\"tips\")\n",
    "dataset.head(1)"
   ]
  },
  {
   "cell_type": "markdown",
   "id": "4c43c99b",
   "metadata": {},
   "source": [
    "# 🔧 Tool: 시각화\n",
    "\n",
    "**Dataset:** flights\n",
    "**난이도:** 중상\n",
    "\n",
    "**Q.** 📊 **Problem 1:**"
   ]
  },
  {
   "cell_type": "code",
   "execution_count": null,
   "id": "8307c5d2",
   "metadata": {},
   "outputs": [],
   "source": [
    "import seaborn as sns\n",
    "import pandas as pd\n",
    "dataset = sns.load_dataset(\"flights\")\n",
    "dataset.head(1)"
   ]
  },
  {
   "cell_type": "markdown",
   "id": "8eb138e6",
   "metadata": {},
   "source": [
    "# 🔧 Tool: 시각화\n",
    "\n",
    "**Dataset:** flights\n",
    "**난이도:** 중상\n",
    "\n",
    "**Q.** 🚗 \"도로교통사고의 횟수를 분석하여, 날씨에 따른 교통사고 빈도를 시각화하세요. 또한, 가장 많은 교통사고가 발생하는 날씨와 가장 적은 교통사고가 발생하는 날씨를 식별하세요.\""
   ]
  },
  {
   "cell_type": "code",
   "execution_count": null,
   "id": "e72980e6",
   "metadata": {},
   "outputs": [],
   "source": [
    "import seaborn as sns\n",
    "import pandas as pd\n",
    "dataset = sns.load_dataset(\"flights\")\n",
    "dataset.head(1)"
   ]
  },
  {
   "cell_type": "markdown",
   "id": "adad0bee",
   "metadata": {},
   "source": [
    "# 🔧 Tool: 시각화\n",
    "\n",
    "**Dataset:** flights\n",
    "**난이도:** 중상\n",
    "\n",
    "**Q.** This problem is suitable for a beginner level, as it requires basic visualization skills to create a simple plot comparing the frequency of traffic accidents under different weather conditions."
   ]
  },
  {
   "cell_type": "code",
   "execution_count": null,
   "id": "0aafb97e",
   "metadata": {},
   "outputs": [],
   "source": [
    "import seaborn as sns\n",
    "import pandas as pd\n",
    "dataset = sns.load_dataset(\"flights\")\n",
    "dataset.head(1)"
   ]
  },
  {
   "cell_type": "markdown",
   "id": "4a4dc7ea",
   "metadata": {},
   "source": [
    "# 🔧 Tool: 시각화\n",
    "\n",
    "**Dataset:** flights\n",
    "**난이도:** 중상\n",
    "\n",
    "**Q.** 📊 **Problem 2:**"
   ]
  },
  {
   "cell_type": "code",
   "execution_count": null,
   "id": "5ec95aa2",
   "metadata": {},
   "outputs": [],
   "source": [
    "import seaborn as sns\n",
    "import pandas as pd\n",
    "dataset = sns.load_dataset(\"flights\")\n",
    "dataset.head(1)"
   ]
  },
  {
   "cell_type": "markdown",
   "id": "053b67da",
   "metadata": {},
   "source": [
    "# 🔧 Tool: 시각화\n",
    "\n",
    "**Dataset:** flights\n",
    "**난이도:** 중상\n",
    "\n",
    "**Q.** 🍴 \".tip dataset에서 성별, 직업,_tip의 평균치를 비교하여, 어떤 직업과 성별이 가장 많은 tip을 받는지 시각화하세요. 또한, tip의 평균치가 가장 높은 직업과 가장 낮은 직업 사이의 차이를 식별하세요.\""
   ]
  },
  {
   "cell_type": "code",
   "execution_count": null,
   "id": "3557b182",
   "metadata": {},
   "outputs": [],
   "source": [
    "import seaborn as sns\n",
    "import pandas as pd\n",
    "dataset = sns.load_dataset(\"flights\")\n",
    "dataset.head(1)"
   ]
  },
  {
   "cell_type": "markdown",
   "id": "472cb7b2",
   "metadata": {},
   "source": [
    "# 🔧 Tool: 시각화\n",
    "\n",
    "**Dataset:** flights\n",
    "**난이도:** 중상\n",
    "\n",
    "**Q.** This problem is suitable for an intermediate level, as it requires more advanced visualization skills to create a graph that combines multiple variables and identifies patterns in the data."
   ]
  },
  {
   "cell_type": "code",
   "execution_count": null,
   "id": "d9e0e6e3",
   "metadata": {},
   "outputs": [],
   "source": [
    "import seaborn as sns\n",
    "import pandas as pd\n",
    "dataset = sns.load_dataset(\"flights\")\n",
    "dataset.head(1)"
   ]
  },
  {
   "cell_type": "markdown",
   "id": "d883d4d2",
   "metadata": {},
   "source": [
    "# 🔧 Tool: 시각화\n",
    "\n",
    "**Dataset:** flights\n",
    "**난이도:** 중상\n",
    "\n",
    "**Q.** Let me know if you'd like me to adjust the difficulty level or create more problems! 😊"
   ]
  },
  {
   "cell_type": "code",
   "execution_count": null,
   "id": "ea7eac2b",
   "metadata": {},
   "outputs": [],
   "source": [
    "import seaborn as sns\n",
    "import pandas as pd\n",
    "dataset = sns.load_dataset(\"flights\")\n",
    "dataset.head(1)"
   ]
  },
  {
   "cell_type": "markdown",
   "id": "112cdba2",
   "metadata": {},
   "source": [
    "# 🔧 Tool: 시각화\n",
    "\n",
    "**Dataset:** iris\n",
    "**난이도:** 하\n",
    "\n",
    "**Q.** Here's a problem suitable for a mid-level difficulty:"
   ]
  },
  {
   "cell_type": "code",
   "execution_count": null,
   "id": "a789eb5e",
   "metadata": {},
   "outputs": [],
   "source": [
    "import seaborn as sns\n",
    "import pandas as pd\n",
    "dataset = sns.load_dataset(\"iris\")\n",
    "dataset.head(1)"
   ]
  },
  {
   "cell_type": "markdown",
   "id": "da123015",
   "metadata": {},
   "source": [
    "# 🔧 Tool: 시각화\n",
    "\n",
    "**Dataset:** iris\n",
    "**난이도:** 하\n",
    "\n",
    "**Q.** 📊 **Problem 3:**"
   ]
  },
  {
   "cell_type": "code",
   "execution_count": null,
   "id": "d22f1d92",
   "metadata": {},
   "outputs": [],
   "source": [
    "import seaborn as sns\n",
    "import pandas as pd\n",
    "dataset = sns.load_dataset(\"iris\")\n",
    "dataset.head(1)"
   ]
  },
  {
   "cell_type": "markdown",
   "id": "c2cc1461",
   "metadata": {},
   "source": [
    "# 🔧 Tool: 시각화\n",
    "\n",
    "**Dataset:** iris\n",
    "**난이도:** 하\n",
    "\n",
    "**Q.** 🌼 \"타이타닉 dataset에서 생존자와 죽은 사람의 특징을 분석하여, 생존자와 죽은 사람의 평균 나이, 성별, 등급을 비교하여 시각화하세요. 또한, 생존자와 죽은 사람의 구별을 하는 데 가장 중요한 특징을 분석하세요.\""
   ]
  },
  {
   "cell_type": "code",
   "execution_count": null,
   "id": "6cea9725",
   "metadata": {},
   "outputs": [],
   "source": [
    "import seaborn as sns\n",
    "import pandas as pd\n",
    "dataset = sns.load_dataset(\"iris\")\n",
    "dataset.head(1)"
   ]
  },
  {
   "cell_type": "markdown",
   "id": "d6b9f40b",
   "metadata": {},
   "source": [
    "# 🔧 Tool: 시각화\n",
    "\n",
    "**Dataset:** iris\n",
    "**난이도:** 하\n",
    "\n",
    "**Q.** This problem requires the ability to create a visualization that compares multiple variables (age, gender, class) between two groups (survived and died) and identifies the most important characteristics that distinguish between the two groups. It's a challenging problem that requires some experience with data visualization and analysis."
   ]
  },
  {
   "cell_type": "code",
   "execution_count": null,
   "id": "d85e54f1",
   "metadata": {},
   "outputs": [],
   "source": [
    "import seaborn as sns\n",
    "import pandas as pd\n",
    "dataset = sns.load_dataset(\"iris\")\n",
    "dataset.head(1)"
   ]
  },
  {
   "cell_type": "markdown",
   "id": "c5525cfc",
   "metadata": {},
   "source": [
    "# 🔧 Tool: 시각화\n",
    "\n",
    "**Dataset:** tips\n",
    "**난이도:** 중하\n",
    "\n",
    "**Q.** Here's a problem that meets the conditions:"
   ]
  },
  {
   "cell_type": "code",
   "execution_count": null,
   "id": "4f6e2930",
   "metadata": {},
   "outputs": [],
   "source": [
    "import seaborn as sns\n",
    "import pandas as pd\n",
    "dataset = sns.load_dataset(\"tips\")\n",
    "dataset.head(1)"
   ]
  },
  {
   "cell_type": "markdown",
   "id": "c95fc9db",
   "metadata": {},
   "source": [
    "# 🔧 Tool: 시각화\n",
    "\n",
    "**Dataset:** tips\n",
    "**난이도:** 중하\n",
    "\n",
    "**Q.** 📊 **Problem:**"
   ]
  },
  {
   "cell_type": "code",
   "execution_count": null,
   "id": "a300688e",
   "metadata": {},
   "outputs": [],
   "source": [
    "import seaborn as sns\n",
    "import pandas as pd\n",
    "dataset = sns.load_dataset(\"tips\")\n",
    "dataset.head(1)"
   ]
  },
  {
   "cell_type": "markdown",
   "id": "d61a8a65",
   "metadata": {},
   "source": [
    "# 🔧 Tool: 시각화\n",
    "\n",
    "**Dataset:** tips\n",
    "**난이도:** 중하\n",
    "\n",
    "**Q.** 🌹 \"tips\" 데이터셋에서, 'total_bill'과 'tip'의 관계를 분석하여, 'total_bill'이 20-50달러 범위일 때 'tip'의 평균치를 시각화하세요. 또한, 'tip'의 평균치가 가장 높은 'total_bill' 범위와 가장 낮은 'total_bill' 범위 사이의 차이를 식별하세요."
   ]
  },
  {
   "cell_type": "code",
   "execution_count": null,
   "id": "51253143",
   "metadata": {},
   "outputs": [],
   "source": [
    "import seaborn as sns\n",
    "import pandas as pd\n",
    "dataset = sns.load_dataset(\"tips\")\n",
    "dataset.head(1)"
   ]
  },
  {
   "cell_type": "markdown",
   "id": "19da6ce6",
   "metadata": {},
   "source": [
    "# 🔧 Tool: 시각화\n",
    "\n",
    "**Dataset:** tips\n",
    "**난이도:** 중하\n",
    "\n",
    "**Q.** \"Using the 'tips' dataset, analyze the relationship between 'total_bill' and 'tip' and visualize the average tip for 'total_bill' ranges of 20-50 dollars. Additionally, identify the difference in average tip between the highest and lowest 'total_bill' ranges.\""
   ]
  },
  {
   "cell_type": "code",
   "execution_count": null,
   "id": "9c12163d",
   "metadata": {},
   "outputs": [],
   "source": [
    "import seaborn as sns\n",
    "import pandas as pd\n",
    "dataset = sns.load_dataset(\"tips\")\n",
    "dataset.head(1)"
   ]
  },
  {
   "cell_type": "markdown",
   "id": "9317c1a9",
   "metadata": {},
   "source": [
    "# 🔧 Tool: 시각화\n",
    "\n",
    "**Dataset:** tips\n",
    "**난이도:** 중하\n",
    "\n",
    "**Q.** This problem is suitable for a beginner to intermediate level, as it requires basic to intermediate visualization skills to create a scatter plot and identify patterns in the data."
   ]
  },
  {
   "cell_type": "code",
   "execution_count": null,
   "id": "b3aa5326",
   "metadata": {},
   "outputs": [],
   "source": [
    "import seaborn as sns\n",
    "import pandas as pd\n",
    "dataset = sns.load_dataset(\"tips\")\n",
    "dataset.head(1)"
   ]
  },
  {
   "cell_type": "markdown",
   "id": "5d56b537",
   "metadata": {},
   "source": [
    "# 🔧 Tool: 시각화\n",
    "\n",
    "**Dataset:** iris\n",
    "**난이도:** 중\n",
    "\n",
    "**Q.** Here's a problem that fits the given conditions:"
   ]
  },
  {
   "cell_type": "code",
   "execution_count": null,
   "id": "1e41cb20",
   "metadata": {},
   "outputs": [],
   "source": [
    "import seaborn as sns\n",
    "import pandas as pd\n",
    "dataset = sns.load_dataset(\"iris\")\n",
    "dataset.head(1)"
   ]
  },
  {
   "cell_type": "markdown",
   "id": "2bac9930",
   "metadata": {},
   "source": [
    "# 🔧 Tool: 시각화\n",
    "\n",
    "**Dataset:** iris\n",
    "**난이도:** 중\n",
    "\n",
    "**Q.** 📊 **Problem:**"
   ]
  },
  {
   "cell_type": "code",
   "execution_count": null,
   "id": "564e0466",
   "metadata": {},
   "outputs": [],
   "source": [
    "import seaborn as sns\n",
    "import pandas as pd\n",
    "dataset = sns.load_dataset(\"iris\")\n",
    "dataset.head(1)"
   ]
  },
  {
   "cell_type": "markdown",
   "id": "062e51db",
   "metadata": {},
   "source": [
    "# 🔧 Tool: 시각화\n",
    "\n",
    "**Dataset:** iris\n",
    "**난이도:** 중\n",
    "\n",
    "**Q.** 🏥 \".titanic dataset에서 생존률을 분석하여, 각 등급(class)별 생존률을 시각화하세요. 또한, 생존률이 가장 높은 등급과 가장 낮은 등급 사이의 차이를 식별하세요.\""
   ]
  },
  {
   "cell_type": "code",
   "execution_count": null,
   "id": "6ccecd78",
   "metadata": {},
   "outputs": [],
   "source": [
    "import seaborn as sns\n",
    "import pandas as pd\n",
    "dataset = sns.load_dataset(\"iris\")\n",
    "dataset.head(1)"
   ]
  },
  {
   "cell_type": "markdown",
   "id": "fd51f4ef",
   "metadata": {},
   "source": [
    "# 🔧 Tool: 시각화\n",
    "\n",
    "**Dataset:** iris\n",
    "**난이도:** 중\n",
    "\n",
    "**Q.** This problem is suitable for a middle level, as it requires basic to intermediate visualization skills to create a plot that compares categorical data (class) and continuous data (survival rate)."
   ]
  },
  {
   "cell_type": "code",
   "execution_count": null,
   "id": "1882a892",
   "metadata": {},
   "outputs": [],
   "source": [
    "import seaborn as sns\n",
    "import pandas as pd\n",
    "dataset = sns.load_dataset(\"iris\")\n",
    "dataset.head(1)"
   ]
  },
  {
   "cell_type": "markdown",
   "id": "d1543687",
   "metadata": {},
   "source": [
    "# 🔧 Tool: 시각화\n",
    "\n",
    "**Dataset:** iris\n",
    "**난이도:** 중\n",
    "\n",
    "**Q.** Let me know if you'd like me to adjust the difficulty level or create more problems! 😊"
   ]
  },
  {
   "cell_type": "code",
   "execution_count": null,
   "id": "7e446c00",
   "metadata": {},
   "outputs": [],
   "source": [
    "import seaborn as sns\n",
    "import pandas as pd\n",
    "dataset = sns.load_dataset(\"iris\")\n",
    "dataset.head(1)"
   ]
  },
  {
   "cell_type": "markdown",
   "id": "f1635104",
   "metadata": {},
   "source": [
    "# 🔧 Tool: 시각화\n",
    "\n",
    "**Dataset:** tips\n",
    "**난이도:** 하\n",
    "\n",
    "**Q.** Here's a problem that fits the given conditions:"
   ]
  },
  {
   "cell_type": "code",
   "execution_count": null,
   "id": "280a95fc",
   "metadata": {},
   "outputs": [],
   "source": [
    "import seaborn as sns\n",
    "import pandas as pd\n",
    "dataset = sns.load_dataset(\"tips\")\n",
    "dataset.head(1)"
   ]
  },
  {
   "cell_type": "markdown",
   "id": "f0504844",
   "metadata": {},
   "source": [
    "# 🔧 Tool: 시각화\n",
    "\n",
    "**Dataset:** tips\n",
    "**난이도:** 하\n",
    "\n",
    "**Q.** 📊 **Problem:**"
   ]
  },
  {
   "cell_type": "code",
   "execution_count": null,
   "id": "474e7029",
   "metadata": {},
   "outputs": [],
   "source": [
    "import seaborn as sns\n",
    "import pandas as pd\n",
    "dataset = sns.load_dataset(\"tips\")\n",
    "dataset.head(1)"
   ]
  },
  {
   "cell_type": "markdown",
   "id": "29eb0f82",
   "metadata": {},
   "source": [
    "# 🔧 Tool: 시각화\n",
    "\n",
    "**Dataset:** tips\n",
    "**난이도:** 하\n",
    "\n",
    "**Q.** 🌼 \"iris dataset에서 꽃의 품종(sepal length, sepal width, petal length, petal width)을 고려하여, 각 품종별 꽃의 크기를 시각화하세요. 또한, 같은 품종 내에서 가장 큰 꽃과 가장 작은 꽃의 크기 사이의 차이를 식별하세요.\""
   ]
  },
  {
   "cell_type": "code",
   "execution_count": null,
   "id": "6411a0e2",
   "metadata": {},
   "outputs": [],
   "source": [
    "import seaborn as sns\n",
    "import pandas as pd\n",
    "dataset = sns.load_dataset(\"tips\")\n",
    "dataset.head(1)"
   ]
  },
  {
   "cell_type": "markdown",
   "id": "b11e1d3f",
   "metadata": {},
   "source": [
    "# 🔧 Tool: 시각화\n",
    "\n",
    "**Dataset:** tips\n",
    "**난이도:** 하\n",
    "\n",
    "**Q.** This problem is suitable for a middle level, as it requires basic to intermediate visualization skills to create a plot that compares categorical data (species) and continuous data (sepal and petal lengths). The problem also requires the ability to identify and compare the differences between the largest and smallest flowers within each species."
   ]
  },
  {
   "cell_type": "code",
   "execution_count": null,
   "id": "6ece2c6f",
   "metadata": {},
   "outputs": [],
   "source": [
    "import seaborn as sns\n",
    "import pandas as pd\n",
    "dataset = sns.load_dataset(\"tips\")\n",
    "dataset.head(1)"
   ]
  },
  {
   "cell_type": "markdown",
   "id": "841a97c6",
   "metadata": {},
   "source": [
    "# 🔧 Tool: 시각화\n",
    "\n",
    "**Dataset:** tips\n",
    "**난이도:** 중하\n",
    "\n",
    "**Q.** Here's a problem that fits the given conditions:"
   ]
  },
  {
   "cell_type": "code",
   "execution_count": null,
   "id": "4086f04f",
   "metadata": {},
   "outputs": [],
   "source": [
    "import seaborn as sns\n",
    "import pandas as pd\n",
    "dataset = sns.load_dataset(\"tips\")\n",
    "dataset.head(1)"
   ]
  },
  {
   "cell_type": "markdown",
   "id": "7b2712ed",
   "metadata": {},
   "source": [
    "# 🔧 Tool: 시각화\n",
    "\n",
    "**Dataset:** tips\n",
    "**난이도:** 중하\n",
    "\n",
    "**Q.** **Problem:**"
   ]
  },
  {
   "cell_type": "code",
   "execution_count": null,
   "id": "7eea9ae5",
   "metadata": {},
   "outputs": [],
   "source": [
    "import seaborn as sns\n",
    "import pandas as pd\n",
    "dataset = sns.load_dataset(\"tips\")\n",
    "dataset.head(1)"
   ]
  },
  {
   "cell_type": "markdown",
   "id": "32c34768",
   "metadata": {},
   "source": [
    "# 🔧 Tool: 시각화\n",
    "\n",
    "**Dataset:** tips\n",
    "**난이도:** 중하\n",
    "\n",
    "**Q.** 🌼 \"iris dataset에서 꽃의 가로 직경과 높이 사이의 관계를 분석하여, 각 종(species)별로 직경과 높이의 상관관계를 시각화하세요. 또한, 각 종의 직경과 높이의 평균을 비교하여, 가장 큰 차이를 보이는 종을 식별하세요.\""
   ]
  },
  {
   "cell_type": "code",
   "execution_count": null,
   "id": "f8b1c787",
   "metadata": {},
   "outputs": [],
   "source": [
    "import seaborn as sns\n",
    "import pandas as pd\n",
    "dataset = sns.load_dataset(\"tips\")\n",
    "dataset.head(1)"
   ]
  },
  {
   "cell_type": "markdown",
   "id": "7849b67a",
   "metadata": {},
   "source": [
    "# 🔧 Tool: 시각화\n",
    "\n",
    "**Dataset:** tips\n",
    "**난이도:** 중하\n",
    "\n",
    "**Q.** This problem is suitable for a middle-low level, as it requires basic visualization skills to create a scatter plot that compares two continuous variables (sepal length and sepal width) and categorical data (species). Additionally, it requires basic statistical knowledge to calculate the mean and compare the differences between species."
   ]
  },
  {
   "cell_type": "code",
   "execution_count": null,
   "id": "b554d4a0",
   "metadata": {},
   "outputs": [],
   "source": [
    "import seaborn as sns\n",
    "import pandas as pd\n",
    "dataset = sns.load_dataset(\"tips\")\n",
    "dataset.head(1)"
   ]
  },
  {
   "cell_type": "markdown",
   "id": "d7e77737",
   "metadata": {},
   "source": [
    "# 🔧 Tool: 시각화\n",
    "\n",
    "**Dataset:** iris\n",
    "**난이도:** 중\n",
    "\n",
    "**Q.** Here's a problem that fits the given conditions:"
   ]
  },
  {
   "cell_type": "code",
   "execution_count": null,
   "id": "42453c08",
   "metadata": {},
   "outputs": [],
   "source": [
    "import seaborn as sns\n",
    "import pandas as pd\n",
    "dataset = sns.load_dataset(\"iris\")\n",
    "dataset.head(1)"
   ]
  },
  {
   "cell_type": "markdown",
   "id": "28841b9d",
   "metadata": {},
   "source": [
    "# 🔧 Tool: 시각화\n",
    "\n",
    "**Dataset:** iris\n",
    "**난이도:** 중\n",
    "\n",
    "**Q.** **문제:**"
   ]
  },
  {
   "cell_type": "code",
   "execution_count": null,
   "id": "a6911399",
   "metadata": {},
   "outputs": [],
   "source": [
    "import seaborn as sns\n",
    "import pandas as pd\n",
    "dataset = sns.load_dataset(\"iris\")\n",
    "dataset.head(1)"
   ]
  },
  {
   "cell_type": "markdown",
   "id": "c7120b5a",
   "metadata": {},
   "source": [
    "# 🔧 Tool: 시각화\n",
    "\n",
    "**Dataset:** iris\n",
    "**난이도:** 중\n",
    "\n",
    "**Q.** 🏞️ \"iris dataset에서 꽃의 속성을 분석하여, 각 품종별花받침의 길이를 시각화하세요. 또한, 가장 큰 꽃받침 길이를 가진 품종과 가장 작은 꽃받침 길이를 가진 품종 간의 차이를 식별하세요.\""
   ]
  },
  {
   "cell_type": "code",
   "execution_count": null,
   "id": "86a354c0",
   "metadata": {},
   "outputs": [],
   "source": [
    "import seaborn as sns\n",
    "import pandas as pd\n",
    "dataset = sns.load_dataset(\"iris\")\n",
    "dataset.head(1)"
   ]
  },
  {
   "cell_type": "markdown",
   "id": "ff70f36d",
   "metadata": {},
   "source": [
    "# 🔧 Tool: 시각화\n",
    "\n",
    "**Dataset:** iris\n",
    "**난이도:** 중\n",
    "\n",
    "**Q.** This problem requires basic to intermediate visualization skills to create a plot that compares categorical data (flower species) and continuous data (petal length). It's suitable for a middle level, as it requires some understanding of data visualization concepts and techniques."
   ]
  },
  {
   "cell_type": "code",
   "execution_count": null,
   "id": "11f61357",
   "metadata": {},
   "outputs": [],
   "source": [
    "import seaborn as sns\n",
    "import pandas as pd\n",
    "dataset = sns.load_dataset(\"iris\")\n",
    "dataset.head(1)"
   ]
  }
 ],
 "metadata": {},
 "nbformat": 4,
 "nbformat_minor": 5
}
